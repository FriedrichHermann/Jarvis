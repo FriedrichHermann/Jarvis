{
 "cells": [
  {
   "cell_type": "code",
   "execution_count": 3,
   "id": "d555c12d-34f3-4cda-8af2-714870bd618d",
   "metadata": {
    "execution": {
     "iopub.execute_input": "2022-10-06T10:31:35.125336Z",
     "iopub.status.busy": "2022-10-06T10:31:35.124966Z",
     "iopub.status.idle": "2022-10-06T10:31:39.061830Z",
     "shell.execute_reply": "2022-10-06T10:31:39.060770Z",
     "shell.execute_reply.started": "2022-10-06T10:31:35.125308Z"
    }
   },
   "outputs": [
    {
     "name": "stdout",
     "output_type": "stream",
     "text": [
      "Cloning into 'Gradient-Boosted-Trees-and-AutoML'...\n",
      "remote: Enumerating objects: 256, done.\u001b[K\n",
      "remote: Counting objects: 100% (47/47), done.\u001b[K\n",
      "remote: Compressing objects: 100% (25/25), done.\u001b[K\n",
      "remote: Total 256 (delta 42), reused 22 (delta 22), pack-reused 209\u001b[K\n",
      "Receiving objects: 100% (256/256), 5.97 MiB | 11.60 MiB/s, done.\n",
      "Resolving deltas: 100% (123/123), done.\n"
     ]
    }
   ],
   "source": [
    "!git clone https://github.com/gradient-ai/Gradient-Boosted-Trees-and-AutoML"
   ]
  }
 ],
 "metadata": {
  "kernelspec": {
   "display_name": "Python 3 (ipykernel)",
   "language": "python",
   "name": "python3"
  },
  "language_info": {
   "codemirror_mode": {
    "name": "ipython",
    "version": 3
   },
   "file_extension": ".py",
   "mimetype": "text/x-python",
   "name": "python",
   "nbconvert_exporter": "python",
   "pygments_lexer": "ipython3",
   "version": "3.9.13"
  }
 },
 "nbformat": 4,
 "nbformat_minor": 5
}

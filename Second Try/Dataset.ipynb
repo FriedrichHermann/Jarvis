{
 "cells": [
  {
   "cell_type": "code",
   "execution_count": 3,
   "metadata": {},
   "outputs": [],
   "source": [
    "import pandas as pd\n",
    "import numpy as np\n",
    "import requests\n",
    "import json\n",
    "from pandas import json_normalize\n",
    "from requests.auth import HTTPBasicAuth\n",
    "\n",
    "from dotenv.main import load_dotenv\n",
    "import os\n",
    "\n",
    "\n",
    "\n",
    "pd.options.display.max_seq_items = 20000\n",
    "pd.set_option('display.max_rows', None)\n",
    "pd.set_option('display.max_columns', None)\n",
    "pd.set_option('display.width', 2000)"
   ]
  },
  {
   "cell_type": "code",
   "execution_count": 24,
   "metadata": {},
   "outputs": [],
   "source": [
    "#Load the Api Key\n",
    "\n",
    "from dotenv.main import load_dotenv\n",
    "import os\n",
    "load_dotenv()\n",
    "API_KEY=os.environ[\"api_key\"]"
   ]
  },
  {
   "cell_type": "markdown",
   "metadata": {},
   "source": [
    "### 0.1 Notes and Thoughts"
   ]
  },
  {
   "cell_type": "markdown",
   "metadata": {},
   "source": [
    "Hard Filters that are needed for the Dataset are:\n",
    "- B2C\n",
    "- Europe \n",
    "- (Later industry, first iteration without industry specificat)"
   ]
  },
  {
   "cell_type": "markdown",
   "metadata": {},
   "source": [
    "All Available fields:\n",
    "id\n",
    "name\n",
    "type\n",
    "deleted\n",
    "path\n",
    "tagline\n",
    "about\n",
    "url,website_url,twitter_url,facebook_url,linkedin_url,google_url,crunchbase_url,angellist_url\n",
    "playmarket_app_id,appstore_app_id\n",
    "images\n",
    "employees,employees_latest\n",
    "industries,sub_industries,corporate_industries,service_industries\n",
    "technologies\n",
    "income_streams\n",
    "growth_stage\n",
    "traffic_summary\n",
    "hq_locations\n",
    "client_focus\n",
    "revenues\n",
    "tags\n",
    "ownerships\n",
    "delivery_method\n",
    "launch_year,launch_month\n",
    "has_promising_founder,has_strong_founder,has_super_founder\n",
    "total_funding,total_funding_source,last_funding,last_funding_source\n",
    "company_status,last_updated,last_updated_utc,created_utc\n",
    "facebook_likes_chart,twitter_tweets_chart,twitter_followers_chart,twitter_favorites_chart\n",
    "employees_chart\n",
    "similarweb_3_months_growth_unique,similarweb_3_months_growth_percentile,similarweb_3_months_growth_relative,similarweb_3_months_growth_delta,similarweb_6_months_growth_unique,similarweb_6_months_growth_percentile,similarweb_6_months_growth_relative,similarweb_6_months_growth_delta,similarweb_12_months_growth_unique,similarweb_12_months_growth_percentile,similarweb_12_months_growth_relative,similarweb_12_months_growth_delta\n",
    "\n",
    "app_3_months_growth_unique,app_3_months_growth_percentile,app_3_months_growth_relative,app_6_months_growth_unique,app_6_months_growth_percentile,app_6_months_growth_relative,app_12_months_growth_unique,app_12_months_growth_percentile,app_12_months_growth_relative,employee_3_months_growth_unique\n",
    "\n",
    "employee_3_months_growth_percentile,employee_3_months_growth_relative,employee_3_months_growth_delta,employee_6_months_growth_unique,employee_6_months_growth_percentile,employee_6_months_growth_relative,employee_6_months_growth_delta,employee_12_months_growth_unique,employee_12_months_growth_percentile,employee_12_months_growth_relative,employee_12_months_growth_delta\n",
    "kpi_summary\n",
    "team\n",
    "investors\n",
    "fundings\n",
    "traffic\n",
    "similarweb_chart\n",
    "job_openings\n",
    "exits\n",
    "trading_multiple\n",
    "app_downloads_ios_chart,app_downloads_android_chart,app_downloads_ios_incremental_chart,app_downloads_android_incremental_chart\n",
    "tech_stack_predictleads\n",
    "sustainable_development_goals\n",
    "core_side_value\n",
    "data_type\n",
    "pic_number\n",
    "patents_count\n"
   ]
  },
  {
   "cell_type": "markdown",
   "metadata": {},
   "source": []
  },
  {
   "cell_type": "markdown",
   "metadata": {},
   "source": [
    "### 0.2 Getting Available Filters for the Post Requests"
   ]
  },
  {
   "cell_type": "code",
   "execution_count": 27,
   "metadata": {},
   "outputs": [],
   "source": [
    "\n",
    "api_url=\"https://api.dealroom.co/api/v1/companies/filters\"\n",
    "auth=HTTPBasicAuth(API_KEY, '')\n",
    "\n",
    "headers = {'Content-Type': 'application/json'}\n",
    "data={\"fields\":\"hq_locations\",\n",
    "              \"limit\": 1,\n",
    "              \"offset\": 0\n",
    "             }\n",
    "response = requests.post(api_url,data=json.dumps(data),auth=auth,headers=headers)\n",
    "data=response.json()\n",
    "\n"
   ]
  },
  {
   "cell_type": "markdown",
   "metadata": {},
   "source": [
    "# 1.1 Building the Core DF"
   ]
  },
  {
   "cell_type": "markdown",
   "metadata": {},
   "source": [
    "1. Variables for the DF:\n",
    "\n",
    "1.1: Independent Variables\n",
    "- Team\n",
    "- patents (patents_count)\n",
    "- Round (fundings)\n",
    "- Investors\n",
    "- employees (latest, chart)\n",
    "- Num. Investors (investors)\n",
    "- (Industry Category) (industries)\n",
    "- Description Length (about)\n",
    "- Has Domain (website_url)\n",
    "- Has Facebook (facebook_url)\n",
    "- Has Twitter (twitter_url)\n",
    "- Has LinkedIn (linkedin_url)\n",
    "- Geographical Region (country, city/-code) (hq_locations)\n",
    "- Total Funding (total_funding) (in mio)\n",
    "\n",
    "1.2 Dependent Variables:\n",
    "- Acquisition (company_status)\n",
    "- Failure (company_status)\n",
    "- Public (ownerships)"
   ]
  },
  {
   "cell_type": "markdown",
   "metadata": {},
   "source": [
    "### Importing the Json file through according API Call:"
   ]
  },
  {
   "cell_type": "code",
   "execution_count": 36,
   "metadata": {},
   "outputs": [
    {
     "ename": "JSONDecodeError",
     "evalue": "Expecting value: line 1 column 1 (char 0)",
     "output_type": "error",
     "traceback": [
      "\u001b[0;31m---------------------------------------------------------------------------\u001b[0m",
      "\u001b[0;31mJSONDecodeError\u001b[0m                           Traceback (most recent call last)",
      "Cell \u001b[0;32mIn [36], line 22\u001b[0m\n\u001b[1;32m     18\u001b[0m headers \u001b[39m=\u001b[39m {\u001b[39m'\u001b[39m\u001b[39mContent-Type\u001b[39m\u001b[39m'\u001b[39m: \u001b[39m'\u001b[39m\u001b[39mapplication/json\u001b[39m\u001b[39m'\u001b[39m}\n\u001b[1;32m     20\u001b[0m response \u001b[39m=\u001b[39m requests\u001b[39m.\u001b[39mpost(api_url,data\u001b[39m=\u001b[39mjson\u001b[39m.\u001b[39mdumps(data),auth\u001b[39m=\u001b[39mauth,headers\u001b[39m=\u001b[39mheaders)\n\u001b[0;32m---> 22\u001b[0m res\u001b[39m=\u001b[39mjson\u001b[39m.\u001b[39;49mloads(response\u001b[39m.\u001b[39;49mtext)\n\u001b[1;32m     23\u001b[0m json_list\u001b[39m.\u001b[39mappend(res)\n\u001b[1;32m     24\u001b[0m k\u001b[39m+\u001b[39m\u001b[39m=\u001b[39m\u001b[39m1\u001b[39m\n",
      "File \u001b[0;32m/usr/local/Cellar/python@3.10/3.10.7/Frameworks/Python.framework/Versions/3.10/lib/python3.10/json/__init__.py:346\u001b[0m, in \u001b[0;36mloads\u001b[0;34m(s, cls, object_hook, parse_float, parse_int, parse_constant, object_pairs_hook, **kw)\u001b[0m\n\u001b[1;32m    341\u001b[0m     s \u001b[39m=\u001b[39m s\u001b[39m.\u001b[39mdecode(detect_encoding(s), \u001b[39m'\u001b[39m\u001b[39msurrogatepass\u001b[39m\u001b[39m'\u001b[39m)\n\u001b[1;32m    343\u001b[0m \u001b[39mif\u001b[39;00m (\u001b[39mcls\u001b[39m \u001b[39mis\u001b[39;00m \u001b[39mNone\u001b[39;00m \u001b[39mand\u001b[39;00m object_hook \u001b[39mis\u001b[39;00m \u001b[39mNone\u001b[39;00m \u001b[39mand\u001b[39;00m\n\u001b[1;32m    344\u001b[0m         parse_int \u001b[39mis\u001b[39;00m \u001b[39mNone\u001b[39;00m \u001b[39mand\u001b[39;00m parse_float \u001b[39mis\u001b[39;00m \u001b[39mNone\u001b[39;00m \u001b[39mand\u001b[39;00m\n\u001b[1;32m    345\u001b[0m         parse_constant \u001b[39mis\u001b[39;00m \u001b[39mNone\u001b[39;00m \u001b[39mand\u001b[39;00m object_pairs_hook \u001b[39mis\u001b[39;00m \u001b[39mNone\u001b[39;00m \u001b[39mand\u001b[39;00m \u001b[39mnot\u001b[39;00m kw):\n\u001b[0;32m--> 346\u001b[0m     \u001b[39mreturn\u001b[39;00m _default_decoder\u001b[39m.\u001b[39;49mdecode(s)\n\u001b[1;32m    347\u001b[0m \u001b[39mif\u001b[39;00m \u001b[39mcls\u001b[39m \u001b[39mis\u001b[39;00m \u001b[39mNone\u001b[39;00m:\n\u001b[1;32m    348\u001b[0m     \u001b[39mcls\u001b[39m \u001b[39m=\u001b[39m JSONDecoder\n",
      "File \u001b[0;32m/usr/local/Cellar/python@3.10/3.10.7/Frameworks/Python.framework/Versions/3.10/lib/python3.10/json/decoder.py:337\u001b[0m, in \u001b[0;36mJSONDecoder.decode\u001b[0;34m(self, s, _w)\u001b[0m\n\u001b[1;32m    332\u001b[0m \u001b[39mdef\u001b[39;00m \u001b[39mdecode\u001b[39m(\u001b[39mself\u001b[39m, s, _w\u001b[39m=\u001b[39mWHITESPACE\u001b[39m.\u001b[39mmatch):\n\u001b[1;32m    333\u001b[0m     \u001b[39m\"\"\"Return the Python representation of ``s`` (a ``str`` instance\u001b[39;00m\n\u001b[1;32m    334\u001b[0m \u001b[39m    containing a JSON document).\u001b[39;00m\n\u001b[1;32m    335\u001b[0m \n\u001b[1;32m    336\u001b[0m \u001b[39m    \"\"\"\u001b[39;00m\n\u001b[0;32m--> 337\u001b[0m     obj, end \u001b[39m=\u001b[39m \u001b[39mself\u001b[39;49m\u001b[39m.\u001b[39;49mraw_decode(s, idx\u001b[39m=\u001b[39;49m_w(s, \u001b[39m0\u001b[39;49m)\u001b[39m.\u001b[39;49mend())\n\u001b[1;32m    338\u001b[0m     end \u001b[39m=\u001b[39m _w(s, end)\u001b[39m.\u001b[39mend()\n\u001b[1;32m    339\u001b[0m     \u001b[39mif\u001b[39;00m end \u001b[39m!=\u001b[39m \u001b[39mlen\u001b[39m(s):\n",
      "File \u001b[0;32m/usr/local/Cellar/python@3.10/3.10.7/Frameworks/Python.framework/Versions/3.10/lib/python3.10/json/decoder.py:355\u001b[0m, in \u001b[0;36mJSONDecoder.raw_decode\u001b[0;34m(self, s, idx)\u001b[0m\n\u001b[1;32m    353\u001b[0m     obj, end \u001b[39m=\u001b[39m \u001b[39mself\u001b[39m\u001b[39m.\u001b[39mscan_once(s, idx)\n\u001b[1;32m    354\u001b[0m \u001b[39mexcept\u001b[39;00m \u001b[39mStopIteration\u001b[39;00m \u001b[39mas\u001b[39;00m err:\n\u001b[0;32m--> 355\u001b[0m     \u001b[39mraise\u001b[39;00m JSONDecodeError(\u001b[39m\"\u001b[39m\u001b[39mExpecting value\u001b[39m\u001b[39m\"\u001b[39m, s, err\u001b[39m.\u001b[39mvalue) \u001b[39mfrom\u001b[39;00m \u001b[39mNone\u001b[39m\n\u001b[1;32m    356\u001b[0m \u001b[39mreturn\u001b[39;00m obj, end\n",
      "\u001b[0;31mJSONDecodeError\u001b[0m: Expecting value: line 1 column 1 (char 0)"
     ]
    }
   ],
   "source": [
    "fields=\"id,name,about,tagline,investors,industries,website_url,facebook_url,twitter_url,linkedin_url,hq_locations,total_funding,company_status,ownerships,team,fundings,patents_count,employees_latest,employees_chart\"\n",
    "api_url=\"https://api.dealroom.co/api/v1/companies/bulk\"\n",
    "auth=HTTPBasicAuth(API_KEY, '')\n",
    "headers = {'Content-Type': 'application/json'}\n",
    "\n",
    "json_list=[]\n",
    "next_page_id = ''\n",
    "k=0\n",
    "\n",
    "while True:\n",
    "    data = {\n",
    "        'form_data': {'must':{'hq_locations': ['Europe'], 'client_focus':['business']}},\n",
    "        'fields': fields,\n",
    "        'next_page_id': next_page_id,\n",
    "        'limit': 100,\n",
    "        }\n",
    "\n",
    "    headers = {'Content-Type': 'application/json'}\n",
    "\n",
    "    response = requests.post(api_url,data=json.dumps(data),auth=auth,headers=headers)\n",
    "\n",
    "    res=json.loads(response.text)\n",
    "    json_list.append(res)\n",
    "    k+=1\n",
    "    k\n",
    "    next_page_id = res['next_page_id']\n",
    "\n",
    "    if next_page_id == None:\n",
    "        break"
   ]
  },
  {
   "cell_type": "code",
   "execution_count": 44,
   "metadata": {},
   "outputs": [
    {
     "data": {
      "text/plain": [
       "2167"
      ]
     },
     "execution_count": 44,
     "metadata": {},
     "output_type": "execute_result"
    }
   ],
   "source": []
  },
  {
   "cell_type": "code",
   "execution_count": 38,
   "metadata": {},
   "outputs": [],
   "source": [
    "with open(\"first_json.json\", \"w\") as fp:\n",
    "        json.dump(json_list, fp)"
   ]
  },
  {
   "cell_type": "markdown",
   "metadata": {},
   "source": [
    "### 1.2 Converting Json to Pandas DF"
   ]
  },
  {
   "cell_type": "code",
   "execution_count": 45,
   "metadata": {},
   "outputs": [],
   "source": [
    "df_list=[]\n",
    "for i in range(len(json_list)):\n",
    "    df_1=pd.json_normalize(json_list[i][\"items\"],sep=\"_\").drop(columns=[\"hq_locations\",\"industries\"])\n",
    "    df_1[[\"country_name\",\"city_name\"]]=pd.json_normalize(json_list[0][\"items\"],\"hq_locations\")[[\"country.name\",\"city.name\"]]\n",
    "    df_1[\"industry_name\"]=pd.json_normalize(json_list[0][\"items\"],\"industries\")[\"name\"]\n",
    "    df_list.append(df_1)"
   ]
  },
  {
   "cell_type": "code",
   "execution_count": 46,
   "metadata": {},
   "outputs": [],
   "source": [
    "df=pd.concat(df_list)"
   ]
  },
  {
   "cell_type": "code",
   "execution_count": 47,
   "metadata": {},
   "outputs": [
    {
     "data": {
      "text/plain": [
       "id                    int64\n",
       "name                 object\n",
       "about                object\n",
       "tagline              object\n",
       "website_url          object\n",
       "facebook_url         object\n",
       "twitter_url          object\n",
       "linkedin_url         object\n",
       "total_funding       float64\n",
       "company_status       object\n",
       "ownerships           object\n",
       "patents_count         int64\n",
       "employees_latest    float64\n",
       "employees_chart      object\n",
       "investors_items      object\n",
       "investors_total       int64\n",
       "team_items           object\n",
       "team_total            int64\n",
       "fundings_items       object\n",
       "fundings_total        int64\n",
       "country_name         object\n",
       "city_name            object\n",
       "industry_name        object\n",
       "dtype: object"
      ]
     },
     "execution_count": 47,
     "metadata": {},
     "output_type": "execute_result"
    }
   ],
   "source": [
    "df.dtypes"
   ]
  },
  {
   "cell_type": "markdown",
   "metadata": {},
   "source": [
    "## 1.3 DataCleaning"
   ]
  },
  {
   "cell_type": "code",
   "execution_count": 48,
   "metadata": {},
   "outputs": [
    {
     "name": "stdout",
     "output_type": "stream",
     "text": [
      "                  Missing Values  In percent\n",
      "id                             0    0.000000\n",
      "name                           0    0.000000\n",
      "about                      57040   26.322104\n",
      "tagline                    62271   28.736041\n",
      "website_url                  610    0.281495\n",
      "facebook_url              171347   79.071066\n",
      "twitter_url               110438   50.963544\n",
      "linkedin_url               50263   23.194739\n",
      "total_funding                  0    0.000000\n",
      "company_status                82    0.037840\n",
      "ownerships                     0    0.000000\n",
      "patents_count                  0    0.000000\n",
      "employees_latest           59303   27.366405\n",
      "employees_chart                0    0.000000\n",
      "investors_items                0    0.000000\n",
      "investors_total                0    0.000000\n",
      "team_items                     0    0.000000\n",
      "team_total                     0    0.000000\n",
      "fundings_items                 0    0.000000\n",
      "fundings_total                 0    0.000000\n",
      "country_name                   0    0.000000\n",
      "city_name                  41173   19.000000\n",
      "industry_name              19503    9.000000\n"
     ]
    }
   ],
   "source": [
    "x=df.isna().sum()\n",
    "y=df.isna().sum()/len(df)*100\n",
    "missing_values=pd.concat([x, y], axis=1)\n",
    "missing_values.columns=[\"Missing Values\",\"In percent\"]\n",
    "print(missing_values)\n"
   ]
  },
  {
   "cell_type": "code",
   "execution_count": 50,
   "metadata": {},
   "outputs": [],
   "source": [
    "df.dropna(subset=[\"website_url\"],inplace=True) #companies without website will be deleted to avoid ghost companies\n",
    "df.dropna(subset=[\"company_status\"],inplace=True) #companies without status (only 85 so can be dismissed)"
   ]
  },
  {
   "cell_type": "markdown",
   "metadata": {},
   "source": [
    "### Number of Empty lists as entries"
   ]
  },
  {
   "cell_type": "code",
   "execution_count": 51,
   "metadata": {},
   "outputs": [
    {
     "name": "stdout",
     "output_type": "stream",
     "text": [
      "name 0.0 %\n",
      "website_url 0.0 %\n",
      "company_status 0.0 %\n",
      "ownerships 56.60068145624236 %\n",
      "employees_chart 27.224917595644605 %\n",
      "investors_items 75.60831080330358 %\n",
      "team_items 61.55049812969891 %\n",
      "fundings_items 75.89302248064887 %\n",
      "country_name 0.0 %\n"
     ]
    }
   ],
   "source": [
    "for i,row in missing_values.iterrows():\n",
    "    try:\n",
    "        print(i,df[i].apply(lambda x:1 if len(x) == 0 else 0).sum()/len(df)*100,\"%\")\n",
    "    except:\n",
    "        None\n",
    "\n"
   ]
  },
  {
   "cell_type": "code",
   "execution_count": 52,
   "metadata": {},
   "outputs": [],
   "source": [
    "df_1=df[df[\"ownerships\"].apply(lambda x:False if len(x) == 0 else True)]"
   ]
  },
  {
   "cell_type": "code",
   "execution_count": 53,
   "metadata": {},
   "outputs": [],
   "source": [
    "df_2=df[df[\"fundings_items\"].apply(lambda x:False if len(x) == 0 else True)]"
   ]
  },
  {
   "cell_type": "code",
   "execution_count": 54,
   "metadata": {},
   "outputs": [
    {
     "name": "stdout",
     "output_type": "stream",
     "text": [
      "name 0.0 %\n",
      "website_url 0.0 %\n",
      "company_status 0.0 %\n",
      "ownerships 0.0 %\n",
      "employees_chart 7.195566830858116 %\n",
      "investors_items 27.0962186585682 %\n",
      "team_items 9.497333432095107 %\n",
      "fundings_items 23.77226769378912 %\n",
      "country_name 0.0 %\n",
      "name 0.0 %\n",
      "website_url 0.0 %\n",
      "company_status 0.0 %\n",
      "ownerships 4.479926669382615 %\n",
      "employees_chart 3.1744194659457055 %\n",
      "investors_items 3.9225399059294097 %\n",
      "team_items 7.764527239731862 %\n",
      "fundings_items 0.0 %\n",
      "country_name 0.0 %\n",
      "(93746, 23)\n",
      "(52073, 23)\n"
     ]
    }
   ],
   "source": [
    "for i,row in missing_values.iterrows():\n",
    "    try:\n",
    "        print(i,df_1[i].apply(lambda x:1 if len(x) == 0 else 0).sum()/len(df)*100,\"%\")\n",
    "    except:\n",
    "        None\n",
    "\n",
    "\n",
    "for i,row in missing_values.iterrows():\n",
    "    try:\n",
    "        print(i,df_2[i].apply(lambda x:1 if len(x) == 0 else 0).sum()/len(df)*100,\"%\")\n",
    "    except:\n",
    "        None       \n",
    "\n",
    "print(df_1.shape)\n",
    "print(df_2.shape)"
   ]
  },
  {
   "cell_type": "markdown",
   "metadata": {},
   "source": [
    "When removing only companies with missing fundings we receive a set of 52.073 companies and 7.7% missing teams (set.1)\n",
    "When removing only ownerships we receive a set of 93.746 with 9.5% missing teams (set.2)\n",
    "As the fundings are only relevant when trying to predict probability of follow on fundings we will continue using set.2 and use type of company status as dependent variable"
   ]
  },
  {
   "cell_type": "markdown",
   "metadata": {},
   "source": [
    "### Further clean Dataset by removing all Empty lists in the team column"
   ]
  },
  {
   "cell_type": "code",
   "execution_count": 55,
   "metadata": {},
   "outputs": [
    {
     "data": {
      "text/plain": [
       "(73231, 23)"
      ]
     },
     "execution_count": 55,
     "metadata": {},
     "output_type": "execute_result"
    }
   ],
   "source": [
    "df_1=df_1[df_1[\"team_items\"].apply(lambda x:False if len(x) == 0 else True)]\n",
    "df_1.shape"
   ]
  },
  {
   "cell_type": "code",
   "execution_count": 56,
   "metadata": {},
   "outputs": [
    {
     "name": "stdout",
     "output_type": "stream",
     "text": [
      "name 0.0 %\n",
      "website_url 0.0 %\n",
      "company_status 0.0 %\n",
      "ownerships 0.0 %\n",
      "employees_chart 3.318395614977223 %\n",
      "investors_items 21.779748898188956 %\n",
      "team_items 0.0 %\n",
      "fundings_items 19.935372763971703 %\n",
      "country_name 0.0 %\n"
     ]
    }
   ],
   "source": [
    "for i,row in missing_values.iterrows():\n",
    "    try:\n",
    "        print(i,df_1[i].apply(lambda x:1 if len(x) == 0 else 0).sum()/len(df)*100,\"%\")\n",
    "    except:\n",
    "        None"
   ]
  },
  {
   "cell_type": "markdown",
   "metadata": {},
   "source": [
    "### We observe that many of the empty lists for fundings and investors are for bootstrapped startups. It makes sense to distinguish between those where data is missing and those where it simply makes no sense to have data"
   ]
  },
  {
   "cell_type": "code",
   "execution_count": 89,
   "metadata": {},
   "outputs": [],
   "source": [
    "df_invest=df_1.loc[df_1[\"investors_items\"].apply(lambda x:True if len(x) == 0 else False)]\n",
    "df_boots=df_invest.loc[df_invest[\"ownerships\"].apply(lambda x:True if ((x[0]==\"bootstrapped\" and len(x)<=1) or (x==[\"not known\",\"bootstrapped\"]) or (x[0]==\"not known\")) else False)]\n",
    "\n",
    "df_boots[\"investors_items\"].values[:]=\"nan\"\n",
    "\n",
    "df_2=pd.concat([df_1,df_boots])\n",
    "\n",
    "df_2.drop_duplicates(subset=[\"id\"],keep=\"last\", inplace=True)"
   ]
  },
  {
   "cell_type": "code",
   "execution_count": 92,
   "metadata": {},
   "outputs": [],
   "source": [
    "df_fundings=df_2.loc[df_2[\"fundings_items\"].apply(lambda x:True if len(x) == 0 else False)]\n",
    "df_fundinv=df_fundings.loc[df_fundings[\"investors_items\"].apply(lambda x:True if x == \"nan\" else False)]\n",
    "df_shit=df_fundinv.loc[df_fundinv[\"ownerships\"].apply(lambda x:True if ((x[0]==\"bootstrapped\" and len(x)<=1) or (x==[\"not known\",\"bootstrapped\"]) or (x[0]==\"not known\")) else False)]\n",
    "\n",
    "df_shit[\"fundings_items\"].values[:]=\"nan\"\n",
    "\n",
    "df_3=pd.concat([df_2,df_shit])\n",
    "\n",
    "df_3.drop_duplicates(subset=[\"id\"],keep=\"last\", inplace=True)"
   ]
  },
  {
   "cell_type": "code",
   "execution_count": 93,
   "metadata": {},
   "outputs": [
    {
     "name": "stdout",
     "output_type": "stream",
     "text": [
      "name 0.0 %\n",
      "website_url 0.0 %\n",
      "company_status 0.0 %\n",
      "ownerships 0.0 %\n",
      "employees_chart 3.318395614977223 %\n",
      "investors_items 1.7753972075108329 %\n",
      "team_items 0.0 %\n",
      "fundings_items 0.5397948224139847 %\n",
      "country_name 0.0 %\n",
      "name 0\n",
      "website_url 0\n",
      "company_status 0\n",
      "ownerships 0\n",
      "employees_chart 7168\n",
      "investors_items 3835\n",
      "team_items 0\n",
      "fundings_items 1166\n",
      "country_name 0\n"
     ]
    }
   ],
   "source": [
    "for i,row in missing_values.iterrows():\n",
    "    try:\n",
    "        print(i,df_3[i].apply(lambda x:1 if len(x) == 0 else 0).sum()/len(df)*100,\"%\")\n",
    "    except:\n",
    "        None\n",
    "\n",
    "for i,row in missing_values.iterrows():\n",
    "    try:\n",
    "        print(i,df_3[i].apply(lambda x:1 if len(x) == 0 else 0).sum())\n",
    "    except:\n",
    "        None"
   ]
  },
  {
   "cell_type": "markdown",
   "metadata": {},
   "source": [
    "Data Seems quite clean to me. No more Data Cleaning Needed "
   ]
  },
  {
   "cell_type": "markdown",
   "metadata": {},
   "source": [
    "### 1.3 Unravel nested Data"
   ]
  },
  {
   "cell_type": "markdown",
   "metadata": {},
   "source": [
    "For the following we want to extract the nested data and retreive the information we need\n",
    "First we extract investors types"
   ]
  },
  {
   "cell_type": "code",
   "execution_count": 161,
   "metadata": {},
   "outputs": [],
   "source": [
    "#function that extract wanted fields from the column\n",
    "def json_extractor(x,field):\n",
    "    try:\n",
    "        a=list(pd.json_normalize(x)[field])\n",
    "    except:\n",
    "        a=\"nan\"\n",
    "    return a"
   ]
  },
  {
   "cell_type": "code",
   "execution_count": 162,
   "metadata": {},
   "outputs": [],
   "source": [
    "a=map(lambda p: json_extractor(p, \"type\"), df_3[\"investors_items\"])\n",
    "b=list(a)\n",
    "df_3[\"investors_types\"]=b"
   ]
  },
  {
   "cell_type": "code",
   "execution_count": 178,
   "metadata": {},
   "outputs": [
    {
     "data": {
      "text/html": [
       "<div>\n",
       "<style scoped>\n",
       "    .dataframe tbody tr th:only-of-type {\n",
       "        vertical-align: middle;\n",
       "    }\n",
       "\n",
       "    .dataframe tbody tr th {\n",
       "        vertical-align: top;\n",
       "    }\n",
       "\n",
       "    .dataframe thead th {\n",
       "        text-align: right;\n",
       "    }\n",
       "</style>\n",
       "<table border=\"1\" class=\"dataframe\">\n",
       "  <thead>\n",
       "    <tr style=\"text-align: right;\">\n",
       "      <th></th>\n",
       "      <th>id</th>\n",
       "      <th>name</th>\n",
       "      <th>about</th>\n",
       "      <th>tagline</th>\n",
       "      <th>website_url</th>\n",
       "      <th>facebook_url</th>\n",
       "      <th>twitter_url</th>\n",
       "      <th>linkedin_url</th>\n",
       "      <th>total_funding</th>\n",
       "      <th>company_status</th>\n",
       "      <th>ownerships</th>\n",
       "      <th>patents_count</th>\n",
       "      <th>employees_latest</th>\n",
       "      <th>employees_chart</th>\n",
       "      <th>investors_items</th>\n",
       "      <th>investors_total</th>\n",
       "      <th>team_items</th>\n",
       "      <th>team_total</th>\n",
       "      <th>fundings_items</th>\n",
       "      <th>fundings_total</th>\n",
       "      <th>country_name</th>\n",
       "      <th>city_name</th>\n",
       "      <th>industry_name</th>\n",
       "      <th>investors_types</th>\n",
       "    </tr>\n",
       "  </thead>\n",
       "  <tbody>\n",
       "    <tr>\n",
       "      <th>82</th>\n",
       "      <td>2526214</td>\n",
       "      <td>Phoenix Eleven</td>\n",
       "      <td>We empower entrepreneurs giving them the tools...</td>\n",
       "      <td>Phoenix Eleven Capital - The Human Touch</td>\n",
       "      <td>http://phoenixeleven.com</td>\n",
       "      <td>None</td>\n",
       "      <td>None</td>\n",
       "      <td>https://www.linkedin.com/company/phoenix-eleve...</td>\n",
       "      <td>0.00</td>\n",
       "      <td>operational</td>\n",
       "      <td>[bootstrapped]</td>\n",
       "      <td>0</td>\n",
       "      <td>2.0</td>\n",
       "      <td>[{'date': '2020-12-01', 'value': 3}, {'date': ...</td>\n",
       "      <td>[{'id': 3214034, 'name': 'Flori Ventures', 'pa...</td>\n",
       "      <td>1</td>\n",
       "      <td>[{'id': 2969484, 'name': 'Nick Allison', 'path...</td>\n",
       "      <td>2</td>\n",
       "      <td>[]</td>\n",
       "      <td>0</td>\n",
       "      <td>Germany</td>\n",
       "      <td>Ravensburg</td>\n",
       "      <td>semiconductors</td>\n",
       "      <td>[fund]</td>\n",
       "    </tr>\n",
       "    <tr>\n",
       "      <th>84</th>\n",
       "      <td>2441129</td>\n",
       "      <td>Pickar</td>\n",
       "      <td>We believe that finding yourself in a career y...</td>\n",
       "      <td>Developed a psychometric analysis alongside ex...</td>\n",
       "      <td>http://pickar.site</td>\n",
       "      <td>None</td>\n",
       "      <td>None</td>\n",
       "      <td>https://www.linkedin.com/company/pickar/</td>\n",
       "      <td>0.00</td>\n",
       "      <td>operational</td>\n",
       "      <td>[Venture Capital]</td>\n",
       "      <td>0</td>\n",
       "      <td>1.0</td>\n",
       "      <td>[{'date': '2021-05-11', 'value': 2}, {'date': ...</td>\n",
       "      <td>[{'id': 935917, 'name': 'Georgia Institute of ...</td>\n",
       "      <td>1</td>\n",
       "      <td>[{'id': 3831057, 'name': 'Julian Willner', 'pa...</td>\n",
       "      <td>2</td>\n",
       "      <td>[{'id': 427762, 'year': 2019, 'month': 6, 'amo...</td>\n",
       "      <td>2</td>\n",
       "      <td>Switzerland</td>\n",
       "      <td>Eysins</td>\n",
       "      <td>media</td>\n",
       "      <td>[university]</td>\n",
       "    </tr>\n",
       "    <tr>\n",
       "      <th>56</th>\n",
       "      <td>1496036</td>\n",
       "      <td>Pro</td>\n",
       "      <td>Pro is a specialist outsourcing and consulting...</td>\n",
       "      <td>Specialist outsourcing and consulting company ...</td>\n",
       "      <td>http://pro-global.com</td>\n",
       "      <td>None</td>\n",
       "      <td>https://twitter.com/proinsuranceso1</td>\n",
       "      <td>https://www.linkedin.com/company/pro-global</td>\n",
       "      <td>0.00</td>\n",
       "      <td>acquired</td>\n",
       "      <td>[Subsidiary]</td>\n",
       "      <td>0</td>\n",
       "      <td>285.0</td>\n",
       "      <td>[{'date': '2019-03-01', 'value': 243}, {'date'...</td>\n",
       "      <td>[{'id': 1501621, 'name': 'Tawa', 'path': 'tawa...</td>\n",
       "      <td>1</td>\n",
       "      <td>[{'id': 270510, 'name': 'Richard Lawson', 'pat...</td>\n",
       "      <td>4</td>\n",
       "      <td>[{'id': 211612, 'year': 2009, 'month': 11, 'am...</td>\n",
       "      <td>1</td>\n",
       "      <td>United Kingdom</td>\n",
       "      <td>NaN</td>\n",
       "      <td>enterprise software</td>\n",
       "      <td>[corporate]</td>\n",
       "    </tr>\n",
       "    <tr>\n",
       "      <th>89</th>\n",
       "      <td>155526</td>\n",
       "      <td>QRcao</td>\n",
       "      <td>None</td>\n",
       "      <td>Co-founder and product engineer @ Appvetica | ...</td>\n",
       "      <td>http://qrcao.com</td>\n",
       "      <td>https://www.facebook.com/pages/appvetica/25411...</td>\n",
       "      <td>https://twitter.com/dusker</td>\n",
       "      <td>None</td>\n",
       "      <td>0.01</td>\n",
       "      <td>closed</td>\n",
       "      <td>[Venture Capital]</td>\n",
       "      <td>0</td>\n",
       "      <td>NaN</td>\n",
       "      <td>[]</td>\n",
       "      <td>[]</td>\n",
       "      <td>0</td>\n",
       "      <td>[{'id': 1044949, 'name': 'Peter Tuszynski', 'p...</td>\n",
       "      <td>1</td>\n",
       "      <td>[{'id': 200613, 'year': 2011, 'month': 8, 'amo...</td>\n",
       "      <td>1</td>\n",
       "      <td>United Kingdom</td>\n",
       "      <td>London</td>\n",
       "      <td>robotics</td>\n",
       "      <td>nan</td>\n",
       "    </tr>\n",
       "    <tr>\n",
       "      <th>97</th>\n",
       "      <td>149265</td>\n",
       "      <td>Tech'4'Team</td>\n",
       "      <td>Arenametrix is a SaaS B2B start-up created in ...</td>\n",
       "      <td>None</td>\n",
       "      <td>http://tech4team.fr</td>\n",
       "      <td>None</td>\n",
       "      <td>https://twitter.com/tech4team</td>\n",
       "      <td>https://www.linkedin.com/company/tech%274%27team</td>\n",
       "      <td>0.60</td>\n",
       "      <td>operational</td>\n",
       "      <td>[Angel, Venture Capital, accelerator]</td>\n",
       "      <td>0</td>\n",
       "      <td>26.0</td>\n",
       "      <td>[{'date': '2018-07-16', 'value': 19}, {'date':...</td>\n",
       "      <td>[{'id': 885468, 'name': 'Paris&amp;Co', 'path': 'i...</td>\n",
       "      <td>2</td>\n",
       "      <td>[{'id': 349656, 'name': 'Vitoz Kévin', 'path':...</td>\n",
       "      <td>6</td>\n",
       "      <td>[{'id': 222831, 'year': 2016, 'month': 4, 'amo...</td>\n",
       "      <td>2</td>\n",
       "      <td>United Kingdom</td>\n",
       "      <td>NaN</td>\n",
       "      <td>NaN</td>\n",
       "      <td>[fund, investor]</td>\n",
       "    </tr>\n",
       "  </tbody>\n",
       "</table>\n",
       "</div>"
      ],
      "text/plain": [
       "         id            name                                              about                                            tagline               website_url                                       facebook_url                          twitter_url                                       linkedin_url  total_funding company_status                             ownerships  patents_count  employees_latest                                    employees_chart                                    investors_items  investors_total                                         team_items  team_total                                     fundings_items  fundings_total    country_name   city_name        industry_name   investors_types\n",
       "82  2526214  Phoenix Eleven  We empower entrepreneurs giving them the tools...           Phoenix Eleven Capital - The Human Touch  http://phoenixeleven.com                                               None                                 None  https://www.linkedin.com/company/phoenix-eleve...           0.00    operational                         [bootstrapped]              0               2.0  [{'date': '2020-12-01', 'value': 3}, {'date': ...  [{'id': 3214034, 'name': 'Flori Ventures', 'pa...                1  [{'id': 2969484, 'name': 'Nick Allison', 'path...           2                                                 []               0         Germany  Ravensburg       semiconductors            [fund]\n",
       "84  2441129          Pickar  We believe that finding yourself in a career y...  Developed a psychometric analysis alongside ex...        http://pickar.site                                               None                                 None           https://www.linkedin.com/company/pickar/           0.00    operational                      [Venture Capital]              0               1.0  [{'date': '2021-05-11', 'value': 2}, {'date': ...  [{'id': 935917, 'name': 'Georgia Institute of ...                1  [{'id': 3831057, 'name': 'Julian Willner', 'pa...           2  [{'id': 427762, 'year': 2019, 'month': 6, 'amo...               2     Switzerland      Eysins                media      [university]\n",
       "56  1496036             Pro  Pro is a specialist outsourcing and consulting...  Specialist outsourcing and consulting company ...     http://pro-global.com                                               None  https://twitter.com/proinsuranceso1        https://www.linkedin.com/company/pro-global           0.00       acquired                           [Subsidiary]              0             285.0  [{'date': '2019-03-01', 'value': 243}, {'date'...  [{'id': 1501621, 'name': 'Tawa', 'path': 'tawa...                1  [{'id': 270510, 'name': 'Richard Lawson', 'pat...           4  [{'id': 211612, 'year': 2009, 'month': 11, 'am...               1  United Kingdom         NaN  enterprise software       [corporate]\n",
       "89   155526           QRcao                                               None  Co-founder and product engineer @ Appvetica | ...          http://qrcao.com  https://www.facebook.com/pages/appvetica/25411...           https://twitter.com/dusker                                               None           0.01         closed                      [Venture Capital]              0               NaN                                                 []                                                 []                0  [{'id': 1044949, 'name': 'Peter Tuszynski', 'p...           1  [{'id': 200613, 'year': 2011, 'month': 8, 'amo...               1  United Kingdom      London             robotics               nan\n",
       "97   149265     Tech'4'Team  Arenametrix is a SaaS B2B start-up created in ...                                               None       http://tech4team.fr                                               None        https://twitter.com/tech4team   https://www.linkedin.com/company/tech%274%27team           0.60    operational  [Angel, Venture Capital, accelerator]              0              26.0  [{'date': '2018-07-16', 'value': 19}, {'date':...  [{'id': 885468, 'name': 'Paris&Co', 'path': 'i...                2  [{'id': 349656, 'name': 'Vitoz Kévin', 'path':...           6  [{'id': 222831, 'year': 2016, 'month': 4, 'amo...               2  United Kingdom         NaN                  NaN  [fund, investor]"
      ]
     },
     "execution_count": 178,
     "metadata": {},
     "output_type": "execute_result"
    }
   ],
   "source": [
    "df_3.head()"
   ]
  },
  {
   "cell_type": "code",
   "execution_count": 194,
   "metadata": {},
   "outputs": [
    {
     "data": {
      "text/html": [
       "<div>\n",
       "<style scoped>\n",
       "    .dataframe tbody tr th:only-of-type {\n",
       "        vertical-align: middle;\n",
       "    }\n",
       "\n",
       "    .dataframe tbody tr th {\n",
       "        vertical-align: top;\n",
       "    }\n",
       "\n",
       "    .dataframe thead th {\n",
       "        text-align: right;\n",
       "    }\n",
       "</style>\n",
       "<table border=\"1\" class=\"dataframe\">\n",
       "  <thead>\n",
       "    <tr style=\"text-align: right;\">\n",
       "      <th></th>\n",
       "      <th>id</th>\n",
       "      <th>degree</th>\n",
       "      <th>majors</th>\n",
       "      <th>year_start</th>\n",
       "      <th>year_end</th>\n",
       "      <th>university.id</th>\n",
       "      <th>university.name</th>\n",
       "      <th>university.path</th>\n",
       "      <th>university.type</th>\n",
       "      <th>university.url</th>\n",
       "      <th>university.images.32x32</th>\n",
       "      <th>university.images.74x74</th>\n",
       "      <th>university.images.100x100</th>\n",
       "      <th>degree.id</th>\n",
       "      <th>degree.name</th>\n",
       "      <th>degree.years</th>\n",
       "    </tr>\n",
       "  </thead>\n",
       "  <tbody>\n",
       "    <tr>\n",
       "      <th>0</th>\n",
       "      <td>441645</td>\n",
       "      <td>NaN</td>\n",
       "      <td>[]</td>\n",
       "      <td>2015</td>\n",
       "      <td>2016.0</td>\n",
       "      <td>936807</td>\n",
       "      <td>CIM | The Chartered Institute of Marketing</td>\n",
       "      <td>cim_the_chartered_institute_of_marketing</td>\n",
       "      <td>university</td>\n",
       "      <td>https://app.dealroom.co/universities/cim_the_c...</td>\n",
       "      <td>https://s3-eu-west-1.amazonaws.com/dealroom-im...</td>\n",
       "      <td>https://s3-eu-west-1.amazonaws.com/dealroom-im...</td>\n",
       "      <td>https://s3-eu-west-1.amazonaws.com/dealroom-im...</td>\n",
       "      <td>NaN</td>\n",
       "      <td>NaN</td>\n",
       "      <td>NaN</td>\n",
       "    </tr>\n",
       "    <tr>\n",
       "      <th>1</th>\n",
       "      <td>441656</td>\n",
       "      <td>NaN</td>\n",
       "      <td>[]</td>\n",
       "      <td>2012</td>\n",
       "      <td>NaN</td>\n",
       "      <td>4163126</td>\n",
       "      <td>SRH Berlin School of Design and Communication</td>\n",
       "      <td>srh_berlin_school_of_design_and_communication</td>\n",
       "      <td>university</td>\n",
       "      <td>https://app.dealroom.co/universities/srh_berli...</td>\n",
       "      <td>https://s3-eu-west-1.amazonaws.com/dealroom-im...</td>\n",
       "      <td>https://s3-eu-west-1.amazonaws.com/dealroom-im...</td>\n",
       "      <td>https://s3-eu-west-1.amazonaws.com/dealroom-im...</td>\n",
       "      <td>4.0</td>\n",
       "      <td>Bachelor</td>\n",
       "      <td>3.0</td>\n",
       "    </tr>\n",
       "  </tbody>\n",
       "</table>\n",
       "</div>"
      ],
      "text/plain": [
       "       id  degree majors  year_start  year_end  university.id                                university.name                                university.path university.type                                     university.url                            university.images.32x32                            university.images.74x74                          university.images.100x100  degree.id degree.name  degree.years\n",
       "0  441645     NaN     []        2015    2016.0         936807     CIM | The Chartered Institute of Marketing       cim_the_chartered_institute_of_marketing      university  https://app.dealroom.co/universities/cim_the_c...  https://s3-eu-west-1.amazonaws.com/dealroom-im...  https://s3-eu-west-1.amazonaws.com/dealroom-im...  https://s3-eu-west-1.amazonaws.com/dealroom-im...        NaN         NaN           NaN\n",
       "1  441656     NaN     []        2012       NaN        4163126  SRH Berlin School of Design and Communication  srh_berlin_school_of_design_and_communication      university  https://app.dealroom.co/universities/srh_berli...  https://s3-eu-west-1.amazonaws.com/dealroom-im...  https://s3-eu-west-1.amazonaws.com/dealroom-im...  https://s3-eu-west-1.amazonaws.com/dealroom-im...        4.0    Bachelor           3.0"
      ]
     },
     "execution_count": 194,
     "metadata": {},
     "output_type": "execute_result"
    }
   ],
   "source": [
    "first=pd.json_normalize(df_3.iloc[2][\"team_items\"])[\"universities.items\"]\n",
    "mppd.json_normalize(a.iloc[3]) #university.name and age"
   ]
  },
  {
   "cell_type": "code",
   "execution_count": 230,
   "metadata": {},
   "outputs": [
    {
     "data": {
      "text/plain": [
       "[['CIM | The Chartered Institute of Marketing',\n",
       "  'SRH Berlin School of Design and Communication']]"
      ]
     },
     "execution_count": 230,
     "metadata": {},
     "output_type": "execute_result"
    }
   ],
   "source": [
    "first=pd.json_normalize(df_3.iloc[2][\"team_items\"])[\"universities.items\"]\n",
    "mp=map(lambda p: level1_extractor(p, \"university.name\"), first)\n",
    "pd.json_normalize(first.iloc[3])\n",
    "a=[x for x in list(mp) if x!=\"nan\"]\n",
    "a"
   ]
  },
  {
   "cell_type": "code",
   "execution_count": 225,
   "metadata": {},
   "outputs": [],
   "source": [
    "def level1_extractor(x,field):\n",
    "    try:\n",
    "       return list(pd.json_normalize(x)[field])\n",
    "    except:\n",
    "        return \"nan\""
   ]
  },
  {
   "cell_type": "code",
   "execution_count": 232,
   "metadata": {},
   "outputs": [],
   "source": [
    "def level2_extractor(x,field1,field2):\n",
    "    try:\n",
    "        first=pd.json_normalize(x)[field1]\n",
    "        mp=map(lambda p: level1_extractor(p, field2), first)\n",
    "        a=[x for x in list(mp) if x!=\"nan\"]\n",
    "    except:\n",
    "        a=\"nan\"\n",
    "    return a"
   ]
  },
  {
   "cell_type": "code",
   "execution_count": 234,
   "metadata": {},
   "outputs": [],
   "source": [
    "a=map(lambda p: level2_extractor(p, \"universities.items\",\"university.name\"), df_3[\"team_items\"])\n",
    "b=list(a)"
   ]
  },
  {
   "cell_type": "code",
   "execution_count": 244,
   "metadata": {},
   "outputs": [],
   "source": [
    "df_3[\"team_universities\"]=b"
   ]
  },
  {
   "cell_type": "code",
   "execution_count": 245,
   "metadata": {},
   "outputs": [
    {
     "data": {
      "text/html": [
       "<div>\n",
       "<style scoped>\n",
       "    .dataframe tbody tr th:only-of-type {\n",
       "        vertical-align: middle;\n",
       "    }\n",
       "\n",
       "    .dataframe tbody tr th {\n",
       "        vertical-align: top;\n",
       "    }\n",
       "\n",
       "    .dataframe thead th {\n",
       "        text-align: right;\n",
       "    }\n",
       "</style>\n",
       "<table border=\"1\" class=\"dataframe\">\n",
       "  <thead>\n",
       "    <tr style=\"text-align: right;\">\n",
       "      <th></th>\n",
       "      <th>id</th>\n",
       "      <th>name</th>\n",
       "      <th>about</th>\n",
       "      <th>tagline</th>\n",
       "      <th>website_url</th>\n",
       "      <th>facebook_url</th>\n",
       "      <th>twitter_url</th>\n",
       "      <th>linkedin_url</th>\n",
       "      <th>total_funding</th>\n",
       "      <th>company_status</th>\n",
       "      <th>ownerships</th>\n",
       "      <th>patents_count</th>\n",
       "      <th>employees_latest</th>\n",
       "      <th>employees_chart</th>\n",
       "      <th>investors_items</th>\n",
       "      <th>investors_total</th>\n",
       "      <th>team_items</th>\n",
       "      <th>team_total</th>\n",
       "      <th>fundings_items</th>\n",
       "      <th>fundings_total</th>\n",
       "      <th>country_name</th>\n",
       "      <th>city_name</th>\n",
       "      <th>industry_name</th>\n",
       "      <th>investors_types</th>\n",
       "      <th>team_universities</th>\n",
       "    </tr>\n",
       "  </thead>\n",
       "  <tbody>\n",
       "    <tr>\n",
       "      <th>82</th>\n",
       "      <td>2526214</td>\n",
       "      <td>Phoenix Eleven</td>\n",
       "      <td>We empower entrepreneurs giving them the tools...</td>\n",
       "      <td>Phoenix Eleven Capital - The Human Touch</td>\n",
       "      <td>http://phoenixeleven.com</td>\n",
       "      <td>None</td>\n",
       "      <td>None</td>\n",
       "      <td>https://www.linkedin.com/company/phoenix-eleve...</td>\n",
       "      <td>0.00</td>\n",
       "      <td>operational</td>\n",
       "      <td>[bootstrapped]</td>\n",
       "      <td>0</td>\n",
       "      <td>2.0</td>\n",
       "      <td>[{'date': '2020-12-01', 'value': 3}, {'date': ...</td>\n",
       "      <td>[{'id': 3214034, 'name': 'Flori Ventures', 'pa...</td>\n",
       "      <td>1</td>\n",
       "      <td>[{'id': 2969484, 'name': 'Nick Allison', 'path...</td>\n",
       "      <td>2</td>\n",
       "      <td>[]</td>\n",
       "      <td>0</td>\n",
       "      <td>Germany</td>\n",
       "      <td>Ravensburg</td>\n",
       "      <td>semiconductors</td>\n",
       "      <td>[fund]</td>\n",
       "      <td>[]</td>\n",
       "    </tr>\n",
       "    <tr>\n",
       "      <th>84</th>\n",
       "      <td>2441129</td>\n",
       "      <td>Pickar</td>\n",
       "      <td>We believe that finding yourself in a career y...</td>\n",
       "      <td>Developed a psychometric analysis alongside ex...</td>\n",
       "      <td>http://pickar.site</td>\n",
       "      <td>None</td>\n",
       "      <td>None</td>\n",
       "      <td>https://www.linkedin.com/company/pickar/</td>\n",
       "      <td>0.00</td>\n",
       "      <td>operational</td>\n",
       "      <td>[Venture Capital]</td>\n",
       "      <td>0</td>\n",
       "      <td>1.0</td>\n",
       "      <td>[{'date': '2021-05-11', 'value': 2}, {'date': ...</td>\n",
       "      <td>[{'id': 935917, 'name': 'Georgia Institute of ...</td>\n",
       "      <td>1</td>\n",
       "      <td>[{'id': 3831057, 'name': 'Julian Willner', 'pa...</td>\n",
       "      <td>2</td>\n",
       "      <td>[{'id': 427762, 'year': 2019, 'month': 6, 'amo...</td>\n",
       "      <td>2</td>\n",
       "      <td>Switzerland</td>\n",
       "      <td>Eysins</td>\n",
       "      <td>media</td>\n",
       "      <td>[university]</td>\n",
       "      <td>[]</td>\n",
       "    </tr>\n",
       "    <tr>\n",
       "      <th>56</th>\n",
       "      <td>1496036</td>\n",
       "      <td>Pro</td>\n",
       "      <td>Pro is a specialist outsourcing and consulting...</td>\n",
       "      <td>Specialist outsourcing and consulting company ...</td>\n",
       "      <td>http://pro-global.com</td>\n",
       "      <td>None</td>\n",
       "      <td>https://twitter.com/proinsuranceso1</td>\n",
       "      <td>https://www.linkedin.com/company/pro-global</td>\n",
       "      <td>0.00</td>\n",
       "      <td>acquired</td>\n",
       "      <td>[Subsidiary]</td>\n",
       "      <td>0</td>\n",
       "      <td>285.0</td>\n",
       "      <td>[{'date': '2019-03-01', 'value': 243}, {'date'...</td>\n",
       "      <td>[{'id': 1501621, 'name': 'Tawa', 'path': 'tawa...</td>\n",
       "      <td>1</td>\n",
       "      <td>[{'id': 270510, 'name': 'Richard Lawson', 'pat...</td>\n",
       "      <td>4</td>\n",
       "      <td>[{'id': 211612, 'year': 2009, 'month': 11, 'am...</td>\n",
       "      <td>1</td>\n",
       "      <td>United Kingdom</td>\n",
       "      <td>NaN</td>\n",
       "      <td>enterprise software</td>\n",
       "      <td>[corporate]</td>\n",
       "      <td>[[CIM | The Chartered Institute of Marketing, ...</td>\n",
       "    </tr>\n",
       "    <tr>\n",
       "      <th>89</th>\n",
       "      <td>155526</td>\n",
       "      <td>QRcao</td>\n",
       "      <td>None</td>\n",
       "      <td>Co-founder and product engineer @ Appvetica | ...</td>\n",
       "      <td>http://qrcao.com</td>\n",
       "      <td>https://www.facebook.com/pages/appvetica/25411...</td>\n",
       "      <td>https://twitter.com/dusker</td>\n",
       "      <td>None</td>\n",
       "      <td>0.01</td>\n",
       "      <td>closed</td>\n",
       "      <td>[Venture Capital]</td>\n",
       "      <td>0</td>\n",
       "      <td>NaN</td>\n",
       "      <td>[]</td>\n",
       "      <td>[]</td>\n",
       "      <td>0</td>\n",
       "      <td>[{'id': 1044949, 'name': 'Peter Tuszynski', 'p...</td>\n",
       "      <td>1</td>\n",
       "      <td>[{'id': 200613, 'year': 2011, 'month': 8, 'amo...</td>\n",
       "      <td>1</td>\n",
       "      <td>United Kingdom</td>\n",
       "      <td>London</td>\n",
       "      <td>robotics</td>\n",
       "      <td>nan</td>\n",
       "      <td>[]</td>\n",
       "    </tr>\n",
       "    <tr>\n",
       "      <th>97</th>\n",
       "      <td>149265</td>\n",
       "      <td>Tech'4'Team</td>\n",
       "      <td>Arenametrix is a SaaS B2B start-up created in ...</td>\n",
       "      <td>None</td>\n",
       "      <td>http://tech4team.fr</td>\n",
       "      <td>None</td>\n",
       "      <td>https://twitter.com/tech4team</td>\n",
       "      <td>https://www.linkedin.com/company/tech%274%27team</td>\n",
       "      <td>0.60</td>\n",
       "      <td>operational</td>\n",
       "      <td>[Angel, Venture Capital, accelerator]</td>\n",
       "      <td>0</td>\n",
       "      <td>26.0</td>\n",
       "      <td>[{'date': '2018-07-16', 'value': 19}, {'date':...</td>\n",
       "      <td>[{'id': 885468, 'name': 'Paris&amp;Co', 'path': 'i...</td>\n",
       "      <td>2</td>\n",
       "      <td>[{'id': 349656, 'name': 'Vitoz Kévin', 'path':...</td>\n",
       "      <td>6</td>\n",
       "      <td>[{'id': 222831, 'year': 2016, 'month': 4, 'amo...</td>\n",
       "      <td>2</td>\n",
       "      <td>United Kingdom</td>\n",
       "      <td>NaN</td>\n",
       "      <td>NaN</td>\n",
       "      <td>[fund, investor]</td>\n",
       "      <td>[]</td>\n",
       "    </tr>\n",
       "  </tbody>\n",
       "</table>\n",
       "</div>"
      ],
      "text/plain": [
       "         id            name                                              about                                            tagline               website_url                                       facebook_url                          twitter_url                                       linkedin_url  total_funding company_status                             ownerships  patents_count  employees_latest                                    employees_chart                                    investors_items  investors_total                                         team_items  team_total                                     fundings_items  fundings_total    country_name   city_name        industry_name   investors_types                                  team_universities\n",
       "82  2526214  Phoenix Eleven  We empower entrepreneurs giving them the tools...           Phoenix Eleven Capital - The Human Touch  http://phoenixeleven.com                                               None                                 None  https://www.linkedin.com/company/phoenix-eleve...           0.00    operational                         [bootstrapped]              0               2.0  [{'date': '2020-12-01', 'value': 3}, {'date': ...  [{'id': 3214034, 'name': 'Flori Ventures', 'pa...                1  [{'id': 2969484, 'name': 'Nick Allison', 'path...           2                                                 []               0         Germany  Ravensburg       semiconductors            [fund]                                                 []\n",
       "84  2441129          Pickar  We believe that finding yourself in a career y...  Developed a psychometric analysis alongside ex...        http://pickar.site                                               None                                 None           https://www.linkedin.com/company/pickar/           0.00    operational                      [Venture Capital]              0               1.0  [{'date': '2021-05-11', 'value': 2}, {'date': ...  [{'id': 935917, 'name': 'Georgia Institute of ...                1  [{'id': 3831057, 'name': 'Julian Willner', 'pa...           2  [{'id': 427762, 'year': 2019, 'month': 6, 'amo...               2     Switzerland      Eysins                media      [university]                                                 []\n",
       "56  1496036             Pro  Pro is a specialist outsourcing and consulting...  Specialist outsourcing and consulting company ...     http://pro-global.com                                               None  https://twitter.com/proinsuranceso1        https://www.linkedin.com/company/pro-global           0.00       acquired                           [Subsidiary]              0             285.0  [{'date': '2019-03-01', 'value': 243}, {'date'...  [{'id': 1501621, 'name': 'Tawa', 'path': 'tawa...                1  [{'id': 270510, 'name': 'Richard Lawson', 'pat...           4  [{'id': 211612, 'year': 2009, 'month': 11, 'am...               1  United Kingdom         NaN  enterprise software       [corporate]  [[CIM | The Chartered Institute of Marketing, ...\n",
       "89   155526           QRcao                                               None  Co-founder and product engineer @ Appvetica | ...          http://qrcao.com  https://www.facebook.com/pages/appvetica/25411...           https://twitter.com/dusker                                               None           0.01         closed                      [Venture Capital]              0               NaN                                                 []                                                 []                0  [{'id': 1044949, 'name': 'Peter Tuszynski', 'p...           1  [{'id': 200613, 'year': 2011, 'month': 8, 'amo...               1  United Kingdom      London             robotics               nan                                                 []\n",
       "97   149265     Tech'4'Team  Arenametrix is a SaaS B2B start-up created in ...                                               None       http://tech4team.fr                                               None        https://twitter.com/tech4team   https://www.linkedin.com/company/tech%274%27team           0.60    operational  [Angel, Venture Capital, accelerator]              0              26.0  [{'date': '2018-07-16', 'value': 19}, {'date':...  [{'id': 885468, 'name': 'Paris&Co', 'path': 'i...                2  [{'id': 349656, 'name': 'Vitoz Kévin', 'path':...           6  [{'id': 222831, 'year': 2016, 'month': 4, 'amo...               2  United Kingdom         NaN                  NaN  [fund, investor]                                                 []"
      ]
     },
     "execution_count": 245,
     "metadata": {},
     "output_type": "execute_result"
    }
   ],
   "source": [
    "df_3.head()"
   ]
  },
  {
   "cell_type": "code",
   "execution_count": 247,
   "metadata": {},
   "outputs": [
    {
     "name": "stdout",
     "output_type": "stream",
     "text": [
      "Collecting pyarrow\n",
      "  Downloading pyarrow-9.0.0-cp310-cp310-macosx_10_13_x86_64.whl (24.0 MB)\n",
      "\u001b[2K     \u001b[90m━━━━━━━━━━━━━━━━━━━━━━━━━━━━━━━━━━━━━━━━\u001b[0m \u001b[32m24.0/24.0 MB\u001b[0m \u001b[31m12.7 MB/s\u001b[0m eta \u001b[36m0:00:00\u001b[0m00:01\u001b[0m00:01\u001b[0m\n",
      "\u001b[?25hRequirement already satisfied: numpy>=1.16.6 in /usr/local/lib/python3.10/site-packages (from pyarrow) (1.23.3)\n",
      "Installing collected packages: pyarrow\n",
      "Successfully installed pyarrow-9.0.0\n",
      "Note: you may need to restart the kernel to use updated packages.\n"
     ]
    }
   ],
   "source": [
    "pip install pyarrow"
   ]
  },
  {
   "cell_type": "code",
   "execution_count": 249,
   "metadata": {},
   "outputs": [],
   "source": [
    "#Save Dataframe\n",
    "df_3.to_pickle(\"df_25.08\")"
   ]
  },
  {
   "cell_type": "code",
   "execution_count": null,
   "metadata": {},
   "outputs": [],
   "source": []
  }
 ],
 "metadata": {
  "kernelspec": {
   "display_name": "Python 3.10.7 64-bit",
   "language": "python",
   "name": "python3"
  },
  "language_info": {
   "codemirror_mode": {
    "name": "ipython",
    "version": 3
   },
   "file_extension": ".py",
   "mimetype": "text/x-python",
   "name": "python",
   "nbconvert_exporter": "python",
   "pygments_lexer": "ipython3",
   "version": "3.10.7"
  },
  "orig_nbformat": 4,
  "vscode": {
   "interpreter": {
    "hash": "aee8b7b246df8f9039afb4144a1f6fd8d2ca17a180786b69acc140d282b71a49"
   }
  }
 },
 "nbformat": 4,
 "nbformat_minor": 2
}

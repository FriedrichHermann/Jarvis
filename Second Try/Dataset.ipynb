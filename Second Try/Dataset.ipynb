{
 "cells": [
  {
   "cell_type": "code",
   "execution_count": 1,
   "metadata": {},
   "outputs": [],
   "source": [
    "import pandas as pd\n",
    "import numpy as np\n",
    "import requests\n",
    "import json\n",
    "from pandas import json_normalize\n",
    "from requests.auth import HTTPBasicAuth\n",
    "\n",
    "from dotenv.main import load_dotenv\n",
    "import os\n",
    "\n",
    "from fuzzywuzzy import process\n",
    "from fuzzywuzzy import fuzz\n",
    "\n",
    "import seaborn as sns\n",
    "\n",
    "from sklearn.preprocessing import LabelEncoder\n",
    "\n",
    "import nltk\n",
    "from nltk.tokenize import word_tokenize\n",
    "\n",
    "import math\n",
    "\n",
    "from sklearn.preprocessing import StandardScaler\n",
    "\n",
    "import pickle\n",
    "\n",
    "\n",
    "pd.options.display.max_seq_items = 20000\n",
    "pd.set_option('display.max_columns', None)\n",
    "pd.set_option('display.max_rows', None)\n",
    "pd.set_option('display.width', 2000)"
   ]
  },
  {
   "cell_type": "code",
   "execution_count": 2,
   "metadata": {},
   "outputs": [],
   "source": [
    "#Load the Api Key\n",
    "\n",
    "from dotenv.main import load_dotenv\n",
    "import os\n",
    "load_dotenv()\n",
    "API_KEY=os.environ[\"api_key\"]"
   ]
  },
  {
   "cell_type": "markdown",
   "metadata": {},
   "source": [
    "### 0.1 Notes and Thoughts"
   ]
  },
  {
   "cell_type": "markdown",
   "metadata": {},
   "source": [
    "Hard Filters that are needed for the Dataset are:\n",
    "- B2C\n",
    "- Europe \n",
    "- (Later industry, first iteration without industry specificat)"
   ]
  },
  {
   "cell_type": "markdown",
   "metadata": {},
   "source": [
    "All Available fields:\n",
    "id\n",
    "name\n",
    "type\n",
    "deleted\n",
    "path\n",
    "tagline\n",
    "about\n",
    "url,website_url,twitter_url,facebook_url,linkedin_url,google_url,crunchbase_url,angellist_url\n",
    "playmarket_app_id,appstore_app_id\n",
    "images\n",
    "employees,employees_latest\n",
    "industries,sub_industries,corporate_industries,service_industries\n",
    "technologies\n",
    "income_streams\n",
    "growth_stage\n",
    "traffic_summary\n",
    "hq_locations\n",
    "client_focus\n",
    "revenues\n",
    "tags\n",
    "ownerships\n",
    "delivery_method\n",
    "launch_year,launch_month\n",
    "has_promising_founder,has_strong_founder,has_super_founder\n",
    "total_funding,total_funding_source,last_funding,last_funding_source\n",
    "company_status,last_updated,last_updated_utc,created_utc\n",
    "facebook_likes_chart,twitter_tweets_chart,twitter_followers_chart,twitter_favorites_chart\n",
    "employees_chart\n",
    "similarweb_3_months_growth_unique,similarweb_3_months_growth_percentile,similarweb_3_months_growth_relative,similarweb_3_months_growth_delta,similarweb_6_months_growth_unique,similarweb_6_months_growth_percentile,similarweb_6_months_growth_relative,similarweb_6_months_growth_delta,similarweb_12_months_growth_unique,similarweb_12_months_growth_percentile,similarweb_12_months_growth_relative,similarweb_12_months_growth_delta\n",
    "\n",
    "app_3_months_growth_unique,app_3_months_growth_percentile,app_3_months_growth_relative,app_6_months_growth_unique,app_6_months_growth_percentile,app_6_months_growth_relative,app_12_months_growth_unique,app_12_months_growth_percentile,app_12_months_growth_relative,employee_3_months_growth_unique\n",
    "\n",
    "employee_3_months_growth_percentile,employee_3_months_growth_relative,employee_3_months_growth_delta,employee_6_months_growth_unique,employee_6_months_growth_percentile,employee_6_months_growth_relative,employee_6_months_growth_delta,employee_12_months_growth_unique,employee_12_months_growth_percentile,employee_12_months_growth_relative,employee_12_months_growth_delta\n",
    "kpi_summary\n",
    "team\n",
    "investors\n",
    "fundings\n",
    "traffic\n",
    "similarweb_chart\n",
    "job_openings\n",
    "exits\n",
    "trading_multiple\n",
    "app_downloads_ios_chart,app_downloads_android_chart,app_downloads_ios_incremental_chart,app_downloads_android_incremental_chart\n",
    "tech_stack_predictleads\n",
    "sustainable_development_goals\n",
    "core_side_value\n",
    "data_type\n",
    "pic_number\n",
    "patents_count\n"
   ]
  },
  {
   "cell_type": "markdown",
   "metadata": {},
   "source": []
  },
  {
   "cell_type": "markdown",
   "metadata": {},
   "source": [
    "### 0.2 Getting Available Filters for the Post Requests"
   ]
  },
  {
   "cell_type": "code",
   "execution_count": 13,
   "metadata": {},
   "outputs": [
    {
     "data": {
      "text/plain": [
       "{'items': [{'key': 'launch_year',\n",
       "   'items': [{'name': 2015, 'count': 84428, 'active': False},\n",
       "    {'name': 2016, 'count': 79905, 'active': False},\n",
       "    {'name': 2014, 'count': 78033, 'active': False},\n",
       "    {'name': 2017, 'count': 76987, 'active': False},\n",
       "    {'name': 2018, 'count': 72786, 'active': False},\n",
       "    {'name': 2013, 'count': 72307, 'active': False},\n",
       "    {'name': 2019, 'count': 70111, 'active': False},\n",
       "    {'name': 2012, 'count': 68638, 'active': False},\n",
       "    {'name': 2020, 'count': 62577, 'active': False},\n",
       "    {'name': 2011, 'count': 58574, 'active': False},\n",
       "    {'name': 2010, 'count': 55740, 'active': False},\n",
       "    {'name': 2009, 'count': 47019, 'active': False},\n",
       "    {'name': 2008, 'count': 40888, 'active': False},\n",
       "    {'name': 2021, 'count': 38431, 'active': False},\n",
       "    {'name': 2007, 'count': 37924, 'active': False},\n",
       "    {'name': 2006, 'count': 33857, 'active': False},\n",
       "    {'name': 2005, 'count': 30052, 'active': False},\n",
       "    {'name': 2004, 'count': 27257, 'active': False},\n",
       "    {'name': 2003, 'count': 25031, 'active': False},\n",
       "    {'name': 2000, 'count': 24516, 'active': False},\n",
       "    {'name': 2001, 'count': 23420, 'active': False},\n",
       "    {'name': 1999, 'count': 23100, 'active': False},\n",
       "    {'name': 2002, 'count': 22500, 'active': False},\n",
       "    {'name': 1998, 'count': 18186, 'active': False},\n",
       "    {'name': 1997, 'count': 15638, 'active': False},\n",
       "    {'name': 1996, 'count': 14918, 'active': False},\n",
       "    {'name': 1995, 'count': 13359, 'active': False},\n",
       "    {'name': 1994, 'count': 11686, 'active': False},\n",
       "    {'name': 1993, 'count': 10487, 'active': False},\n",
       "    {'name': 1992, 'count': 10277, 'active': False},\n",
       "    {'name': 1991, 'count': 9325, 'active': False},\n",
       "    {'name': 1990, 'count': 7570, 'active': False},\n",
       "    {'name': 1989, 'count': 5941, 'active': False},\n",
       "    {'name': 1987, 'count': 4828, 'active': False},\n",
       "    {'name': 1988, 'count': 4621, 'active': False},\n",
       "    {'name': 1986, 'count': 4556, 'active': False},\n",
       "    {'name': 2022, 'count': 4554, 'active': False},\n",
       "    {'name': 1985, 'count': 4516, 'active': False},\n",
       "    {'name': 1984, 'count': 4106, 'active': False},\n",
       "    {'name': 1983, 'count': 3804, 'active': False},\n",
       "    {'name': 1982, 'count': 3257, 'active': False},\n",
       "    {'name': 1980, 'count': 3157, 'active': False},\n",
       "    {'name': 1981, 'count': 2959, 'active': False},\n",
       "    {'name': 1979, 'count': 2901, 'active': False},\n",
       "    {'name': 1978, 'count': 2611, 'active': False},\n",
       "    {'name': 1976, 'count': 2232, 'active': False},\n",
       "    {'name': 1977, 'count': 2110, 'active': False},\n",
       "    {'name': 1972, 'count': 2104, 'active': False},\n",
       "    {'name': 1975, 'count': 1994, 'active': False},\n",
       "    {'name': 1974, 'count': 1907, 'active': False},\n",
       "    {'name': 1973, 'count': 1843, 'active': False},\n",
       "    {'name': 1969, 'count': 1762, 'active': False},\n",
       "    {'name': 1970, 'count': 1719, 'active': False},\n",
       "    {'name': 1971, 'count': 1625, 'active': False},\n",
       "    {'name': 1968, 'count': 1492, 'active': False},\n",
       "    {'name': 1967, 'count': 1276, 'active': False},\n",
       "    {'name': 1965, 'count': 1177, 'active': False},\n",
       "    {'name': 1946, 'count': 1162, 'active': False},\n",
       "    {'name': 1964, 'count': 1135, 'active': False},\n",
       "    {'name': 1963, 'count': 1090, 'active': False},\n",
       "    {'name': 1962, 'count': 1036, 'active': False},\n",
       "    {'name': 1960, 'count': 1009, 'active': False},\n",
       "    {'name': 1947, 'count': 993, 'active': False},\n",
       "    {'name': 1966, 'count': 959, 'active': False},\n",
       "    {'name': 1948, 'count': 958, 'active': False},\n",
       "    {'name': 1958, 'count': 942, 'active': False},\n",
       "    {'name': 1961, 'count': 907, 'active': False},\n",
       "    {'name': 1959, 'count': 899, 'active': False},\n",
       "    {'name': 1954, 'count': 888, 'active': False},\n",
       "    {'name': 1956, 'count': 888, 'active': False},\n",
       "    {'name': 1950, 'count': 871, 'active': False},\n",
       "    {'name': 1957, 'count': 853, 'active': False},\n",
       "    {'name': 1955, 'count': 842, 'active': False},\n",
       "    {'name': 1949, 'count': 832, 'active': False},\n",
       "    {'name': 1952, 'count': 805, 'active': False},\n",
       "    {'name': 1953, 'count': 773, 'active': False},\n",
       "    {'name': 1945, 'count': 685, 'active': False},\n",
       "    {'name': 1951, 'count': 658, 'active': False},\n",
       "    {'name': 1899, 'count': 628, 'active': False},\n",
       "    {'name': 1938, 'count': 507, 'active': False},\n",
       "    {'name': 1919, 'count': 495, 'active': False},\n",
       "    {'name': 1937, 'count': 489, 'active': False},\n",
       "    {'name': 1936, 'count': 468, 'active': False},\n",
       "    {'name': 1935, 'count': 466, 'active': False},\n",
       "    {'name': 1939, 'count': 460, 'active': False},\n",
       "    {'name': 1932, 'count': 445, 'active': False},\n",
       "    {'name': 1920, 'count': 443, 'active': False},\n",
       "    {'name': 1933, 'count': 438, 'active': False},\n",
       "    {'name': 1934, 'count': 434, 'active': False},\n",
       "    {'name': 1926, 'count': 423, 'active': False},\n",
       "    {'name': 1923, 'count': 421, 'active': False},\n",
       "    {'name': 1929, 'count': 420, 'active': False},\n",
       "    {'name': 1927, 'count': 399, 'active': False},\n",
       "    {'name': 1928, 'count': 386, 'active': False},\n",
       "    {'name': 1921, 'count': 379, 'active': False},\n",
       "    {'name': 1922, 'count': 365, 'active': False},\n",
       "    {'name': 1925, 'count': 362, 'active': False},\n",
       "    {'name': 1930, 'count': 358, 'active': False},\n",
       "    {'name': 1924, 'count': 351, 'active': False},\n",
       "    {'name': 1912, 'count': 333, 'active': False},\n",
       "    {'name': 1940, 'count': 333, 'active': False},\n",
       "    {'name': 1905, 'count': 316, 'active': False},\n",
       "    {'name': 1931, 'count': 312, 'active': False},\n",
       "    {'name': 1942, 'count': 311, 'active': False},\n",
       "    {'name': 1944, 'count': 309, 'active': False},\n",
       "    {'name': 1906, 'count': 305, 'active': False},\n",
       "    {'name': 1941, 'count': 303, 'active': False},\n",
       "    {'name': 1917, 'count': 301, 'active': False},\n",
       "    {'name': 1918, 'count': 294, 'active': False},\n",
       "    {'name': 1943, 'count': 277, 'active': False},\n",
       "    {'name': 1911, 'count': 274, 'active': False},\n",
       "    {'name': 1910, 'count': 271, 'active': False},\n",
       "    {'name': 1907, 'count': 268, 'active': False},\n",
       "    {'name': 1913, 'count': 267, 'active': False},\n",
       "    {'name': 1908, 'count': 262, 'active': False},\n",
       "    {'name': 1916, 'count': 260, 'active': False},\n",
       "    {'name': 1903, 'count': 255, 'active': False},\n",
       "    {'name': 1902, 'count': 246, 'active': False},\n",
       "    {'name': 1904, 'count': 245, 'active': False},\n",
       "    {'name': 1909, 'count': 245, 'active': False},\n",
       "    {'name': 1915, 'count': 240, 'active': False},\n",
       "    {'name': 1898, 'count': 239, 'active': False},\n",
       "    {'name': 1896, 'count': 231, 'active': False},\n",
       "    {'name': 1901, 'count': 231, 'active': False},\n",
       "    {'name': 1900, 'count': 220, 'active': False},\n",
       "    {'name': 1914, 'count': 220, 'active': False},\n",
       "    {'name': 1890, 'count': 217, 'active': False},\n",
       "    {'name': 1889, 'count': 203, 'active': False},\n",
       "    {'name': 1895, 'count': 193, 'active': False},\n",
       "    {'name': 1897, 'count': 193, 'active': False},\n",
       "    {'name': 1888, 'count': 192, 'active': False},\n",
       "    {'name': 1886, 'count': 191, 'active': False},\n",
       "    {'name': 1887, 'count': 184, 'active': False},\n",
       "    {'name': 1892, 'count': 170, 'active': False},\n",
       "    {'name': 1885, 'count': 166, 'active': False},\n",
       "    {'name': 1884, 'count': 165, 'active': False},\n",
       "    {'name': 1891, 'count': 159, 'active': False},\n",
       "    {'name': 1894, 'count': 153, 'active': False},\n",
       "    {'name': 1865, 'count': 144, 'active': False},\n",
       "    {'name': 1893, 'count': 138, 'active': False},\n",
       "    {'name': 1880, 'count': 137, 'active': False},\n",
       "    {'name': 1883, 'count': 137, 'active': False},\n",
       "    {'name': 1876, 'count': 131, 'active': False},\n",
       "    {'name': 1872, 'count': 129, 'active': False},\n",
       "    {'name': 1881, 'count': 127, 'active': False},\n",
       "    {'name': 1882, 'count': 120, 'active': False},\n",
       "    {'name': 1873, 'count': 114, 'active': False},\n",
       "    {'name': 1875, 'count': 112, 'active': False},\n",
       "    {'name': 1879, 'count': 112, 'active': False},\n",
       "    {'name': 1869, 'count': 109, 'active': False},\n",
       "    {'name': 1878, 'count': 109, 'active': False},\n",
       "    {'name': 1868, 'count': 106, 'active': False},\n",
       "    {'name': 1870, 'count': 105, 'active': False},\n",
       "    {'name': 1874, 'count': 102, 'active': False},\n",
       "    {'name': 1871, 'count': 100, 'active': False},\n",
       "    {'name': 1851, 'count': 92, 'active': False},\n",
       "    {'name': 1877, 'count': 88, 'active': False},\n",
       "    {'name': 1853, 'count': 87, 'active': False},\n",
       "    {'name': 1864, 'count': 86, 'active': False},\n",
       "    {'name': 1867, 'count': 85, 'active': False},\n",
       "    {'name': 1857, 'count': 82, 'active': False},\n",
       "    {'name': 1850, 'count': 81, 'active': False},\n",
       "    {'name': 1863, 'count': 81, 'active': False},\n",
       "    {'name': 1866, 'count': 76, 'active': False},\n",
       "    {'name': 1856, 'count': 75, 'active': False},\n",
       "    {'name': 1852, 'count': 74, 'active': False},\n",
       "    {'name': 1858, 'count': 72, 'active': False},\n",
       "    {'name': 1862, 'count': 67, 'active': False},\n",
       "    {'name': 1860, 'count': 66, 'active': False},\n",
       "    {'name': 1855, 'count': 62, 'active': False},\n",
       "    {'name': 1854, 'count': 61, 'active': False},\n",
       "    {'name': 1848, 'count': 60, 'active': False},\n",
       "    {'name': 1849, 'count': 56, 'active': False},\n",
       "    {'name': 1859, 'count': 54, 'active': False},\n",
       "    {'name': 1861, 'count': 54, 'active': False},\n",
       "    {'name': 1845, 'count': 52, 'active': False},\n",
       "    {'name': 1846, 'count': 48, 'active': False},\n",
       "    {'name': 1847, 'count': 47, 'active': False},\n",
       "    {'name': 1844, 'count': 45, 'active': False},\n",
       "    {'name': 1837, 'count': 44, 'active': False},\n",
       "    {'name': 1843, 'count': 41, 'active': False},\n",
       "    {'name': 1836, 'count': 40, 'active': False},\n",
       "    {'name': 1828, 'count': 39, 'active': False},\n",
       "    {'name': 1832, 'count': 38, 'active': False},\n",
       "    {'name': 1840, 'count': 38, 'active': False},\n",
       "    {'name': 1834, 'count': 36, 'active': False},\n",
       "    {'name': 1835, 'count': 35, 'active': False},\n",
       "    {'name': 1838, 'count': 34, 'active': False},\n",
       "    {'name': 1841, 'count': 33, 'active': False},\n",
       "    {'name': 1833, 'count': 30, 'active': False},\n",
       "    {'name': 1842, 'count': 30, 'active': False},\n",
       "    {'name': 1839, 'count': 28, 'active': False},\n",
       "    {'name': 1817, 'count': 25, 'active': False},\n",
       "    {'name': 1818, 'count': 25, 'active': False},\n",
       "    {'name': 1820, 'count': 25, 'active': False},\n",
       "    {'name': 1819, 'count': 24, 'active': False},\n",
       "    {'name': 1824, 'count': 24, 'active': False},\n",
       "    {'name': 1829, 'count': 24, 'active': False},\n",
       "    {'name': 1825, 'count': 23, 'active': False},\n",
       "    {'name': 1830, 'count': 23, 'active': False},\n",
       "    {'name': 1831, 'count': 23, 'active': False},\n",
       "    {'name': 1792, 'count': 20, 'active': False},\n",
       "    {'name': 1823, 'count': 20, 'active': False},\n",
       "    {'name': 1826, 'count': 20, 'active': False},\n",
       "    {'name': 1802, 'count': 17, 'active': False},\n",
       "    {'name': 1810, 'count': 17, 'active': False},\n",
       "    {'name': 1827, 'count': 16, 'active': False},\n",
       "    {'name': 1800, 'count': 15, 'active': False},\n",
       "    {'name': 1812, 'count': 15, 'active': False},\n",
       "    {'name': 1821, 'count': 15, 'active': False},\n",
       "    {'name': 1811, 'count': 14, 'active': False},\n",
       "    {'name': 1801, 'count': 13, 'active': False},\n",
       "    {'name': 1816, 'count': 13, 'active': False},\n",
       "    {'name': 1775, 'count': 12, 'active': False},\n",
       "    {'name': 1808, 'count': 12, 'active': False},\n",
       "    {'name': 1815, 'count': 12, 'active': False},\n",
       "    {'name': 1750, 'count': 10, 'active': False},\n",
       "    {'name': 1760, 'count': 10, 'active': False},\n",
       "    {'name': 1784, 'count': 10, 'active': False},\n",
       "    {'name': 1783, 'count': 9, 'active': False},\n",
       "    {'name': 1785, 'count': 9, 'active': False},\n",
       "    {'name': 1795, 'count': 9, 'active': False},\n",
       "    {'name': 1797, 'count': 9, 'active': False},\n",
       "    {'name': 1798, 'count': 9, 'active': False},\n",
       "    {'name': 1805, 'count': 9, 'active': False},\n",
       "    {'name': 1807, 'count': 9, 'active': False},\n",
       "    {'name': 1809, 'count': 9, 'active': False},\n",
       "    {'name': 1814, 'count': 9, 'active': False},\n",
       "    {'name': 1822, 'count': 9, 'active': False},\n",
       "    {'name': 1777, 'count': 8, 'active': False},\n",
       "    {'name': 1803, 'count': 8, 'active': False},\n",
       "    {'name': 1813, 'count': 8, 'active': False},\n",
       "    {'name': 1731, 'count': 7, 'active': False},\n",
       "    {'name': 1755, 'count': 7, 'active': False},\n",
       "    {'name': 1770, 'count': 7, 'active': False},\n",
       "    {'name': 1776, 'count': 7, 'active': False},\n",
       "    {'name': 1778, 'count': 7, 'active': False},\n",
       "    {'name': 1786, 'count': 7, 'active': False},\n",
       "    {'name': 1789, 'count': 7, 'active': False},\n",
       "    {'name': 1793, 'count': 7, 'active': False},\n",
       "    {'name': 1799, 'count': 7, 'active': False},\n",
       "    {'name': 1806, 'count': 7, 'active': False},\n",
       "    {'name': 1665, 'count': 6, 'active': False},\n",
       "    {'name': 1668, 'count': 6, 'active': False},\n",
       "    {'name': 1749, 'count': 6, 'active': False},\n",
       "    {'name': 1758, 'count': 6, 'active': False},\n",
       "    {'name': 1759, 'count': 6, 'active': False},\n",
       "    {'name': 1767, 'count': 6, 'active': False},\n",
       "    {'name': 1790, 'count': 6, 'active': False},\n",
       "    {'name': 1794, 'count': 6, 'active': False},\n",
       "    {'name': 1804, 'count': 6, 'active': False},\n",
       "    {'name': 1753, 'count': 5, 'active': False},\n",
       "    {'name': 1764, 'count': 5, 'active': False},\n",
       "    {'name': 1768, 'count': 5, 'active': False},\n",
       "    {'name': 1772, 'count': 5, 'active': False},\n",
       "    {'name': 1774, 'count': 5, 'active': False},\n",
       "    {'name': 1791, 'count': 5, 'active': False},\n",
       "    {'name': 1796, 'count': 5, 'active': False},\n",
       "    {'name': 1683, 'count': 4, 'active': False},\n",
       "    {'name': 1737, 'count': 4, 'active': False},\n",
       "    {'name': 1742, 'count': 4, 'active': False},\n",
       "    {'name': 1743, 'count': 4, 'active': False},\n",
       "    {'name': 1748, 'count': 4, 'active': False},\n",
       "    {'name': 1763, 'count': 4, 'active': False},\n",
       "    {'name': 1771, 'count': 4, 'active': False},\n",
       "    {'name': 1780, 'count': 4, 'active': False},\n",
       "    {'name': 1781, 'count': 4, 'active': False},\n",
       "    {'name': 1782, 'count': 4, 'active': False},\n",
       "    {'name': 1541, 'count': 3, 'active': False},\n",
       "    {'name': 1690, 'count': 3, 'active': False},\n",
       "    {'name': 1694, 'count': 3, 'active': False},\n",
       "    {'name': 1710, 'count': 3, 'active': False},\n",
       "    {'name': 1712, 'count': 3, 'active': False},\n",
       "    {'name': 1732, 'count': 3, 'active': False},\n",
       "    {'name': 1765, 'count': 3, 'active': False},\n",
       "    {'name': 1773, 'count': 3, 'active': False},\n",
       "    {'name': 1788, 'count': 3, 'active': False},\n",
       "    {'name': 1010, 'count': 2, 'active': False},\n",
       "    {'name': 1516, 'count': 2, 'active': False},\n",
       "    {'name': 1552, 'count': 2, 'active': False},\n",
       "    {'name': 1556, 'count': 2, 'active': False},\n",
       "    {'name': 1565, 'count': 2, 'active': False},\n",
       "    {'name': 1575, 'count': 2, 'active': False},\n",
       "    {'name': 1582, 'count': 2, 'active': False},\n",
       "    {'name': 1636, 'count': 2, 'active': False},\n",
       "    {'name': 1638, 'count': 2, 'active': False},\n",
       "    {'name': 1649, 'count': 2, 'active': False},\n",
       "    {'name': 1651, 'count': 2, 'active': False},\n",
       "    {'name': 1653, 'count': 2, 'active': False},\n",
       "    {'name': 1658, 'count': 2, 'active': False},\n",
       "    {'name': 1660, 'count': 2, 'active': False},\n",
       "    {'name': 1664, 'count': 2, 'active': False},\n",
       "    {'name': 1669, 'count': 2, 'active': False},\n",
       "    {'name': 1670, 'count': 2, 'active': False},\n",
       "    {'name': 1682, 'count': 2, 'active': False},\n",
       "    {'name': 1689, 'count': 2, 'active': False},\n",
       "    {'name': 1692, 'count': 2, 'active': False},\n",
       "    {'name': 1695, 'count': 2, 'active': False},\n",
       "    {'name': 1699, 'count': 2, 'active': False},\n",
       "    {'name': 1700, 'count': 2, 'active': False},\n",
       "    {'name': 1716, 'count': 2, 'active': False},\n",
       "    {'name': 1718, 'count': 2, 'active': False},\n",
       "    {'name': 1719, 'count': 2, 'active': False},\n",
       "    {'name': 1720, 'count': 2, 'active': False},\n",
       "    {'name': 1725, 'count': 2, 'active': False},\n",
       "    {'name': 1726, 'count': 2, 'active': False},\n",
       "    {'name': 1727, 'count': 2, 'active': False},\n",
       "    {'name': 1735, 'count': 2, 'active': False},\n",
       "    {'name': 1741, 'count': 2, 'active': False},\n",
       "    {'name': 1744, 'count': 2, 'active': False},\n",
       "    {'name': 1745, 'count': 2, 'active': False},\n",
       "    {'name': 1746, 'count': 2, 'active': False},\n",
       "    {'name': 1752, 'count': 2, 'active': False},\n",
       "    {'name': 1756, 'count': 2, 'active': False},\n",
       "    {'name': 1762, 'count': 2, 'active': False},\n",
       "    {'name': 1779, 'count': 2, 'active': False},\n",
       "    {'name': 1000, 'count': 1, 'active': False},\n",
       "    {'name': 1004, 'count': 1, 'active': False},\n",
       "    {'name': 1012, 'count': 1, 'active': False},\n",
       "    {'name': 1015, 'count': 1, 'active': False},\n",
       "    {'name': 1018, 'count': 1, 'active': False},\n",
       "    {'name': 1048, 'count': 1, 'active': False},\n",
       "    {'name': 1070, 'count': 1, 'active': False},\n",
       "    {'name': 1081, 'count': 1, 'active': False},\n",
       "    {'name': 1108, 'count': 1, 'active': False},\n",
       "    {'name': 1120, 'count': 1, 'active': False},\n",
       "    {'name': 1124, 'count': 1, 'active': False},\n",
       "    {'name': 1194, 'count': 1, 'active': False},\n",
       "    {'name': 1242, 'count': 1, 'active': False},\n",
       "    {'name': 1249, 'count': 1, 'active': False},\n",
       "    {'name': 1295, 'count': 1, 'active': False},\n",
       "    {'name': 1299, 'count': 1, 'active': False},\n",
       "    {'name': 1327, 'count': 1, 'active': False},\n",
       "    {'name': 1340, 'count': 1, 'active': False},\n",
       "    {'name': 1350, 'count': 1, 'active': False},\n",
       "    {'name': 1365, 'count': 1, 'active': False},\n",
       "    {'name': 1387, 'count': 1, 'active': False},\n",
       "    {'name': 1389, 'count': 1, 'active': False},\n",
       "    {'name': 1395, 'count': 1, 'active': False},\n",
       "    {'name': 1401, 'count': 1, 'active': False},\n",
       "    {'name': 1423, 'count': 1, 'active': False},\n",
       "    {'name': 1434, 'count': 1, 'active': False},\n",
       "    {'name': 1440, 'count': 1, 'active': False},\n",
       "    {'name': 1448, 'count': 1, 'active': False},\n",
       "    {'name': 1451, 'count': 1, 'active': False},\n",
       "    {'name': 1453, 'count': 1, 'active': False},\n",
       "    {'name': 1464, 'count': 1, 'active': False},\n",
       "    {'name': 1466, 'count': 1, 'active': False},\n",
       "    {'name': 1468, 'count': 1, 'active': False},\n",
       "    {'name': 1472, 'count': 1, 'active': False},\n",
       "    {'name': 1478, 'count': 1, 'active': False},\n",
       "    {'name': 1487, 'count': 1, 'active': False},\n",
       "    {'name': 1490, 'count': 1, 'active': False},\n",
       "    {'name': 1492, 'count': 1, 'active': False},\n",
       "    {'name': 1495, 'count': 1, 'active': False},\n",
       "    {'name': 1518, 'count': 1, 'active': False},\n",
       "    {'name': 1519, 'count': 1, 'active': False},\n",
       "    {'name': 1520, 'count': 1, 'active': False},\n",
       "    {'name': 1534, 'count': 1, 'active': False},\n",
       "    {'name': 1538, 'count': 1, 'active': False},\n",
       "    {'name': 1545, 'count': 1, 'active': False},\n",
       "    {'name': 1550, 'count': 1, 'active': False},\n",
       "    {'name': 1555, 'count': 1, 'active': False},\n",
       "    {'name': 1557, 'count': 1, 'active': False},\n",
       "    {'name': 1558, 'count': 1, 'active': False},\n",
       "    {'name': 1560, 'count': 1, 'active': False},\n",
       "    {'name': 1561, 'count': 1, 'active': False},\n",
       "    {'name': 1563, 'count': 1, 'active': False},\n",
       "    {'name': 1571, 'count': 1, 'active': False},\n",
       "    {'name': 1573, 'count': 1, 'active': False},\n",
       "    {'name': 1574, 'count': 1, 'active': False},\n",
       "    {'name': 1576, 'count': 1, 'active': False},\n",
       "    {'name': 1579, 'count': 1, 'active': False},\n",
       "    {'name': 1583, 'count': 1, 'active': False},\n",
       "    {'name': 1584, 'count': 1, 'active': False},\n",
       "    {'name': 1585, 'count': 1, 'active': False},\n",
       "    {'name': 1590, 'count': 1, 'active': False},\n",
       "    {'name': 1594, 'count': 1, 'active': False},\n",
       "    {'name': 1597, 'count': 1, 'active': False},\n",
       "    {'name': 1599, 'count': 1, 'active': False},\n",
       "    {'name': 1606, 'count': 1, 'active': False},\n",
       "    {'name': 1608, 'count': 1, 'active': False},\n",
       "    {'name': 1609, 'count': 1, 'active': False},\n",
       "    {'name': 1615, 'count': 1, 'active': False},\n",
       "    {'name': 1620, 'count': 1, 'active': False},\n",
       "    {'name': 1622, 'count': 1, 'active': False},\n",
       "    {'name': 1623, 'count': 1, 'active': False},\n",
       "    {'name': 1624, 'count': 1, 'active': False},\n",
       "    {'name': 1626, 'count': 1, 'active': False},\n",
       "    {'name': 1631, 'count': 1, 'active': False},\n",
       "    {'name': 1639, 'count': 1, 'active': False},\n",
       "    {'name': 1640, 'count': 1, 'active': False},\n",
       "    {'name': 1642, 'count': 1, 'active': False},\n",
       "    {'name': 1645, 'count': 1, 'active': False},\n",
       "    {'name': 1646, 'count': 1, 'active': False},\n",
       "    {'name': 1647, 'count': 1, 'active': False},\n",
       "    {'name': 1652, 'count': 1, 'active': False},\n",
       "    {'name': 1654, 'count': 1, 'active': False},\n",
       "    {'name': 1656, 'count': 1, 'active': False},\n",
       "    {'name': 1661, 'count': 1, 'active': False},\n",
       "    {'name': 1662, 'count': 1, 'active': False},\n",
       "    {'name': 1663, 'count': 1, 'active': False},\n",
       "    {'name': 1666, 'count': 1, 'active': False},\n",
       "    {'name': 1674, 'count': 1, 'active': False},\n",
       "    {'name': 1677, 'count': 1, 'active': False},\n",
       "    {'name': 1681, 'count': 1, 'active': False},\n",
       "    {'name': 1684, 'count': 1, 'active': False},\n",
       "    {'name': 1685, 'count': 1, 'active': False},\n",
       "    {'name': 1688, 'count': 1, 'active': False},\n",
       "    {'name': 1691, 'count': 1, 'active': False},\n",
       "    {'name': 1693, 'count': 1, 'active': False},\n",
       "    {'name': 1696, 'count': 1, 'active': False},\n",
       "    {'name': 1697, 'count': 1, 'active': False},\n",
       "    {'name': 1698, 'count': 1, 'active': False},\n",
       "    {'name': 1701, 'count': 1, 'active': False},\n",
       "    {'name': 1703, 'count': 1, 'active': False},\n",
       "    {'name': 1704, 'count': 1, 'active': False},\n",
       "    {'name': 1706, 'count': 1, 'active': False},\n",
       "    {'name': 1707, 'count': 1, 'active': False},\n",
       "    {'name': 1711, 'count': 1, 'active': False},\n",
       "    {'name': 1717, 'count': 1, 'active': False},\n",
       "    {'name': 1722, 'count': 1, 'active': False},\n",
       "    {'name': 1723, 'count': 1, 'active': False},\n",
       "    {'name': 1729, 'count': 1, 'active': False},\n",
       "    {'name': 1733, 'count': 1, 'active': False},\n",
       "    {'name': 1734, 'count': 1, 'active': False},\n",
       "    {'name': 1736, 'count': 1, 'active': False},\n",
       "    {'name': 1738, 'count': 1, 'active': False},\n",
       "    {'name': 1740, 'count': 1, 'active': False},\n",
       "    {'name': 1747, 'count': 1, 'active': False},\n",
       "    {'name': 1751, 'count': 1, 'active': False},\n",
       "    {'name': 1754, 'count': 1, 'active': False},\n",
       "    {'name': 1757, 'count': 1, 'active': False},\n",
       "    {'name': 1761, 'count': 1, 'active': False},\n",
       "    {'name': 1766, 'count': 1, 'active': False},\n",
       "    {'name': 1769, 'count': 1, 'active': False},\n",
       "    {'name': 1787, 'count': 1, 'active': False}]}]}"
      ]
     },
     "execution_count": 13,
     "metadata": {},
     "output_type": "execute_result"
    }
   ],
   "source": [
    "\n",
    "api_url=\"https://api.dealroom.co/api/v1/companies/filters\"\n",
    "auth=HTTPBasicAuth(API_KEY, '')\n",
    "\n",
    "headers = {'Content-Type': 'application/json'}\n",
    "data={\"fields\":\"launch_year\",\n",
    "              \"limit\": 1,\n",
    "              \"offset\": 0\n",
    "             }\n",
    "response = requests.post(api_url,data=json.dumps(data),auth=auth,headers=headers)\n",
    "data=response.json()\n",
    "data\n"
   ]
  },
  {
   "cell_type": "markdown",
   "metadata": {},
   "source": [
    "# 1.1 Building the Core DF"
   ]
  },
  {
   "cell_type": "markdown",
   "metadata": {},
   "source": [
    "1. Variables for the DF:\n",
    "\n",
    "1.1: Independent Variables\n",
    "- Team\n",
    "- patents (patents_count)\n",
    "- Round (fundings)\n",
    "- Investors\n",
    "- employees (latest, chart)\n",
    "- Num. Investors (investors)\n",
    "- (Industry Category) (industries)\n",
    "- Description Length (about)\n",
    "- Has Domain (website_url)\n",
    "- Has Facebook (facebook_url)\n",
    "- Has Twitter (twitter_url)\n",
    "- Has LinkedIn (linkedin_url)\n",
    "- Geographical Region (country, city/-code) (hq_locations)\n",
    "- Total Funding (total_funding) (in mio)\n",
    "\n",
    "1.2 Dependent Variables:\n",
    "- Stage\n",
    "\n",
    "\n",
    "Goal:\n",
    "Predict possibility of follow on funding within the time frame of 3 years\n",
    "Alternative: Predict possibility of funding, fail, acquisition, public\n",
    "\n",
    "Rows that are dropped with empty values in following columns:\n",
    "1. Web Url \n",
    "    avoid ghost companies\n",
    "2. ownerships \n",
    "    bootstraped companies will not have funding information, thus not a missing value\n",
    "    also essential for dependend variable\n",
    "3. company status\n",
    "    little info missing\n",
    "4. launch year\n",
    "    essential to project data to past\n",
    "\n",
    "\n",
    "Open Questions:\n",
    "- Should there be a difference between companies that are bootstrapped and dont want a funding or companies that are bootstrapped and dont get one\n",
    "    - the later should realise through company failing"
   ]
  },
  {
   "cell_type": "markdown",
   "metadata": {},
   "source": [
    "### Importing the Json file through according API Call:"
   ]
  },
  {
   "cell_type": "code",
   "execution_count": 1,
   "metadata": {},
   "outputs": [],
   "source": [
    "import time\n",
    "import requests\n",
    "from requests.auth import HTTPBasicAuth\n",
    "from requests.adapters import HTTPAdapter\n",
    "from requests.packages.urllib3.util.retry import Retry"
   ]
  },
  {
   "cell_type": "code",
   "execution_count": 5,
   "metadata": {},
   "outputs": [
    {
     "name": "stderr",
     "output_type": "stream",
     "text": [
      "/var/folders/k0/ldv3tm456fl7jrgd0xn0vy5h0000gn/T/ipykernel_58424/955448161.py:12: DeprecationWarning: Using 'method_whitelist' with Retry is deprecated and will be removed in v2.0. Use 'allowed_methods' instead\n",
      "  retry_strategy = Retry(\n"
     ]
    },
    {
     "name": "stdout",
     "output_type": "stream",
     "text": [
      "2230\r"
     ]
    }
   ],
   "source": [
    "fields=\"id,name,about,tagline,investors,industries,website_url,facebook_url,twitter_url,linkedin_url,hq_locations,total_funding,company_status,ownerships,team,fundings,patents_count,employees_latest,employees_chart,launch_year,dealroom_signal\"\n",
    "api_url=\"https://api.dealroom.co/api/v1\"\n",
    "api_key = API_KEY  # Replace with the issued Dealroom API key\n",
    "AUTH = HTTPBasicAuth(api_key, \"\")\n",
    "HEADERS = {'Content-Type': 'application/json'}\n",
    "\n",
    "json_list=[]\n",
    "k=0\n",
    "\n",
    "# Set the parameters depending on the use case. See refs:\n",
    "# https://urllib3.readthedocs.io/en/latest/reference/urllib3.util.html#module-urllib3.util.retry\n",
    "retry_strategy = Retry(\n",
    "    backoff_factor=1,\n",
    "    total=3,\n",
    "    read=3,\n",
    "    status_forcelist=[500, 502, 503, 504],\n",
    "    method_whitelist=False, # This is important to force retry of POST requests\n",
    ")\n",
    "ADAPTER = HTTPAdapter(max_retries=retry_strategy)\n",
    "\n",
    "def get_session() -> requests.Session:\n",
    "    \"\"\"Return a Session object initialized with correct parameters.\"\"\"\n",
    "\n",
    "    session = requests.Session()\n",
    "    session.headers = HEADERS\n",
    "    session.auth = AUTH\n",
    "    session.mount(api_url, ADAPTER)\n",
    "    return session\n",
    "\n",
    "\n",
    "def post_request(\n",
    "        session: requests.Session,\n",
    "        url: str,\n",
    "        data: dict\n",
    "    ) -> requests.models.Response:\n",
    "    \"\"\"Make a POST request using input Session object. If ConnectionError is\n",
    "    raised, we refresh the session.\"\"\"\n",
    "\n",
    "    try:\n",
    "        return session.post(url, json=data)\n",
    "\n",
    "    except requests.exceptions.ConnectionError as exc:\n",
    "        exc_str = f\"{exc.__class__.__name__}: {exc}\"\n",
    "        print(f\"POST request raised: {exc_str}. Refreshing session.\")\n",
    "        session = get_session()\n",
    "        return session.post(url, json=data)\n",
    "\n",
    "\n",
    "def get_response_body(response: requests.models.Response) -> dict:\n",
    "    \"\"\"Get response body. If JSONDecodeError is raised, returns an empty\n",
    "    dictionary.\"\"\"\n",
    "\n",
    "    try:\n",
    "        return response.json()\n",
    "\n",
    "    except json.JSONDecodeError as exc:\n",
    "        exc_str = f\"{exc.__class__.__name__}: {exc}\"\n",
    "        print(f\"Getting response body raised: {exc_str}. Returning empty dictionary.\")\n",
    "        return {}\n",
    "\n",
    "if __name__ == \"__main__\":\n",
    "\n",
    "    session = get_session()\n",
    "    url = f\"{api_url}/companies/bulk\"\n",
    "\n",
    "    next_page_id = ''\n",
    "\n",
    "    while True:\n",
    "        data = {\n",
    "            'form_data': {'must':{'hq_locations': ['Europe'], 'client_focus':['business']}},\n",
    "            'fields': fields,\n",
    "            'next_page_id': next_page_id,\n",
    "            'limit': 100,\n",
    "            }\n",
    "        \n",
    "        r = post_request(session, url, data)\n",
    "        res = get_response_body(r)\n",
    "        json_list.append(res)\n",
    "        k+=1\n",
    "        if (k/10).is_integer():\n",
    "            print(k,end=\"\\r\")\n",
    "\n",
    "\n",
    "        next_page_id = res['next_page_id']\n",
    "        if next_page_id is None:\n",
    "            break\n",
    "        \n",
    "            \n",
    "            \n",
    " "
   ]
  },
  {
   "cell_type": "code",
   "execution_count": null,
   "metadata": {},
   "outputs": [],
   "source": [
    "with open(\"second_json.json\", \"w\") as fp:\n",
    "        json.dump(json_list, fp)"
   ]
  },
  {
   "cell_type": "code",
   "execution_count": 10,
   "metadata": {},
   "outputs": [],
   "source": [
    "f=open(\"/Users/klaus/Documents/Jarvis/Second Try/Data/first_json.json\")\n",
    "json_list=json.load(f)"
   ]
  },
  {
   "cell_type": "code",
   "execution_count": 3,
   "metadata": {},
   "outputs": [],
   "source": [
    "a=open(\"/Users/klaus/Documents/Jarvis/Second Try/second_json.json\")\n",
    "json_list=json.load(a)"
   ]
  },
  {
   "cell_type": "code",
   "execution_count": 4,
   "metadata": {},
   "outputs": [
    {
     "data": {
      "text/plain": [
       "2236"
      ]
     },
     "execution_count": 4,
     "metadata": {},
     "output_type": "execute_result"
    }
   ],
   "source": [
    "len(json_list)"
   ]
  },
  {
   "cell_type": "markdown",
   "metadata": {},
   "source": [
    "### 1.2 Converting Json to Pandas DF"
   ]
  },
  {
   "cell_type": "code",
   "execution_count": 5,
   "metadata": {},
   "outputs": [],
   "source": [
    "df_list=[]\n",
    "for i in range(len(json_list)):\n",
    "    df_1=pd.json_normalize(json_list[i][\"items\"],sep=\"_\").drop(columns=[\"hq_locations\",\"industries\"])\n",
    "    df_1[[\"country_name\",\"city_name\"]]=pd.json_normalize(json_list[0][\"items\"],\"hq_locations\")[[\"country.name\",\"city.name\"]]\n",
    "    df_1[\"industry_name\"]=pd.json_normalize(json_list[0][\"items\"],\"industries\")[\"name\"]\n",
    "    df_list.append(df_1)"
   ]
  },
  {
   "cell_type": "code",
   "execution_count": 6,
   "metadata": {},
   "outputs": [],
   "source": [
    "df=pd.concat(df_list)"
   ]
  },
  {
   "cell_type": "code",
   "execution_count": 7,
   "metadata": {},
   "outputs": [
    {
     "data": {
      "text/plain": [
       "(223589, 25)"
      ]
     },
     "execution_count": 7,
     "metadata": {},
     "output_type": "execute_result"
    }
   ],
   "source": [
    "df.shape"
   ]
  },
  {
   "cell_type": "markdown",
   "metadata": {},
   "source": [
    "## 1.3 DataCleaning"
   ]
  },
  {
   "cell_type": "code",
   "execution_count": 8,
   "metadata": {},
   "outputs": [
    {
     "name": "stdout",
     "output_type": "stream",
     "text": [
      "                  Missing Values  In percent\n",
      "id                             0    0.000000\n",
      "name                           0    0.000000\n",
      "about                      57706   25.808962\n",
      "tagline                    63161   28.248706\n",
      "website_url                  619    0.276847\n",
      "facebook_url              176873   79.106307\n",
      "twitter_url               113788   50.891591\n",
      "linkedin_url               50601   22.631256\n",
      "total_funding                  0    0.000000\n",
      "company_status                84    0.037569\n",
      "ownerships                     0    0.000000\n",
      "patents_count                  0    0.000000\n",
      "employees_latest           59754   26.724928\n",
      "employees_chart                0    0.000000\n",
      "launch_year                34791   15.560247\n",
      "dealroom_signal           178534   79.849188\n",
      "investors_items                0    0.000000\n",
      "investors_total                0    0.000000\n",
      "team_items                     0    0.000000\n",
      "team_total                     0    0.000000\n",
      "fundings_items                 0    0.000000\n",
      "fundings_total                 0    0.000000\n",
      "country_name                2235    0.999602\n",
      "city_name                 127446   57.000121\n",
      "industry_name                  0    0.000000\n"
     ]
    }
   ],
   "source": [
    "x=df.isna().sum()\n",
    "y=df.isna().sum()/len(df)*100\n",
    "missing_values=pd.concat([x, y], axis=1)\n",
    "missing_values.columns=[\"Missing Values\",\"In percent\"]\n",
    "print(missing_values)\n"
   ]
  },
  {
   "cell_type": "code",
   "execution_count": 9,
   "metadata": {},
   "outputs": [],
   "source": [
    "df.dropna(subset=[\"website_url\"],inplace=True) #companies without website will be deleted to avoid ghost companies\n",
    "df.dropna(subset=[\"company_status\"],inplace=True)#companies without status (only 84 so can be dismissed)\n",
    "df.dropna(subset=[\"launch_year\"],inplace=True)#without launch year dismissed as we want to put df into past"
   ]
  },
  {
   "cell_type": "markdown",
   "metadata": {},
   "source": [
    "### Number of Empty lists as entries"
   ]
  },
  {
   "cell_type": "code",
   "execution_count": 11,
   "metadata": {},
   "outputs": [
    {
     "name": "stdout",
     "output_type": "stream",
     "text": [
      "name 0.0 %\n",
      "website_url 0.0 %\n",
      "company_status 0.0 %\n",
      "ownerships 50.39079507683159 %\n",
      "employees_chart 19.92311531640596 %\n",
      "investors_items 72.00452387779158 %\n",
      "team_items 53.53042998077883 %\n",
      "fundings_items 71.93443563031636 %\n",
      "industry_name 0.0 %\n"
     ]
    }
   ],
   "source": [
    "for i,row in missing_values.iterrows():\n",
    "    try:\n",
    "        print(i,df[i].apply(lambda x:1 if len(x) == 0 else 0).sum()/len(df)*100,\"%\")\n",
    "    except:\n",
    "        None\n",
    "\n"
   ]
  },
  {
   "cell_type": "code",
   "execution_count": 18,
   "metadata": {},
   "outputs": [
    {
     "data": {
      "text/plain": [
       "(94903, 25)"
      ]
     },
     "execution_count": 18,
     "metadata": {},
     "output_type": "execute_result"
    }
   ],
   "source": [
    "df_own=df.loc[df[\"ownerships\"].apply(lambda x:True if len(x) == 0 else False)]\n",
    "df_own.shape\n"
   ]
  },
  {
   "cell_type": "markdown",
   "metadata": {},
   "source": [
    "The following shows us, that companies where the ownership field is empty have almost no information disclosed. Thus, they cannot possibly fall under any category necessary for defining the dependent variable. We will leave them out"
   ]
  },
  {
   "cell_type": "code",
   "execution_count": 14,
   "metadata": {},
   "outputs": [
    {
     "name": "stdout",
     "output_type": "stream",
     "text": [
      "name 0.0 %\n",
      "website_url 0.0 %\n",
      "company_status 0.0 %\n",
      "ownerships 100.0 %\n",
      "employees_chart 40.0 %\n",
      "investors_items 95.0 %\n",
      "team_items 100.0 %\n",
      "fundings_items 100.0 %\n",
      "country_name 0.0 %\n",
      "industry_name 0.0 %\n"
     ]
    }
   ],
   "source": [
    "for i,row in missing_values.iterrows():\n",
    "    try:\n",
    "        print(i,df_own[i].apply(lambda x:1 if len(x) == 0 else 0).sum()/len(df_own)*100,\"%\")\n",
    "    except:\n",
    "        None"
   ]
  },
  {
   "cell_type": "code",
   "execution_count": 26,
   "metadata": {},
   "outputs": [],
   "source": [
    "df_1=df.loc[df[\"ownerships\"].apply(lambda x:False if len(x) == 0 else True)]"
   ]
  },
  {
   "cell_type": "code",
   "execution_count": 99,
   "metadata": {},
   "outputs": [],
   "source": [
    "df_1.loc[df_1[\"ownerships\"].apply(lambda x: True if (len(x)==2 and x[1]==\"bootstrapped\")  else False),\"ownerships\"]=[\"bootstrapped\"]*3167 #number of rows that fall in this category"
   ]
  },
  {
   "cell_type": "code",
   "execution_count": 100,
   "metadata": {},
   "outputs": [
    {
     "data": {
      "text/plain": [
       "Series([], Name: ownerships, dtype: object)"
      ]
     },
     "execution_count": 100,
     "metadata": {},
     "output_type": "execute_result"
    }
   ],
   "source": []
  },
  {
   "cell_type": "code",
   "execution_count": 27,
   "metadata": {},
   "outputs": [
    {
     "name": "stdout",
     "output_type": "stream",
     "text": [
      "name 0.0 %\n",
      "website_url 0.0 %\n",
      "company_status 0.0 %\n",
      "ownerships 0.0 %\n",
      "employees_chart 11.410559664351233 %\n",
      "investors_items 60.80744078517837 %\n",
      "team_items 16.801703931243377 %\n",
      "fundings_items 52.972782053065906 %\n",
      "industry_name 0.0 %\n",
      "(93431, 25)\n"
     ]
    }
   ],
   "source": [
    "for i,row in missing_values.iterrows():\n",
    "    try:\n",
    "        print(i,df_1[i].apply(lambda x:1 if len(x) == 0 else 0).sum()/len(df_1)*100,\"%\")\n",
    "    except:\n",
    "        None  \n",
    "\n",
    "print(df_1.shape)"
   ]
  },
  {
   "cell_type": "markdown",
   "metadata": {},
   "source": [
    "### looking at rows where team is missing"
   ]
  },
  {
   "cell_type": "code",
   "execution_count": 28,
   "metadata": {},
   "outputs": [],
   "source": [
    "df_team=df_1[df_1[\"team_items\"].apply(lambda x:True if len(x) == 0 else False)]"
   ]
  },
  {
   "cell_type": "code",
   "execution_count": 30,
   "metadata": {},
   "outputs": [
    {
     "data": {
      "text/html": [
       "<div>\n",
       "<style scoped>\n",
       "    .dataframe tbody tr th:only-of-type {\n",
       "        vertical-align: middle;\n",
       "    }\n",
       "\n",
       "    .dataframe tbody tr th {\n",
       "        vertical-align: top;\n",
       "    }\n",
       "\n",
       "    .dataframe thead th {\n",
       "        text-align: right;\n",
       "    }\n",
       "</style>\n",
       "<table border=\"1\" class=\"dataframe\">\n",
       "  <thead>\n",
       "    <tr style=\"text-align: right;\">\n",
       "      <th></th>\n",
       "      <th>id</th>\n",
       "      <th>name</th>\n",
       "      <th>about</th>\n",
       "      <th>tagline</th>\n",
       "      <th>website_url</th>\n",
       "      <th>facebook_url</th>\n",
       "      <th>twitter_url</th>\n",
       "      <th>linkedin_url</th>\n",
       "      <th>total_funding</th>\n",
       "      <th>company_status</th>\n",
       "      <th>ownerships</th>\n",
       "      <th>patents_count</th>\n",
       "      <th>employees_latest</th>\n",
       "      <th>employees_chart</th>\n",
       "      <th>launch_year</th>\n",
       "      <th>dealroom_signal</th>\n",
       "      <th>investors_items</th>\n",
       "      <th>investors_total</th>\n",
       "      <th>team_items</th>\n",
       "      <th>team_total</th>\n",
       "      <th>fundings_items</th>\n",
       "      <th>fundings_total</th>\n",
       "      <th>country_name</th>\n",
       "      <th>city_name</th>\n",
       "      <th>industry_name</th>\n",
       "    </tr>\n",
       "  </thead>\n",
       "  <tbody>\n",
       "    <tr>\n",
       "      <th>3</th>\n",
       "      <td>2176609</td>\n",
       "      <td>LNS</td>\n",
       "      <td>LNS brings over 45 years of proven experience ...</td>\n",
       "      <td>Discover the LNS Difference in your Country</td>\n",
       "      <td>http://lns-group.com</td>\n",
       "      <td>None</td>\n",
       "      <td>None</td>\n",
       "      <td>https://www.linkedin.com/company/lns-managemen...</td>\n",
       "      <td>0.0</td>\n",
       "      <td>acquired</td>\n",
       "      <td>[Private Equity]</td>\n",
       "      <td>7</td>\n",
       "      <td>31.0</td>\n",
       "      <td>[{'date': '2019-07-01', 'value': 25}, {'date':...</td>\n",
       "      <td>1973.0</td>\n",
       "      <td>None</td>\n",
       "      <td>[{'id': 2914933, 'name': 'Storskogen', 'path':...</td>\n",
       "      <td>1</td>\n",
       "      <td>[]</td>\n",
       "      <td>0</td>\n",
       "      <td>[{'id': 539414, 'year': 2021, 'month': 12, 'am...</td>\n",
       "      <td>1</td>\n",
       "      <td>Switzerland</td>\n",
       "      <td>Orvin</td>\n",
       "      <td>semiconductors</td>\n",
       "    </tr>\n",
       "    <tr>\n",
       "      <th>45</th>\n",
       "      <td>2207899</td>\n",
       "      <td>Smartseq</td>\n",
       "      <td>None</td>\n",
       "      <td>SmartSeq - NGS Bioinformatics Services</td>\n",
       "      <td>http://www.smartseq.it/</td>\n",
       "      <td>None</td>\n",
       "      <td>None</td>\n",
       "      <td>None</td>\n",
       "      <td>0.0</td>\n",
       "      <td>acquired</td>\n",
       "      <td>[Subsidiary]</td>\n",
       "      <td>0</td>\n",
       "      <td>NaN</td>\n",
       "      <td>[]</td>\n",
       "      <td>2013.0</td>\n",
       "      <td>None</td>\n",
       "      <td>[{'id': 1472687, 'name': 'Enne3', 'path': 'enn...</td>\n",
       "      <td>2</td>\n",
       "      <td>[]</td>\n",
       "      <td>0</td>\n",
       "      <td>[{'id': 546441, 'year': 2022, 'month': 2, 'amo...</td>\n",
       "      <td>1</td>\n",
       "      <td>Italy</td>\n",
       "      <td>NaN</td>\n",
       "      <td>food</td>\n",
       "    </tr>\n",
       "    <tr>\n",
       "      <th>35</th>\n",
       "      <td>2249339</td>\n",
       "      <td>Ekomi</td>\n",
       "      <td>We believe in the power of authentic, more and...</td>\n",
       "      <td>eKomi | The Feedback Company</td>\n",
       "      <td>http://ekomi.nl</td>\n",
       "      <td>None</td>\n",
       "      <td>https://twitter.com/ekomi</td>\n",
       "      <td>https://www.linkedin.com/company/ekomi/</td>\n",
       "      <td>0.0</td>\n",
       "      <td>operational</td>\n",
       "      <td>[bootstrapped]</td>\n",
       "      <td>0</td>\n",
       "      <td>191.0</td>\n",
       "      <td>[{'date': '2018-12-01', 'value': 196}, {'date'...</td>\n",
       "      <td>2008.0</td>\n",
       "      <td>None</td>\n",
       "      <td>[]</td>\n",
       "      <td>0</td>\n",
       "      <td>[]</td>\n",
       "      <td>0</td>\n",
       "      <td>[]</td>\n",
       "      <td>0</td>\n",
       "      <td>Slovenia</td>\n",
       "      <td>NaN</td>\n",
       "      <td>marketing</td>\n",
       "    </tr>\n",
       "    <tr>\n",
       "      <th>60</th>\n",
       "      <td>2091408</td>\n",
       "      <td>Scoriff</td>\n",
       "      <td>Scoriff is a new-age business credit scoring c...</td>\n",
       "      <td>Behavioral business credit scoring | We apply ...</td>\n",
       "      <td>http://scoriff.com</td>\n",
       "      <td>https://www.facebook.com/scoriff</td>\n",
       "      <td>None</td>\n",
       "      <td>https://www.linkedin.com/company/scoriff/</td>\n",
       "      <td>0.0</td>\n",
       "      <td>operational</td>\n",
       "      <td>[Venture Capital, accelerator]</td>\n",
       "      <td>0</td>\n",
       "      <td>1.0</td>\n",
       "      <td>[{'date': '2021-03-30', 'value': 1}, {'date': ...</td>\n",
       "      <td>2018.0</td>\n",
       "      <td>None</td>\n",
       "      <td>[{'id': 15975, 'name': 'Startup Wise Guys', 'p...</td>\n",
       "      <td>1</td>\n",
       "      <td>[]</td>\n",
       "      <td>0</td>\n",
       "      <td>[{'id': 404409, 'year': 2019, 'month': 4, 'amo...</td>\n",
       "      <td>1</td>\n",
       "      <td>Denmark</td>\n",
       "      <td>NaN</td>\n",
       "      <td>music</td>\n",
       "    </tr>\n",
       "    <tr>\n",
       "      <th>90</th>\n",
       "      <td>2119636</td>\n",
       "      <td>PDFlib</td>\n",
       "      <td>None</td>\n",
       "      <td>None</td>\n",
       "      <td>http://pdflib.com</td>\n",
       "      <td>None</td>\n",
       "      <td>None</td>\n",
       "      <td>None</td>\n",
       "      <td>0.0</td>\n",
       "      <td>acquired</td>\n",
       "      <td>[Subsidiary]</td>\n",
       "      <td>3</td>\n",
       "      <td>NaN</td>\n",
       "      <td>[]</td>\n",
       "      <td>2000.0</td>\n",
       "      <td>None</td>\n",
       "      <td>[{'id': 227558, 'name': 'PDFTron', 'path': 'pd...</td>\n",
       "      <td>1</td>\n",
       "      <td>[]</td>\n",
       "      <td>0</td>\n",
       "      <td>[{'id': 648576, 'year': 2022, 'month': 7, 'amo...</td>\n",
       "      <td>1</td>\n",
       "      <td>Switzerland</td>\n",
       "      <td>NaN</td>\n",
       "      <td>media</td>\n",
       "    </tr>\n",
       "  </tbody>\n",
       "</table>\n",
       "</div>"
      ],
      "text/plain": [
       "         id      name                                              about                                            tagline              website_url                      facebook_url                twitter_url                                       linkedin_url  total_funding company_status                      ownerships  patents_count employees_latest                                    employees_chart  launch_year dealroom_signal                                    investors_items  investors_total team_items  team_total                                     fundings_items  fundings_total country_name city_name   industry_name\n",
       "3   2176609       LNS  LNS brings over 45 years of proven experience ...        Discover the LNS Difference in your Country     http://lns-group.com                              None                       None  https://www.linkedin.com/company/lns-managemen...            0.0       acquired                [Private Equity]              7             31.0  [{'date': '2019-07-01', 'value': 25}, {'date':...       1973.0            None  [{'id': 2914933, 'name': 'Storskogen', 'path':...                1         []           0  [{'id': 539414, 'year': 2021, 'month': 12, 'am...               1  Switzerland     Orvin  semiconductors\n",
       "45  2207899  Smartseq                                               None             SmartSeq - NGS Bioinformatics Services  http://www.smartseq.it/                              None                       None                                               None            0.0       acquired                    [Subsidiary]              0              NaN                                                 []       2013.0            None  [{'id': 1472687, 'name': 'Enne3', 'path': 'enn...                2         []           0  [{'id': 546441, 'year': 2022, 'month': 2, 'amo...               1        Italy       NaN            food\n",
       "35  2249339     Ekomi  We believe in the power of authentic, more and...                       eKomi | The Feedback Company          http://ekomi.nl                              None  https://twitter.com/ekomi            https://www.linkedin.com/company/ekomi/            0.0    operational                  [bootstrapped]              0            191.0  [{'date': '2018-12-01', 'value': 196}, {'date'...       2008.0            None                                                 []                0         []           0                                                 []               0     Slovenia       NaN       marketing\n",
       "60  2091408   Scoriff  Scoriff is a new-age business credit scoring c...  Behavioral business credit scoring | We apply ...       http://scoriff.com  https://www.facebook.com/scoriff                       None          https://www.linkedin.com/company/scoriff/            0.0    operational  [Venture Capital, accelerator]              0              1.0  [{'date': '2021-03-30', 'value': 1}, {'date': ...       2018.0            None  [{'id': 15975, 'name': 'Startup Wise Guys', 'p...                1         []           0  [{'id': 404409, 'year': 2019, 'month': 4, 'amo...               1      Denmark       NaN           music\n",
       "90  2119636    PDFlib                                               None                                               None        http://pdflib.com                              None                       None                                               None            0.0       acquired                    [Subsidiary]              3              NaN                                                 []       2000.0            None  [{'id': 227558, 'name': 'PDFTron', 'path': 'pd...                1         []           0  [{'id': 648576, 'year': 2022, 'month': 7, 'amo...               1  Switzerland       NaN           media"
      ]
     },
     "execution_count": 30,
     "metadata": {},
     "output_type": "execute_result"
    }
   ],
   "source": [
    "df_team.head()"
   ]
  },
  {
   "cell_type": "code",
   "execution_count": 29,
   "metadata": {},
   "outputs": [
    {
     "name": "stdout",
     "output_type": "stream",
     "text": [
      "name 0.0 %\n",
      "website_url 0.0 %\n",
      "company_status 0.0 %\n",
      "ownerships 0.0 %\n",
      "employees_chart 30.169448337367815 %\n",
      "investors_items 47.39457255701363 %\n",
      "team_items 100.0 %\n",
      "fundings_items 28.889030449738822 %\n",
      "industry_name 0.0 %\n",
      "(15698, 25)\n"
     ]
    }
   ],
   "source": [
    "for i,row in missing_values.iterrows():\n",
    "    try:\n",
    "        print(i,df_team[i].apply(lambda x:1 if len(x) == 0 else 0).sum()/len(df_team)*100,\"%\")\n",
    "    except:\n",
    "        None  \n",
    "\n",
    "print(df_team.shape)"
   ]
  },
  {
   "cell_type": "markdown",
   "metadata": {},
   "source": [
    "No need to drop columns where team items are missing"
   ]
  },
  {
   "cell_type": "markdown",
   "metadata": {},
   "source": [
    "### We observe that many of the empty lists for fundings and investors are for bootstrapped startups. It makes sense to distinguish between those where data is missing and those where it simply makes no sense to have data"
   ]
  },
  {
   "cell_type": "code",
   "execution_count": 40,
   "metadata": {},
   "outputs": [],
   "source": [
    "df_invest=df_1.loc[df_1[\"investors_items\"].apply(lambda x:True if len(x) == 0 else False)]\n",
    "df_boots=df_invest.loc[df_invest[\"ownerships\"].apply(lambda x:True if ((x[0]==\"bootstrapped\" and len(x)<=1) or (x==[\"not known\",\"bootstrapped\"]) or (x[0]==\"not known\")) else False)]\n",
    "\n",
    "df_boots[\"investors_items\"].values[:]=[\"boots\"]\n",
    "\n",
    "df_2=pd.concat([df_1,df_boots])\n",
    "\n",
    "df_2.drop_duplicates(subset=[\"id\"],keep=\"last\", inplace=True)"
   ]
  },
  {
   "cell_type": "code",
   "execution_count": 44,
   "metadata": {},
   "outputs": [
    {
     "data": {
      "text/html": [
       "<div>\n",
       "<style scoped>\n",
       "    .dataframe tbody tr th:only-of-type {\n",
       "        vertical-align: middle;\n",
       "    }\n",
       "\n",
       "    .dataframe tbody tr th {\n",
       "        vertical-align: top;\n",
       "    }\n",
       "\n",
       "    .dataframe thead th {\n",
       "        text-align: right;\n",
       "    }\n",
       "</style>\n",
       "<table border=\"1\" class=\"dataframe\">\n",
       "  <thead>\n",
       "    <tr style=\"text-align: right;\">\n",
       "      <th></th>\n",
       "      <th>id</th>\n",
       "      <th>name</th>\n",
       "      <th>about</th>\n",
       "      <th>tagline</th>\n",
       "      <th>website_url</th>\n",
       "      <th>facebook_url</th>\n",
       "      <th>twitter_url</th>\n",
       "      <th>linkedin_url</th>\n",
       "      <th>total_funding</th>\n",
       "      <th>company_status</th>\n",
       "      <th>ownerships</th>\n",
       "      <th>patents_count</th>\n",
       "      <th>employees_latest</th>\n",
       "      <th>employees_chart</th>\n",
       "      <th>launch_year</th>\n",
       "      <th>dealroom_signal</th>\n",
       "      <th>investors_items</th>\n",
       "      <th>investors_total</th>\n",
       "      <th>team_items</th>\n",
       "      <th>team_total</th>\n",
       "      <th>fundings_items</th>\n",
       "      <th>fundings_total</th>\n",
       "      <th>country_name</th>\n",
       "      <th>city_name</th>\n",
       "      <th>industry_name</th>\n",
       "    </tr>\n",
       "  </thead>\n",
       "  <tbody>\n",
       "    <tr>\n",
       "      <th>77</th>\n",
       "      <td>30064</td>\n",
       "      <td>Silicon Canals</td>\n",
       "      <td>Silicon Canals was founded in 2014 by Remco Ja...</td>\n",
       "      <td>News, knowledge, and insights from the Europea...</td>\n",
       "      <td>https://siliconcanals.com/</td>\n",
       "      <td>https://www.facebook.com/siliconcanals</td>\n",
       "      <td>https://twitter.com/siliconcanals</td>\n",
       "      <td>https://www.linkedin.com/company/silicon-canals</td>\n",
       "      <td>0.0</td>\n",
       "      <td>operational</td>\n",
       "      <td>[bootstrapped]</td>\n",
       "      <td>0</td>\n",
       "      <td>6.0</td>\n",
       "      <td>[{'date': '2020-02-25', 'value': 5}, {'date': ...</td>\n",
       "      <td>2014.0</td>\n",
       "      <td>NaN</td>\n",
       "      <td>boots</td>\n",
       "      <td>0</td>\n",
       "      <td>[{'id': 1180, 'name': 'Remco Janssen', 'path':...</td>\n",
       "      <td>8</td>\n",
       "      <td>[]</td>\n",
       "      <td>0</td>\n",
       "      <td>Netherlands</td>\n",
       "      <td>NaN</td>\n",
       "      <td>travel</td>\n",
       "    </tr>\n",
       "    <tr>\n",
       "      <th>79</th>\n",
       "      <td>2568210</td>\n",
       "      <td>Databrydge</td>\n",
       "      <td>Databrydge koppelt eenvoudig online (financiël...</td>\n",
       "      <td>None</td>\n",
       "      <td>http://databrydge.com</td>\n",
       "      <td>None</td>\n",
       "      <td>None</td>\n",
       "      <td>https://www.linkedin.com/company/databrydge/</td>\n",
       "      <td>0.0</td>\n",
       "      <td>operational</td>\n",
       "      <td>[bootstrapped]</td>\n",
       "      <td>0</td>\n",
       "      <td>6.0</td>\n",
       "      <td>[{'date': '2021-06-24', 'value': 6}, {'date': ...</td>\n",
       "      <td>2017.0</td>\n",
       "      <td>NaN</td>\n",
       "      <td>boots</td>\n",
       "      <td>0</td>\n",
       "      <td>[{'id': 4392662, 'name': 'John Schrijvers', 'p...</td>\n",
       "      <td>1</td>\n",
       "      <td>[]</td>\n",
       "      <td>0</td>\n",
       "      <td>Belgium</td>\n",
       "      <td>Liège</td>\n",
       "      <td>robotics</td>\n",
       "    </tr>\n",
       "    <tr>\n",
       "      <th>81</th>\n",
       "      <td>2303255</td>\n",
       "      <td>Vosesoftware</td>\n",
       "      <td>Vose Software is a specialist risk software fi...</td>\n",
       "      <td>Enterprise risk management | ERM &amp; risk softwa...</td>\n",
       "      <td>http://vosesoftware.com</td>\n",
       "      <td>None</td>\n",
       "      <td>None</td>\n",
       "      <td>https://www.linkedin.com/company/vose-software/</td>\n",
       "      <td>0.0</td>\n",
       "      <td>operational</td>\n",
       "      <td>[bootstrapped]</td>\n",
       "      <td>0</td>\n",
       "      <td>4.0</td>\n",
       "      <td>[{'date': '2021-07-18', 'value': 4}, {'date': ...</td>\n",
       "      <td>2005.0</td>\n",
       "      <td>NaN</td>\n",
       "      <td>boots</td>\n",
       "      <td>0</td>\n",
       "      <td>[{'id': 4393402, 'name': 'Stijn Vanden Bossche...</td>\n",
       "      <td>1</td>\n",
       "      <td>[]</td>\n",
       "      <td>0</td>\n",
       "      <td>Cyprus</td>\n",
       "      <td>Limassol Municipality</td>\n",
       "      <td>fintech</td>\n",
       "    </tr>\n",
       "    <tr>\n",
       "      <th>83</th>\n",
       "      <td>4257253</td>\n",
       "      <td>Anabar</td>\n",
       "      <td>Who we are \\n\\nAnabar is an analytics system f...</td>\n",
       "      <td>Automates work with goods on marketplaces and ...</td>\n",
       "      <td>http://anabar.ai</td>\n",
       "      <td>None</td>\n",
       "      <td>None</td>\n",
       "      <td>https://www.linkedin.com/company/anabar/</td>\n",
       "      <td>0.0</td>\n",
       "      <td>operational</td>\n",
       "      <td>[not known]</td>\n",
       "      <td>0</td>\n",
       "      <td>14.0</td>\n",
       "      <td>[{'date': '2022-09-16', 'value': 9}, {'date': ...</td>\n",
       "      <td>2020.0</td>\n",
       "      <td>NaN</td>\n",
       "      <td>boots</td>\n",
       "      <td>0</td>\n",
       "      <td>[]</td>\n",
       "      <td>0</td>\n",
       "      <td>[{'id': 657907, 'year': 2022, 'month': 3, 'amo...</td>\n",
       "      <td>1</td>\n",
       "      <td>Serbia</td>\n",
       "      <td>NaN</td>\n",
       "      <td>enterprise software</td>\n",
       "    </tr>\n",
       "    <tr>\n",
       "      <th>88</th>\n",
       "      <td>4257225</td>\n",
       "      <td>DataGrowb'</td>\n",
       "      <td>La DATA et l’IA (Intelligence Artificielle) so...</td>\n",
       "      <td>A company at the forefront of innovations and ...</td>\n",
       "      <td>http://datagrowb.com</td>\n",
       "      <td>None</td>\n",
       "      <td>None</td>\n",
       "      <td>https://www.linkedin.com/company/datagrowb/</td>\n",
       "      <td>0.0</td>\n",
       "      <td>operational</td>\n",
       "      <td>[not known]</td>\n",
       "      <td>0</td>\n",
       "      <td>8.0</td>\n",
       "      <td>[{'date': '2022-08-11', 'value': 9}, {'date': ...</td>\n",
       "      <td>2018.0</td>\n",
       "      <td>NaN</td>\n",
       "      <td>boots</td>\n",
       "      <td>0</td>\n",
       "      <td>[]</td>\n",
       "      <td>0</td>\n",
       "      <td>[{'id': 663320, 'year': 2021, 'month': 12, 'am...</td>\n",
       "      <td>3</td>\n",
       "      <td>Denmark</td>\n",
       "      <td>NaN</td>\n",
       "      <td>enterprise software</td>\n",
       "    </tr>\n",
       "  </tbody>\n",
       "</table>\n",
       "</div>"
      ],
      "text/plain": [
       "         id            name                                              about                                            tagline                 website_url                            facebook_url                        twitter_url                                     linkedin_url  total_funding company_status      ownerships  patents_count employees_latest                                    employees_chart  launch_year dealroom_signal investors_items  investors_total                                         team_items  team_total                                     fundings_items  fundings_total country_name              city_name        industry_name\n",
       "77    30064  Silicon Canals  Silicon Canals was founded in 2014 by Remco Ja...  News, knowledge, and insights from the Europea...  https://siliconcanals.com/  https://www.facebook.com/siliconcanals  https://twitter.com/siliconcanals  https://www.linkedin.com/company/silicon-canals            0.0    operational  [bootstrapped]              0              6.0  [{'date': '2020-02-25', 'value': 5}, {'date': ...       2014.0             NaN           boots                0  [{'id': 1180, 'name': 'Remco Janssen', 'path':...           8                                                 []               0  Netherlands                    NaN               travel\n",
       "79  2568210      Databrydge  Databrydge koppelt eenvoudig online (financiël...                                               None       http://databrydge.com                                    None                               None     https://www.linkedin.com/company/databrydge/            0.0    operational  [bootstrapped]              0              6.0  [{'date': '2021-06-24', 'value': 6}, {'date': ...       2017.0             NaN           boots                0  [{'id': 4392662, 'name': 'John Schrijvers', 'p...           1                                                 []               0      Belgium                  Liège             robotics\n",
       "81  2303255    Vosesoftware  Vose Software is a specialist risk software fi...  Enterprise risk management | ERM & risk softwa...     http://vosesoftware.com                                    None                               None  https://www.linkedin.com/company/vose-software/            0.0    operational  [bootstrapped]              0              4.0  [{'date': '2021-07-18', 'value': 4}, {'date': ...       2005.0             NaN           boots                0  [{'id': 4393402, 'name': 'Stijn Vanden Bossche...           1                                                 []               0       Cyprus  Limassol Municipality              fintech\n",
       "83  4257253          Anabar  Who we are \\n\\nAnabar is an analytics system f...  Automates work with goods on marketplaces and ...            http://anabar.ai                                    None                               None         https://www.linkedin.com/company/anabar/            0.0    operational     [not known]              0             14.0  [{'date': '2022-09-16', 'value': 9}, {'date': ...       2020.0             NaN           boots                0                                                 []           0  [{'id': 657907, 'year': 2022, 'month': 3, 'amo...               1       Serbia                    NaN  enterprise software\n",
       "88  4257225      DataGrowb'  La DATA et l’IA (Intelligence Artificielle) so...  A company at the forefront of innovations and ...        http://datagrowb.com                                    None                               None      https://www.linkedin.com/company/datagrowb/            0.0    operational     [not known]              0              8.0  [{'date': '2022-08-11', 'value': 9}, {'date': ...       2018.0             NaN           boots                0                                                 []           0  [{'id': 663320, 'year': 2021, 'month': 12, 'am...               3      Denmark                    NaN  enterprise software"
      ]
     },
     "execution_count": 44,
     "metadata": {},
     "output_type": "execute_result"
    }
   ],
   "source": [
    "df_2.tail()"
   ]
  },
  {
   "cell_type": "code",
   "execution_count": 45,
   "metadata": {},
   "outputs": [],
   "source": [
    "df_fundings=df_2.loc[df_2[\"fundings_items\"].apply(lambda x:True if len(x) == 0 else False)]\n",
    "df_fundinv=df_fundings.loc[df_fundings[\"investors_items\"].apply(lambda x:True if x == \"boots\" else False)] #take only those from where investors are missing, as the missing funding with existing investors hints towards missing data\n",
    "df_s=df_fundinv.loc[df_fundinv[\"ownerships\"].apply(lambda x:True if ((x[0]==\"bootstrapped\" and len(x)<=1) or (x==[\"not known\",\"bootstrapped\"]) or (x[0]==\"not known\")) else False)]\n",
    "\n",
    "df_s[\"fundings_items\"].values[:]=[\"boots\"]\n",
    "\n",
    "df_3=pd.concat([df_2,df_s])\n",
    "\n",
    "df_3.drop_duplicates(subset=[\"id\"],keep=\"last\", inplace=True)"
   ]
  },
  {
   "cell_type": "code",
   "execution_count": 47,
   "metadata": {},
   "outputs": [
    {
     "name": "stdout",
     "output_type": "stream",
     "text": [
      "id 0.0%\n",
      "name 0.0 %\n",
      "about 0.0%\n",
      "tagline 0.0%\n",
      "website_url 0.0 %\n",
      "facebook_url 0.0%\n",
      "twitter_url 0.0%\n",
      "linkedin_url 0.0%\n",
      "total_funding 0.0%\n",
      "company_status 0.0 %\n",
      "ownerships 0.0 %\n",
      "patents_count 0.0%\n",
      "employees_latest 0.0%\n",
      "employees_chart 11.410559664351233 %\n",
      "launch_year 0.0%\n",
      "dealroom_signal 0.0%\n",
      "investors_items 7.046911624621378 %\n",
      "investors_total 0.0%\n",
      "team_items 16.801703931243377 %\n",
      "team_total 0.0%\n",
      "fundings_items 1.2961436782224314 %\n",
      "fundings_total 0.0%\n",
      "country_name 0.0%\n",
      "city_name 0.0%\n",
      "industry_name 0.0 %\n"
     ]
    }
   ],
   "source": [
    "for i,row in missing_values.iterrows():\n",
    "    try:\n",
    "        print(i,df_3[i].apply(lambda x:1 if len(x)==0 else 0).sum()/len(df_3)*100,\"%\")\n",
    "    except:\n",
    "        print(i,\"0.0%\")\n",
    "        "
   ]
  },
  {
   "cell_type": "markdown",
   "metadata": {},
   "source": [
    "Data Seems quite clean to me. No more Data Cleaning Needed "
   ]
  },
  {
   "cell_type": "markdown",
   "metadata": {},
   "source": [
    "### 1.3 Unravel nested Data to generate Present Dataset"
   ]
  },
  {
   "cell_type": "markdown",
   "metadata": {},
   "source": [
    "For the following we want to extract the nested data and retreive the information we need\n",
    "First we extract investors types"
   ]
  },
  {
   "cell_type": "code",
   "execution_count": 15,
   "metadata": {},
   "outputs": [],
   "source": [
    "def level1_extractor_list(x,field):\n",
    "    try:\n",
    "        a=list(pd.json_normalize(x)[field])\n",
    "    except:\n",
    "        a=[]\n",
    "    return a\n",
    "\n",
    "def level1_extractor_max(x,field):\n",
    "    try:\n",
    "        a=max(list(pd.json_normalize(x)[field]))\n",
    "    except:\n",
    "        a=[]\n",
    "    return a\n",
    "\n",
    "def level2_extractor_list(x,field1,field2):\n",
    "    try:\n",
    "        first=pd.json_normalize(x)[field1]\n",
    "        mp=map(lambda p: level1_extractor_list(p, field2), first)\n",
    "        a=list([c for b in list(mp) if len(b)!=0 for c in b])\n",
    "    except:\n",
    "        a=[]\n",
    "    return a\n",
    "\n",
    "def level2_extractor_max(x,field1,field2):\n",
    "    try:\n",
    "        first=pd.json_normalize(x)[field1]\n",
    "        mp=map(lambda p: level1_extractor_list(p, field2), first)\n",
    "        a=max([x for x in list(mp) if x!=None])\n",
    "    except:\n",
    "        a=[]\n",
    "    return a\n",
    "\n",
    "def level2_extractor_min(x,field1,field2):\n",
    "    try:\n",
    "        first=pd.json_normalize(x)[field1]\n",
    "        mp=map(lambda p: level1_extractor_list(p, field2), first)\n",
    "        a=min([x for x in list(mp) if x!=None])\n",
    "    except:\n",
    "        a=[]\n",
    "    return a\n",
    "\n",
    "def level2_extractor_avg(x,field1,field2):\n",
    "    try:\n",
    "        first=pd.json_normalize(x)[field1]\n",
    "        mp=map(lambda p: level1_extractor_list(p, field2), first)\n",
    "        a=np.mean([x for x in list(mp) if x!=None])\n",
    "    except:\n",
    "        a=[]\n",
    "    return a"
   ]
  },
  {
   "cell_type": "markdown",
   "metadata": {},
   "source": [
    "Export Feature of Universities at which team members studies"
   ]
  },
  {
   "cell_type": "code",
   "execution_count": 452,
   "metadata": {},
   "outputs": [],
   "source": [
    "a=map(lambda p: level2_extractor_list(p, \"universities.items\",\"university.name\"), df_3[\"team_items\"])\n",
    "b=list(a)\n",
    "\n",
    "df_3[\"team_universities\"]=b"
   ]
  },
  {
   "cell_type": "markdown",
   "metadata": {},
   "source": [
    "Export Features of Investor Types"
   ]
  },
  {
   "cell_type": "code",
   "execution_count": 421,
   "metadata": {},
   "outputs": [],
   "source": [
    "a=map(lambda p: level1_extractor_list(p, \"type\"), df_3[\"investors_items\"])\n",
    "b=list(a)\n",
    "df_3[\"investors_types\"]=b\n"
   ]
  },
  {
   "cell_type": "markdown",
   "metadata": {},
   "source": [
    "Export Features of Valuation"
   ]
  },
  {
   "cell_type": "code",
   "execution_count": 29,
   "metadata": {},
   "outputs": [
    {
     "ename": "NameError",
     "evalue": "name 'df_3' is not defined",
     "output_type": "error",
     "traceback": [
      "\u001b[0;31m---------------------------------------------------------------------------\u001b[0m",
      "\u001b[0;31mNameError\u001b[0m                                 Traceback (most recent call last)",
      "Cell \u001b[0;32mIn [29], line 1\u001b[0m\n\u001b[0;32m----> 1\u001b[0m a\u001b[39m=\u001b[39m\u001b[39mmap\u001b[39m(\u001b[39mlambda\u001b[39;00m p: level1_extractor_list(p, \u001b[39m\"\u001b[39m\u001b[39mvaluation_generated_max\u001b[39m\u001b[39m\"\u001b[39m), df_3[\u001b[39m\"\u001b[39m\u001b[39mfundings_items\u001b[39m\u001b[39m\"\u001b[39m])\n\u001b[1;32m      2\u001b[0m b\u001b[39m=\u001b[39m\u001b[39mlist\u001b[39m(a)\n\u001b[1;32m      3\u001b[0m df_3[\u001b[39m\"\u001b[39m\u001b[39mlist_valuation\u001b[39m\u001b[39m\"\u001b[39m]\u001b[39m=\u001b[39mb\n",
      "\u001b[0;31mNameError\u001b[0m: name 'df_3' is not defined"
     ]
    }
   ],
   "source": [
    "a=map(lambda p: level1_extractor_list(p, \"valuation_generated_max\"), df_3[\"fundings_items\"])\n",
    "b=list(a)\n",
    "df_3[\"list_valuation\"]=b\n",
    "df_3[\"last_valuation\"]=list(map(lambda p: p[0] if len(p)!=0 else  None,df_3[\"list_valuation\"]))\n",
    "df_3.drop(columns=\"list_valuation\",inplace=True)"
   ]
  },
  {
   "cell_type": "markdown",
   "metadata": {},
   "source": [
    "Get Number of Female and Number of Male Founder"
   ]
  },
  {
   "cell_type": "code",
   "execution_count": 36,
   "metadata": {},
   "outputs": [],
   "source": [
    "a=map(lambda p: level1_extractor_list(p, \"gender\"), df_3[\"team_items\"])\n",
    "b=list(a)\n",
    "df_3[\"team_gender\"]=b\n",
    "df_3[\"team_male\"]=list(map(lambda p: p.count(\"male\"),df_3[\"team_gender\"]))\n",
    "df_3[\"team_female\"]=list(map(lambda p: p.count(\"female\"),df_3[\"team_gender\"]))\n",
    "df_3.drop(columns=\"team_gender\",inplace=True)"
   ]
  },
  {
   "cell_type": "markdown",
   "metadata": {},
   "source": [
    "Turning url's to the binary (0-has no url, 1-has url)"
   ]
  },
  {
   "cell_type": "markdown",
   "metadata": {},
   "source": [
    "### Spliting the Data into on dataframe from 3 years ago and today"
   ]
  },
  {
   "cell_type": "markdown",
   "metadata": {},
   "source": [
    "First lets try to exclude all companies that have been founded in the between time\n",
    "\n",
    "- Variables that need to be included\n",
    "0. Number Employees (maybe include growth over the past two to four entries) + growth\n",
    "1. Team universities (num of top degrees)\n",
    "2. Gender of Team\n",
    "3. Stage of company\n",
    "4. max valuation (would not yet include)\n",
    "5. investors total (hohe korrelation mit fundings)\n",
    "6. fundings total\n",
    "7. total funding\n",
    "8. company status \n",
    "9. Missing values\n",
    "10. Avg time between funding\n",
    "11. Employee History\n",
    "12. Is bootstrapped (dummy)\n",
    "\n",
    "?Do we need the ownership collumn?"
   ]
  },
  {
   "cell_type": "code",
   "execution_count": 14,
   "metadata": {},
   "outputs": [],
   "source": [
    "def level1_extractor_list_past(x,year_field,year,field):\n",
    "    try:\n",
    "        a=pd.json_normalize(x)\n",
    "        a=list(a[a[year_field]<=year][field])\n",
    "    except:\n",
    "        a=[]\n",
    "    return a\n",
    "\n",
    "def level2_extractor_list_past1(x,year_field,year,field1,field2):\n",
    "    try:\n",
    "        first=pd.json_normalize(x)\n",
    "        first=first[first[year_field]<=year][field1]\n",
    "        mp=map(lambda p: level1_extractor_list(p, field2), first)\n",
    "        a=[x for x in list(mp) if x!=None]\n",
    "    except:\n",
    "        a=[]\n",
    "    return a\n",
    "\n",
    "def level2_extractor_list_past2(x,year_field,year,field1,field2):\n",
    "    try:\n",
    "        first=pd.json_normalize(x)[field1]\n",
    "        mp=map(lambda p: level1_extractor_list_past(p,year_field,year, field2), first)\n",
    "        a=[x for x in list(mp) if x!=None]\n",
    "    except:\n",
    "        a=[]\n",
    "    return a"
   ]
  },
  {
   "cell_type": "markdown",
   "metadata": {},
   "source": [
    "Get DF copy with companies launched before 2020"
   ]
  },
  {
   "cell_type": "code",
   "execution_count": 49,
   "metadata": {},
   "outputs": [
    {
     "data": {
      "text/plain": [
       "(90331, 25)"
      ]
     },
     "execution_count": 49,
     "metadata": {},
     "output_type": "execute_result"
    }
   ],
   "source": [
    "df_past=df_3[df_3[\"launch_year\"]<=2020].copy()\n",
    "df_past.shape"
   ]
  },
  {
   "cell_type": "code",
   "execution_count": 6,
   "metadata": {},
   "outputs": [],
   "source": [
    "df_past=pd.read_pickle(\"/Users/klaus/Documents/Jarvis/Second Try/df_past_29.11.22\")"
   ]
  },
  {
   "cell_type": "code",
   "execution_count": 7,
   "metadata": {},
   "outputs": [
    {
     "data": {
      "text/plain": [
       "(90331, 27)"
      ]
     },
     "execution_count": 7,
     "metadata": {},
     "output_type": "execute_result"
    }
   ],
   "source": [
    "df_past.shape"
   ]
  },
  {
   "cell_type": "markdown",
   "metadata": {},
   "source": [
    "### Feature Engineering"
   ]
  },
  {
   "cell_type": "markdown",
   "metadata": {},
   "source": [
    "0. Number of Employees / Avg Growth"
   ]
  },
  {
   "cell_type": "code",
   "execution_count": 21,
   "metadata": {},
   "outputs": [
    {
     "name": "stderr",
     "output_type": "stream",
     "text": [
      "/usr/local/lib/python3.10/site-packages/numpy/core/fromnumeric.py:3432: RuntimeWarning: Mean of empty slice.\n",
      "  return _methods._mean(a, axis=axis, dtype=dtype,\n"
     ]
    }
   ],
   "source": [
    "a=map(lambda p: level1_extractor_list_past(p,\"date\",\"2020-01-01\",\"value\"), df_past[\"employees_chart\"])\n",
    "b=list(a)\n",
    "df_past[\"employees_latest\"]=b\n",
    "df_past[\"employees_growth\"]=df_past[\"employees_latest\"].apply(lambda x: np.mean((np.array(x[1:len(x)])-np.array(x[0:len(x)-1]))/np.array(x[0:len(x)-1])) if len(x)!=0 else None)\n",
    "df_past[\"employees_latest\"]=df_past[\"employees_latest\"].apply(lambda x: x[-1] if len(x)!=0 else None)\n"
   ]
  },
  {
   "cell_type": "markdown",
   "metadata": {},
   "source": [
    "Founder Background info"
   ]
  },
  {
   "cell_type": "code",
   "execution_count": 4,
   "metadata": {},
   "outputs": [
    {
     "ename": "NameError",
     "evalue": "name 'df_past' is not defined",
     "output_type": "error",
     "traceback": [
      "\u001b[0;31m---------------------------------------------------------------------------\u001b[0m",
      "\u001b[0;31mNameError\u001b[0m                                 Traceback (most recent call last)",
      "Cell \u001b[0;32mIn [4], line 1\u001b[0m\n\u001b[0;32m----> 1\u001b[0m df_past[\u001b[39m\"\u001b[39m\u001b[39mfounder_id\u001b[39m\u001b[39m\"\u001b[39m]\u001b[39m=\u001b[39mdf_past[\u001b[39m\"\u001b[39m\u001b[39mteam_items\u001b[39m\u001b[39m\"\u001b[39m]\u001b[39m.\u001b[39mmap(\u001b[39mlambda\u001b[39;00m p: level1_extractor_list(p, \u001b[39m\"\u001b[39m\u001b[39mid\u001b[39m\u001b[39m\"\u001b[39m))\n",
      "\u001b[0;31mNameError\u001b[0m: name 'df_past' is not defined"
     ]
    }
   ],
   "source": [
    "df_past[\"founder_id\"]=df_past[\"team_items\"].map(lambda p: level1_extractor_list(p, \"id\"))\n"
   ]
  },
  {
   "cell_type": "code",
   "execution_count": 6,
   "metadata": {},
   "outputs": [],
   "source": [
    "b=df_past[\"founder_id\"]"
   ]
  },
  {
   "cell_type": "code",
   "execution_count": 16,
   "metadata": {},
   "outputs": [
    {
     "name": "stderr",
     "output_type": "stream",
     "text": [
      "/var/folders/k0/ldv3tm456fl7jrgd0xn0vy5h0000gn/T/ipykernel_10766/574538588.py:1: FutureWarning: The behavior of `series[i:j]` with an integer-dtype index is deprecated. In a future version, this will be treated as *label-based* indexing, consistent with e.g. `series[i]` lookups. To retain the old behavior, use `series.iloc[i:j]`. To get the future behavior, use `series.loc[i:j]`.\n",
      "  b[1:10]\n"
     ]
    },
    {
     "data": {
      "text/plain": [
       "5     [2178577, 2519258, 4202289]\n",
       "26                      [2977160]\n",
       "45                             []\n",
       "60                             []\n",
       "90                             []\n",
       "98                             []\n",
       "20                             []\n",
       "6                       [3588231]\n",
       "41                             []\n",
       "Name: founder_id, dtype: object"
      ]
     },
     "execution_count": 16,
     "metadata": {},
     "output_type": "execute_result"
    }
   ],
   "source": [
    "b[1:10]"
   ]
  },
  {
   "cell_type": "code",
   "execution_count": 5,
   "metadata": {},
   "outputs": [],
   "source": [
    "a=pd.read_pickle(\"/Users/klaus/Documents/Jarvis/Second Try/founder_backgr_772\")"
   ]
  },
  {
   "cell_type": "code",
   "execution_count": 22,
   "metadata": {},
   "outputs": [],
   "source": [
    "unique_companies=pd.unique([item for b in a for item in b])"
   ]
  },
  {
   "cell_type": "code",
   "execution_count": 31,
   "metadata": {},
   "outputs": [],
   "source": [
    "# should include good investors, universities and companies\n",
    "filter_list=univ_wanted # comes from below"
   ]
  },
  {
   "cell_type": "code",
   "execution_count": 6,
   "metadata": {},
   "outputs": [],
   "source": [
    "import os"
   ]
  },
  {
   "cell_type": "code",
   "execution_count": 63,
   "metadata": {},
   "outputs": [],
   "source": [
    "with open('df_past_29.11.22', 'wb') as f: \n",
    "        pickle.dump(df_past, f)"
   ]
  },
  {
   "cell_type": "code",
   "execution_count": 6,
   "metadata": {},
   "outputs": [
    {
     "data": {
      "text/plain": [
       "90331"
      ]
     },
     "execution_count": 6,
     "metadata": {},
     "output_type": "execute_result"
    }
   ],
   "source": [
    "b=df_past[\"founder_id\"]\n",
    "len(b)"
   ]
  },
  {
   "cell_type": "code",
   "execution_count": 3,
   "metadata": {},
   "outputs": [],
   "source": [
    "df_past=pd.read_pickle(\"/Users/klaus/Documents/Jarvis/Second Try/df_past_29.11.22\")"
   ]
  },
  {
   "cell_type": "markdown",
   "metadata": {},
   "source": [
    "391,773"
   ]
  },
  {
   "cell_type": "code",
   "execution_count": 7,
   "metadata": {},
   "outputs": [
    {
     "name": "stdout",
     "output_type": "stream",
     "text": [
      "904\r"
     ]
    },
    {
     "ename": "SyntaxError",
     "evalue": "'return' outside function (1019271122.py, line 14)",
     "output_type": "error",
     "traceback": [
      "\u001b[0;36m  Cell \u001b[0;32mIn [7], line 14\u001b[0;36m\u001b[0m\n\u001b[0;31m    return a\u001b[0m\n\u001b[0m    ^\u001b[0m\n\u001b[0;31mSyntaxError\u001b[0m\u001b[0;31m:\u001b[0m 'return' outside function\n"
     ]
    }
   ],
   "source": [
    "b=df_past[\"founder_id\"]\n",
    "k_start=0\n",
    "k=881\n",
    "a=pd.read_pickle(\"/Users/klaus/Documents/Jarvis/Second Try/founder_backgr_{}\".format(k-1))\n",
    "for i in range(k*100,len(b),100):\n",
    "    info=b.iloc[i:i+100].map(lambda p: founders_info(p))\n",
    "    a.extend(info) \n",
    "    with open('founder_backgr_{}'.format(k), 'wb') as f: # data of founder background gathering until k\n",
    "        pickle.dump(a, f)\n",
    "    if k!=k_start:\n",
    "        os.remove('founder_backgr_{}'.format(k-1))\n",
    "    k+=1\n",
    "    print(k,end=\"\\r\") # prints chunk it is working on next. If stopped, start from here\n",
    "return a "
   ]
  },
  {
   "cell_type": "code",
   "execution_count": 9,
   "metadata": {},
   "outputs": [],
   "source": [
    "df_past[\"founders_background\"]=a"
   ]
  },
  {
   "cell_type": "code",
   "execution_count": 10,
   "metadata": {},
   "outputs": [],
   "source": [
    "df_founder=pd.DataFrame({'id':b, 'background':a})\n",
    "df_founder.to_pickle(\"df_founder_backgr\")"
   ]
  },
  {
   "cell_type": "code",
   "execution_count": 5,
   "metadata": {},
   "outputs": [],
   "source": [
    "def founders_info(id):\n",
    "    l=[]\n",
    "    for i in id:\n",
    "        if (len(id)!=0):\n",
    "            try: \n",
    "                api_url=\"https://api.dealroom.co/api/v1/founders/{}\".format(i)\n",
    "                auth=HTTPBasicAuth(API_KEY, '')\n",
    "\n",
    "                headers = {\n",
    "                    \"Content-Type\": \"application/json\",\n",
    "                    \"Authorization\": \"Basic undefined\"\n",
    "                }\n",
    "\n",
    "                response = requests.get(url=api_url, auth=auth, headers=headers)\n",
    "\n",
    "                res=json.loads(response.text)\n",
    "                a=pd.json_normalize(res)\n",
    "                a=pd.json_normalize(a[\"companies.items\"][0])[\"name\"]\n",
    "                l.extend(list(a))\n",
    "            except: None\n",
    "        else: \n",
    "            l=[]\n",
    "    return l\n",
    "\n",
    "\n"
   ]
  },
  {
   "cell_type": "markdown",
   "metadata": {},
   "source": [
    "Investor Names"
   ]
  },
  {
   "cell_type": "code",
   "execution_count": 20,
   "metadata": {},
   "outputs": [
    {
     "data": {
      "text/html": [
       "<div>\n",
       "<style scoped>\n",
       "    .dataframe tbody tr th:only-of-type {\n",
       "        vertical-align: middle;\n",
       "    }\n",
       "\n",
       "    .dataframe tbody tr th {\n",
       "        vertical-align: top;\n",
       "    }\n",
       "\n",
       "    .dataframe thead th {\n",
       "        text-align: right;\n",
       "    }\n",
       "</style>\n",
       "<table border=\"1\" class=\"dataframe\">\n",
       "  <thead>\n",
       "    <tr style=\"text-align: right;\">\n",
       "      <th></th>\n",
       "      <th>id</th>\n",
       "      <th>name</th>\n",
       "      <th>path</th>\n",
       "      <th>type</th>\n",
       "      <th>url</th>\n",
       "      <th>exited</th>\n",
       "      <th>images.32x32</th>\n",
       "      <th>images.74x74</th>\n",
       "      <th>images.100x100</th>\n",
       "    </tr>\n",
       "  </thead>\n",
       "  <tbody>\n",
       "    <tr>\n",
       "      <th>0</th>\n",
       "      <td>2914933</td>\n",
       "      <td>Storskogen</td>\n",
       "      <td>storskogen</td>\n",
       "      <td>fund</td>\n",
       "      <td>https://app.dealroom.co/investors/storskogen</td>\n",
       "      <td>False</td>\n",
       "      <td>https://s3-eu-west-1.amazonaws.com/dealroom-im...</td>\n",
       "      <td>https://s3-eu-west-1.amazonaws.com/dealroom-im...</td>\n",
       "      <td>https://s3-eu-west-1.amazonaws.com/dealroom-im...</td>\n",
       "    </tr>\n",
       "  </tbody>\n",
       "</table>\n",
       "</div>"
      ],
      "text/plain": [
       "        id        name        path  type                                           url  exited                                       images.32x32                                       images.74x74                                     images.100x100\n",
       "0  2914933  Storskogen  storskogen  fund  https://app.dealroom.co/investors/storskogen   False  https://s3-eu-west-1.amazonaws.com/dealroom-im...  https://s3-eu-west-1.amazonaws.com/dealroom-im...  https://s3-eu-west-1.amazonaws.com/dealroom-im..."
      ]
     },
     "execution_count": 20,
     "metadata": {},
     "output_type": "execute_result"
    }
   ],
   "source": [
    "pd.json_normalize(df_past.iloc[0][\"investors_items\"])"
   ]
  },
  {
   "cell_type": "code",
   "execution_count": 25,
   "metadata": {},
   "outputs": [],
   "source": [
    "a=map(lambda p: level1_extractor_list(p, \"name\"), df_past[\"investors_items\"])\n",
    "b=list(a)\n",
    "\n",
    "df_past[\"investor_names\"]=b\n",
    "df_past.loc[df_past[\"ownerships\"].apply(lambda x: True if x[0]==\"bootstrapped\" else False),\"investor_names\"]=\"boots\""
   ]
  },
  {
   "cell_type": "code",
   "execution_count": 23,
   "metadata": {},
   "outputs": [],
   "source": [
    "inv_list1=pd.read_csv(\"/Users/klaus/Documents/Jarvis/Second Try/europe ranking.csv\")\n",
    "inv_list2=pd.read_csv(\"/Users/klaus/Documents/Jarvis/Second Try/Investor top ranking - Sheet1.csv\",names=[\"NAME\"])\n",
    "inv_wanted=pd.concat([inv_list1,inv_list2],ignore_index=True).NAME\n",
    "\n"
   ]
  },
  {
   "cell_type": "code",
   "execution_count": 26,
   "metadata": {},
   "outputs": [],
   "source": [
    "a=[]\n",
    "for i in range(len(b)):\n",
    "    if len(b[i])!=0:\n",
    "        a.extend(b[i])\n",
    "a=pd.unique(a)\n",
    "inv_filter=[x for x in a if process.extractOne(x.lower(), inv_wanted, scorer=fuzz.token_sort_ratio)[-2]>=99]"
   ]
  },
  {
   "cell_type": "code",
   "execution_count": 27,
   "metadata": {},
   "outputs": [],
   "source": [
    "a=map(lambda p: len([x for x in p if x in inv_filter]), df_past.investor_names)\n",
    "b=list(a)\n",
    "df_past[\"number_top_inv\"]=b"
   ]
  },
  {
   "cell_type": "markdown",
   "metadata": {},
   "source": [
    "1. Team Universities"
   ]
  },
  {
   "cell_type": "markdown",
   "metadata": {},
   "source": [
    "I will include all universities at this point despite the position the person has. I believe that even a software developer that graduated from a good school has a positive impact on the company. This is also an indicator that the startup is able to attract top talent"
   ]
  },
  {
   "cell_type": "code",
   "execution_count": 23,
   "metadata": {},
   "outputs": [],
   "source": [
    "a=map(lambda p: level2_extractor_list(p, \"universities.items\",\"university.name\"), df_past[\"team_items\"])\n",
    "b=list(a)\n",
    "\n",
    "df_past[\"team_universities\"]=b"
   ]
  },
  {
   "cell_type": "code",
   "execution_count": 24,
   "metadata": {},
   "outputs": [
    {
     "name": "stderr",
     "output_type": "stream",
     "text": [
      "/var/folders/k0/ldv3tm456fl7jrgd0xn0vy5h0000gn/T/ipykernel_41288/3555416957.py:3: FutureWarning: The series.append method is deprecated and will be removed from pandas in a future version. Use pandas.concat instead.\n",
      "  univ_wanted=univ_wanted.append(pd.Series([\"Insead\",\"University of Cambridge\",\"Stockholm University\",\"London School of Economics and Political Science\",\"KTH Royal Institute of Technology\",\"Technical University Munich\",\"University of Oxford\",\"University of St. Gallen\",\"HEC Paris\",\"Copenhagen Business School\",\"WHU – Otto Beisheim School of Management\",\"IESE Business School\",\"IE Business School\",\"Cranfield\",\"ESMT Berlin\",\"Esade\",\"Technical University Berlin\",\"EU Business School\",\"Delft University of Technology\",\"Harbour.Space University\",\"KTH Royal Institute of Technology\",\"Vlerick\",\"Trinity College School\",\"Politecnico di Milano\",\"The University of Manchester\",\"Lund University\",\"University of Edinburgh\",\"The University of Groningen\",\"Jönköping University\"]))\n"
     ]
    }
   ],
   "source": [
    "univ_list=pd.read_csv(\"/Users/klaus/Documents/Jarvis/Second Try/Data/universities_lists_dataviz.csv\")\n",
    "univ_wanted=univ_list[\"University\"]\n",
    "univ_wanted=univ_wanted.append(pd.Series([\"Insead\",\"University of Cambridge\",\"Stockholm University\",\"London School of Economics and Political Science\",\"KTH Royal Institute of Technology\",\"Technical University Munich\",\"University of Oxford\",\"University of St. Gallen\",\"HEC Paris\",\"Copenhagen Business School\",\"WHU – Otto Beisheim School of Management\",\"IESE Business School\",\"IE Business School\",\"Cranfield\",\"ESMT Berlin\",\"Esade\",\"Technical University Berlin\",\"EU Business School\",\"Delft University of Technology\",\"Harbour.Space University\",\"KTH Royal Institute of Technology\",\"Vlerick\",\"Trinity College School\",\"Politecnico di Milano\",\"The University of Manchester\",\"Lund University\",\"University of Edinburgh\",\"The University of Groningen\",\"Jönköping University\"]))"
   ]
  },
  {
   "cell_type": "code",
   "execution_count": 25,
   "metadata": {},
   "outputs": [],
   "source": [
    "a=[]\n",
    "for i in range(len(b)):\n",
    "    if len(b[i])!=0:\n",
    "        a.extend(b[i])\n",
    "a=pd.unique(a)\n",
    "univ_filter=[x for x in a if process.extractOne(x.lower(), univ_wanted, scorer=fuzz.token_sort_ratio)[-2]>=90]"
   ]
  },
  {
   "cell_type": "code",
   "execution_count": 27,
   "metadata": {},
   "outputs": [],
   "source": [
    "a=map(lambda p: len([x for x in p if x in univ_filter]), df_past.team_universities)\n",
    "b=list(a)\n",
    "df_past[\"number_top_schools\"]=b"
   ]
  },
  {
   "cell_type": "code",
   "execution_count": 28,
   "metadata": {},
   "outputs": [],
   "source": [
    "a=map(lambda p: len(p), df_past.team_universities)\n",
    "b=list(a)\n",
    "df_past[\"number_schools\"]=b"
   ]
  },
  {
   "cell_type": "markdown",
   "metadata": {},
   "source": [
    "2. Gender of Team"
   ]
  },
  {
   "cell_type": "markdown",
   "metadata": {},
   "source": [
    "Only include the gender of the top Exec's"
   ]
  },
  {
   "cell_type": "code",
   "execution_count": 34,
   "metadata": {},
   "outputs": [],
   "source": [
    "a=[]\n",
    "b=map(lambda p: level2_extractor_list(p,\"titles\",\"name\"),df_past[\"team_items\"])\n",
    "b=list(b)"
   ]
  },
  {
   "cell_type": "code",
   "execution_count": 35,
   "metadata": {},
   "outputs": [],
   "source": [
    "for i in range(len(b)):\n",
    "    if len(b[i])!=0:\n",
    "        a.extend(b[i])\n",
    "a=pd.unique(a)"
   ]
  },
  {
   "cell_type": "code",
   "execution_count": 36,
   "metadata": {},
   "outputs": [
    {
     "name": "stderr",
     "output_type": "stream",
     "text": [
      "WARNING:root:Applied processor reduces input query to empty string, all comparisons will have score 0. [Query: '']\n",
      "WARNING:root:Applied processor reduces input query to empty string, all comparisons will have score 0. [Query: '..']\n"
     ]
    }
   ],
   "source": [
    "titles_wanted=[\"ceo\",\"cfo\",\"cto\",\"chief\",\"founder\",\"officer\",\"leader\",\"owner\"]\n",
    "titles_filter=[x for x in a if process.extractOne(x.lower(), titles_wanted, scorer=fuzz.token_sort_ratio)[-1]>=60]\n"
   ]
  },
  {
   "cell_type": "code",
   "execution_count": 37,
   "metadata": {},
   "outputs": [],
   "source": [
    "def level1_extractor_list_gender(x,titles_wanted):\n",
    "    try:\n",
    "        a=pd.json_normalize(x)\n",
    "        a[\"title_name\"]=list(map(lambda p: level1_extractor_list(p,\"name\"),a[\"titles\"]))\n",
    "        try:\n",
    "            a=a[a[\"title_name\"].apply(lambda x:True if (len(x)!=0 and x[0] in titles_filter) else False)]\n",
    "        except:\n",
    "            None\n",
    "        a=list(a[\"gender\"])        \n",
    "    except:\n",
    "        a=None\n",
    "    return a"
   ]
  },
  {
   "cell_type": "code",
   "execution_count": 38,
   "metadata": {},
   "outputs": [],
   "source": [
    "a=map(lambda p: level1_extractor_list_gender(p, titles_filter), df_past[\"team_items\"])\n",
    "b=list(a)\n",
    "\n",
    "df_past[\"gender\"]=b"
   ]
  },
  {
   "cell_type": "code",
   "execution_count": 39,
   "metadata": {},
   "outputs": [],
   "source": [
    "df_past[\"team_male\"]=list(map(lambda p: p.count(\"male\") if p is not None  else 0,df_past[\"gender\"]))\n",
    "df_past[\"team_female\"]=list(map(lambda p: p.count(\"female\") if p is not None else 0,df_past[\"gender\"]))\n",
    "df_past.drop(columns=\"gender\",inplace=True)"
   ]
  },
  {
   "cell_type": "code",
   "execution_count": 40,
   "metadata": {},
   "outputs": [
    {
     "data": {
      "text/html": [
       "<div>\n",
       "<style scoped>\n",
       "    .dataframe tbody tr th:only-of-type {\n",
       "        vertical-align: middle;\n",
       "    }\n",
       "\n",
       "    .dataframe tbody tr th {\n",
       "        vertical-align: top;\n",
       "    }\n",
       "\n",
       "    .dataframe thead th {\n",
       "        text-align: right;\n",
       "    }\n",
       "</style>\n",
       "<table border=\"1\" class=\"dataframe\">\n",
       "  <thead>\n",
       "    <tr style=\"text-align: right;\">\n",
       "      <th></th>\n",
       "      <th>id</th>\n",
       "      <th>name</th>\n",
       "      <th>about</th>\n",
       "      <th>tagline</th>\n",
       "      <th>website_url</th>\n",
       "      <th>facebook_url</th>\n",
       "      <th>twitter_url</th>\n",
       "      <th>linkedin_url</th>\n",
       "      <th>total_funding</th>\n",
       "      <th>company_status</th>\n",
       "      <th>ownerships</th>\n",
       "      <th>patents_count</th>\n",
       "      <th>employees_latest</th>\n",
       "      <th>employees_chart</th>\n",
       "      <th>launch_year</th>\n",
       "      <th>dealroom_signal</th>\n",
       "      <th>investors_items</th>\n",
       "      <th>investors_total</th>\n",
       "      <th>team_items</th>\n",
       "      <th>team_total</th>\n",
       "      <th>fundings_items</th>\n",
       "      <th>fundings_total</th>\n",
       "      <th>country_name</th>\n",
       "      <th>city_name</th>\n",
       "      <th>industry_name</th>\n",
       "      <th>employees_growth</th>\n",
       "      <th>founder_id</th>\n",
       "      <th>founders_background</th>\n",
       "      <th>investor_names</th>\n",
       "      <th>team_universities</th>\n",
       "      <th>number_top_schools</th>\n",
       "      <th>number_schools</th>\n",
       "      <th>team_male</th>\n",
       "      <th>team_female</th>\n",
       "      <th>Fin.Round.past</th>\n",
       "      <th>Fin.Round.now</th>\n",
       "      <th>avg_time_funding</th>\n",
       "      <th>company_status_past</th>\n",
       "      <th>Y</th>\n",
       "      <th>is_bootstrapped</th>\n",
       "      <th>number_top_inv</th>\n",
       "      <th>cteam</th>\n",
       "      <th>missing_values</th>\n",
       "    </tr>\n",
       "  </thead>\n",
       "  <tbody>\n",
       "    <tr>\n",
       "      <th>0</th>\n",
       "      <td>2176609</td>\n",
       "      <td>LNS</td>\n",
       "      <td>LNS brings over 45 years of proven experience ...</td>\n",
       "      <td>Discover the LNS Difference in your Country</td>\n",
       "      <td>http://lns-group.com</td>\n",
       "      <td>None</td>\n",
       "      <td>None</td>\n",
       "      <td>https://www.linkedin.com/company/lns-managemen...</td>\n",
       "      <td>0</td>\n",
       "      <td>acquired</td>\n",
       "      <td>[Private Equity]</td>\n",
       "      <td>7</td>\n",
       "      <td>27.0</td>\n",
       "      <td>[{'date': '2019-07-01', 'value': 25}, {'date':...</td>\n",
       "      <td>1973.0</td>\n",
       "      <td>None</td>\n",
       "      <td>[{'id': 2914933, 'name': 'Storskogen', 'path':...</td>\n",
       "      <td>1</td>\n",
       "      <td>[]</td>\n",
       "      <td>0</td>\n",
       "      <td>[{'id': 539414, 'year': 2021, 'month': 12, 'am...</td>\n",
       "      <td>0</td>\n",
       "      <td>Switzerland</td>\n",
       "      <td>Orvin</td>\n",
       "      <td>semiconductors</td>\n",
       "      <td>0.080000</td>\n",
       "      <td>[]</td>\n",
       "      <td>None</td>\n",
       "      <td>[Storskogen]</td>\n",
       "      <td>None</td>\n",
       "      <td>0</td>\n",
       "      <td>0</td>\n",
       "      <td>0</td>\n",
       "      <td>0</td>\n",
       "      <td>[]</td>\n",
       "      <td>[BUYOUT]</td>\n",
       "      <td>NaN</td>\n",
       "      <td>operational</td>\n",
       "      <td>acquired</td>\n",
       "      <td>0</td>\n",
       "      <td>0</td>\n",
       "      <td>1.0</td>\n",
       "      <td>2</td>\n",
       "    </tr>\n",
       "    <tr>\n",
       "      <th>1</th>\n",
       "      <td>2178401</td>\n",
       "      <td>ALAnostics</td>\n",
       "      <td>ALAnostics are a speciality Biopharmaceutical ...</td>\n",
       "      <td>Develop best-in-class nanomedicines for Fluore...</td>\n",
       "      <td>https://alanostics.ch/</td>\n",
       "      <td>None</td>\n",
       "      <td>None</td>\n",
       "      <td>https://www.linkedin.com/company/alanostics/</td>\n",
       "      <td>60000</td>\n",
       "      <td>closed</td>\n",
       "      <td>[Venture Capital, accelerator]</td>\n",
       "      <td>0</td>\n",
       "      <td>NaN</td>\n",
       "      <td>[]</td>\n",
       "      <td>2018.0</td>\n",
       "      <td>None</td>\n",
       "      <td>[{'id': 901563, 'name': 'EIT Health e.V.', 'pa...</td>\n",
       "      <td>3</td>\n",
       "      <td>[{'id': 2178577, 'name': 'James Collins', 'pat...</td>\n",
       "      <td>3</td>\n",
       "      <td>[{'id': 526542, 'year': 2019, 'month': 2, 'amo...</td>\n",
       "      <td>3</td>\n",
       "      <td>Switzerland</td>\n",
       "      <td>Renens</td>\n",
       "      <td>health</td>\n",
       "      <td>NaN</td>\n",
       "      <td>[2178577, 2519258, 4202289]</td>\n",
       "      <td>[ALAnostics, ALAnostics, MassChallenge, Ventur...</td>\n",
       "      <td>[EIT Health e.V., MassChallenge, Venture Kick]</td>\n",
       "      <td>[University of Ljubljana, Université Paris Cit...</td>\n",
       "      <td>0</td>\n",
       "      <td>3</td>\n",
       "      <td>2</td>\n",
       "      <td>0</td>\n",
       "      <td>[SEED, GRANT]</td>\n",
       "      <td>[SEED, GRANT]</td>\n",
       "      <td>0.333333</td>\n",
       "      <td>closed</td>\n",
       "      <td>failed</td>\n",
       "      <td>0</td>\n",
       "      <td>0</td>\n",
       "      <td>1.0</td>\n",
       "      <td>2</td>\n",
       "    </tr>\n",
       "    <tr>\n",
       "      <th>2</th>\n",
       "      <td>2156990</td>\n",
       "      <td>Stragen Chemical</td>\n",
       "      <td>Focusing on innovation for health solutions si...</td>\n",
       "      <td>Stragen Pharma SA - Innovation Health and Expe...</td>\n",
       "      <td>http://stragen.ch</td>\n",
       "      <td>None</td>\n",
       "      <td>https://twitter.com/stragenpharma</td>\n",
       "      <td>https://www.linkedin.com/company/stragenpharma</td>\n",
       "      <td>0</td>\n",
       "      <td>acquired</td>\n",
       "      <td>[Private Equity]</td>\n",
       "      <td>0</td>\n",
       "      <td>118.0</td>\n",
       "      <td>[{'date': '2018-12-01', 'value': 130}, {'date'...</td>\n",
       "      <td>1990.0</td>\n",
       "      <td>None</td>\n",
       "      <td>[{'id': 923712, 'name': 'ArchiMed', 'path': 'a...</td>\n",
       "      <td>1</td>\n",
       "      <td>[{'id': 2977160, 'name': 'Philippe Bordeau', '...</td>\n",
       "      <td>1</td>\n",
       "      <td>[{'id': 456300, 'year': 2021, 'month': 6, 'amo...</td>\n",
       "      <td>0</td>\n",
       "      <td>Switzerland</td>\n",
       "      <td>NaN</td>\n",
       "      <td>health</td>\n",
       "      <td>-0.015919</td>\n",
       "      <td>[2977160]</td>\n",
       "      <td>[Alaxia, Stragen Chemical]</td>\n",
       "      <td>[ArchiMed]</td>\n",
       "      <td>None</td>\n",
       "      <td>0</td>\n",
       "      <td>0</td>\n",
       "      <td>0</td>\n",
       "      <td>0</td>\n",
       "      <td>[]</td>\n",
       "      <td>[BUYOUT]</td>\n",
       "      <td>NaN</td>\n",
       "      <td>operational</td>\n",
       "      <td>acquired</td>\n",
       "      <td>0</td>\n",
       "      <td>0</td>\n",
       "      <td>NaN</td>\n",
       "      <td>3</td>\n",
       "    </tr>\n",
       "    <tr>\n",
       "      <th>3</th>\n",
       "      <td>2207899</td>\n",
       "      <td>Smartseq</td>\n",
       "      <td>None</td>\n",
       "      <td>SmartSeq - NGS Bioinformatics Services</td>\n",
       "      <td>http://www.smartseq.it/</td>\n",
       "      <td>None</td>\n",
       "      <td>None</td>\n",
       "      <td>None</td>\n",
       "      <td>0</td>\n",
       "      <td>acquired</td>\n",
       "      <td>[Subsidiary]</td>\n",
       "      <td>0</td>\n",
       "      <td>NaN</td>\n",
       "      <td>[]</td>\n",
       "      <td>2013.0</td>\n",
       "      <td>None</td>\n",
       "      <td>[{'id': 1472687, 'name': 'Enne3', 'path': 'enn...</td>\n",
       "      <td>2</td>\n",
       "      <td>[]</td>\n",
       "      <td>0</td>\n",
       "      <td>[{'id': 546441, 'year': 2022, 'month': 2, 'amo...</td>\n",
       "      <td>0</td>\n",
       "      <td>Italy</td>\n",
       "      <td>NaN</td>\n",
       "      <td>food</td>\n",
       "      <td>NaN</td>\n",
       "      <td>[]</td>\n",
       "      <td>None</td>\n",
       "      <td>[Enne3, Devyser]</td>\n",
       "      <td>None</td>\n",
       "      <td>0</td>\n",
       "      <td>0</td>\n",
       "      <td>0</td>\n",
       "      <td>0</td>\n",
       "      <td>[]</td>\n",
       "      <td>[ACQUISITION]</td>\n",
       "      <td>NaN</td>\n",
       "      <td>operational</td>\n",
       "      <td>acquired</td>\n",
       "      <td>0</td>\n",
       "      <td>0</td>\n",
       "      <td>1.0</td>\n",
       "      <td>6</td>\n",
       "    </tr>\n",
       "    <tr>\n",
       "      <th>4</th>\n",
       "      <td>2091408</td>\n",
       "      <td>Scoriff</td>\n",
       "      <td>Scoriff is a new-age business credit scoring c...</td>\n",
       "      <td>Behavioral business credit scoring | We apply ...</td>\n",
       "      <td>http://scoriff.com</td>\n",
       "      <td>https://www.facebook.com/scoriff</td>\n",
       "      <td>None</td>\n",
       "      <td>https://www.linkedin.com/company/scoriff/</td>\n",
       "      <td>0</td>\n",
       "      <td>operational</td>\n",
       "      <td>[Venture Capital, accelerator]</td>\n",
       "      <td>0</td>\n",
       "      <td>NaN</td>\n",
       "      <td>[{'date': '2021-03-30', 'value': 1}, {'date': ...</td>\n",
       "      <td>2018.0</td>\n",
       "      <td>None</td>\n",
       "      <td>[{'id': 15975, 'name': 'Startup Wise Guys', 'p...</td>\n",
       "      <td>1</td>\n",
       "      <td>[]</td>\n",
       "      <td>0</td>\n",
       "      <td>[{'id': 404409, 'year': 2019, 'month': 4, 'amo...</td>\n",
       "      <td>1</td>\n",
       "      <td>Denmark</td>\n",
       "      <td>NaN</td>\n",
       "      <td>music</td>\n",
       "      <td>NaN</td>\n",
       "      <td>[]</td>\n",
       "      <td>None</td>\n",
       "      <td>[Startup Wise Guys]</td>\n",
       "      <td>None</td>\n",
       "      <td>0</td>\n",
       "      <td>0</td>\n",
       "      <td>0</td>\n",
       "      <td>0</td>\n",
       "      <td>[SEED]</td>\n",
       "      <td>[SEED]</td>\n",
       "      <td>1.000000</td>\n",
       "      <td>operational</td>\n",
       "      <td>0</td>\n",
       "      <td>0</td>\n",
       "      <td>1</td>\n",
       "      <td>1.0</td>\n",
       "      <td>5</td>\n",
       "    </tr>\n",
       "  </tbody>\n",
       "</table>\n",
       "</div>"
      ],
      "text/plain": [
       "        id              name                                              about                                            tagline              website_url                      facebook_url                        twitter_url                                       linkedin_url  total_funding company_status                      ownerships  patents_count  employees_latest                                    employees_chart  launch_year dealroom_signal                                    investors_items  investors_total                                         team_items  team_total                                     fundings_items fundings_total country_name city_name   industry_name  employees_growth                   founder_id                                founders_background                                  investor_names                                  team_universities  number_top_schools  number_schools  team_male  team_female Fin.Round.past  Fin.Round.now  avg_time_funding company_status_past         Y  is_bootstrapped  number_top_inv  cteam  missing_values\n",
       "0  2176609               LNS  LNS brings over 45 years of proven experience ...        Discover the LNS Difference in your Country     http://lns-group.com                              None                               None  https://www.linkedin.com/company/lns-managemen...              0       acquired                [Private Equity]              7              27.0  [{'date': '2019-07-01', 'value': 25}, {'date':...       1973.0            None  [{'id': 2914933, 'name': 'Storskogen', 'path':...                1                                                 []           0  [{'id': 539414, 'year': 2021, 'month': 12, 'am...              0  Switzerland     Orvin  semiconductors          0.080000                           []                                               None                                    [Storskogen]                                               None                   0               0          0            0             []       [BUYOUT]               NaN         operational  acquired                0               0    1.0               2\n",
       "1  2178401        ALAnostics  ALAnostics are a speciality Biopharmaceutical ...  Develop best-in-class nanomedicines for Fluore...   https://alanostics.ch/                              None                               None       https://www.linkedin.com/company/alanostics/          60000         closed  [Venture Capital, accelerator]              0               NaN                                                 []       2018.0            None  [{'id': 901563, 'name': 'EIT Health e.V.', 'pa...                3  [{'id': 2178577, 'name': 'James Collins', 'pat...           3  [{'id': 526542, 'year': 2019, 'month': 2, 'amo...              3  Switzerland    Renens          health               NaN  [2178577, 2519258, 4202289]  [ALAnostics, ALAnostics, MassChallenge, Ventur...  [EIT Health e.V., MassChallenge, Venture Kick]  [University of Ljubljana, Université Paris Cit...                   0               3          2            0  [SEED, GRANT]  [SEED, GRANT]          0.333333              closed    failed                0               0    1.0               2\n",
       "2  2156990  Stragen Chemical  Focusing on innovation for health solutions si...  Stragen Pharma SA - Innovation Health and Expe...        http://stragen.ch                              None  https://twitter.com/stragenpharma     https://www.linkedin.com/company/stragenpharma              0       acquired                [Private Equity]              0             118.0  [{'date': '2018-12-01', 'value': 130}, {'date'...       1990.0            None  [{'id': 923712, 'name': 'ArchiMed', 'path': 'a...                1  [{'id': 2977160, 'name': 'Philippe Bordeau', '...           1  [{'id': 456300, 'year': 2021, 'month': 6, 'amo...              0  Switzerland       NaN          health         -0.015919                    [2977160]                         [Alaxia, Stragen Chemical]                                      [ArchiMed]                                               None                   0               0          0            0             []       [BUYOUT]               NaN         operational  acquired                0               0    NaN               3\n",
       "3  2207899          Smartseq                                               None             SmartSeq - NGS Bioinformatics Services  http://www.smartseq.it/                              None                               None                                               None              0       acquired                    [Subsidiary]              0               NaN                                                 []       2013.0            None  [{'id': 1472687, 'name': 'Enne3', 'path': 'enn...                2                                                 []           0  [{'id': 546441, 'year': 2022, 'month': 2, 'amo...              0        Italy       NaN            food               NaN                           []                                               None                                [Enne3, Devyser]                                               None                   0               0          0            0             []  [ACQUISITION]               NaN         operational  acquired                0               0    1.0               6\n",
       "4  2091408           Scoriff  Scoriff is a new-age business credit scoring c...  Behavioral business credit scoring | We apply ...       http://scoriff.com  https://www.facebook.com/scoriff                               None          https://www.linkedin.com/company/scoriff/              0    operational  [Venture Capital, accelerator]              0               NaN  [{'date': '2021-03-30', 'value': 1}, {'date': ...       2018.0            None  [{'id': 15975, 'name': 'Startup Wise Guys', 'p...                1                                                 []           0  [{'id': 404409, 'year': 2019, 'month': 4, 'amo...              1      Denmark       NaN           music               NaN                           []                                               None                             [Startup Wise Guys]                                               None                   0               0          0            0         [SEED]         [SEED]          1.000000         operational         0                0               1    1.0               5"
      ]
     },
     "execution_count": 40,
     "metadata": {},
     "output_type": "execute_result"
    }
   ],
   "source": [
    "df_past.head()"
   ]
  },
  {
   "cell_type": "markdown",
   "metadata": {},
   "source": [
    "3. Get Company Stage"
   ]
  },
  {
   "cell_type": "code",
   "execution_count": 117,
   "metadata": {},
   "outputs": [],
   "source": [
    "a=map(lambda p: level1_extractor_list_past(p,\"year\",2020,\"round\"), df_past[\"fundings_items\"])\n",
    "b=list(a)\n",
    "df_past[\"Fin.Round.past\"]=b\n",
    "df_past[\"Fin.Round.past\"]=list(map(lambda p: p[0:2] if len(p)!=0 else  p,df_past[\"Fin.Round.past\"]))\n",
    "a=map(lambda p: level1_extractor_list(p,\"round\"), df_past[\"fundings_items\"])\n",
    "b=list(a)\n",
    "df_past[\"Fin.Round.now\"]=b\n",
    "df_past[\"Fin.Round.now\"]=list(map(lambda p: p[0:2] if len(p)!=0 else  p,df_past[\"Fin.Round.now\"]))\n",
    "df_past.loc[df_past[\"ownerships\"].apply(lambda x: True if x[0]==\"bootstrapped\" else False),\"Fin.Round.now\"]=\"boots\"\n",
    "df_past.loc[df_past[\"ownerships\"].apply(lambda x: True if x[0]==\"bootstrapped\" else False),\"Fin.Round.past\"]=\"boots\"\n"
   ]
  },
  {
   "cell_type": "code",
   "execution_count": 46,
   "metadata": {},
   "outputs": [
    {
     "name": "stdout",
     "output_type": "stream",
     "text": [
      "name 0.0 %\n",
      "website_url 0.0 %\n",
      "company_status 0.0 %\n",
      "ownerships 0.0 %\n",
      "employees_chart 11.54531666869624 %\n",
      "investors_items 6.940031661334426 %\n",
      "team_items 16.867963379127872 %\n",
      "fundings_items 1.26756041668973 %\n",
      "industry_name 0.0 %\n",
      "founder_id 16.867963379127872 %\n",
      "founders_background 16.87349857745403 %\n",
      "investor_names 60.77537058152793 %\n",
      "team_universities 45.246925197329816 %\n",
      "Fin.Round.past 58.467192879520866 %\n",
      "Fin.Round.now 53.060411154531664 %\n"
     ]
    }
   ],
   "source": [
    "for i in df_past.columns:\n",
    "    try:\n",
    "        print(i,df_past[i].apply(lambda x:1 if len(x) == 0 else 0).sum()/len(df_past)*100,\"%\")\n",
    "    except:\n",
    "        None"
   ]
  },
  {
   "cell_type": "markdown",
   "metadata": {},
   "source": [
    "5. Fundings Total /avg time between funding"
   ]
  },
  {
   "cell_type": "code",
   "execution_count": 208,
   "metadata": {},
   "outputs": [],
   "source": [
    "def level1_extractor_shape_past(x,year_field,year):\n",
    "    try:\n",
    "        a=pd.json_normalize(x)\n",
    "        a=a[a[year_field]<=year].shape[0]\n",
    "    except:\n",
    "        a=None\n",
    "    return a\n",
    "a=map(lambda p: level1_extractor_shape_past(p,\"year\",2020) , df_past[\"fundings_items\"])\n",
    "b=list(a)\n",
    "df_past[\"fundings_total\"]=b\n",
    "\n",
    "df_past.loc[df_past[\"ownerships\"].apply(lambda x: True if x[0]==\"bootstrapped\" else False),\"fundings_total\"]=0"
   ]
  },
  {
   "cell_type": "code",
   "execution_count": 268,
   "metadata": {},
   "outputs": [],
   "source": [
    "a=map(lambda p: (level1_extractor_list_past(p,\"year\",2020,\"year\")), df_past[\"fundings_items\"])\n",
    "b=list(a)\n",
    "df_past[\"avg_time_funding\"]=b\n",
    "\n",
    "def avg_time(x,y):\n",
    "    if len(x)==1:\n",
    "        avg_fund=x[0]-y\n",
    "    elif len(x)>1:\n",
    "        dif=np.array(x[0:len(x)-1])-np.array(x[1:len(x)])\n",
    "        avg_fund=(np.mean(np.append(dif,x[len(x)-1]-y))) # will add time to first funding to even it out with companies that had one funding\n",
    "    else:\n",
    "        avg_fund=0\n",
    "\n",
    "    return avg_fund\n",
    "        \n",
    "a=map(avg_time,df_past[\"avg_time_funding\"],df_past[\"launch_year\"])\n",
    "df_past[\"avg_time_funding\"]=list(a)"
   ]
  },
  {
   "cell_type": "code",
   "execution_count": 269,
   "metadata": {},
   "outputs": [],
   "source": [
    "df_past.loc[df_past[\"ownerships\"].apply(lambda x: True if x[0]==\"bootstrapped\" else False),\"avg_time_funding\"]=0"
   ]
  },
  {
   "cell_type": "markdown",
   "metadata": {},
   "source": [
    "7. Total funding"
   ]
  },
  {
   "cell_type": "code",
   "execution_count": 44,
   "metadata": {},
   "outputs": [],
   "source": [
    "a=map(lambda p: level1_extractor_list_past(p,\"year\",2020,\"amount_source\"), df_past[\"fundings_items\"])\n",
    "b=list(a)\n",
    "df_past[\"total_funding\"]=b\n",
    "#df_past.loc[df_past[\"ownerships\"].apply(lambda x: True if x[0]==\"bootstrapped\" else False),\"total_funding\"]=0"
   ]
  },
  {
   "cell_type": "code",
   "execution_count": 50,
   "metadata": {},
   "outputs": [
    {
     "data": {
      "text/html": [
       "<div>\n",
       "<style scoped>\n",
       "    .dataframe tbody tr th:only-of-type {\n",
       "        vertical-align: middle;\n",
       "    }\n",
       "\n",
       "    .dataframe tbody tr th {\n",
       "        vertical-align: top;\n",
       "    }\n",
       "\n",
       "    .dataframe thead th {\n",
       "        text-align: right;\n",
       "    }\n",
       "</style>\n",
       "<table border=\"1\" class=\"dataframe\">\n",
       "  <thead>\n",
       "    <tr style=\"text-align: right;\">\n",
       "      <th></th>\n",
       "      <th>id</th>\n",
       "      <th>name</th>\n",
       "      <th>about</th>\n",
       "      <th>tagline</th>\n",
       "      <th>website_url</th>\n",
       "      <th>facebook_url</th>\n",
       "      <th>twitter_url</th>\n",
       "      <th>linkedin_url</th>\n",
       "      <th>total_funding</th>\n",
       "      <th>company_status</th>\n",
       "      <th>ownerships</th>\n",
       "      <th>patents_count</th>\n",
       "      <th>employees_latest</th>\n",
       "      <th>employees_chart</th>\n",
       "      <th>launch_year</th>\n",
       "      <th>dealroom_signal</th>\n",
       "      <th>investors_items</th>\n",
       "      <th>investors_total</th>\n",
       "      <th>team_items</th>\n",
       "      <th>team_total</th>\n",
       "      <th>fundings_items</th>\n",
       "      <th>fundings_total</th>\n",
       "      <th>country_name</th>\n",
       "      <th>city_name</th>\n",
       "      <th>industry_name</th>\n",
       "      <th>employees_growth</th>\n",
       "      <th>founder_id</th>\n",
       "      <th>founders_background</th>\n",
       "      <th>investor_names</th>\n",
       "      <th>team_universities</th>\n",
       "      <th>number_top_schools</th>\n",
       "      <th>number_schools</th>\n",
       "      <th>team_male</th>\n",
       "      <th>team_female</th>\n",
       "      <th>Fin.Round.past</th>\n",
       "      <th>Fin.Round.now</th>\n",
       "      <th>avg_time_funding</th>\n",
       "      <th>company_status_past</th>\n",
       "      <th>Y</th>\n",
       "      <th>is_bootstrapped</th>\n",
       "      <th>number_top_inv</th>\n",
       "      <th>cteam</th>\n",
       "      <th>missing_values</th>\n",
       "    </tr>\n",
       "  </thead>\n",
       "  <tbody>\n",
       "    <tr>\n",
       "      <th>0</th>\n",
       "      <td>2176609</td>\n",
       "      <td>LNS</td>\n",
       "      <td>LNS brings over 45 years of proven experience ...</td>\n",
       "      <td>Discover the LNS Difference in your Country</td>\n",
       "      <td>http://lns-group.com</td>\n",
       "      <td>None</td>\n",
       "      <td>None</td>\n",
       "      <td>https://www.linkedin.com/company/lns-managemen...</td>\n",
       "      <td>0.0</td>\n",
       "      <td>acquired</td>\n",
       "      <td>[Private Equity]</td>\n",
       "      <td>7</td>\n",
       "      <td>27.0</td>\n",
       "      <td>[{'date': '2019-07-01', 'value': 25}, {'date':...</td>\n",
       "      <td>1973.0</td>\n",
       "      <td>None</td>\n",
       "      <td>[{'id': 2914933, 'name': 'Storskogen', 'path':...</td>\n",
       "      <td>1</td>\n",
       "      <td>[]</td>\n",
       "      <td>0</td>\n",
       "      <td>[{'id': 539414, 'year': 2021, 'month': 12, 'am...</td>\n",
       "      <td>0</td>\n",
       "      <td>Switzerland</td>\n",
       "      <td>Orvin</td>\n",
       "      <td>semiconductors</td>\n",
       "      <td>0.080000</td>\n",
       "      <td>[]</td>\n",
       "      <td>None</td>\n",
       "      <td>[Storskogen]</td>\n",
       "      <td>None</td>\n",
       "      <td>0</td>\n",
       "      <td>0</td>\n",
       "      <td>0</td>\n",
       "      <td>0</td>\n",
       "      <td>[]</td>\n",
       "      <td>[BUYOUT]</td>\n",
       "      <td>NaN</td>\n",
       "      <td>operational</td>\n",
       "      <td>acquired</td>\n",
       "      <td>0</td>\n",
       "      <td>0</td>\n",
       "      <td>NaN</td>\n",
       "      <td>3</td>\n",
       "    </tr>\n",
       "    <tr>\n",
       "      <th>1</th>\n",
       "      <td>2178401</td>\n",
       "      <td>ALAnostics</td>\n",
       "      <td>ALAnostics are a speciality Biopharmaceutical ...</td>\n",
       "      <td>Develop best-in-class nanomedicines for Fluore...</td>\n",
       "      <td>https://alanostics.ch/</td>\n",
       "      <td>None</td>\n",
       "      <td>None</td>\n",
       "      <td>https://www.linkedin.com/company/alanostics/</td>\n",
       "      <td>60000.0</td>\n",
       "      <td>closed</td>\n",
       "      <td>[Venture Capital, accelerator]</td>\n",
       "      <td>0</td>\n",
       "      <td>NaN</td>\n",
       "      <td>[]</td>\n",
       "      <td>2018.0</td>\n",
       "      <td>None</td>\n",
       "      <td>[{'id': 901563, 'name': 'EIT Health e.V.', 'pa...</td>\n",
       "      <td>3</td>\n",
       "      <td>[{'id': 2178577, 'name': 'James Collins', 'pat...</td>\n",
       "      <td>3</td>\n",
       "      <td>[{'id': 526542, 'year': 2019, 'month': 2, 'amo...</td>\n",
       "      <td>3</td>\n",
       "      <td>Switzerland</td>\n",
       "      <td>Renens</td>\n",
       "      <td>health</td>\n",
       "      <td>NaN</td>\n",
       "      <td>[2178577, 2519258, 4202289]</td>\n",
       "      <td>[ALAnostics, ALAnostics, MassChallenge, Ventur...</td>\n",
       "      <td>[EIT Health e.V., MassChallenge, Venture Kick]</td>\n",
       "      <td>[University of Ljubljana, Université Paris Cit...</td>\n",
       "      <td>0</td>\n",
       "      <td>3</td>\n",
       "      <td>2</td>\n",
       "      <td>0</td>\n",
       "      <td>[SEED, GRANT]</td>\n",
       "      <td>[SEED, GRANT]</td>\n",
       "      <td>0.333333</td>\n",
       "      <td>closed</td>\n",
       "      <td>failed</td>\n",
       "      <td>0</td>\n",
       "      <td>0</td>\n",
       "      <td>1.0</td>\n",
       "      <td>2</td>\n",
       "    </tr>\n",
       "    <tr>\n",
       "      <th>2</th>\n",
       "      <td>2156990</td>\n",
       "      <td>Stragen Chemical</td>\n",
       "      <td>Focusing on innovation for health solutions si...</td>\n",
       "      <td>Stragen Pharma SA - Innovation Health and Expe...</td>\n",
       "      <td>http://stragen.ch</td>\n",
       "      <td>None</td>\n",
       "      <td>https://twitter.com/stragenpharma</td>\n",
       "      <td>https://www.linkedin.com/company/stragenpharma</td>\n",
       "      <td>0.0</td>\n",
       "      <td>acquired</td>\n",
       "      <td>[Private Equity]</td>\n",
       "      <td>0</td>\n",
       "      <td>118.0</td>\n",
       "      <td>[{'date': '2018-12-01', 'value': 130}, {'date'...</td>\n",
       "      <td>1990.0</td>\n",
       "      <td>None</td>\n",
       "      <td>[{'id': 923712, 'name': 'ArchiMed', 'path': 'a...</td>\n",
       "      <td>1</td>\n",
       "      <td>[{'id': 2977160, 'name': 'Philippe Bordeau', '...</td>\n",
       "      <td>1</td>\n",
       "      <td>[{'id': 456300, 'year': 2021, 'month': 6, 'amo...</td>\n",
       "      <td>0</td>\n",
       "      <td>Switzerland</td>\n",
       "      <td>NaN</td>\n",
       "      <td>health</td>\n",
       "      <td>-0.015919</td>\n",
       "      <td>[2977160]</td>\n",
       "      <td>[Alaxia, Stragen Chemical]</td>\n",
       "      <td>[ArchiMed]</td>\n",
       "      <td>None</td>\n",
       "      <td>0</td>\n",
       "      <td>0</td>\n",
       "      <td>0</td>\n",
       "      <td>0</td>\n",
       "      <td>[]</td>\n",
       "      <td>[BUYOUT]</td>\n",
       "      <td>NaN</td>\n",
       "      <td>operational</td>\n",
       "      <td>acquired</td>\n",
       "      <td>0</td>\n",
       "      <td>0</td>\n",
       "      <td>NaN</td>\n",
       "      <td>3</td>\n",
       "    </tr>\n",
       "    <tr>\n",
       "      <th>3</th>\n",
       "      <td>2207899</td>\n",
       "      <td>Smartseq</td>\n",
       "      <td>None</td>\n",
       "      <td>SmartSeq - NGS Bioinformatics Services</td>\n",
       "      <td>http://www.smartseq.it/</td>\n",
       "      <td>None</td>\n",
       "      <td>None</td>\n",
       "      <td>None</td>\n",
       "      <td>0.0</td>\n",
       "      <td>acquired</td>\n",
       "      <td>[Subsidiary]</td>\n",
       "      <td>0</td>\n",
       "      <td>NaN</td>\n",
       "      <td>[]</td>\n",
       "      <td>2013.0</td>\n",
       "      <td>None</td>\n",
       "      <td>[{'id': 1472687, 'name': 'Enne3', 'path': 'enn...</td>\n",
       "      <td>2</td>\n",
       "      <td>[]</td>\n",
       "      <td>0</td>\n",
       "      <td>[{'id': 546441, 'year': 2022, 'month': 2, 'amo...</td>\n",
       "      <td>0</td>\n",
       "      <td>Italy</td>\n",
       "      <td>NaN</td>\n",
       "      <td>food</td>\n",
       "      <td>NaN</td>\n",
       "      <td>[]</td>\n",
       "      <td>None</td>\n",
       "      <td>[Enne3, Devyser]</td>\n",
       "      <td>None</td>\n",
       "      <td>0</td>\n",
       "      <td>0</td>\n",
       "      <td>0</td>\n",
       "      <td>0</td>\n",
       "      <td>[]</td>\n",
       "      <td>[ACQUISITION]</td>\n",
       "      <td>NaN</td>\n",
       "      <td>operational</td>\n",
       "      <td>acquired</td>\n",
       "      <td>0</td>\n",
       "      <td>0</td>\n",
       "      <td>NaN</td>\n",
       "      <td>7</td>\n",
       "    </tr>\n",
       "    <tr>\n",
       "      <th>4</th>\n",
       "      <td>2091408</td>\n",
       "      <td>Scoriff</td>\n",
       "      <td>Scoriff is a new-age business credit scoring c...</td>\n",
       "      <td>Behavioral business credit scoring | We apply ...</td>\n",
       "      <td>http://scoriff.com</td>\n",
       "      <td>https://www.facebook.com/scoriff</td>\n",
       "      <td>None</td>\n",
       "      <td>https://www.linkedin.com/company/scoriff/</td>\n",
       "      <td>NaN</td>\n",
       "      <td>operational</td>\n",
       "      <td>[Venture Capital, accelerator]</td>\n",
       "      <td>0</td>\n",
       "      <td>NaN</td>\n",
       "      <td>[{'date': '2021-03-30', 'value': 1}, {'date': ...</td>\n",
       "      <td>2018.0</td>\n",
       "      <td>None</td>\n",
       "      <td>[{'id': 15975, 'name': 'Startup Wise Guys', 'p...</td>\n",
       "      <td>1</td>\n",
       "      <td>[]</td>\n",
       "      <td>0</td>\n",
       "      <td>[{'id': 404409, 'year': 2019, 'month': 4, 'amo...</td>\n",
       "      <td>1</td>\n",
       "      <td>Denmark</td>\n",
       "      <td>NaN</td>\n",
       "      <td>music</td>\n",
       "      <td>NaN</td>\n",
       "      <td>[]</td>\n",
       "      <td>None</td>\n",
       "      <td>[Startup Wise Guys]</td>\n",
       "      <td>None</td>\n",
       "      <td>0</td>\n",
       "      <td>0</td>\n",
       "      <td>0</td>\n",
       "      <td>0</td>\n",
       "      <td>[SEED]</td>\n",
       "      <td>[SEED]</td>\n",
       "      <td>1.000000</td>\n",
       "      <td>operational</td>\n",
       "      <td>0</td>\n",
       "      <td>0</td>\n",
       "      <td>1</td>\n",
       "      <td>NaN</td>\n",
       "      <td>6</td>\n",
       "    </tr>\n",
       "  </tbody>\n",
       "</table>\n",
       "</div>"
      ],
      "text/plain": [
       "        id              name                                              about                                            tagline              website_url                      facebook_url                        twitter_url                                       linkedin_url  total_funding company_status                      ownerships  patents_count  employees_latest                                    employees_chart  launch_year dealroom_signal                                    investors_items  investors_total                                         team_items  team_total                                     fundings_items fundings_total country_name city_name   industry_name  employees_growth                   founder_id                                founders_background                                  investor_names                                  team_universities  number_top_schools  number_schools  team_male  team_female Fin.Round.past  Fin.Round.now  avg_time_funding company_status_past         Y  is_bootstrapped  number_top_inv  cteam  missing_values\n",
       "0  2176609               LNS  LNS brings over 45 years of proven experience ...        Discover the LNS Difference in your Country     http://lns-group.com                              None                               None  https://www.linkedin.com/company/lns-managemen...            0.0       acquired                [Private Equity]              7              27.0  [{'date': '2019-07-01', 'value': 25}, {'date':...       1973.0            None  [{'id': 2914933, 'name': 'Storskogen', 'path':...                1                                                 []           0  [{'id': 539414, 'year': 2021, 'month': 12, 'am...              0  Switzerland     Orvin  semiconductors          0.080000                           []                                               None                                    [Storskogen]                                               None                   0               0          0            0             []       [BUYOUT]               NaN         operational  acquired                0               0    NaN               3\n",
       "1  2178401        ALAnostics  ALAnostics are a speciality Biopharmaceutical ...  Develop best-in-class nanomedicines for Fluore...   https://alanostics.ch/                              None                               None       https://www.linkedin.com/company/alanostics/        60000.0         closed  [Venture Capital, accelerator]              0               NaN                                                 []       2018.0            None  [{'id': 901563, 'name': 'EIT Health e.V.', 'pa...                3  [{'id': 2178577, 'name': 'James Collins', 'pat...           3  [{'id': 526542, 'year': 2019, 'month': 2, 'amo...              3  Switzerland    Renens          health               NaN  [2178577, 2519258, 4202289]  [ALAnostics, ALAnostics, MassChallenge, Ventur...  [EIT Health e.V., MassChallenge, Venture Kick]  [University of Ljubljana, Université Paris Cit...                   0               3          2            0  [SEED, GRANT]  [SEED, GRANT]          0.333333              closed    failed                0               0    1.0               2\n",
       "2  2156990  Stragen Chemical  Focusing on innovation for health solutions si...  Stragen Pharma SA - Innovation Health and Expe...        http://stragen.ch                              None  https://twitter.com/stragenpharma     https://www.linkedin.com/company/stragenpharma            0.0       acquired                [Private Equity]              0             118.0  [{'date': '2018-12-01', 'value': 130}, {'date'...       1990.0            None  [{'id': 923712, 'name': 'ArchiMed', 'path': 'a...                1  [{'id': 2977160, 'name': 'Philippe Bordeau', '...           1  [{'id': 456300, 'year': 2021, 'month': 6, 'amo...              0  Switzerland       NaN          health         -0.015919                    [2977160]                         [Alaxia, Stragen Chemical]                                      [ArchiMed]                                               None                   0               0          0            0             []       [BUYOUT]               NaN         operational  acquired                0               0    NaN               3\n",
       "3  2207899          Smartseq                                               None             SmartSeq - NGS Bioinformatics Services  http://www.smartseq.it/                              None                               None                                               None            0.0       acquired                    [Subsidiary]              0               NaN                                                 []       2013.0            None  [{'id': 1472687, 'name': 'Enne3', 'path': 'enn...                2                                                 []           0  [{'id': 546441, 'year': 2022, 'month': 2, 'amo...              0        Italy       NaN            food               NaN                           []                                               None                                [Enne3, Devyser]                                               None                   0               0          0            0             []  [ACQUISITION]               NaN         operational  acquired                0               0    NaN               7\n",
       "4  2091408           Scoriff  Scoriff is a new-age business credit scoring c...  Behavioral business credit scoring | We apply ...       http://scoriff.com  https://www.facebook.com/scoriff                               None          https://www.linkedin.com/company/scoriff/            NaN    operational  [Venture Capital, accelerator]              0               NaN  [{'date': '2021-03-30', 'value': 1}, {'date': ...       2018.0            None  [{'id': 15975, 'name': 'Startup Wise Guys', 'p...                1                                                 []           0  [{'id': 404409, 'year': 2019, 'month': 4, 'amo...              1      Denmark       NaN           music               NaN                           []                                               None                             [Startup Wise Guys]                                               None                   0               0          0            0         [SEED]         [SEED]          1.000000         operational         0                0               1    NaN               6"
      ]
     },
     "execution_count": 50,
     "metadata": {},
     "output_type": "execute_result"
    }
   ],
   "source": [
    "df_past.head()"
   ]
  },
  {
   "cell_type": "code",
   "execution_count": 49,
   "metadata": {},
   "outputs": [],
   "source": [
    "df_past[\"total_funding\"]=df_past[\"total_funding\"].map(lambda p: None if (len(p)!=0 and sum(p)==0) else sum(p))\n",
    "df_past.loc[df_past[\"ownerships\"].apply(lambda x: True if x[0]==\"bootstrapped\" else False),\"total_funding\"]=0"
   ]
  },
  {
   "cell_type": "markdown",
   "metadata": {},
   "source": [
    "8. company status"
   ]
  },
  {
   "cell_type": "markdown",
   "metadata": {},
   "source": [
    "In the following we will try to receive the company status from 2020. This will focus mainly on the companies that are closed, acquired .. "
   ]
  },
  {
   "cell_type": "code",
   "execution_count": 54,
   "metadata": {},
   "outputs": [],
   "source": [
    "df_past[\"company_status_past\"]=df_past[\"company_status\"]\n",
    "df_past.loc[(df_past.company_status==\"closed\") & (df_past[\"Fin.Round.past\"]!=df_past[\"Fin.Round.now\"]),\"company_status_past\"]=\"operational\"\n",
    "df_past.loc[(df_past.company_status==\"acquired\") & (df_past[\"Fin.Round.past\"]!=df_past[\"Fin.Round.now\"]),\"company_status_past\"]=\"operational\""
   ]
  },
  {
   "cell_type": "markdown",
   "metadata": {},
   "source": [
    "12. Is bootstrapped"
   ]
  },
  {
   "cell_type": "code",
   "execution_count": 13,
   "metadata": {},
   "outputs": [],
   "source": [
    "df_past[\"is_bootstrapped\"]=0\n",
    "df_past.loc[df_past[\"ownerships\"].apply(lambda x: True if x[0]==\"bootstrapped\" else False),\"is_bootstrapped\"]=1"
   ]
  },
  {
   "cell_type": "markdown",
   "metadata": {},
   "source": [
    "Creating the dependent Variables"
   ]
  },
  {
   "cell_type": "markdown",
   "metadata": {},
   "source": [
    "0. Nothing happend (should we distinguish between boots and non boots?)\n",
    "1. Public - company status\n",
    "2. failed - company status\n",
    "3. acquired - company status\n",
    "4. attained funding - find round past vs fin round now"
   ]
  },
  {
   "cell_type": "code",
   "execution_count": 106,
   "metadata": {},
   "outputs": [],
   "source": [
    "df_past = df_past.reset_index(drop=True)"
   ]
  },
  {
   "cell_type": "code",
   "execution_count": 125,
   "metadata": {},
   "outputs": [],
   "source": [
    "df_past[\"Y\"]=0"
   ]
  },
  {
   "cell_type": "code",
   "execution_count": 124,
   "metadata": {},
   "outputs": [
    {
     "data": {
      "text/plain": [
       "True"
      ]
     },
     "execution_count": 124,
     "metadata": {},
     "output_type": "execute_result"
    }
   ],
   "source": [
    "\"boots\"==\"boots\""
   ]
  },
  {
   "cell_type": "markdown",
   "metadata": {},
   "source": [
    "1. Public Companies"
   ]
  },
  {
   "cell_type": "markdown",
   "metadata": {},
   "source": [
    "There are some companies who went into weird stages after IPO, for example SEED or Early VC. Lets drop these companies as this makes intuitively no sense"
   ]
  },
  {
   "cell_type": "code",
   "execution_count": 109,
   "metadata": {},
   "outputs": [],
   "source": [
    "seed_rows=df_past.loc[df_past[\"Fin.Round.now\"].apply(lambda x: True if (len(x)==2 and (x[1]==\"IPO\" and x[0]==\"SEED\")) else False)]\n",
    "earlyvc_rows=df_past.loc[df_past[\"Fin.Round.now\"].apply(lambda x: True if (len(x)==2 and (x[1]==\"IPO\" and x[0]==\"EARLY VC\")) else False)]# only nine of these companies\n",
    "df_past.drop(seed_rows.index,inplace=True)\n",
    "df_past.drop(earlyvc_rows.index,inplace=True)"
   ]
  },
  {
   "cell_type": "code",
   "execution_count": 126,
   "metadata": {},
   "outputs": [
    {
     "data": {
      "text/plain": [
       "(89897, 39)"
      ]
     },
     "execution_count": 126,
     "metadata": {},
     "output_type": "execute_result"
    }
   ],
   "source": [
    "df_past.shape"
   ]
  },
  {
   "cell_type": "code",
   "execution_count": 127,
   "metadata": {},
   "outputs": [],
   "source": [
    "df_past.loc[df_past[\"Fin.Round.now\"].apply(lambda x: True if (len(x)!=0 and x[0]==\"IPO\") else False)& (df_past.company_status!=\"acquired\"),\"Y\"]=\"IPO\"\n",
    "df_past.loc[df_past[\"Fin.Round.now\"].apply(lambda x: True if (len(x)!=0 and x[0]==\"SPAC IPO\") else False)& (df_past.company_status!=\"acquired\"),\"Y\"]=\"IPO\"\n",
    "df_past.loc[df_past[\"Fin.Round.now\"].apply(lambda x: True if (len(x)!=0 and x[0]==\"POST IPO EQUITY\") else False)& (df_past.company_status!=\"acquired\"),\"Y\"]=\"IPO\"\n",
    "df_past.loc[df_past[\"Fin.Round.now\"].apply(lambda x: True if (len(x)!=0 and x[0]==\"POST IPO DEBT\") else False)& (df_past.company_status!=\"acquired\"),\"Y\"]=\"IPO\"\n",
    "df_past.loc[df_past[\"Fin.Round.now\"].apply(lambda x: True if (len(x)==2 and (x[1]==\"IPO\" and x[0]!=\"IPO\" and x[0]!=\"ACQUISITION\")) else False)& (df_past.company_status!=\"acquired\"),\"Y\"]=\"IPO\""
   ]
  },
  {
   "cell_type": "markdown",
   "metadata": {},
   "source": [
    "2. Failed companies"
   ]
  },
  {
   "cell_type": "code",
   "execution_count": 128,
   "metadata": {},
   "outputs": [],
   "source": [
    "df_past.loc[df_past[\"company_status\"]==\"closed\",\"Y\"]=\"failed\"\n"
   ]
  },
  {
   "cell_type": "code",
   "execution_count": null,
   "metadata": {},
   "outputs": [],
   "source": [
    "3. Acquired companies"
   ]
  },
  {
   "cell_type": "code",
   "execution_count": 129,
   "metadata": {},
   "outputs": [],
   "source": [
    "df_past.loc[df_past[\"company_status\"]==\"acquired\",\"Y\"]=\"acquired\"\n",
    "df_past.loc[(df_past[\"Fin.Round.now\"].apply(lambda x: True if (len(x)!=0 and x[0]==\"ACQUISITION\") else False)) & (df_past[\"company_status\"]==\"operational\"),\"Y\"]=\"acquired\"\n",
    "df_past.loc[(df_past[\"Fin.Round.now\"].apply(lambda x: True if (len(x)!=0 and x[0]==\"ACQUISITION\") else False)) & (df_past[\"company_status\"]==\"low-activity\"),\"Y\"]=\"acquired\""
   ]
  },
  {
   "cell_type": "markdown",
   "metadata": {},
   "source": [
    "4. Additional Funding"
   ]
  },
  {
   "cell_type": "code",
   "execution_count": 130,
   "metadata": {},
   "outputs": [],
   "source": [
    "df_past.loc[(df_past[\"Fin.Round.past\"]!=df_past[\"Fin.Round.now\"])&(df_past.Y==0)&(df_past[\"Fin.Round.now\"].apply(lambda x: True if (len(x)!=0 and x[0] is not None) else False)),\"Y\"]=\"funding\""
   ]
  },
  {
   "cell_type": "markdown",
   "metadata": {},
   "source": [
    "Check if there are rows left where something has changed but dependent variable is 0\n",
    "by looking at the data, we see that these companies have been funded but the latest funding round has been added just this year or late last year meaning there is missing data on the type of funding. As there are only 300 companies where this is the case. We will drop them as not to implement false assumptions (263 companies)"
   ]
  },
  {
   "cell_type": "code",
   "execution_count": 120,
   "metadata": {},
   "outputs": [
    {
     "data": {
      "text/plain": [
       "(0,)"
      ]
     },
     "execution_count": 120,
     "metadata": {},
     "output_type": "execute_result"
    }
   ],
   "source": [
    "nonerows=df_past.loc[(df_past[\"Fin.Round.past\"]!=df_past[\"Fin.Round.now\"])&(df_past.Y==0),\"Fin.Round.now\"]\n",
    "\n",
    "df_past.drop(nonerows.index,inplace=True)\n"
   ]
  },
  {
   "cell_type": "markdown",
   "metadata": {},
   "source": [
    "Lets look at data where y is 0"
   ]
  },
  {
   "cell_type": "markdown",
   "metadata": {},
   "source": [
    "(There have been only 12 companies that failed in the time frame. Hence the effect should be disregarded here)"
   ]
  },
  {
   "cell_type": "code",
   "execution_count": 140,
   "metadata": {},
   "outputs": [
    {
     "data": {
      "text/html": [
       "<div>\n",
       "<style scoped>\n",
       "    .dataframe tbody tr th:only-of-type {\n",
       "        vertical-align: middle;\n",
       "    }\n",
       "\n",
       "    .dataframe tbody tr th {\n",
       "        vertical-align: top;\n",
       "    }\n",
       "\n",
       "    .dataframe thead th {\n",
       "        text-align: right;\n",
       "    }\n",
       "</style>\n",
       "<table border=\"1\" class=\"dataframe\">\n",
       "  <thead>\n",
       "    <tr style=\"text-align: right;\">\n",
       "      <th></th>\n",
       "      <th>id</th>\n",
       "      <th>name</th>\n",
       "      <th>about</th>\n",
       "      <th>tagline</th>\n",
       "      <th>website_url</th>\n",
       "      <th>facebook_url</th>\n",
       "      <th>twitter_url</th>\n",
       "      <th>linkedin_url</th>\n",
       "      <th>total_funding</th>\n",
       "      <th>company_status</th>\n",
       "      <th>ownerships</th>\n",
       "      <th>patents_count</th>\n",
       "      <th>employees_latest</th>\n",
       "      <th>employees_chart</th>\n",
       "      <th>launch_year</th>\n",
       "      <th>dealroom_signal</th>\n",
       "      <th>investors_items</th>\n",
       "      <th>investors_total</th>\n",
       "      <th>team_items</th>\n",
       "      <th>team_total</th>\n",
       "      <th>fundings_items</th>\n",
       "      <th>fundings_total</th>\n",
       "      <th>country_name</th>\n",
       "      <th>city_name</th>\n",
       "      <th>industry_name</th>\n",
       "      <th>employees_growth</th>\n",
       "      <th>founder_id</th>\n",
       "      <th>founders_background</th>\n",
       "      <th>investor_names</th>\n",
       "      <th>team_universities</th>\n",
       "      <th>number_top_schools</th>\n",
       "      <th>number_schools</th>\n",
       "      <th>team_male</th>\n",
       "      <th>team_female</th>\n",
       "      <th>Fin.Round.past</th>\n",
       "      <th>Fin.Round.now</th>\n",
       "      <th>avg_time_funding</th>\n",
       "      <th>company_status_past</th>\n",
       "      <th>Y</th>\n",
       "    </tr>\n",
       "  </thead>\n",
       "  <tbody>\n",
       "    <tr>\n",
       "      <th>89892</th>\n",
       "      <td>2130951</td>\n",
       "      <td>German Marine Systems</td>\n",
       "      <td>Welcome to thyssenkrupp Marine Systems on Link...</td>\n",
       "      <td>One of the world's leading naval companies and...</td>\n",
       "      <td>http://thyssenkrupp-marinesystems.com</td>\n",
       "      <td>None</td>\n",
       "      <td>None</td>\n",
       "      <td>https://www.linkedin.com/company/thyssenkrupp-...</td>\n",
       "      <td>0</td>\n",
       "      <td>operational</td>\n",
       "      <td>[bootstrapped]</td>\n",
       "      <td>0</td>\n",
       "      <td>447.0</td>\n",
       "      <td>[{'date': '2019-04-01', 'value': 413}, {'date'...</td>\n",
       "      <td>2010.0</td>\n",
       "      <td>NaN</td>\n",
       "      <td>boots</td>\n",
       "      <td>0</td>\n",
       "      <td>[{'id': 906294, 'name': 'Philip Pasler', 'path...</td>\n",
       "      <td>2</td>\n",
       "      <td>boots</td>\n",
       "      <td>0.0</td>\n",
       "      <td>Bulgaria</td>\n",
       "      <td>NaN</td>\n",
       "      <td>travel</td>\n",
       "      <td>0.044946</td>\n",
       "      <td>[906294, 4301570]</td>\n",
       "      <td>[Infermedica, Nabta Health, ThyssenKrupp AT.PR...</td>\n",
       "      <td>boots</td>\n",
       "      <td>[Wyższa Szkoła Bankowa, Technical University B...</td>\n",
       "      <td>1</td>\n",
       "      <td>3</td>\n",
       "      <td>0.0</td>\n",
       "      <td>0.0</td>\n",
       "      <td>boots</td>\n",
       "      <td>boots</td>\n",
       "      <td>0.0</td>\n",
       "      <td>operational</td>\n",
       "      <td>0</td>\n",
       "    </tr>\n",
       "    <tr>\n",
       "      <th>89893</th>\n",
       "      <td>1496338</td>\n",
       "      <td>Wyndhamap</td>\n",
       "      <td>Wyndham Destinations (listed on the NYSE: WYND...</td>\n",
       "      <td>Wyndham Worldwide is one of the world's larges...</td>\n",
       "      <td>http://wyndhamap.com</td>\n",
       "      <td>None</td>\n",
       "      <td>https://twitter.com/wyndhamap</td>\n",
       "      <td>https://www.linkedin.com/company/wyndham-desti...</td>\n",
       "      <td>0</td>\n",
       "      <td>operational</td>\n",
       "      <td>[bootstrapped]</td>\n",
       "      <td>0</td>\n",
       "      <td>447.0</td>\n",
       "      <td>[{'date': '2018-11-01', 'value': 447}, {'date'...</td>\n",
       "      <td>2000.0</td>\n",
       "      <td>NaN</td>\n",
       "      <td>boots</td>\n",
       "      <td>0</td>\n",
       "      <td>[{'id': 1496343, 'name': 'Louie Ong', 'path': ...</td>\n",
       "      <td>2</td>\n",
       "      <td>boots</td>\n",
       "      <td>0.0</td>\n",
       "      <td>Germany</td>\n",
       "      <td>NaN</td>\n",
       "      <td>media</td>\n",
       "      <td>0.000092</td>\n",
       "      <td>[1496343, 3743130]</td>\n",
       "      <td>[Wyndhamap, Wyndhamap, financrau]</td>\n",
       "      <td>boots</td>\n",
       "      <td>[Bond University]</td>\n",
       "      <td>1</td>\n",
       "      <td>1</td>\n",
       "      <td>0.0</td>\n",
       "      <td>0.0</td>\n",
       "      <td>boots</td>\n",
       "      <td>boots</td>\n",
       "      <td>0.0</td>\n",
       "      <td>operational</td>\n",
       "      <td>0</td>\n",
       "    </tr>\n",
       "    <tr>\n",
       "      <th>89894</th>\n",
       "      <td>30064</td>\n",
       "      <td>Silicon Canals</td>\n",
       "      <td>Silicon Canals was founded in 2014 by Remco Ja...</td>\n",
       "      <td>News, knowledge, and insights from the Europea...</td>\n",
       "      <td>https://siliconcanals.com/</td>\n",
       "      <td>https://www.facebook.com/siliconcanals</td>\n",
       "      <td>https://twitter.com/siliconcanals</td>\n",
       "      <td>https://www.linkedin.com/company/silicon-canals</td>\n",
       "      <td>0</td>\n",
       "      <td>operational</td>\n",
       "      <td>[bootstrapped]</td>\n",
       "      <td>0</td>\n",
       "      <td>NaN</td>\n",
       "      <td>[{'date': '2020-02-25', 'value': 5}, {'date': ...</td>\n",
       "      <td>2014.0</td>\n",
       "      <td>NaN</td>\n",
       "      <td>boots</td>\n",
       "      <td>0</td>\n",
       "      <td>[{'id': 1180, 'name': 'Remco Janssen', 'path':...</td>\n",
       "      <td>8</td>\n",
       "      <td>boots</td>\n",
       "      <td>0.0</td>\n",
       "      <td>Netherlands</td>\n",
       "      <td>NaN</td>\n",
       "      <td>travel</td>\n",
       "      <td>NaN</td>\n",
       "      <td>[1180, 30141, 56453, 967890, 1466343]</td>\n",
       "      <td>[Proudly Represents, Rockstart, SCOUPY BV, Sil...</td>\n",
       "      <td>boots</td>\n",
       "      <td>[Hogeschool Utrecht]</td>\n",
       "      <td>0</td>\n",
       "      <td>1</td>\n",
       "      <td>0.0</td>\n",
       "      <td>0.0</td>\n",
       "      <td>boots</td>\n",
       "      <td>boots</td>\n",
       "      <td>0.0</td>\n",
       "      <td>operational</td>\n",
       "      <td>0</td>\n",
       "    </tr>\n",
       "    <tr>\n",
       "      <th>89895</th>\n",
       "      <td>2568210</td>\n",
       "      <td>Databrydge</td>\n",
       "      <td>Databrydge koppelt eenvoudig online (financiël...</td>\n",
       "      <td>None</td>\n",
       "      <td>http://databrydge.com</td>\n",
       "      <td>None</td>\n",
       "      <td>None</td>\n",
       "      <td>https://www.linkedin.com/company/databrydge/</td>\n",
       "      <td>0</td>\n",
       "      <td>operational</td>\n",
       "      <td>[bootstrapped]</td>\n",
       "      <td>0</td>\n",
       "      <td>NaN</td>\n",
       "      <td>[{'date': '2021-06-24', 'value': 6}, {'date': ...</td>\n",
       "      <td>2017.0</td>\n",
       "      <td>NaN</td>\n",
       "      <td>boots</td>\n",
       "      <td>0</td>\n",
       "      <td>[{'id': 4392662, 'name': 'John Schrijvers', 'p...</td>\n",
       "      <td>1</td>\n",
       "      <td>boots</td>\n",
       "      <td>0.0</td>\n",
       "      <td>Belgium</td>\n",
       "      <td>Liège</td>\n",
       "      <td>robotics</td>\n",
       "      <td>NaN</td>\n",
       "      <td>[4392662]</td>\n",
       "      <td>[Databrydge]</td>\n",
       "      <td>boots</td>\n",
       "      <td>[Fontys University of Applied Sciences]</td>\n",
       "      <td>0</td>\n",
       "      <td>1</td>\n",
       "      <td>0.0</td>\n",
       "      <td>0.0</td>\n",
       "      <td>boots</td>\n",
       "      <td>boots</td>\n",
       "      <td>0.0</td>\n",
       "      <td>operational</td>\n",
       "      <td>0</td>\n",
       "    </tr>\n",
       "    <tr>\n",
       "      <th>89896</th>\n",
       "      <td>2303255</td>\n",
       "      <td>Vosesoftware</td>\n",
       "      <td>Vose Software is a specialist risk software fi...</td>\n",
       "      <td>Enterprise risk management | ERM &amp; risk softwa...</td>\n",
       "      <td>http://vosesoftware.com</td>\n",
       "      <td>None</td>\n",
       "      <td>None</td>\n",
       "      <td>https://www.linkedin.com/company/vose-software/</td>\n",
       "      <td>0</td>\n",
       "      <td>operational</td>\n",
       "      <td>[bootstrapped]</td>\n",
       "      <td>0</td>\n",
       "      <td>NaN</td>\n",
       "      <td>[{'date': '2021-07-18', 'value': 4}, {'date': ...</td>\n",
       "      <td>2005.0</td>\n",
       "      <td>NaN</td>\n",
       "      <td>boots</td>\n",
       "      <td>0</td>\n",
       "      <td>[{'id': 4393402, 'name': 'Stijn Vanden Bossche...</td>\n",
       "      <td>1</td>\n",
       "      <td>boots</td>\n",
       "      <td>0.0</td>\n",
       "      <td>Cyprus</td>\n",
       "      <td>Limassol Municipality</td>\n",
       "      <td>fintech</td>\n",
       "      <td>NaN</td>\n",
       "      <td>[4393402]</td>\n",
       "      <td>[Vosesoftware]</td>\n",
       "      <td>boots</td>\n",
       "      <td>[Katholieke Hogeschool 'Sint-Lieven', Gent]</td>\n",
       "      <td>0</td>\n",
       "      <td>1</td>\n",
       "      <td>0.0</td>\n",
       "      <td>0.0</td>\n",
       "      <td>boots</td>\n",
       "      <td>boots</td>\n",
       "      <td>0.0</td>\n",
       "      <td>operational</td>\n",
       "      <td>0</td>\n",
       "    </tr>\n",
       "  </tbody>\n",
       "</table>\n",
       "</div>"
      ],
      "text/plain": [
       "            id                   name                                              about                                            tagline                            website_url                            facebook_url                        twitter_url                                       linkedin_url  total_funding company_status      ownerships  patents_count  employees_latest                                    employees_chart  launch_year dealroom_signal investors_items  investors_total                                         team_items  team_total fundings_items  fundings_total country_name              city_name industry_name  employees_growth                             founder_id                                founders_background investor_names                                  team_universities  number_top_schools  number_schools  team_male  team_female Fin.Round.past Fin.Round.now  avg_time_funding company_status_past  Y\n",
       "89892  2130951  German Marine Systems  Welcome to thyssenkrupp Marine Systems on Link...  One of the world's leading naval companies and...  http://thyssenkrupp-marinesystems.com                                    None                               None  https://www.linkedin.com/company/thyssenkrupp-...              0    operational  [bootstrapped]              0             447.0  [{'date': '2019-04-01', 'value': 413}, {'date'...       2010.0             NaN           boots                0  [{'id': 906294, 'name': 'Philip Pasler', 'path...           2          boots             0.0     Bulgaria                    NaN        travel          0.044946                      [906294, 4301570]  [Infermedica, Nabta Health, ThyssenKrupp AT.PR...          boots  [Wyższa Szkoła Bankowa, Technical University B...                   1               3        0.0          0.0          boots         boots               0.0         operational  0\n",
       "89893  1496338              Wyndhamap  Wyndham Destinations (listed on the NYSE: WYND...  Wyndham Worldwide is one of the world's larges...                   http://wyndhamap.com                                    None      https://twitter.com/wyndhamap  https://www.linkedin.com/company/wyndham-desti...              0    operational  [bootstrapped]              0             447.0  [{'date': '2018-11-01', 'value': 447}, {'date'...       2000.0             NaN           boots                0  [{'id': 1496343, 'name': 'Louie Ong', 'path': ...           2          boots             0.0      Germany                    NaN         media          0.000092                     [1496343, 3743130]                  [Wyndhamap, Wyndhamap, financrau]          boots                                  [Bond University]                   1               1        0.0          0.0          boots         boots               0.0         operational  0\n",
       "89894    30064         Silicon Canals  Silicon Canals was founded in 2014 by Remco Ja...  News, knowledge, and insights from the Europea...             https://siliconcanals.com/  https://www.facebook.com/siliconcanals  https://twitter.com/siliconcanals    https://www.linkedin.com/company/silicon-canals              0    operational  [bootstrapped]              0               NaN  [{'date': '2020-02-25', 'value': 5}, {'date': ...       2014.0             NaN           boots                0  [{'id': 1180, 'name': 'Remco Janssen', 'path':...           8          boots             0.0  Netherlands                    NaN        travel               NaN  [1180, 30141, 56453, 967890, 1466343]  [Proudly Represents, Rockstart, SCOUPY BV, Sil...          boots                               [Hogeschool Utrecht]                   0               1        0.0          0.0          boots         boots               0.0         operational  0\n",
       "89895  2568210             Databrydge  Databrydge koppelt eenvoudig online (financiël...                                               None                  http://databrydge.com                                    None                               None       https://www.linkedin.com/company/databrydge/              0    operational  [bootstrapped]              0               NaN  [{'date': '2021-06-24', 'value': 6}, {'date': ...       2017.0             NaN           boots                0  [{'id': 4392662, 'name': 'John Schrijvers', 'p...           1          boots             0.0      Belgium                  Liège      robotics               NaN                              [4392662]                                       [Databrydge]          boots            [Fontys University of Applied Sciences]                   0               1        0.0          0.0          boots         boots               0.0         operational  0\n",
       "89896  2303255           Vosesoftware  Vose Software is a specialist risk software fi...  Enterprise risk management | ERM & risk softwa...                http://vosesoftware.com                                    None                               None    https://www.linkedin.com/company/vose-software/              0    operational  [bootstrapped]              0               NaN  [{'date': '2021-07-18', 'value': 4}, {'date': ...       2005.0             NaN           boots                0  [{'id': 4393402, 'name': 'Stijn Vanden Bossche...           1          boots             0.0       Cyprus  Limassol Municipality       fintech               NaN                              [4393402]                                     [Vosesoftware]          boots        [Katholieke Hogeschool 'Sint-Lieven', Gent]                   0               1        0.0          0.0          boots         boots               0.0         operational  0"
      ]
     },
     "execution_count": 140,
     "metadata": {},
     "output_type": "execute_result"
    }
   ],
   "source": [
    "df_past.loc[(df_past.Y==0)].tail() # looks as expected"
   ]
  },
  {
   "cell_type": "code",
   "execution_count": 66,
   "metadata": {},
   "outputs": [],
   "source": [
    "df_past.to_pickle(\"df_past-30.11.22\")"
   ]
  },
  {
   "cell_type": "code",
   "execution_count": 284,
   "metadata": {},
   "outputs": [],
   "source": [
    "df_past = df_past.reset_index(drop=True)"
   ]
  },
  {
   "cell_type": "code",
   "execution_count": 161,
   "metadata": {},
   "outputs": [],
   "source": [
    "df_past1=pd.read_pickle(\"/Users/klaus/Documents/Jarvis/Second Try/df_past-30.11.22\")"
   ]
  },
  {
   "cell_type": "code",
   "execution_count": null,
   "metadata": {},
   "outputs": [],
   "source": [
    "Index(['name', 'about', 'website_url', 'facebook_url', 'twitter_url', 'linkedin_url', 'total_funding', 'patents_count', 'employees_latest', 'launch_year', 'fundings_total', 'country_name', 'city_name', 'industry_name', 'team_male', 'team_female', 'employees_growth', 'avg_time_funding', 'Y', 'missing_values', 'number_top_schools'], dtype='object')"
   ]
  },
  {
   "cell_type": "markdown",
   "metadata": {},
   "source": [
    "# 9. Missing Values\n",
    "- about - None\n",
    "- tagline - None\n",
    "- fundings items - [] (boots can have \"boots\")\n",
    "- avg time funding (boots have 0) - Nan\n",
    "- employees_latest - NaN\n",
    "- country_name - NaN\n",
    "- city_name - NaN\n",
    "- industry_name -NaN\n",
    "- Team_Universities - [] (includes number_top_schools)\n",
    "- team_male + team_female = 0\n",
    "- funding round now - []\n",
    "- investor_names (bootstrapped can have none)\n",
    "- founders background - []\n",
    "\n",
    "currently included:\n",
    "Index(['name', 'about', 'website_url', 'facebook_url', 'twitter_url', 'linkedin_url', 'total_funding', 'patents_count', 'employees_latest', 'launch_year', 'fundings_total', 'country_name', 'city_name', 'industry_name', 'team_male', 'team_female', 'employees_growth', 'avg_time_funding', 'Y', 'missing_values', 'number_top_schools'], dtype='object')\n"
   ]
  },
  {
   "cell_type": "markdown",
   "metadata": {},
   "source": [
    "Missing Value Transformation to None if missing"
   ]
  },
  {
   "cell_type": "markdown",
   "metadata": {},
   "source": [
    "transform the not known fields to bootstrapped in ownerships if bootstrapped is one of the values"
   ]
  },
  {
   "cell_type": "code",
   "execution_count": 51,
   "metadata": {},
   "outputs": [],
   "source": [
    "df_past[\"cteam\"]=df_past[\"team_male\"]+df_past[\"team_female\"]\n",
    "df_past.loc[(df_past[\"cteam\"]!=0 & (df_past[\"cteam\"].apply(lambda x: True if x is not None else False))),\"cteam\"]=1\n",
    "df_past.loc[df_past[\"cteam\"]==0,\"cteam\"]=None\n",
    "df_past.loc[(df_past[\"fundings_items\"].apply(lambda x: True if (x is not None and len(x)==0) else False)) & (df_past[\"ownerships\"].apply(lambda x: True if x[0]!=\"bootstrapped\" else False)),\"fundings_items\"]=None\n",
    "df_past.loc[df_past[\"team_universities\"].apply(lambda x: True if (x is not None and len(x)==0) else False),\"team_universities\"]=None\n",
    "df_past.loc[df_past[\"investor_names\"].apply(lambda x: True if (x is not None and len(x)==0) else False),\"investor_names\"]=None\n",
    "df_past.loc[df_past[\"founders_background\"].apply(lambda x: True if (x is not None and len(x)==0) else False),\"founders_background\"]=None\n",
    "df_past.loc[df_past[\"Fin.Round.now\"].apply(lambda x: True if (x is not None and len(x)==0) else False),\"Fin.Round.now\"]=None\n"
   ]
  },
  {
   "cell_type": "code",
   "execution_count": 52,
   "metadata": {},
   "outputs": [],
   "source": [
    "df_missval=df_past[[\"about\",\"fundings_items\",\"total_funding\",\"employees_growth\",\"employees_latest\",\"country_name\",\"city_name\",\"industry_name\",\"team_universities\",\"Fin.Round.now\",\"cteam\",\"founders_background\",\"investor_names\"]]\n",
    "df_past[\"missing_values\"]=df_missval.isnull().sum(axis=1)\n"
   ]
  },
  {
   "cell_type": "code",
   "execution_count": 53,
   "metadata": {},
   "outputs": [],
   "source": [
    "#Save Dataframe\n",
    "df_past.to_pickle(\"df_past_30.11\")"
   ]
  },
  {
   "cell_type": "code",
   "execution_count": 10,
   "metadata": {},
   "outputs": [],
   "source": [
    "df_past=pd.read_pickle(\"/Users/klaus/Documents/Jarvis/Second Try/df_past-30.11.22\")"
   ]
  },
  {
   "cell_type": "code",
   "execution_count": 54,
   "metadata": {},
   "outputs": [
    {
     "data": {
      "text/plain": [
       "(89897, 43)"
      ]
     },
     "execution_count": 54,
     "metadata": {},
     "output_type": "execute_result"
    }
   ],
   "source": [
    "df_past.shape"
   ]
  },
  {
   "cell_type": "code",
   "execution_count": 55,
   "metadata": {},
   "outputs": [
    {
     "data": {
      "text/html": [
       "<div>\n",
       "<style scoped>\n",
       "    .dataframe tbody tr th:only-of-type {\n",
       "        vertical-align: middle;\n",
       "    }\n",
       "\n",
       "    .dataframe tbody tr th {\n",
       "        vertical-align: top;\n",
       "    }\n",
       "\n",
       "    .dataframe thead th {\n",
       "        text-align: right;\n",
       "    }\n",
       "</style>\n",
       "<table border=\"1\" class=\"dataframe\">\n",
       "  <thead>\n",
       "    <tr style=\"text-align: right;\">\n",
       "      <th></th>\n",
       "      <th>id</th>\n",
       "      <th>name</th>\n",
       "      <th>about</th>\n",
       "      <th>tagline</th>\n",
       "      <th>website_url</th>\n",
       "      <th>facebook_url</th>\n",
       "      <th>twitter_url</th>\n",
       "      <th>linkedin_url</th>\n",
       "      <th>total_funding</th>\n",
       "      <th>company_status</th>\n",
       "      <th>ownerships</th>\n",
       "      <th>patents_count</th>\n",
       "      <th>employees_latest</th>\n",
       "      <th>employees_chart</th>\n",
       "      <th>launch_year</th>\n",
       "      <th>dealroom_signal</th>\n",
       "      <th>investors_items</th>\n",
       "      <th>investors_total</th>\n",
       "      <th>team_items</th>\n",
       "      <th>team_total</th>\n",
       "      <th>fundings_items</th>\n",
       "      <th>fundings_total</th>\n",
       "      <th>country_name</th>\n",
       "      <th>city_name</th>\n",
       "      <th>industry_name</th>\n",
       "      <th>employees_growth</th>\n",
       "      <th>founder_id</th>\n",
       "      <th>founders_background</th>\n",
       "      <th>investor_names</th>\n",
       "      <th>team_universities</th>\n",
       "      <th>number_top_schools</th>\n",
       "      <th>number_schools</th>\n",
       "      <th>team_male</th>\n",
       "      <th>team_female</th>\n",
       "      <th>Fin.Round.past</th>\n",
       "      <th>Fin.Round.now</th>\n",
       "      <th>avg_time_funding</th>\n",
       "      <th>company_status_past</th>\n",
       "      <th>Y</th>\n",
       "      <th>is_bootstrapped</th>\n",
       "      <th>number_top_inv</th>\n",
       "      <th>cteam</th>\n",
       "      <th>missing_values</th>\n",
       "    </tr>\n",
       "  </thead>\n",
       "  <tbody>\n",
       "    <tr>\n",
       "      <th>0</th>\n",
       "      <td>2176609</td>\n",
       "      <td>LNS</td>\n",
       "      <td>LNS brings over 45 years of proven experience ...</td>\n",
       "      <td>Discover the LNS Difference in your Country</td>\n",
       "      <td>http://lns-group.com</td>\n",
       "      <td>None</td>\n",
       "      <td>None</td>\n",
       "      <td>https://www.linkedin.com/company/lns-managemen...</td>\n",
       "      <td>0.0</td>\n",
       "      <td>acquired</td>\n",
       "      <td>[Private Equity]</td>\n",
       "      <td>7</td>\n",
       "      <td>27.0</td>\n",
       "      <td>[{'date': '2019-07-01', 'value': 25}, {'date':...</td>\n",
       "      <td>1973.0</td>\n",
       "      <td>None</td>\n",
       "      <td>[{'id': 2914933, 'name': 'Storskogen', 'path':...</td>\n",
       "      <td>1</td>\n",
       "      <td>[]</td>\n",
       "      <td>0</td>\n",
       "      <td>[{'id': 539414, 'year': 2021, 'month': 12, 'am...</td>\n",
       "      <td>0</td>\n",
       "      <td>Switzerland</td>\n",
       "      <td>Orvin</td>\n",
       "      <td>semiconductors</td>\n",
       "      <td>0.080000</td>\n",
       "      <td>[]</td>\n",
       "      <td>None</td>\n",
       "      <td>[Storskogen]</td>\n",
       "      <td>None</td>\n",
       "      <td>0</td>\n",
       "      <td>0</td>\n",
       "      <td>0</td>\n",
       "      <td>0</td>\n",
       "      <td>[]</td>\n",
       "      <td>[BUYOUT]</td>\n",
       "      <td>NaN</td>\n",
       "      <td>operational</td>\n",
       "      <td>acquired</td>\n",
       "      <td>0</td>\n",
       "      <td>0</td>\n",
       "      <td>NaN</td>\n",
       "      <td>3</td>\n",
       "    </tr>\n",
       "    <tr>\n",
       "      <th>1</th>\n",
       "      <td>2178401</td>\n",
       "      <td>ALAnostics</td>\n",
       "      <td>ALAnostics are a speciality Biopharmaceutical ...</td>\n",
       "      <td>Develop best-in-class nanomedicines for Fluore...</td>\n",
       "      <td>https://alanostics.ch/</td>\n",
       "      <td>None</td>\n",
       "      <td>None</td>\n",
       "      <td>https://www.linkedin.com/company/alanostics/</td>\n",
       "      <td>60000.0</td>\n",
       "      <td>closed</td>\n",
       "      <td>[Venture Capital, accelerator]</td>\n",
       "      <td>0</td>\n",
       "      <td>NaN</td>\n",
       "      <td>[]</td>\n",
       "      <td>2018.0</td>\n",
       "      <td>None</td>\n",
       "      <td>[{'id': 901563, 'name': 'EIT Health e.V.', 'pa...</td>\n",
       "      <td>3</td>\n",
       "      <td>[{'id': 2178577, 'name': 'James Collins', 'pat...</td>\n",
       "      <td>3</td>\n",
       "      <td>[{'id': 526542, 'year': 2019, 'month': 2, 'amo...</td>\n",
       "      <td>3</td>\n",
       "      <td>Switzerland</td>\n",
       "      <td>Renens</td>\n",
       "      <td>health</td>\n",
       "      <td>NaN</td>\n",
       "      <td>[2178577, 2519258, 4202289]</td>\n",
       "      <td>[ALAnostics, ALAnostics, MassChallenge, Ventur...</td>\n",
       "      <td>[EIT Health e.V., MassChallenge, Venture Kick]</td>\n",
       "      <td>[University of Ljubljana, Université Paris Cit...</td>\n",
       "      <td>0</td>\n",
       "      <td>3</td>\n",
       "      <td>2</td>\n",
       "      <td>0</td>\n",
       "      <td>[SEED, GRANT]</td>\n",
       "      <td>[SEED, GRANT]</td>\n",
       "      <td>0.333333</td>\n",
       "      <td>closed</td>\n",
       "      <td>failed</td>\n",
       "      <td>0</td>\n",
       "      <td>0</td>\n",
       "      <td>1.0</td>\n",
       "      <td>2</td>\n",
       "    </tr>\n",
       "    <tr>\n",
       "      <th>2</th>\n",
       "      <td>2156990</td>\n",
       "      <td>Stragen Chemical</td>\n",
       "      <td>Focusing on innovation for health solutions si...</td>\n",
       "      <td>Stragen Pharma SA - Innovation Health and Expe...</td>\n",
       "      <td>http://stragen.ch</td>\n",
       "      <td>None</td>\n",
       "      <td>https://twitter.com/stragenpharma</td>\n",
       "      <td>https://www.linkedin.com/company/stragenpharma</td>\n",
       "      <td>0.0</td>\n",
       "      <td>acquired</td>\n",
       "      <td>[Private Equity]</td>\n",
       "      <td>0</td>\n",
       "      <td>118.0</td>\n",
       "      <td>[{'date': '2018-12-01', 'value': 130}, {'date'...</td>\n",
       "      <td>1990.0</td>\n",
       "      <td>None</td>\n",
       "      <td>[{'id': 923712, 'name': 'ArchiMed', 'path': 'a...</td>\n",
       "      <td>1</td>\n",
       "      <td>[{'id': 2977160, 'name': 'Philippe Bordeau', '...</td>\n",
       "      <td>1</td>\n",
       "      <td>[{'id': 456300, 'year': 2021, 'month': 6, 'amo...</td>\n",
       "      <td>0</td>\n",
       "      <td>Switzerland</td>\n",
       "      <td>NaN</td>\n",
       "      <td>health</td>\n",
       "      <td>-0.015919</td>\n",
       "      <td>[2977160]</td>\n",
       "      <td>[Alaxia, Stragen Chemical]</td>\n",
       "      <td>[ArchiMed]</td>\n",
       "      <td>None</td>\n",
       "      <td>0</td>\n",
       "      <td>0</td>\n",
       "      <td>0</td>\n",
       "      <td>0</td>\n",
       "      <td>[]</td>\n",
       "      <td>[BUYOUT]</td>\n",
       "      <td>NaN</td>\n",
       "      <td>operational</td>\n",
       "      <td>acquired</td>\n",
       "      <td>0</td>\n",
       "      <td>0</td>\n",
       "      <td>NaN</td>\n",
       "      <td>3</td>\n",
       "    </tr>\n",
       "    <tr>\n",
       "      <th>3</th>\n",
       "      <td>2207899</td>\n",
       "      <td>Smartseq</td>\n",
       "      <td>None</td>\n",
       "      <td>SmartSeq - NGS Bioinformatics Services</td>\n",
       "      <td>http://www.smartseq.it/</td>\n",
       "      <td>None</td>\n",
       "      <td>None</td>\n",
       "      <td>None</td>\n",
       "      <td>0.0</td>\n",
       "      <td>acquired</td>\n",
       "      <td>[Subsidiary]</td>\n",
       "      <td>0</td>\n",
       "      <td>NaN</td>\n",
       "      <td>[]</td>\n",
       "      <td>2013.0</td>\n",
       "      <td>None</td>\n",
       "      <td>[{'id': 1472687, 'name': 'Enne3', 'path': 'enn...</td>\n",
       "      <td>2</td>\n",
       "      <td>[]</td>\n",
       "      <td>0</td>\n",
       "      <td>[{'id': 546441, 'year': 2022, 'month': 2, 'amo...</td>\n",
       "      <td>0</td>\n",
       "      <td>Italy</td>\n",
       "      <td>NaN</td>\n",
       "      <td>food</td>\n",
       "      <td>NaN</td>\n",
       "      <td>[]</td>\n",
       "      <td>None</td>\n",
       "      <td>[Enne3, Devyser]</td>\n",
       "      <td>None</td>\n",
       "      <td>0</td>\n",
       "      <td>0</td>\n",
       "      <td>0</td>\n",
       "      <td>0</td>\n",
       "      <td>[]</td>\n",
       "      <td>[ACQUISITION]</td>\n",
       "      <td>NaN</td>\n",
       "      <td>operational</td>\n",
       "      <td>acquired</td>\n",
       "      <td>0</td>\n",
       "      <td>0</td>\n",
       "      <td>NaN</td>\n",
       "      <td>7</td>\n",
       "    </tr>\n",
       "    <tr>\n",
       "      <th>4</th>\n",
       "      <td>2091408</td>\n",
       "      <td>Scoriff</td>\n",
       "      <td>Scoriff is a new-age business credit scoring c...</td>\n",
       "      <td>Behavioral business credit scoring | We apply ...</td>\n",
       "      <td>http://scoriff.com</td>\n",
       "      <td>https://www.facebook.com/scoriff</td>\n",
       "      <td>None</td>\n",
       "      <td>https://www.linkedin.com/company/scoriff/</td>\n",
       "      <td>NaN</td>\n",
       "      <td>operational</td>\n",
       "      <td>[Venture Capital, accelerator]</td>\n",
       "      <td>0</td>\n",
       "      <td>NaN</td>\n",
       "      <td>[{'date': '2021-03-30', 'value': 1}, {'date': ...</td>\n",
       "      <td>2018.0</td>\n",
       "      <td>None</td>\n",
       "      <td>[{'id': 15975, 'name': 'Startup Wise Guys', 'p...</td>\n",
       "      <td>1</td>\n",
       "      <td>[]</td>\n",
       "      <td>0</td>\n",
       "      <td>[{'id': 404409, 'year': 2019, 'month': 4, 'amo...</td>\n",
       "      <td>1</td>\n",
       "      <td>Denmark</td>\n",
       "      <td>NaN</td>\n",
       "      <td>music</td>\n",
       "      <td>NaN</td>\n",
       "      <td>[]</td>\n",
       "      <td>None</td>\n",
       "      <td>[Startup Wise Guys]</td>\n",
       "      <td>None</td>\n",
       "      <td>0</td>\n",
       "      <td>0</td>\n",
       "      <td>0</td>\n",
       "      <td>0</td>\n",
       "      <td>[SEED]</td>\n",
       "      <td>[SEED]</td>\n",
       "      <td>1.000000</td>\n",
       "      <td>operational</td>\n",
       "      <td>0</td>\n",
       "      <td>0</td>\n",
       "      <td>1</td>\n",
       "      <td>NaN</td>\n",
       "      <td>7</td>\n",
       "    </tr>\n",
       "  </tbody>\n",
       "</table>\n",
       "</div>"
      ],
      "text/plain": [
       "        id              name                                              about                                            tagline              website_url                      facebook_url                        twitter_url                                       linkedin_url  total_funding company_status                      ownerships  patents_count  employees_latest                                    employees_chart  launch_year dealroom_signal                                    investors_items  investors_total                                         team_items  team_total                                     fundings_items fundings_total country_name city_name   industry_name  employees_growth                   founder_id                                founders_background                                  investor_names                                  team_universities  number_top_schools  number_schools  team_male  team_female Fin.Round.past  Fin.Round.now  avg_time_funding company_status_past         Y  is_bootstrapped  number_top_inv  cteam  missing_values\n",
       "0  2176609               LNS  LNS brings over 45 years of proven experience ...        Discover the LNS Difference in your Country     http://lns-group.com                              None                               None  https://www.linkedin.com/company/lns-managemen...            0.0       acquired                [Private Equity]              7              27.0  [{'date': '2019-07-01', 'value': 25}, {'date':...       1973.0            None  [{'id': 2914933, 'name': 'Storskogen', 'path':...                1                                                 []           0  [{'id': 539414, 'year': 2021, 'month': 12, 'am...              0  Switzerland     Orvin  semiconductors          0.080000                           []                                               None                                    [Storskogen]                                               None                   0               0          0            0             []       [BUYOUT]               NaN         operational  acquired                0               0    NaN               3\n",
       "1  2178401        ALAnostics  ALAnostics are a speciality Biopharmaceutical ...  Develop best-in-class nanomedicines for Fluore...   https://alanostics.ch/                              None                               None       https://www.linkedin.com/company/alanostics/        60000.0         closed  [Venture Capital, accelerator]              0               NaN                                                 []       2018.0            None  [{'id': 901563, 'name': 'EIT Health e.V.', 'pa...                3  [{'id': 2178577, 'name': 'James Collins', 'pat...           3  [{'id': 526542, 'year': 2019, 'month': 2, 'amo...              3  Switzerland    Renens          health               NaN  [2178577, 2519258, 4202289]  [ALAnostics, ALAnostics, MassChallenge, Ventur...  [EIT Health e.V., MassChallenge, Venture Kick]  [University of Ljubljana, Université Paris Cit...                   0               3          2            0  [SEED, GRANT]  [SEED, GRANT]          0.333333              closed    failed                0               0    1.0               2\n",
       "2  2156990  Stragen Chemical  Focusing on innovation for health solutions si...  Stragen Pharma SA - Innovation Health and Expe...        http://stragen.ch                              None  https://twitter.com/stragenpharma     https://www.linkedin.com/company/stragenpharma            0.0       acquired                [Private Equity]              0             118.0  [{'date': '2018-12-01', 'value': 130}, {'date'...       1990.0            None  [{'id': 923712, 'name': 'ArchiMed', 'path': 'a...                1  [{'id': 2977160, 'name': 'Philippe Bordeau', '...           1  [{'id': 456300, 'year': 2021, 'month': 6, 'amo...              0  Switzerland       NaN          health         -0.015919                    [2977160]                         [Alaxia, Stragen Chemical]                                      [ArchiMed]                                               None                   0               0          0            0             []       [BUYOUT]               NaN         operational  acquired                0               0    NaN               3\n",
       "3  2207899          Smartseq                                               None             SmartSeq - NGS Bioinformatics Services  http://www.smartseq.it/                              None                               None                                               None            0.0       acquired                    [Subsidiary]              0               NaN                                                 []       2013.0            None  [{'id': 1472687, 'name': 'Enne3', 'path': 'enn...                2                                                 []           0  [{'id': 546441, 'year': 2022, 'month': 2, 'amo...              0        Italy       NaN            food               NaN                           []                                               None                                [Enne3, Devyser]                                               None                   0               0          0            0             []  [ACQUISITION]               NaN         operational  acquired                0               0    NaN               7\n",
       "4  2091408           Scoriff  Scoriff is a new-age business credit scoring c...  Behavioral business credit scoring | We apply ...       http://scoriff.com  https://www.facebook.com/scoriff                               None          https://www.linkedin.com/company/scoriff/            NaN    operational  [Venture Capital, accelerator]              0               NaN  [{'date': '2021-03-30', 'value': 1}, {'date': ...       2018.0            None  [{'id': 15975, 'name': 'Startup Wise Guys', 'p...                1                                                 []           0  [{'id': 404409, 'year': 2019, 'month': 4, 'amo...              1      Denmark       NaN           music               NaN                           []                                               None                             [Startup Wise Guys]                                               None                   0               0          0            0         [SEED]         [SEED]          1.000000         operational         0                0               1    NaN               7"
      ]
     },
     "execution_count": 55,
     "metadata": {},
     "output_type": "execute_result"
    }
   ],
   "source": [
    "df_past.head()"
   ]
  },
  {
   "cell_type": "code",
   "execution_count": 56,
   "metadata": {},
   "outputs": [],
   "source": [
    "import seaborn as sns"
   ]
  },
  {
   "cell_type": "code",
   "execution_count": 57,
   "metadata": {},
   "outputs": [
    {
     "data": {
      "text/plain": [
       "<seaborn.axisgrid.FacetGrid at 0x1a16dbd30>"
      ]
     },
     "execution_count": 57,
     "metadata": {},
     "output_type": "execute_result"
    },
    {
     "data": {
      "image/png": "[encoded data removed]",
      "text/plain": [
       "<Figure size 500x500 with 1 Axes>"
      ]
     },
     "metadata": {},
     "output_type": "display_data"
    },
    {
     "data": {
      "image/png": "[encoded data removed]",
      "text/plain": [
       "<Figure size 500x500 with 1 Axes>"
      ]
     },
     "metadata": {},
     "output_type": "display_data"
    },
    {
     "data": {
      "image/png": "[encoded data removed]",
      "text/plain": [
       "<Figure size 500x500 with 1 Axes>"
      ]
     },
     "metadata": {},
     "output_type": "display_data"
    }
   ],
   "source": [
    "df_past.loc[(df_past[\"ownerships\"].apply(lambda x:True if ((len(x)!=0 and x[0]==\"not known\") & (len(x)==2 and x[1]==\"bootstrapped\")) else False)),\"ownerships\"]=\"bootstrapped\"\n",
    "\n",
    "bootstraped=df_past.loc[df_past[\"ownerships\"].apply(lambda x: True if x[0]==\"bootstrapped\" else False),\"missing_values\"]\n",
    "not_known=df_past.loc[df_past[\"ownerships\"].apply(lambda x: True if x[0]==\"not known\" else False),\"missing_values\"]\n",
    "subs=df_past.loc[df_past[\"ownerships\"].apply(lambda x: True if x[0]==\"Subsidiary\" else False),\"missing_values\"]\n",
    "\n",
    "sns.displot(subs)\n",
    "sns.displot(not_known)\n",
    "sns.displot(bootstraped)\n",
    "\n"
   ]
  },
  {
   "cell_type": "markdown",
   "metadata": {},
   "source": [
    "We see that the rows with \"not known\" as company status have alot of missing values. We will drop them in order to increase the explanatory value of the data (will not do for this iteration)"
   ]
  },
  {
   "cell_type": "markdown",
   "metadata": {},
   "source": [
    "Further drop rows that have more missing values for a certain threshold"
   ]
  },
  {
   "cell_type": "code",
   "execution_count": 58,
   "metadata": {},
   "outputs": [
    {
     "data": {
      "text/html": [
       "<div>\n",
       "<style scoped>\n",
       "    .dataframe tbody tr th:only-of-type {\n",
       "        vertical-align: middle;\n",
       "    }\n",
       "\n",
       "    .dataframe tbody tr th {\n",
       "        vertical-align: top;\n",
       "    }\n",
       "\n",
       "    .dataframe thead th {\n",
       "        text-align: right;\n",
       "    }\n",
       "</style>\n",
       "<table border=\"1\" class=\"dataframe\">\n",
       "  <thead>\n",
       "    <tr style=\"text-align: right;\">\n",
       "      <th></th>\n",
       "      <th>mean</th>\n",
       "      <th>std</th>\n",
       "    </tr>\n",
       "  </thead>\n",
       "  <tbody>\n",
       "    <tr>\n",
       "      <th>nothing</th>\n",
       "      <td>4.386213</td>\n",
       "      <td>1.752989</td>\n",
       "    </tr>\n",
       "    <tr>\n",
       "      <th>acquired</th>\n",
       "      <td>4.056175</td>\n",
       "      <td>2.147849</td>\n",
       "    </tr>\n",
       "    <tr>\n",
       "      <th>failed</th>\n",
       "      <td>5.357724</td>\n",
       "      <td>1.981777</td>\n",
       "    </tr>\n",
       "    <tr>\n",
       "      <th>IPO</th>\n",
       "      <td>4.473833</td>\n",
       "      <td>2.384615</td>\n",
       "    </tr>\n",
       "    <tr>\n",
       "      <th>funding</th>\n",
       "      <td>2.938376</td>\n",
       "      <td>1.703734</td>\n",
       "    </tr>\n",
       "  </tbody>\n",
       "</table>\n",
       "</div>"
      ],
      "text/plain": [
       "              mean       std\n",
       "nothing   4.386213  1.752989\n",
       "acquired  4.056175  2.147849\n",
       "failed    5.357724  1.981777\n",
       "IPO       4.473833  2.384615\n",
       "funding   2.938376  1.703734"
      ]
     },
     "execution_count": 58,
     "metadata": {},
     "output_type": "execute_result"
    }
   ],
   "source": [
    "nothing=df_past.loc[df_past[\"Y\"]==0,\"missing_values\"].describe()[[\"mean\",\"std\"]]\n",
    "acquired=df_past.loc[df_past[\"Y\"]==\"acquired\",\"missing_values\"].describe()[[\"mean\",\"std\"]]\n",
    "failed=df_past.loc[df_past[\"Y\"]==\"failed\",\"missing_values\"].describe()[[\"mean\",\"std\"]]\n",
    "IPO=df_past.loc[df_past[\"Y\"]==\"IPO\",\"missing_values\"].describe()[[\"mean\",\"std\"]]\n",
    "funding=df_past.loc[df_past[\"Y\"]==\"funding\",\"missing_values\"].describe()[[\"mean\",\"std\"]]\n",
    "missing_df=pd.DataFrame([nothing,acquired,failed,IPO,funding])\n",
    "missing_df.index=[\"nothing\",\"acquired\",\"failed\",\"IPO\",\"funding\"]\n",
    "missing_df"
   ]
  },
  {
   "cell_type": "code",
   "execution_count": 59,
   "metadata": {},
   "outputs": [],
   "source": [
    "nothing_index=df_past.loc[(df_past[\"Y\"]==0)&(df_past[\"missing_values\"]>nothing[0]+0.5*nothing[1])].index\n",
    "acquired_index=df_past.loc[(df_past[\"Y\"]==\"acquired\")&(df_past[\"missing_values\"]>acquired[0]+1.5*acquired[1])].index\n",
    "failed_index=df_past.loc[(df_past[\"Y\"]==\"failed\")&(df_past[\"missing_values\"]>failed[0]+1.2*failed[1])].index\n",
    "IPO_index=df_past.loc[(df_past[\"Y\"]==\"IPO\")&(df_past[\"missing_values\"]>IPO[0]+1.5*IPO[1])].index\n",
    "funding_index=df_past.loc[(df_past[\"Y\"]==\"funding\")&(df_past[\"missing_values\"]>funding[0]+1.5*IPO[1])].index\n"
   ]
  },
  {
   "cell_type": "code",
   "execution_count": 60,
   "metadata": {},
   "outputs": [],
   "source": [
    "df_past.drop(nothing_index,inplace=True)\n",
    "df_past.drop(acquired_index,inplace=True)\n",
    "df_past.drop(failed_index,inplace=True)\n",
    "df_past.drop(IPO_index,inplace=True)\n",
    "df_past.drop(funding_index,inplace=True)"
   ]
  },
  {
   "cell_type": "code",
   "execution_count": 61,
   "metadata": {},
   "outputs": [
    {
     "name": "stdout",
     "output_type": "stream",
     "text": [
      "                    Missing Values  In percent\n",
      "name                             0    0.000000\n",
      "about                            0    0.000000\n",
      "website_url                      0    0.000000\n",
      "facebook_url                 47762   67.194710\n",
      "twitter_url                  23367   32.874226\n",
      "linkedin_url                  2866    4.032077\n",
      "total_funding                15955   22.446539\n",
      "patents_count                    0    0.000000\n",
      "employees_latest             41611   58.541080\n",
      "launch_year                      0    0.000000\n",
      "investors_total                  0    0.000000\n",
      "fundings_total                 179    0.251829\n",
      "country_name                     0    0.000000\n",
      "city_name                        0    0.000000\n",
      "industry_name                    0    0.000000\n",
      "employees_growth             50911   71.624930\n",
      "number_top_schools               0    0.000000\n",
      "number_schools                   0    0.000000\n",
      "team_male                     8735   12.288970\n",
      "team_female                   8735   12.288970\n",
      "avg_time_funding              8160   11.480023\n",
      "Y                                0    0.000000\n",
      "missing_values                   0    0.000000\n",
      "number_top_inv                   0    0.000000\n"
     ]
    }
   ],
   "source": [
    "x=df_past2.isna().sum()\n",
    "y=df_past2.isna().sum()/len(df_past2)*100\n",
    "missing_values=pd.concat([x, y], axis=1)\n",
    "missing_values.columns=[\"Missing Values\",\"In percent\"]\n",
    "print(missing_values)"
   ]
  },
  {
   "cell_type": "markdown",
   "metadata": {},
   "source": [
    "# Delete all rows that are not desired"
   ]
  },
  {
   "cell_type": "code",
   "execution_count": 64,
   "metadata": {},
   "outputs": [],
   "source": [
    "df_past2=df_past.drop(columns=[\"id\",\"tagline\",\"company_status\",\"employees_chart\",\"dealroom_signal\",\"investors_items\",\"team_items\",\"company_status_past\",\"Fin.Round.now\",\"Fin.Round.past\",\"fundings_items\",\"team_universities\",\"team_total\",\"dealroom_signal\",\"ownerships\",\"cteam\",\"founder_id\",\"investor_names\",\"founders_background\",\"employees_growth\",\"employees_latest\"])"
   ]
  },
  {
   "cell_type": "code",
   "execution_count": 65,
   "metadata": {},
   "outputs": [
    {
     "data": {
      "text/html": [
       "<div>\n",
       "<style scoped>\n",
       "    .dataframe tbody tr th:only-of-type {\n",
       "        vertical-align: middle;\n",
       "    }\n",
       "\n",
       "    .dataframe tbody tr th {\n",
       "        vertical-align: top;\n",
       "    }\n",
       "\n",
       "    .dataframe thead th {\n",
       "        text-align: right;\n",
       "    }\n",
       "</style>\n",
       "<table border=\"1\" class=\"dataframe\">\n",
       "  <thead>\n",
       "    <tr style=\"text-align: right;\">\n",
       "      <th></th>\n",
       "      <th>name</th>\n",
       "      <th>about</th>\n",
       "      <th>website_url</th>\n",
       "      <th>facebook_url</th>\n",
       "      <th>twitter_url</th>\n",
       "      <th>linkedin_url</th>\n",
       "      <th>total_funding</th>\n",
       "      <th>patents_count</th>\n",
       "      <th>launch_year</th>\n",
       "      <th>investors_total</th>\n",
       "      <th>fundings_total</th>\n",
       "      <th>country_name</th>\n",
       "      <th>city_name</th>\n",
       "      <th>industry_name</th>\n",
       "      <th>number_top_schools</th>\n",
       "      <th>number_schools</th>\n",
       "      <th>team_male</th>\n",
       "      <th>team_female</th>\n",
       "      <th>avg_time_funding</th>\n",
       "      <th>Y</th>\n",
       "      <th>is_bootstrapped</th>\n",
       "      <th>number_top_inv</th>\n",
       "      <th>missing_values</th>\n",
       "    </tr>\n",
       "  </thead>\n",
       "  <tbody>\n",
       "    <tr>\n",
       "      <th>0</th>\n",
       "      <td>LNS</td>\n",
       "      <td>LNS brings over 45 years of proven experience ...</td>\n",
       "      <td>http://lns-group.com</td>\n",
       "      <td>None</td>\n",
       "      <td>None</td>\n",
       "      <td>https://www.linkedin.com/company/lns-managemen...</td>\n",
       "      <td>0.0</td>\n",
       "      <td>7</td>\n",
       "      <td>1973.0</td>\n",
       "      <td>1</td>\n",
       "      <td>0</td>\n",
       "      <td>Switzerland</td>\n",
       "      <td>Orvin</td>\n",
       "      <td>semiconductors</td>\n",
       "      <td>0</td>\n",
       "      <td>0</td>\n",
       "      <td>0</td>\n",
       "      <td>0</td>\n",
       "      <td>NaN</td>\n",
       "      <td>acquired</td>\n",
       "      <td>0</td>\n",
       "      <td>0</td>\n",
       "      <td>3</td>\n",
       "    </tr>\n",
       "    <tr>\n",
       "      <th>1</th>\n",
       "      <td>ALAnostics</td>\n",
       "      <td>ALAnostics are a speciality Biopharmaceutical ...</td>\n",
       "      <td>https://alanostics.ch/</td>\n",
       "      <td>None</td>\n",
       "      <td>None</td>\n",
       "      <td>https://www.linkedin.com/company/alanostics/</td>\n",
       "      <td>60000.0</td>\n",
       "      <td>0</td>\n",
       "      <td>2018.0</td>\n",
       "      <td>3</td>\n",
       "      <td>3</td>\n",
       "      <td>Switzerland</td>\n",
       "      <td>Renens</td>\n",
       "      <td>health</td>\n",
       "      <td>0</td>\n",
       "      <td>3</td>\n",
       "      <td>2</td>\n",
       "      <td>0</td>\n",
       "      <td>0.333333</td>\n",
       "      <td>failed</td>\n",
       "      <td>0</td>\n",
       "      <td>0</td>\n",
       "      <td>2</td>\n",
       "    </tr>\n",
       "    <tr>\n",
       "      <th>2</th>\n",
       "      <td>Stragen Chemical</td>\n",
       "      <td>Focusing on innovation for health solutions si...</td>\n",
       "      <td>http://stragen.ch</td>\n",
       "      <td>None</td>\n",
       "      <td>https://twitter.com/stragenpharma</td>\n",
       "      <td>https://www.linkedin.com/company/stragenpharma</td>\n",
       "      <td>0.0</td>\n",
       "      <td>0</td>\n",
       "      <td>1990.0</td>\n",
       "      <td>1</td>\n",
       "      <td>0</td>\n",
       "      <td>Switzerland</td>\n",
       "      <td>NaN</td>\n",
       "      <td>health</td>\n",
       "      <td>0</td>\n",
       "      <td>0</td>\n",
       "      <td>0</td>\n",
       "      <td>0</td>\n",
       "      <td>NaN</td>\n",
       "      <td>acquired</td>\n",
       "      <td>0</td>\n",
       "      <td>0</td>\n",
       "      <td>3</td>\n",
       "    </tr>\n",
       "    <tr>\n",
       "      <th>3</th>\n",
       "      <td>Smartseq</td>\n",
       "      <td>None</td>\n",
       "      <td>http://www.smartseq.it/</td>\n",
       "      <td>None</td>\n",
       "      <td>None</td>\n",
       "      <td>None</td>\n",
       "      <td>0.0</td>\n",
       "      <td>0</td>\n",
       "      <td>2013.0</td>\n",
       "      <td>2</td>\n",
       "      <td>0</td>\n",
       "      <td>Italy</td>\n",
       "      <td>NaN</td>\n",
       "      <td>food</td>\n",
       "      <td>0</td>\n",
       "      <td>0</td>\n",
       "      <td>0</td>\n",
       "      <td>0</td>\n",
       "      <td>NaN</td>\n",
       "      <td>acquired</td>\n",
       "      <td>0</td>\n",
       "      <td>0</td>\n",
       "      <td>7</td>\n",
       "    </tr>\n",
       "    <tr>\n",
       "      <th>5</th>\n",
       "      <td>PDFlib</td>\n",
       "      <td>None</td>\n",
       "      <td>http://pdflib.com</td>\n",
       "      <td>None</td>\n",
       "      <td>None</td>\n",
       "      <td>None</td>\n",
       "      <td>0.0</td>\n",
       "      <td>3</td>\n",
       "      <td>2000.0</td>\n",
       "      <td>1</td>\n",
       "      <td>0</td>\n",
       "      <td>Switzerland</td>\n",
       "      <td>NaN</td>\n",
       "      <td>media</td>\n",
       "      <td>0</td>\n",
       "      <td>0</td>\n",
       "      <td>0</td>\n",
       "      <td>0</td>\n",
       "      <td>NaN</td>\n",
       "      <td>acquired</td>\n",
       "      <td>0</td>\n",
       "      <td>0</td>\n",
       "      <td>7</td>\n",
       "    </tr>\n",
       "  </tbody>\n",
       "</table>\n",
       "</div>"
      ],
      "text/plain": [
       "               name                                              about              website_url facebook_url                        twitter_url                                       linkedin_url  total_funding  patents_count  launch_year  investors_total fundings_total country_name city_name   industry_name  number_top_schools  number_schools  team_male  team_female  avg_time_funding         Y  is_bootstrapped  number_top_inv  missing_values\n",
       "0               LNS  LNS brings over 45 years of proven experience ...     http://lns-group.com         None                               None  https://www.linkedin.com/company/lns-managemen...            0.0              7       1973.0                1              0  Switzerland     Orvin  semiconductors                   0               0          0            0               NaN  acquired                0               0               3\n",
       "1        ALAnostics  ALAnostics are a speciality Biopharmaceutical ...   https://alanostics.ch/         None                               None       https://www.linkedin.com/company/alanostics/        60000.0              0       2018.0                3              3  Switzerland    Renens          health                   0               3          2            0          0.333333    failed                0               0               2\n",
       "2  Stragen Chemical  Focusing on innovation for health solutions si...        http://stragen.ch         None  https://twitter.com/stragenpharma     https://www.linkedin.com/company/stragenpharma            0.0              0       1990.0                1              0  Switzerland       NaN          health                   0               0          0            0               NaN  acquired                0               0               3\n",
       "3          Smartseq                                               None  http://www.smartseq.it/         None                               None                                               None            0.0              0       2013.0                2              0        Italy       NaN            food                   0               0          0            0               NaN  acquired                0               0               7\n",
       "5            PDFlib                                               None        http://pdflib.com         None                               None                                               None            0.0              3       2000.0                1              0  Switzerland       NaN           media                   0               0          0            0               NaN  acquired                0               0               7"
      ]
     },
     "execution_count": 65,
     "metadata": {},
     "output_type": "execute_result"
    }
   ],
   "source": [
    "df_past2.head()"
   ]
  },
  {
   "cell_type": "markdown",
   "metadata": {},
   "source": [
    "## 1. Imputation for Categorical Values where imputation with numerical values doesnt make sense"
   ]
  },
  {
   "cell_type": "markdown",
   "metadata": {},
   "source": [
    "1. City name \n",
    "2. Industry Name (will just drop the rows with empty values, (only 1140))\n",
    "3. about (drop, only 1401)"
   ]
  },
  {
   "cell_type": "markdown",
   "metadata": {},
   "source": [
    "1. City Name\n",
    "- Will use the countries capital if not cities are associated with that country"
   ]
  },
  {
   "cell_type": "code",
   "execution_count": 66,
   "metadata": {},
   "outputs": [],
   "source": [
    "city_names=pd.read_csv(\"/Users/klaus/Documents/Jarvis/Second Try/Data/country-list.csv\")\n",
    "city_names.drop(columns=\"type\",inplace=True)"
   ]
  },
  {
   "cell_type": "code",
   "execution_count": 67,
   "metadata": {},
   "outputs": [],
   "source": [
    "country_index=df_past2.loc[pd.isnull(df_past2[\"country_name\"])].index\n",
    "df_past2.drop(country_index,inplace=True)"
   ]
  },
  {
   "cell_type": "code",
   "execution_count": 68,
   "metadata": {},
   "outputs": [],
   "source": [
    "countries=pd.unique(df_past2[\"country_name\"].values)\n",
    "for i in countries:\n",
    "    try:\n",
    "        df_past2.loc[(df_past2[\"country_name\"]==i)&(pd.isnull(df_past2[\"city_name\"])),\"city_name\"]=df_past2.loc[df_past2[\"country_name\"]==i,\"city_name\"].value_counts().idxmax()\n",
    "    except:\n",
    "        df_past2.loc[(df_past2[\"country_name\"]==i)&(pd.isnull(df_past2[\"city_name\"])),\"city_name\"]=city_names.loc[city_names[\"country\"]==i,\"capital\"].values[0]"
   ]
  },
  {
   "cell_type": "markdown",
   "metadata": {},
   "source": [
    "2. Industry Name"
   ]
  },
  {
   "cell_type": "code",
   "execution_count": 69,
   "metadata": {},
   "outputs": [],
   "source": [
    "industry_index=df_past2.loc[df_past2[\"industry_name\"].isna()].index\n",
    "df_past2.drop(industry_index,inplace=True)"
   ]
  },
  {
   "cell_type": "markdown",
   "metadata": {},
   "source": [
    "3. about"
   ]
  },
  {
   "cell_type": "code",
   "execution_count": 70,
   "metadata": {},
   "outputs": [],
   "source": [
    "about_index=df_past2.loc[df_past2[\"about\"].isna()].index\n",
    "df_past2.drop(about_index,inplace=True)"
   ]
  },
  {
   "cell_type": "markdown",
   "metadata": {},
   "source": [
    "See if Imputation has been succesfull"
   ]
  },
  {
   "cell_type": "code",
   "execution_count": 71,
   "metadata": {},
   "outputs": [
    {
     "name": "stdout",
     "output_type": "stream",
     "text": [
      "                    Missing Values  In percent\n",
      "name                             0    0.000000\n",
      "about                            0    0.000000\n",
      "website_url                      0    0.000000\n",
      "facebook_url                 46451   67.159691\n",
      "twitter_url                  22614   32.695728\n",
      "linkedin_url                  2669    3.858888\n",
      "total_funding                11854   17.138726\n",
      "patents_count                    0    0.000000\n",
      "launch_year                      0    0.000000\n",
      "investors_total                  0    0.000000\n",
      "fundings_total                 155    0.224102\n",
      "country_name                     0    0.000000\n",
      "city_name                        0    0.000000\n",
      "industry_name                    0    0.000000\n",
      "number_top_schools               0    0.000000\n",
      "number_schools                   0    0.000000\n",
      "team_male                        0    0.000000\n",
      "team_female                      0    0.000000\n",
      "avg_time_funding              7709   11.145811\n",
      "Y                                0    0.000000\n",
      "is_bootstrapped                  0    0.000000\n",
      "number_top_inv                   0    0.000000\n",
      "missing_values                   0    0.000000\n"
     ]
    }
   ],
   "source": [
    "x=df_past2.isna().sum()\n",
    "y=df_past2.isna().sum()/len(df_past2)*100\n",
    "missing_values=pd.concat([x, y], axis=1)\n",
    "missing_values.columns=[\"Missing Values\",\"In percent\"]\n",
    "print(missing_values)"
   ]
  },
  {
   "cell_type": "code",
   "execution_count": 102,
   "metadata": {},
   "outputs": [],
   "source": [
    "df_past2.to_pickle(\"df_past2_30.11\")"
   ]
  },
  {
   "cell_type": "code",
   "execution_count": 8,
   "metadata": {},
   "outputs": [],
   "source": [
    "df_past2=pd.read_pickle(\"/Users/klaus/Documents/Jarvis/Second Try/df_past2_30.11\")"
   ]
  },
  {
   "cell_type": "code",
   "execution_count": 9,
   "metadata": {},
   "outputs": [
    {
     "data": {
      "text/html": [
       "<div>\n",
       "<style scoped>\n",
       "    .dataframe tbody tr th:only-of-type {\n",
       "        vertical-align: middle;\n",
       "    }\n",
       "\n",
       "    .dataframe tbody tr th {\n",
       "        vertical-align: top;\n",
       "    }\n",
       "\n",
       "    .dataframe thead th {\n",
       "        text-align: right;\n",
       "    }\n",
       "</style>\n",
       "<table border=\"1\" class=\"dataframe\">\n",
       "  <thead>\n",
       "    <tr style=\"text-align: right;\">\n",
       "      <th></th>\n",
       "      <th>name</th>\n",
       "      <th>about</th>\n",
       "      <th>website_url</th>\n",
       "      <th>facebook_url</th>\n",
       "      <th>twitter_url</th>\n",
       "      <th>linkedin_url</th>\n",
       "      <th>total_funding</th>\n",
       "      <th>patents_count</th>\n",
       "      <th>employees_latest</th>\n",
       "      <th>launch_year</th>\n",
       "      <th>investors_total</th>\n",
       "      <th>fundings_total</th>\n",
       "      <th>country_name</th>\n",
       "      <th>city_name</th>\n",
       "      <th>industry_name</th>\n",
       "      <th>employees_growth</th>\n",
       "      <th>number_top_schools</th>\n",
       "      <th>number_schools</th>\n",
       "      <th>team_male</th>\n",
       "      <th>team_female</th>\n",
       "      <th>avg_time_funding</th>\n",
       "      <th>Y</th>\n",
       "      <th>missing_values</th>\n",
       "      <th>number_top_inv</th>\n",
       "    </tr>\n",
       "  </thead>\n",
       "  <tbody>\n",
       "    <tr>\n",
       "      <th>0</th>\n",
       "      <td>LNS</td>\n",
       "      <td>LNS brings over 45 years of proven experience ...</td>\n",
       "      <td>http://lns-group.com</td>\n",
       "      <td>None</td>\n",
       "      <td>None</td>\n",
       "      <td>https://www.linkedin.com/company/lns-managemen...</td>\n",
       "      <td>0.0</td>\n",
       "      <td>7</td>\n",
       "      <td>27.0</td>\n",
       "      <td>1973.0</td>\n",
       "      <td>1</td>\n",
       "      <td>0</td>\n",
       "      <td>Switzerland</td>\n",
       "      <td>Orvin</td>\n",
       "      <td>semiconductors</td>\n",
       "      <td>0.080000</td>\n",
       "      <td>0</td>\n",
       "      <td>0</td>\n",
       "      <td>NaN</td>\n",
       "      <td>NaN</td>\n",
       "      <td>NaN</td>\n",
       "      <td>acquired</td>\n",
       "      <td>2</td>\n",
       "      <td>0</td>\n",
       "    </tr>\n",
       "    <tr>\n",
       "      <th>1</th>\n",
       "      <td>ALAnostics</td>\n",
       "      <td>ALAnostics are a speciality Biopharmaceutical ...</td>\n",
       "      <td>https://alanostics.ch/</td>\n",
       "      <td>None</td>\n",
       "      <td>None</td>\n",
       "      <td>https://www.linkedin.com/company/alanostics/</td>\n",
       "      <td>60000.0</td>\n",
       "      <td>0</td>\n",
       "      <td>NaN</td>\n",
       "      <td>2018.0</td>\n",
       "      <td>3</td>\n",
       "      <td>3</td>\n",
       "      <td>Switzerland</td>\n",
       "      <td>Renens</td>\n",
       "      <td>health</td>\n",
       "      <td>NaN</td>\n",
       "      <td>0</td>\n",
       "      <td>3</td>\n",
       "      <td>2.0</td>\n",
       "      <td>0.0</td>\n",
       "      <td>0.333333</td>\n",
       "      <td>failed</td>\n",
       "      <td>2</td>\n",
       "      <td>0</td>\n",
       "    </tr>\n",
       "    <tr>\n",
       "      <th>2</th>\n",
       "      <td>Stragen Chemical</td>\n",
       "      <td>Focusing on innovation for health solutions si...</td>\n",
       "      <td>http://stragen.ch</td>\n",
       "      <td>None</td>\n",
       "      <td>https://twitter.com/stragenpharma</td>\n",
       "      <td>https://www.linkedin.com/company/stragenpharma</td>\n",
       "      <td>0.0</td>\n",
       "      <td>0</td>\n",
       "      <td>118.0</td>\n",
       "      <td>1990.0</td>\n",
       "      <td>1</td>\n",
       "      <td>0</td>\n",
       "      <td>Switzerland</td>\n",
       "      <td>Orvin</td>\n",
       "      <td>health</td>\n",
       "      <td>-0.015919</td>\n",
       "      <td>0</td>\n",
       "      <td>0</td>\n",
       "      <td>0.0</td>\n",
       "      <td>0.0</td>\n",
       "      <td>NaN</td>\n",
       "      <td>acquired</td>\n",
       "      <td>3</td>\n",
       "      <td>0</td>\n",
       "    </tr>\n",
       "    <tr>\n",
       "      <th>4</th>\n",
       "      <td>Scoriff</td>\n",
       "      <td>Scoriff is a new-age business credit scoring c...</td>\n",
       "      <td>http://scoriff.com</td>\n",
       "      <td>https://www.facebook.com/scoriff</td>\n",
       "      <td>None</td>\n",
       "      <td>https://www.linkedin.com/company/scoriff/</td>\n",
       "      <td>NaN</td>\n",
       "      <td>0</td>\n",
       "      <td>NaN</td>\n",
       "      <td>2018.0</td>\n",
       "      <td>1</td>\n",
       "      <td>1</td>\n",
       "      <td>Denmark</td>\n",
       "      <td>Copenhagen</td>\n",
       "      <td>music</td>\n",
       "      <td>NaN</td>\n",
       "      <td>0</td>\n",
       "      <td>0</td>\n",
       "      <td>NaN</td>\n",
       "      <td>NaN</td>\n",
       "      <td>1.000000</td>\n",
       "      <td>0</td>\n",
       "      <td>7</td>\n",
       "      <td>1</td>\n",
       "    </tr>\n",
       "    <tr>\n",
       "      <th>6</th>\n",
       "      <td>Sajas Group</td>\n",
       "      <td>Sajas Group is a leading European brush compan...</td>\n",
       "      <td>https://www.sajas-group.com</td>\n",
       "      <td>None</td>\n",
       "      <td>https://twitter.com/envobrush</td>\n",
       "      <td>https://www.linkedin.com/company/sajas-group/</td>\n",
       "      <td>NaN</td>\n",
       "      <td>0</td>\n",
       "      <td>NaN</td>\n",
       "      <td>1945.0</td>\n",
       "      <td>1</td>\n",
       "      <td>1</td>\n",
       "      <td>Iceland</td>\n",
       "      <td>Reykjavík</td>\n",
       "      <td>fintech</td>\n",
       "      <td>NaN</td>\n",
       "      <td>0</td>\n",
       "      <td>0</td>\n",
       "      <td>NaN</td>\n",
       "      <td>NaN</td>\n",
       "      <td>75.000000</td>\n",
       "      <td>acquired</td>\n",
       "      <td>6</td>\n",
       "      <td>0</td>\n",
       "    </tr>\n",
       "  </tbody>\n",
       "</table>\n",
       "</div>"
      ],
      "text/plain": [
       "               name                                              about                  website_url                      facebook_url                        twitter_url                                       linkedin_url  total_funding  patents_count  employees_latest  launch_year  investors_total fundings_total country_name   city_name   industry_name  employees_growth  number_top_schools  number_schools  team_male  team_female  avg_time_funding         Y  missing_values  number_top_inv\n",
       "0               LNS  LNS brings over 45 years of proven experience ...         http://lns-group.com                              None                               None  https://www.linkedin.com/company/lns-managemen...            0.0              7              27.0       1973.0                1              0  Switzerland       Orvin  semiconductors          0.080000                   0               0        NaN          NaN               NaN  acquired               2               0\n",
       "1        ALAnostics  ALAnostics are a speciality Biopharmaceutical ...       https://alanostics.ch/                              None                               None       https://www.linkedin.com/company/alanostics/        60000.0              0               NaN       2018.0                3              3  Switzerland      Renens          health               NaN                   0               3        2.0          0.0          0.333333    failed               2               0\n",
       "2  Stragen Chemical  Focusing on innovation for health solutions si...            http://stragen.ch                              None  https://twitter.com/stragenpharma     https://www.linkedin.com/company/stragenpharma            0.0              0             118.0       1990.0                1              0  Switzerland       Orvin          health         -0.015919                   0               0        0.0          0.0               NaN  acquired               3               0\n",
       "4           Scoriff  Scoriff is a new-age business credit scoring c...           http://scoriff.com  https://www.facebook.com/scoriff                               None          https://www.linkedin.com/company/scoriff/            NaN              0               NaN       2018.0                1              1      Denmark  Copenhagen           music               NaN                   0               0        NaN          NaN          1.000000         0               7               1\n",
       "6       Sajas Group  Sajas Group is a leading European brush compan...  https://www.sajas-group.com                              None      https://twitter.com/envobrush      https://www.linkedin.com/company/sajas-group/            NaN              0               NaN       1945.0                1              1      Iceland   Reykjavík         fintech               NaN                   0               0        NaN          NaN         75.000000  acquired               6               0"
      ]
     },
     "execution_count": 9,
     "metadata": {},
     "output_type": "execute_result"
    }
   ],
   "source": [
    "df_past2.head()"
   ]
  },
  {
   "cell_type": "markdown",
   "metadata": {},
   "source": [
    "### Data Transformation"
   ]
  },
  {
   "cell_type": "markdown",
   "metadata": {},
   "source": [
    "1. About (think about including the language model) (for now we only take the length of \"good\" words, meaning words except stop words etc)\n",
    "2. country_name\n",
    "3. city_name\n",
    "4. industry_name\n",
    "5. Y\n",
    "6. launch_year (make years to now)\n",
    "7. URL"
   ]
  },
  {
   "cell_type": "code",
   "execution_count": 72,
   "metadata": {},
   "outputs": [
    {
     "name": "stderr",
     "output_type": "stream",
     "text": [
      "[nltk_data] Downloading package stopwords to /Users/klaus/nltk_data...\n",
      "[nltk_data]   Package stopwords is already up-to-date!\n"
     ]
    }
   ],
   "source": [
    "nltk.download('stopwords')\n",
    "def tokenizer(x:str):\n",
    "    stop_words = set(stopwords.words('english'))\n",
    "    tokens=word_tokenize(x)\n",
    "    tokens = [w for w in tokens if w not in stop_words]\n",
    "    return tokens\n",
    "    "
   ]
  },
  {
   "cell_type": "code",
   "execution_count": 73,
   "metadata": {},
   "outputs": [
    {
     "data": {
      "text/html": [
       "<div>\n",
       "<style scoped>\n",
       "    .dataframe tbody tr th:only-of-type {\n",
       "        vertical-align: middle;\n",
       "    }\n",
       "\n",
       "    .dataframe tbody tr th {\n",
       "        vertical-align: top;\n",
       "    }\n",
       "\n",
       "    .dataframe thead th {\n",
       "        text-align: right;\n",
       "    }\n",
       "</style>\n",
       "<table border=\"1\" class=\"dataframe\">\n",
       "  <thead>\n",
       "    <tr style=\"text-align: right;\">\n",
       "      <th></th>\n",
       "      <th>name</th>\n",
       "      <th>about</th>\n",
       "      <th>website_url</th>\n",
       "      <th>facebook_url</th>\n",
       "      <th>twitter_url</th>\n",
       "      <th>linkedin_url</th>\n",
       "      <th>total_funding</th>\n",
       "      <th>patents_count</th>\n",
       "      <th>launch_year</th>\n",
       "      <th>investors_total</th>\n",
       "      <th>fundings_total</th>\n",
       "      <th>country_name</th>\n",
       "      <th>city_name</th>\n",
       "      <th>industry_name</th>\n",
       "      <th>number_top_schools</th>\n",
       "      <th>number_schools</th>\n",
       "      <th>team_male</th>\n",
       "      <th>team_female</th>\n",
       "      <th>avg_time_funding</th>\n",
       "      <th>Y</th>\n",
       "      <th>is_bootstrapped</th>\n",
       "      <th>number_top_inv</th>\n",
       "      <th>missing_values</th>\n",
       "    </tr>\n",
       "  </thead>\n",
       "  <tbody>\n",
       "    <tr>\n",
       "      <th>0</th>\n",
       "      <td>LNS</td>\n",
       "      <td>LNS brings over 45 years of proven experience ...</td>\n",
       "      <td>http://lns-group.com</td>\n",
       "      <td>None</td>\n",
       "      <td>None</td>\n",
       "      <td>https://www.linkedin.com/company/lns-managemen...</td>\n",
       "      <td>0.0</td>\n",
       "      <td>7</td>\n",
       "      <td>1973.0</td>\n",
       "      <td>1</td>\n",
       "      <td>0</td>\n",
       "      <td>Switzerland</td>\n",
       "      <td>Orvin</td>\n",
       "      <td>semiconductors</td>\n",
       "      <td>0</td>\n",
       "      <td>0</td>\n",
       "      <td>0</td>\n",
       "      <td>0</td>\n",
       "      <td>NaN</td>\n",
       "      <td>acquired</td>\n",
       "      <td>0</td>\n",
       "      <td>0</td>\n",
       "      <td>3</td>\n",
       "    </tr>\n",
       "    <tr>\n",
       "      <th>1</th>\n",
       "      <td>ALAnostics</td>\n",
       "      <td>ALAnostics are a speciality Biopharmaceutical ...</td>\n",
       "      <td>https://alanostics.ch/</td>\n",
       "      <td>None</td>\n",
       "      <td>None</td>\n",
       "      <td>https://www.linkedin.com/company/alanostics/</td>\n",
       "      <td>60000.0</td>\n",
       "      <td>0</td>\n",
       "      <td>2018.0</td>\n",
       "      <td>3</td>\n",
       "      <td>3</td>\n",
       "      <td>Switzerland</td>\n",
       "      <td>Renens</td>\n",
       "      <td>health</td>\n",
       "      <td>0</td>\n",
       "      <td>3</td>\n",
       "      <td>2</td>\n",
       "      <td>0</td>\n",
       "      <td>0.333333</td>\n",
       "      <td>failed</td>\n",
       "      <td>0</td>\n",
       "      <td>0</td>\n",
       "      <td>2</td>\n",
       "    </tr>\n",
       "    <tr>\n",
       "      <th>2</th>\n",
       "      <td>Stragen Chemical</td>\n",
       "      <td>Focusing on innovation for health solutions si...</td>\n",
       "      <td>http://stragen.ch</td>\n",
       "      <td>None</td>\n",
       "      <td>https://twitter.com/stragenpharma</td>\n",
       "      <td>https://www.linkedin.com/company/stragenpharma</td>\n",
       "      <td>0.0</td>\n",
       "      <td>0</td>\n",
       "      <td>1990.0</td>\n",
       "      <td>1</td>\n",
       "      <td>0</td>\n",
       "      <td>Switzerland</td>\n",
       "      <td>Orvin</td>\n",
       "      <td>health</td>\n",
       "      <td>0</td>\n",
       "      <td>0</td>\n",
       "      <td>0</td>\n",
       "      <td>0</td>\n",
       "      <td>NaN</td>\n",
       "      <td>acquired</td>\n",
       "      <td>0</td>\n",
       "      <td>0</td>\n",
       "      <td>3</td>\n",
       "    </tr>\n",
       "    <tr>\n",
       "      <th>6</th>\n",
       "      <td>Sajas Group</td>\n",
       "      <td>Sajas Group is a leading European brush compan...</td>\n",
       "      <td>https://www.sajas-group.com</td>\n",
       "      <td>None</td>\n",
       "      <td>https://twitter.com/envobrush</td>\n",
       "      <td>https://www.linkedin.com/company/sajas-group/</td>\n",
       "      <td>NaN</td>\n",
       "      <td>0</td>\n",
       "      <td>1945.0</td>\n",
       "      <td>1</td>\n",
       "      <td>1</td>\n",
       "      <td>Iceland</td>\n",
       "      <td>Reykjavík</td>\n",
       "      <td>fintech</td>\n",
       "      <td>0</td>\n",
       "      <td>0</td>\n",
       "      <td>0</td>\n",
       "      <td>0</td>\n",
       "      <td>75.000000</td>\n",
       "      <td>acquired</td>\n",
       "      <td>0</td>\n",
       "      <td>0</td>\n",
       "      <td>6</td>\n",
       "    </tr>\n",
       "    <tr>\n",
       "      <th>7</th>\n",
       "      <td>Komatsu Germany</td>\n",
       "      <td>Komatsu Europe International n.v. (KEISA) are ...</td>\n",
       "      <td>http://komatsu.eu</td>\n",
       "      <td>None</td>\n",
       "      <td>None</td>\n",
       "      <td>https://www.linkedin.com/company/komatsu-europ...</td>\n",
       "      <td>0.0</td>\n",
       "      <td>0</td>\n",
       "      <td>2006.0</td>\n",
       "      <td>1</td>\n",
       "      <td>0</td>\n",
       "      <td>Germany</td>\n",
       "      <td>Munich</td>\n",
       "      <td>robotics</td>\n",
       "      <td>0</td>\n",
       "      <td>0</td>\n",
       "      <td>0</td>\n",
       "      <td>0</td>\n",
       "      <td>NaN</td>\n",
       "      <td>acquired</td>\n",
       "      <td>0</td>\n",
       "      <td>0</td>\n",
       "      <td>3</td>\n",
       "    </tr>\n",
       "  </tbody>\n",
       "</table>\n",
       "</div>"
      ],
      "text/plain": [
       "               name                                              about                  website_url facebook_url                        twitter_url                                       linkedin_url  total_funding  patents_count  launch_year  investors_total fundings_total country_name  city_name   industry_name  number_top_schools  number_schools  team_male  team_female  avg_time_funding         Y  is_bootstrapped  number_top_inv  missing_values\n",
       "0               LNS  LNS brings over 45 years of proven experience ...         http://lns-group.com         None                               None  https://www.linkedin.com/company/lns-managemen...            0.0              7       1973.0                1              0  Switzerland      Orvin  semiconductors                   0               0          0            0               NaN  acquired                0               0               3\n",
       "1        ALAnostics  ALAnostics are a speciality Biopharmaceutical ...       https://alanostics.ch/         None                               None       https://www.linkedin.com/company/alanostics/        60000.0              0       2018.0                3              3  Switzerland     Renens          health                   0               3          2            0          0.333333    failed                0               0               2\n",
       "2  Stragen Chemical  Focusing on innovation for health solutions si...            http://stragen.ch         None  https://twitter.com/stragenpharma     https://www.linkedin.com/company/stragenpharma            0.0              0       1990.0                1              0  Switzerland      Orvin          health                   0               0          0            0               NaN  acquired                0               0               3\n",
       "6       Sajas Group  Sajas Group is a leading European brush compan...  https://www.sajas-group.com         None      https://twitter.com/envobrush      https://www.linkedin.com/company/sajas-group/            NaN              0       1945.0                1              1      Iceland  Reykjavík         fintech                   0               0          0            0         75.000000  acquired                0               0               6\n",
       "7   Komatsu Germany  Komatsu Europe International n.v. (KEISA) are ...            http://komatsu.eu         None                               None  https://www.linkedin.com/company/komatsu-europ...            0.0              0       2006.0                1              0      Germany     Munich        robotics                   0               0          0            0               NaN  acquired                0               0               3"
      ]
     },
     "execution_count": 73,
     "metadata": {},
     "output_type": "execute_result"
    }
   ],
   "source": [
    "df_past2.head()"
   ]
  },
  {
   "cell_type": "code",
   "execution_count": 74,
   "metadata": {},
   "outputs": [],
   "source": [
    "from nltk.corpus import stopwords"
   ]
  },
  {
   "cell_type": "code",
   "execution_count": 75,
   "metadata": {},
   "outputs": [],
   "source": [
    "stop_words=set(stopwords.words('english'))"
   ]
  },
  {
   "cell_type": "code",
   "execution_count": 76,
   "metadata": {},
   "outputs": [],
   "source": [
    "a=map(lambda p: tokenizer(p), df_past2[\"about\"]) # remove stopwords and seperate str into list of words\n",
    "df_past2[\"about\"]=list(a)\n",
    "\n",
    "a=map(lambda p: len([w.lower() for w in p if w.isalpha()]), df_past2[\"about\"]) # remove all special signs and non alphabetic characters\n",
    "df_past2[\"about\"]=list(a)"
   ]
  },
  {
   "cell_type": "markdown",
   "metadata": {},
   "source": [
    "2. Country_name"
   ]
  },
  {
   "cell_type": "code",
   "execution_count": 77,
   "metadata": {},
   "outputs": [],
   "source": [
    "le=LabelEncoder()\n",
    "label=le.fit_transform(df_past2.country_name)\n",
    "\n",
    "df_past2[\"country_name\"]=label"
   ]
  },
  {
   "cell_type": "markdown",
   "metadata": {},
   "source": [
    "3. City_name"
   ]
  },
  {
   "cell_type": "code",
   "execution_count": 78,
   "metadata": {},
   "outputs": [],
   "source": [
    "le=LabelEncoder()\n",
    "label=le.fit_transform(df_past2.city_name)\n",
    "\n",
    "df_past2[\"city_name\"]=label"
   ]
  },
  {
   "cell_type": "code",
   "execution_count": null,
   "metadata": {},
   "outputs": [],
   "source": [
    "4. Industry_name"
   ]
  },
  {
   "cell_type": "code",
   "execution_count": 79,
   "metadata": {},
   "outputs": [],
   "source": [
    "le=LabelEncoder()\n",
    "label=le.fit_transform(df_past2.industry_name)\n",
    "\n",
    "df_past2[\"industry_name\"]=label"
   ]
  },
  {
   "cell_type": "markdown",
   "metadata": {},
   "source": [
    "6. Years"
   ]
  },
  {
   "cell_type": "code",
   "execution_count": 80,
   "metadata": {},
   "outputs": [],
   "source": [
    "df_past2[\"launch_year\"]=year_dif=2023-df_past2[\"launch_year\"]"
   ]
  },
  {
   "cell_type": "markdown",
   "metadata": {},
   "source": [
    "7. URL"
   ]
  },
  {
   "cell_type": "code",
   "execution_count": 81,
   "metadata": {},
   "outputs": [],
   "source": [
    "df_past2[\"website_url\"]=df_past2[\"website_url\"].apply(lambda x:0 if x==None else 1)\n",
    "df_past2[\"linkedin_url\"]=df_past2[\"linkedin_url\"].apply(lambda x:0 if x==None else 1)\n",
    "df_past2[\"facebook_url\"]=df_past2[\"facebook_url\"].apply(lambda x:0 if x==None else 1)\n",
    "df_past2[\"twitter_url\"]=df_past2[\"twitter_url\"].apply(lambda x:0 if x==None else 1)"
   ]
  },
  {
   "cell_type": "markdown",
   "metadata": {},
   "source": [
    "5. Y\n",
    "1- nothing happend\n",
    "2- acquired\n",
    "3- IPO\n",
    "4- failed\n",
    "5- received funding"
   ]
  },
  {
   "cell_type": "code",
   "execution_count": 82,
   "metadata": {},
   "outputs": [],
   "source": [
    "df_past2.loc[df_past2[\"Y\"]==0,\"Y\"]=0\n",
    "df_past2.loc[df_past2[\"Y\"]==\"acquired\",\"Y\"]=1\n",
    "df_past2.loc[df_past2[\"Y\"]==\"IPO\",\"Y\"]=2\n",
    "df_past2.loc[df_past2[\"Y\"]==\"failed\",\"Y\"]=3\n",
    "df_past2.loc[df_past2[\"Y\"]==\"funding\",\"Y\"]=4"
   ]
  },
  {
   "cell_type": "markdown",
   "metadata": {},
   "source": [
    "# Imputation"
   ]
  },
  {
   "cell_type": "markdown",
   "metadata": {},
   "source": [
    "1. total_funding (KNN) - maybe on evertyhing\n",
    "2. employees latest (median)\n",
    "3. team_male team_female (distribution)\n",
    "4. employees_growth (0)\n",
    "5. avg_time funding (KNN) - total_funding, fundings_total, launch year, country name, \n",
    "6. ? number of Schools ?\n"
   ]
  },
  {
   "cell_type": "markdown",
   "metadata": {},
   "source": [
    "2. Employees_latest"
   ]
  },
  {
   "cell_type": "code",
   "execution_count": 83,
   "metadata": {},
   "outputs": [],
   "source": [
    "df_past2 = df_past2.reset_index(drop=True)"
   ]
  },
  {
   "cell_type": "code",
   "execution_count": 84,
   "metadata": {},
   "outputs": [
    {
     "ename": "KeyError",
     "evalue": "'employees_latest'",
     "output_type": "error",
     "traceback": [
      "\u001b[0;31m---------------------------------------------------------------------------\u001b[0m",
      "\u001b[0;31mKeyError\u001b[0m                                  Traceback (most recent call last)",
      "File \u001b[0;32m/usr/local/lib/python3.10/site-packages/pandas/core/indexes/base.py:3800\u001b[0m, in \u001b[0;36mIndex.get_loc\u001b[0;34m(self, key, method, tolerance)\u001b[0m\n\u001b[1;32m   3799\u001b[0m \u001b[39mtry\u001b[39;00m:\n\u001b[0;32m-> 3800\u001b[0m     \u001b[39mreturn\u001b[39;00m \u001b[39mself\u001b[39;49m\u001b[39m.\u001b[39;49m_engine\u001b[39m.\u001b[39;49mget_loc(casted_key)\n\u001b[1;32m   3801\u001b[0m \u001b[39mexcept\u001b[39;00m \u001b[39mKeyError\u001b[39;00m \u001b[39mas\u001b[39;00m err:\n",
      "File \u001b[0;32m/usr/local/lib/python3.10/site-packages/pandas/_libs/index.pyx:138\u001b[0m, in \u001b[0;36mpandas._libs.index.IndexEngine.get_loc\u001b[0;34m()\u001b[0m\n",
      "File \u001b[0;32m/usr/local/lib/python3.10/site-packages/pandas/_libs/index.pyx:165\u001b[0m, in \u001b[0;36mpandas._libs.index.IndexEngine.get_loc\u001b[0;34m()\u001b[0m\n",
      "File \u001b[0;32mpandas/_libs/hashtable_class_helper.pxi:5745\u001b[0m, in \u001b[0;36mpandas._libs.hashtable.PyObjectHashTable.get_item\u001b[0;34m()\u001b[0m\n",
      "File \u001b[0;32mpandas/_libs/hashtable_class_helper.pxi:5753\u001b[0m, in \u001b[0;36mpandas._libs.hashtable.PyObjectHashTable.get_item\u001b[0;34m()\u001b[0m\n",
      "\u001b[0;31mKeyError\u001b[0m: 'employees_latest'",
      "\nThe above exception was the direct cause of the following exception:\n",
      "\u001b[0;31mKeyError\u001b[0m                                  Traceback (most recent call last)",
      "Cell \u001b[0;32mIn [84], line 4\u001b[0m\n\u001b[1;32m      2\u001b[0m df_mode \u001b[39m=\u001b[39m df_past2\u001b[39m.\u001b[39mcopy()\n\u001b[1;32m      3\u001b[0m mode_imputer \u001b[39m=\u001b[39m SimpleImputer(strategy\u001b[39m=\u001b[39m\u001b[39m'\u001b[39m\u001b[39mmedian\u001b[39m\u001b[39m'\u001b[39m)\n\u001b[0;32m----> 4\u001b[0m df_mode[\u001b[39m\"\u001b[39m\u001b[39memployees_latest\u001b[39m\u001b[39m\"\u001b[39m] \u001b[39m=\u001b[39m mode_imputer\u001b[39m.\u001b[39mfit_transform(df_mode[\u001b[39m\"\u001b[39;49m\u001b[39memployees_latest\u001b[39;49m\u001b[39m\"\u001b[39;49m]\u001b[39m.\u001b[39mvalues\u001b[39m.\u001b[39mreshape(\u001b[39m-\u001b[39m\u001b[39m1\u001b[39m,\u001b[39m1\u001b[39m))\n",
      "File \u001b[0;32m/usr/local/lib/python3.10/site-packages/pandas/core/frame.py:3805\u001b[0m, in \u001b[0;36mDataFrame.__getitem__\u001b[0;34m(self, key)\u001b[0m\n\u001b[1;32m   3803\u001b[0m \u001b[39mif\u001b[39;00m \u001b[39mself\u001b[39m\u001b[39m.\u001b[39mcolumns\u001b[39m.\u001b[39mnlevels \u001b[39m>\u001b[39m \u001b[39m1\u001b[39m:\n\u001b[1;32m   3804\u001b[0m     \u001b[39mreturn\u001b[39;00m \u001b[39mself\u001b[39m\u001b[39m.\u001b[39m_getitem_multilevel(key)\n\u001b[0;32m-> 3805\u001b[0m indexer \u001b[39m=\u001b[39m \u001b[39mself\u001b[39;49m\u001b[39m.\u001b[39;49mcolumns\u001b[39m.\u001b[39;49mget_loc(key)\n\u001b[1;32m   3806\u001b[0m \u001b[39mif\u001b[39;00m is_integer(indexer):\n\u001b[1;32m   3807\u001b[0m     indexer \u001b[39m=\u001b[39m [indexer]\n",
      "File \u001b[0;32m/usr/local/lib/python3.10/site-packages/pandas/core/indexes/base.py:3802\u001b[0m, in \u001b[0;36mIndex.get_loc\u001b[0;34m(self, key, method, tolerance)\u001b[0m\n\u001b[1;32m   3800\u001b[0m     \u001b[39mreturn\u001b[39;00m \u001b[39mself\u001b[39m\u001b[39m.\u001b[39m_engine\u001b[39m.\u001b[39mget_loc(casted_key)\n\u001b[1;32m   3801\u001b[0m \u001b[39mexcept\u001b[39;00m \u001b[39mKeyError\u001b[39;00m \u001b[39mas\u001b[39;00m err:\n\u001b[0;32m-> 3802\u001b[0m     \u001b[39mraise\u001b[39;00m \u001b[39mKeyError\u001b[39;00m(key) \u001b[39mfrom\u001b[39;00m \u001b[39merr\u001b[39;00m\n\u001b[1;32m   3803\u001b[0m \u001b[39mexcept\u001b[39;00m \u001b[39mTypeError\u001b[39;00m:\n\u001b[1;32m   3804\u001b[0m     \u001b[39m# If we have a listlike key, _check_indexing_error will raise\u001b[39;00m\n\u001b[1;32m   3805\u001b[0m     \u001b[39m#  InvalidIndexError. Otherwise we fall through and re-raise\u001b[39;00m\n\u001b[1;32m   3806\u001b[0m     \u001b[39m#  the TypeError.\u001b[39;00m\n\u001b[1;32m   3807\u001b[0m     \u001b[39mself\u001b[39m\u001b[39m.\u001b[39m_check_indexing_error(key)\n",
      "\u001b[0;31mKeyError\u001b[0m: 'employees_latest'"
     ]
    }
   ],
   "source": [
    "from sklearn.impute import SimpleImputer\n",
    "df_mode = df_past2.copy()\n",
    "mode_imputer = SimpleImputer(strategy='median')\n",
    "df_mode[\"employees_latest\"] = mode_imputer.fit_transform(df_mode[\"employees_latest\"].values.reshape(-1,1))\n"
   ]
  },
  {
   "cell_type": "markdown",
   "metadata": {},
   "source": [
    "3. Team_male Team_female"
   ]
  },
  {
   "cell_type": "code",
   "execution_count": 85,
   "metadata": {},
   "outputs": [],
   "source": [
    "df_mode = df_mode.reset_index(drop=True)"
   ]
  },
  {
   "cell_type": "code",
   "execution_count": 86,
   "metadata": {},
   "outputs": [],
   "source": [
    "prob=df_mode[\"team_female\"].sum()/df_mode[\"team_male\"].sum()\n",
    "df_mode[\"cteam\"]=df_mode[\"team_male\"]+df_mode[\"team_female\"]\n",
    "df_mode.loc[df_mode[\"cteam\"]==0,\"cteam\"]=None\n",
    "df_mode.loc[~(pd.isnull(df_mode[\"cteam\"])),\"cteam\"]=\"Set\"\n",
    "#df_mode.loc[df_mode[\"cteam\"]!=0,\"cteam\"]=\"Set\"\n"
   ]
  },
  {
   "cell_type": "code",
   "execution_count": 89,
   "metadata": {},
   "outputs": [
    {
     "data": {
      "text/html": [
       "<div>\n",
       "<style scoped>\n",
       "    .dataframe tbody tr th:only-of-type {\n",
       "        vertical-align: middle;\n",
       "    }\n",
       "\n",
       "    .dataframe tbody tr th {\n",
       "        vertical-align: top;\n",
       "    }\n",
       "\n",
       "    .dataframe thead th {\n",
       "        text-align: right;\n",
       "    }\n",
       "</style>\n",
       "<table border=\"1\" class=\"dataframe\">\n",
       "  <thead>\n",
       "    <tr style=\"text-align: right;\">\n",
       "      <th></th>\n",
       "      <th>name</th>\n",
       "      <th>about</th>\n",
       "      <th>website_url</th>\n",
       "      <th>facebook_url</th>\n",
       "      <th>twitter_url</th>\n",
       "      <th>linkedin_url</th>\n",
       "      <th>total_funding</th>\n",
       "      <th>patents_count</th>\n",
       "      <th>launch_year</th>\n",
       "      <th>investors_total</th>\n",
       "      <th>fundings_total</th>\n",
       "      <th>country_name</th>\n",
       "      <th>city_name</th>\n",
       "      <th>industry_name</th>\n",
       "      <th>number_top_schools</th>\n",
       "      <th>number_schools</th>\n",
       "      <th>team_male</th>\n",
       "      <th>team_female</th>\n",
       "      <th>avg_time_funding</th>\n",
       "      <th>Y</th>\n",
       "      <th>is_bootstrapped</th>\n",
       "      <th>number_top_inv</th>\n",
       "      <th>missing_values</th>\n",
       "    </tr>\n",
       "  </thead>\n",
       "  <tbody>\n",
       "    <tr>\n",
       "      <th>0</th>\n",
       "      <td>LNS</td>\n",
       "      <td>28</td>\n",
       "      <td>1</td>\n",
       "      <td>0</td>\n",
       "      <td>0</td>\n",
       "      <td>1</td>\n",
       "      <td>0.0</td>\n",
       "      <td>7</td>\n",
       "      <td>50.0</td>\n",
       "      <td>1</td>\n",
       "      <td>0</td>\n",
       "      <td>19</td>\n",
       "      <td>27</td>\n",
       "      <td>18</td>\n",
       "      <td>0</td>\n",
       "      <td>0</td>\n",
       "      <td>1</td>\n",
       "      <td>0</td>\n",
       "      <td>NaN</td>\n",
       "      <td>1</td>\n",
       "      <td>0</td>\n",
       "      <td>0</td>\n",
       "      <td>3</td>\n",
       "    </tr>\n",
       "    <tr>\n",
       "      <th>1</th>\n",
       "      <td>ALAnostics</td>\n",
       "      <td>69</td>\n",
       "      <td>1</td>\n",
       "      <td>0</td>\n",
       "      <td>0</td>\n",
       "      <td>1</td>\n",
       "      <td>60000.0</td>\n",
       "      <td>0</td>\n",
       "      <td>5.0</td>\n",
       "      <td>3</td>\n",
       "      <td>3</td>\n",
       "      <td>19</td>\n",
       "      <td>30</td>\n",
       "      <td>7</td>\n",
       "      <td>0</td>\n",
       "      <td>3</td>\n",
       "      <td>2</td>\n",
       "      <td>0</td>\n",
       "      <td>0.333333</td>\n",
       "      <td>3</td>\n",
       "      <td>0</td>\n",
       "      <td>0</td>\n",
       "      <td>2</td>\n",
       "    </tr>\n",
       "    <tr>\n",
       "      <th>2</th>\n",
       "      <td>Stragen Chemical</td>\n",
       "      <td>130</td>\n",
       "      <td>1</td>\n",
       "      <td>0</td>\n",
       "      <td>1</td>\n",
       "      <td>1</td>\n",
       "      <td>0.0</td>\n",
       "      <td>0</td>\n",
       "      <td>33.0</td>\n",
       "      <td>1</td>\n",
       "      <td>0</td>\n",
       "      <td>19</td>\n",
       "      <td>27</td>\n",
       "      <td>7</td>\n",
       "      <td>0</td>\n",
       "      <td>0</td>\n",
       "      <td>1</td>\n",
       "      <td>0</td>\n",
       "      <td>NaN</td>\n",
       "      <td>1</td>\n",
       "      <td>0</td>\n",
       "      <td>0</td>\n",
       "      <td>3</td>\n",
       "    </tr>\n",
       "    <tr>\n",
       "      <th>3</th>\n",
       "      <td>Sajas Group</td>\n",
       "      <td>8</td>\n",
       "      <td>1</td>\n",
       "      <td>0</td>\n",
       "      <td>1</td>\n",
       "      <td>1</td>\n",
       "      <td>NaN</td>\n",
       "      <td>0</td>\n",
       "      <td>78.0</td>\n",
       "      <td>1</td>\n",
       "      <td>1</td>\n",
       "      <td>7</td>\n",
       "      <td>31</td>\n",
       "      <td>4</td>\n",
       "      <td>0</td>\n",
       "      <td>0</td>\n",
       "      <td>1</td>\n",
       "      <td>0</td>\n",
       "      <td>75.000000</td>\n",
       "      <td>1</td>\n",
       "      <td>0</td>\n",
       "      <td>0</td>\n",
       "      <td>6</td>\n",
       "    </tr>\n",
       "    <tr>\n",
       "      <th>4</th>\n",
       "      <td>Komatsu Germany</td>\n",
       "      <td>104</td>\n",
       "      <td>1</td>\n",
       "      <td>0</td>\n",
       "      <td>0</td>\n",
       "      <td>1</td>\n",
       "      <td>0.0</td>\n",
       "      <td>0</td>\n",
       "      <td>17.0</td>\n",
       "      <td>1</td>\n",
       "      <td>0</td>\n",
       "      <td>5</td>\n",
       "      <td>25</td>\n",
       "      <td>16</td>\n",
       "      <td>0</td>\n",
       "      <td>0</td>\n",
       "      <td>1</td>\n",
       "      <td>0</td>\n",
       "      <td>NaN</td>\n",
       "      <td>1</td>\n",
       "      <td>0</td>\n",
       "      <td>0</td>\n",
       "      <td>3</td>\n",
       "    </tr>\n",
       "  </tbody>\n",
       "</table>\n",
       "</div>"
      ],
      "text/plain": [
       "               name  about  website_url  facebook_url  twitter_url  linkedin_url  total_funding  patents_count  launch_year  investors_total fundings_total  country_name  city_name  industry_name  number_top_schools  number_schools  team_male  team_female  avg_time_funding  Y  is_bootstrapped  number_top_inv  missing_values\n",
       "0               LNS     28            1             0            0             1            0.0              7         50.0                1              0            19         27             18                   0               0          1            0               NaN  1                0               0               3\n",
       "1        ALAnostics     69            1             0            0             1        60000.0              0          5.0                3              3            19         30              7                   0               3          2            0          0.333333  3                0               0               2\n",
       "2  Stragen Chemical    130            1             0            1             1            0.0              0         33.0                1              0            19         27              7                   0               0          1            0               NaN  1                0               0               3\n",
       "3       Sajas Group      8            1             0            1             1            NaN              0         78.0                1              1             7         31              4                   0               0          1            0         75.000000  1                0               0               6\n",
       "4   Komatsu Germany    104            1             0            0             1            0.0              0         17.0                1              0             5         25             16                   0               0          1            0               NaN  1                0               0               3"
      ]
     },
     "execution_count": 89,
     "metadata": {},
     "output_type": "execute_result"
    }
   ],
   "source": [
    "df_mode.head()"
   ]
  },
  {
   "cell_type": "code",
   "execution_count": 88,
   "metadata": {},
   "outputs": [],
   "source": [
    "shape_df=df_mode.loc[df_mode[\"cteam\"]!=\"Set\",\"cteam\"].shape\n",
    "\n",
    "df_mode.loc[df_mode[\"cteam\"]!=\"Set\",\"cteam\"]=np.random.choice(2, shape_df[0],p=[prob,1-prob])\n",
    "df_mode.loc[df_mode[\"cteam\"]==1,\"team_male\"]=1\n",
    "df_mode.loc[df_mode[\"cteam\"]==1,\"team_female\"]=0\n",
    "df_mode.loc[df_mode[\"cteam\"]==0,\"team_female\"]=1\n",
    "df_mode.loc[df_mode[\"cteam\"]==0,\"team_male\"]=0\n",
    "df_mode.drop(columns=[\"cteam\"],inplace=True)"
   ]
  },
  {
   "cell_type": "code",
   "execution_count": 90,
   "metadata": {},
   "outputs": [
    {
     "data": {
      "text/plain": [
       "(37286,)"
      ]
     },
     "execution_count": 90,
     "metadata": {},
     "output_type": "execute_result"
    }
   ],
   "source": [
    "shape_df"
   ]
  },
  {
   "cell_type": "markdown",
   "metadata": {},
   "source": [
    "4. Employees_Growth"
   ]
  },
  {
   "cell_type": "code",
   "execution_count": 548,
   "metadata": {},
   "outputs": [],
   "source": [
    "df_mode.loc[df_mode[\"employees_growth\"].apply(lambda x: True if math.isnan(x) else False),\"employees_growth\"]=0"
   ]
  },
  {
   "cell_type": "markdown",
   "metadata": {},
   "source": [
    "5. avg_time funding"
   ]
  },
  {
   "cell_type": "markdown",
   "metadata": {},
   "source": [
    "Total funding / avg funding time"
   ]
  },
  {
   "cell_type": "code",
   "execution_count": 10,
   "metadata": {},
   "outputs": [],
   "source": [
    "df_mode.loc[pd.isnull(df_mode[\"fundings_total\"]),\"fundings_total\"]=0"
   ]
  },
  {
   "cell_type": "code",
   "execution_count": 119,
   "metadata": {},
   "outputs": [],
   "source": [
    "from sklearn.experimental import enable_iterative_imputer\n",
    "from sklearn.impute import IterativeImputer\n",
    "from sklearn import linear_model\n",
    "\n",
    "df_mice = df_mode.filter(['total_funding', 'fundings_total', 'launch_year', 'country_name',\"avg_time_funding\",\"launch_year\",\"number_top_schools\"], axis=1)\n",
    "df_mice[\"fundings_total\"]=pd.to_numeric(df_mice[\"fundings_total\"])\n",
    "mice_imputer = IterativeImputer(estimator=linear_model.BayesianRidge(), n_nearest_features=None, imputation_order='ascending', missing_values=np.nan, min_value = 0.0)\n",
    "df_mice_imputed = pd.DataFrame(mice_imputer.fit_transform(df_mice), columns=df_mice.columns)"
   ]
  },
  {
   "cell_type": "code",
   "execution_count": 146,
   "metadata": {},
   "outputs": [
    {
     "data": {
      "text/plain": [
       "(0, 7)"
      ]
     },
     "execution_count": 146,
     "metadata": {},
     "output_type": "execute_result"
    }
   ],
   "source": [
    "df_mice_imputed[df_mice_imputed[\"total_funding\"]<0].shape"
   ]
  },
  {
   "cell_type": "code",
   "execution_count": 121,
   "metadata": {},
   "outputs": [],
   "source": [
    "df_mode[\"total_funding\"]=df_mice_imputed[\"total_funding\"].values\n",
    "df_mode[\"avg_time_funding\"]=df_mice_imputed[\"avg_time_funding\"].values\n",
    "df_mode.drop(df_mode.loc[df_mode[\"name\"].isna()].index,inplace=True)\n"
   ]
  },
  {
   "cell_type": "code",
   "execution_count": 13,
   "metadata": {},
   "outputs": [
    {
     "name": "stdout",
     "output_type": "stream",
     "text": [
      "                    Missing Values  In percent\n",
      "name                             0         0.0\n",
      "about                            0         0.0\n",
      "website_url                      0         0.0\n",
      "facebook_url                     0         0.0\n",
      "twitter_url                      0         0.0\n",
      "linkedin_url                     0         0.0\n",
      "total_funding                    0         0.0\n",
      "patents_count                    0         0.0\n",
      "launch_year                      0         0.0\n",
      "investors_total                  0         0.0\n",
      "fundings_total                   0         0.0\n",
      "country_name                     0         0.0\n",
      "city_name                        0         0.0\n",
      "industry_name                    0         0.0\n",
      "number_top_schools               0         0.0\n",
      "number_schools                   0         0.0\n",
      "team_male                        0         0.0\n",
      "team_female                      0         0.0\n",
      "avg_time_funding                 0         0.0\n",
      "Y                                0         0.0\n",
      "is_bootstrapped                  0         0.0\n",
      "number_top_inv                   0         0.0\n",
      "missing_values                   0         0.0\n"
     ]
    }
   ],
   "source": [
    "x=df_mode.isna().sum()\n",
    "y=df_mode.isna().sum()/len(df_mode)*100\n",
    "missing_values=pd.concat([x, y], axis=1)\n",
    "missing_values.columns=[\"Missing Values\",\"In percent\"]\n",
    "print(missing_values)"
   ]
  },
  {
   "cell_type": "code",
   "execution_count": 96,
   "metadata": {},
   "outputs": [
    {
     "data": {
      "text/html": [
       "<div>\n",
       "<style scoped>\n",
       "    .dataframe tbody tr th:only-of-type {\n",
       "        vertical-align: middle;\n",
       "    }\n",
       "\n",
       "    .dataframe tbody tr th {\n",
       "        vertical-align: top;\n",
       "    }\n",
       "\n",
       "    .dataframe thead th {\n",
       "        text-align: right;\n",
       "    }\n",
       "</style>\n",
       "<table border=\"1\" class=\"dataframe\">\n",
       "  <thead>\n",
       "    <tr style=\"text-align: right;\">\n",
       "      <th></th>\n",
       "      <th>name</th>\n",
       "      <th>about</th>\n",
       "      <th>website_url</th>\n",
       "      <th>facebook_url</th>\n",
       "      <th>twitter_url</th>\n",
       "      <th>linkedin_url</th>\n",
       "      <th>total_funding</th>\n",
       "      <th>patents_count</th>\n",
       "      <th>launch_year</th>\n",
       "      <th>investors_total</th>\n",
       "      <th>fundings_total</th>\n",
       "      <th>country_name</th>\n",
       "      <th>city_name</th>\n",
       "      <th>industry_name</th>\n",
       "      <th>number_top_schools</th>\n",
       "      <th>number_schools</th>\n",
       "      <th>team_male</th>\n",
       "      <th>team_female</th>\n",
       "      <th>avg_time_funding</th>\n",
       "      <th>Y</th>\n",
       "      <th>is_bootstrapped</th>\n",
       "      <th>number_top_inv</th>\n",
       "      <th>missing_values</th>\n",
       "    </tr>\n",
       "  </thead>\n",
       "  <tbody>\n",
       "    <tr>\n",
       "      <th>0</th>\n",
       "      <td>LNS</td>\n",
       "      <td>28</td>\n",
       "      <td>1</td>\n",
       "      <td>0</td>\n",
       "      <td>0</td>\n",
       "      <td>1</td>\n",
       "      <td>0.000000e+00</td>\n",
       "      <td>7</td>\n",
       "      <td>50.0</td>\n",
       "      <td>1</td>\n",
       "      <td>0</td>\n",
       "      <td>19</td>\n",
       "      <td>27</td>\n",
       "      <td>18</td>\n",
       "      <td>0</td>\n",
       "      <td>0</td>\n",
       "      <td>1</td>\n",
       "      <td>0</td>\n",
       "      <td>22.067786</td>\n",
       "      <td>1</td>\n",
       "      <td>0</td>\n",
       "      <td>0</td>\n",
       "      <td>3</td>\n",
       "    </tr>\n",
       "    <tr>\n",
       "      <th>1</th>\n",
       "      <td>ALAnostics</td>\n",
       "      <td>69</td>\n",
       "      <td>1</td>\n",
       "      <td>0</td>\n",
       "      <td>0</td>\n",
       "      <td>1</td>\n",
       "      <td>6.000000e+04</td>\n",
       "      <td>0</td>\n",
       "      <td>5.0</td>\n",
       "      <td>3</td>\n",
       "      <td>3</td>\n",
       "      <td>19</td>\n",
       "      <td>30</td>\n",
       "      <td>7</td>\n",
       "      <td>0</td>\n",
       "      <td>3</td>\n",
       "      <td>2</td>\n",
       "      <td>0</td>\n",
       "      <td>0.333333</td>\n",
       "      <td>3</td>\n",
       "      <td>0</td>\n",
       "      <td>0</td>\n",
       "      <td>2</td>\n",
       "    </tr>\n",
       "    <tr>\n",
       "      <th>2</th>\n",
       "      <td>Stragen Chemical</td>\n",
       "      <td>130</td>\n",
       "      <td>1</td>\n",
       "      <td>0</td>\n",
       "      <td>1</td>\n",
       "      <td>1</td>\n",
       "      <td>0.000000e+00</td>\n",
       "      <td>0</td>\n",
       "      <td>33.0</td>\n",
       "      <td>1</td>\n",
       "      <td>0</td>\n",
       "      <td>19</td>\n",
       "      <td>27</td>\n",
       "      <td>7</td>\n",
       "      <td>0</td>\n",
       "      <td>0</td>\n",
       "      <td>1</td>\n",
       "      <td>0</td>\n",
       "      <td>14.892889</td>\n",
       "      <td>1</td>\n",
       "      <td>0</td>\n",
       "      <td>0</td>\n",
       "      <td>3</td>\n",
       "    </tr>\n",
       "    <tr>\n",
       "      <th>3</th>\n",
       "      <td>Sajas Group</td>\n",
       "      <td>8</td>\n",
       "      <td>1</td>\n",
       "      <td>0</td>\n",
       "      <td>1</td>\n",
       "      <td>1</td>\n",
       "      <td>2.995059e+07</td>\n",
       "      <td>0</td>\n",
       "      <td>78.0</td>\n",
       "      <td>1</td>\n",
       "      <td>1</td>\n",
       "      <td>7</td>\n",
       "      <td>31</td>\n",
       "      <td>4</td>\n",
       "      <td>0</td>\n",
       "      <td>0</td>\n",
       "      <td>1</td>\n",
       "      <td>0</td>\n",
       "      <td>75.000000</td>\n",
       "      <td>1</td>\n",
       "      <td>0</td>\n",
       "      <td>0</td>\n",
       "      <td>6</td>\n",
       "    </tr>\n",
       "    <tr>\n",
       "      <th>4</th>\n",
       "      <td>Komatsu Germany</td>\n",
       "      <td>104</td>\n",
       "      <td>1</td>\n",
       "      <td>0</td>\n",
       "      <td>0</td>\n",
       "      <td>1</td>\n",
       "      <td>0.000000e+00</td>\n",
       "      <td>0</td>\n",
       "      <td>17.0</td>\n",
       "      <td>1</td>\n",
       "      <td>0</td>\n",
       "      <td>5</td>\n",
       "      <td>25</td>\n",
       "      <td>16</td>\n",
       "      <td>0</td>\n",
       "      <td>0</td>\n",
       "      <td>1</td>\n",
       "      <td>0</td>\n",
       "      <td>7.969984</td>\n",
       "      <td>1</td>\n",
       "      <td>0</td>\n",
       "      <td>0</td>\n",
       "      <td>3</td>\n",
       "    </tr>\n",
       "  </tbody>\n",
       "</table>\n",
       "</div>"
      ],
      "text/plain": [
       "               name  about  website_url  facebook_url  twitter_url  linkedin_url  total_funding  patents_count  launch_year  investors_total fundings_total  country_name  city_name  industry_name  number_top_schools  number_schools  team_male  team_female  avg_time_funding  Y  is_bootstrapped  number_top_inv  missing_values\n",
       "0               LNS     28            1             0            0             1   0.000000e+00              7         50.0                1              0            19         27             18                   0               0          1            0         22.067786  1                0               0               3\n",
       "1        ALAnostics     69            1             0            0             1   6.000000e+04              0          5.0                3              3            19         30              7                   0               3          2            0          0.333333  3                0               0               2\n",
       "2  Stragen Chemical    130            1             0            1             1   0.000000e+00              0         33.0                1              0            19         27              7                   0               0          1            0         14.892889  1                0               0               3\n",
       "3       Sajas Group      8            1             0            1             1   2.995059e+07              0         78.0                1              1             7         31              4                   0               0          1            0         75.000000  1                0               0               6\n",
       "4   Komatsu Germany    104            1             0            0             1   0.000000e+00              0         17.0                1              0             5         25             16                   0               0          1            0          7.969984  1                0               0               3"
      ]
     },
     "execution_count": 96,
     "metadata": {},
     "output_type": "execute_result"
    }
   ],
   "source": [
    "df_mode.head()"
   ]
  },
  {
   "cell_type": "markdown",
   "metadata": {},
   "source": [
    "We need to transform the datatypes of the columns to numerical types for the ML models to be applicable"
   ]
  },
  {
   "cell_type": "code",
   "execution_count": 12,
   "metadata": {},
   "outputs": [
    {
     "data": {
      "text/plain": [
       "name                   object\n",
       "about                   int64\n",
       "website_url             int64\n",
       "facebook_url            int64\n",
       "twitter_url             int64\n",
       "linkedin_url            int64\n",
       "total_funding         float64\n",
       "patents_count           int64\n",
       "launch_year           float64\n",
       "investors_total         int64\n",
       "fundings_total        float64\n",
       "country_name            int64\n",
       "city_name               int64\n",
       "industry_name           int64\n",
       "number_top_schools      int64\n",
       "number_schools          int64\n",
       "team_male               int64\n",
       "team_female             int64\n",
       "avg_time_funding      float64\n",
       "Y                       int64\n",
       "is_bootstrapped         int64\n",
       "number_top_inv          int64\n",
       "missing_values          int64\n",
       "dtype: object"
      ]
     },
     "execution_count": 12,
     "metadata": {},
     "output_type": "execute_result"
    }
   ],
   "source": [
    "df_mode.dtypes"
   ]
  },
  {
   "cell_type": "code",
   "execution_count": 557,
   "metadata": {},
   "outputs": [],
   "source": []
  },
  {
   "cell_type": "code",
   "execution_count": 9,
   "metadata": {},
   "outputs": [],
   "source": [
    "df_mode[\"fundings_total\"]=pd.to_numeric(df_mode[\"fundings_total\"])\n",
    "df_mode[\"Y\"]=pd.to_numeric(df_mode[\"Y\"])"
   ]
  },
  {
   "cell_type": "code",
   "execution_count": 76,
   "metadata": {},
   "outputs": [
    {
     "name": "stderr",
     "output_type": "stream",
     "text": [
      "/var/folders/k0/ldv3tm456fl7jrgd0xn0vy5h0000gn/T/ipykernel_13139/2612738855.py:1: FutureWarning: The default value of numeric_only in DataFrame.corr is deprecated. In a future version, it will default to False. Select only valid columns or specify the value of numeric_only to silence this warning.\n",
      "  df_mode.corr()\n"
     ]
    },
    {
     "data": {
      "text/html": [
       "<div>\n",
       "<style scoped>\n",
       "    .dataframe tbody tr th:only-of-type {\n",
       "        vertical-align: middle;\n",
       "    }\n",
       "\n",
       "    .dataframe tbody tr th {\n",
       "        vertical-align: top;\n",
       "    }\n",
       "\n",
       "    .dataframe thead th {\n",
       "        text-align: right;\n",
       "    }\n",
       "</style>\n",
       "<table border=\"1\" class=\"dataframe\">\n",
       "  <thead>\n",
       "    <tr style=\"text-align: right;\">\n",
       "      <th></th>\n",
       "      <th>about</th>\n",
       "      <th>website_url</th>\n",
       "      <th>facebook_url</th>\n",
       "      <th>twitter_url</th>\n",
       "      <th>linkedin_url</th>\n",
       "      <th>total_funding</th>\n",
       "      <th>patents_count</th>\n",
       "      <th>launch_year</th>\n",
       "      <th>investors_total</th>\n",
       "      <th>fundings_total</th>\n",
       "      <th>country_name</th>\n",
       "      <th>city_name</th>\n",
       "      <th>industry_name</th>\n",
       "      <th>number_top_schools</th>\n",
       "      <th>number_schools</th>\n",
       "      <th>team_male</th>\n",
       "      <th>team_female</th>\n",
       "      <th>avg_time_funding</th>\n",
       "      <th>Y</th>\n",
       "      <th>is_bootstrapped</th>\n",
       "      <th>number_top_inv</th>\n",
       "      <th>missing_values</th>\n",
       "    </tr>\n",
       "  </thead>\n",
       "  <tbody>\n",
       "    <tr>\n",
       "      <th>about</th>\n",
       "      <td>1.000000</td>\n",
       "      <td>NaN</td>\n",
       "      <td>0.059379</td>\n",
       "      <td>0.061044</td>\n",
       "      <td>-0.051197</td>\n",
       "      <td>0.008026</td>\n",
       "      <td>-0.000234</td>\n",
       "      <td>0.065090</td>\n",
       "      <td>-0.010973</td>\n",
       "      <td>0.014424</td>\n",
       "      <td>-0.000425</td>\n",
       "      <td>-0.000281</td>\n",
       "      <td>0.002201</td>\n",
       "      <td>-0.008837</td>\n",
       "      <td>-0.013770</td>\n",
       "      <td>-0.000426</td>\n",
       "      <td>-0.008393</td>\n",
       "      <td>0.031206</td>\n",
       "      <td>-0.017693</td>\n",
       "      <td>-0.026484</td>\n",
       "      <td>-0.011753</td>\n",
       "      <td>-0.035531</td>\n",
       "    </tr>\n",
       "    <tr>\n",
       "      <th>website_url</th>\n",
       "      <td>NaN</td>\n",
       "      <td>NaN</td>\n",
       "      <td>NaN</td>\n",
       "      <td>NaN</td>\n",
       "      <td>NaN</td>\n",
       "      <td>NaN</td>\n",
       "      <td>NaN</td>\n",
       "      <td>NaN</td>\n",
       "      <td>NaN</td>\n",
       "      <td>NaN</td>\n",
       "      <td>NaN</td>\n",
       "      <td>NaN</td>\n",
       "      <td>NaN</td>\n",
       "      <td>NaN</td>\n",
       "      <td>NaN</td>\n",
       "      <td>NaN</td>\n",
       "      <td>NaN</td>\n",
       "      <td>NaN</td>\n",
       "      <td>NaN</td>\n",
       "      <td>NaN</td>\n",
       "      <td>NaN</td>\n",
       "      <td>NaN</td>\n",
       "    </tr>\n",
       "    <tr>\n",
       "      <th>facebook_url</th>\n",
       "      <td>0.059379</td>\n",
       "      <td>NaN</td>\n",
       "      <td>1.000000</td>\n",
       "      <td>0.326860</td>\n",
       "      <td>-0.026931</td>\n",
       "      <td>0.022983</td>\n",
       "      <td>0.006498</td>\n",
       "      <td>0.033821</td>\n",
       "      <td>0.093458</td>\n",
       "      <td>0.195364</td>\n",
       "      <td>-0.007461</td>\n",
       "      <td>-0.002650</td>\n",
       "      <td>-0.002212</td>\n",
       "      <td>-0.002156</td>\n",
       "      <td>0.003266</td>\n",
       "      <td>0.127650</td>\n",
       "      <td>0.017115</td>\n",
       "      <td>0.031396</td>\n",
       "      <td>-0.031734</td>\n",
       "      <td>-0.174495</td>\n",
       "      <td>0.057175</td>\n",
       "      <td>-0.151045</td>\n",
       "    </tr>\n",
       "    <tr>\n",
       "      <th>twitter_url</th>\n",
       "      <td>0.061044</td>\n",
       "      <td>NaN</td>\n",
       "      <td>0.326860</td>\n",
       "      <td>1.000000</td>\n",
       "      <td>0.026939</td>\n",
       "      <td>0.016382</td>\n",
       "      <td>0.008432</td>\n",
       "      <td>0.037053</td>\n",
       "      <td>0.134288</td>\n",
       "      <td>0.170700</td>\n",
       "      <td>0.000756</td>\n",
       "      <td>0.002010</td>\n",
       "      <td>0.000081</td>\n",
       "      <td>0.055153</td>\n",
       "      <td>0.088097</td>\n",
       "      <td>0.118979</td>\n",
       "      <td>0.015176</td>\n",
       "      <td>-0.003462</td>\n",
       "      <td>0.006551</td>\n",
       "      <td>-0.125552</td>\n",
       "      <td>0.070301</td>\n",
       "      <td>-0.222681</td>\n",
       "    </tr>\n",
       "    <tr>\n",
       "      <th>linkedin_url</th>\n",
       "      <td>-0.051197</td>\n",
       "      <td>NaN</td>\n",
       "      <td>-0.026931</td>\n",
       "      <td>0.026939</td>\n",
       "      <td>1.000000</td>\n",
       "      <td>0.000841</td>\n",
       "      <td>0.001496</td>\n",
       "      <td>-0.024205</td>\n",
       "      <td>0.024161</td>\n",
       "      <td>-0.039052</td>\n",
       "      <td>0.000534</td>\n",
       "      <td>-0.002664</td>\n",
       "      <td>-0.005185</td>\n",
       "      <td>0.062887</td>\n",
       "      <td>0.106800</td>\n",
       "      <td>0.014459</td>\n",
       "      <td>0.004654</td>\n",
       "      <td>-0.051775</td>\n",
       "      <td>-0.046478</td>\n",
       "      <td>0.132024</td>\n",
       "      <td>0.013367</td>\n",
       "      <td>-0.164174</td>\n",
       "    </tr>\n",
       "    <tr>\n",
       "      <th>total_funding</th>\n",
       "      <td>0.008026</td>\n",
       "      <td>NaN</td>\n",
       "      <td>0.022983</td>\n",
       "      <td>0.016382</td>\n",
       "      <td>0.000841</td>\n",
       "      <td>1.000000</td>\n",
       "      <td>0.007668</td>\n",
       "      <td>0.059982</td>\n",
       "      <td>0.027531</td>\n",
       "      <td>0.057398</td>\n",
       "      <td>0.000600</td>\n",
       "      <td>0.002031</td>\n",
       "      <td>-0.001776</td>\n",
       "      <td>0.008902</td>\n",
       "      <td>0.010922</td>\n",
       "      <td>0.003578</td>\n",
       "      <td>-0.006402</td>\n",
       "      <td>0.061508</td>\n",
       "      <td>0.015900</td>\n",
       "      <td>-0.046821</td>\n",
       "      <td>0.018656</td>\n",
       "      <td>-0.048452</td>\n",
       "    </tr>\n",
       "    <tr>\n",
       "      <th>patents_count</th>\n",
       "      <td>-0.000234</td>\n",
       "      <td>NaN</td>\n",
       "      <td>0.006498</td>\n",
       "      <td>0.008432</td>\n",
       "      <td>0.001496</td>\n",
       "      <td>0.007668</td>\n",
       "      <td>1.000000</td>\n",
       "      <td>0.051546</td>\n",
       "      <td>-0.001657</td>\n",
       "      <td>0.014925</td>\n",
       "      <td>0.003372</td>\n",
       "      <td>0.003300</td>\n",
       "      <td>-0.001832</td>\n",
       "      <td>0.005623</td>\n",
       "      <td>0.009525</td>\n",
       "      <td>-0.006421</td>\n",
       "      <td>0.003197</td>\n",
       "      <td>0.035207</td>\n",
       "      <td>0.008802</td>\n",
       "      <td>-0.010422</td>\n",
       "      <td>-0.002580</td>\n",
       "      <td>-0.009561</td>\n",
       "    </tr>\n",
       "    <tr>\n",
       "      <th>launch_year</th>\n",
       "      <td>0.065090</td>\n",
       "      <td>NaN</td>\n",
       "      <td>0.033821</td>\n",
       "      <td>0.037053</td>\n",
       "      <td>-0.024205</td>\n",
       "      <td>0.059982</td>\n",
       "      <td>0.051546</td>\n",
       "      <td>1.000000</td>\n",
       "      <td>-0.098532</td>\n",
       "      <td>-0.018944</td>\n",
       "      <td>0.001383</td>\n",
       "      <td>0.001181</td>\n",
       "      <td>0.000414</td>\n",
       "      <td>-0.013950</td>\n",
       "      <td>-0.026936</td>\n",
       "      <td>-0.092157</td>\n",
       "      <td>-0.022217</td>\n",
       "      <td>0.671821</td>\n",
       "      <td>-0.033019</td>\n",
       "      <td>-0.031903</td>\n",
       "      <td>-0.052850</td>\n",
       "      <td>0.009812</td>\n",
       "    </tr>\n",
       "    <tr>\n",
       "      <th>investors_total</th>\n",
       "      <td>-0.010973</td>\n",
       "      <td>NaN</td>\n",
       "      <td>0.093458</td>\n",
       "      <td>0.134288</td>\n",
       "      <td>0.024161</td>\n",
       "      <td>0.027531</td>\n",
       "      <td>-0.001657</td>\n",
       "      <td>-0.098532</td>\n",
       "      <td>1.000000</td>\n",
       "      <td>0.612147</td>\n",
       "      <td>0.006491</td>\n",
       "      <td>-0.003430</td>\n",
       "      <td>-0.005418</td>\n",
       "      <td>0.246058</td>\n",
       "      <td>0.300287</td>\n",
       "      <td>0.343197</td>\n",
       "      <td>0.062412</td>\n",
       "      <td>-0.016264</td>\n",
       "      <td>0.410962</td>\n",
       "      <td>-0.444626</td>\n",
       "      <td>0.379197</td>\n",
       "      <td>-0.406072</td>\n",
       "    </tr>\n",
       "    <tr>\n",
       "      <th>fundings_total</th>\n",
       "      <td>0.014424</td>\n",
       "      <td>NaN</td>\n",
       "      <td>0.195364</td>\n",
       "      <td>0.170700</td>\n",
       "      <td>-0.039052</td>\n",
       "      <td>0.057398</td>\n",
       "      <td>0.014925</td>\n",
       "      <td>-0.018944</td>\n",
       "      <td>0.612147</td>\n",
       "      <td>1.000000</td>\n",
       "      <td>0.008758</td>\n",
       "      <td>0.000423</td>\n",
       "      <td>-0.000901</td>\n",
       "      <td>0.166008</td>\n",
       "      <td>0.202910</td>\n",
       "      <td>0.329281</td>\n",
       "      <td>0.053014</td>\n",
       "      <td>0.067055</td>\n",
       "      <td>0.207542</td>\n",
       "      <td>-0.606730</td>\n",
       "      <td>0.252880</td>\n",
       "      <td>-0.385832</td>\n",
       "    </tr>\n",
       "    <tr>\n",
       "      <th>country_name</th>\n",
       "      <td>-0.000425</td>\n",
       "      <td>NaN</td>\n",
       "      <td>-0.007461</td>\n",
       "      <td>0.000756</td>\n",
       "      <td>0.000534</td>\n",
       "      <td>0.000600</td>\n",
       "      <td>0.003372</td>\n",
       "      <td>0.001383</td>\n",
       "      <td>0.006491</td>\n",
       "      <td>0.008758</td>\n",
       "      <td>1.000000</td>\n",
       "      <td>0.029160</td>\n",
       "      <td>0.191401</td>\n",
       "      <td>0.000658</td>\n",
       "      <td>0.004275</td>\n",
       "      <td>0.000170</td>\n",
       "      <td>0.001845</td>\n",
       "      <td>0.005348</td>\n",
       "      <td>0.005824</td>\n",
       "      <td>-0.006269</td>\n",
       "      <td>-0.002393</td>\n",
       "      <td>0.023850</td>\n",
       "    </tr>\n",
       "    <tr>\n",
       "      <th>city_name</th>\n",
       "      <td>-0.000281</td>\n",
       "      <td>NaN</td>\n",
       "      <td>-0.002650</td>\n",
       "      <td>0.002010</td>\n",
       "      <td>-0.002664</td>\n",
       "      <td>0.002031</td>\n",
       "      <td>0.003300</td>\n",
       "      <td>0.001181</td>\n",
       "      <td>-0.003430</td>\n",
       "      <td>0.000423</td>\n",
       "      <td>0.029160</td>\n",
       "      <td>1.000000</td>\n",
       "      <td>0.001895</td>\n",
       "      <td>0.003583</td>\n",
       "      <td>0.004401</td>\n",
       "      <td>0.003114</td>\n",
       "      <td>0.004551</td>\n",
       "      <td>-0.000299</td>\n",
       "      <td>0.000124</td>\n",
       "      <td>0.000233</td>\n",
       "      <td>-0.000519</td>\n",
       "      <td>0.007019</td>\n",
       "    </tr>\n",
       "    <tr>\n",
       "      <th>industry_name</th>\n",
       "      <td>0.002201</td>\n",
       "      <td>NaN</td>\n",
       "      <td>-0.002212</td>\n",
       "      <td>0.000081</td>\n",
       "      <td>-0.005185</td>\n",
       "      <td>-0.001776</td>\n",
       "      <td>-0.001832</td>\n",
       "      <td>0.000414</td>\n",
       "      <td>-0.005418</td>\n",
       "      <td>-0.000901</td>\n",
       "      <td>0.191401</td>\n",
       "      <td>0.001895</td>\n",
       "      <td>1.000000</td>\n",
       "      <td>-0.008043</td>\n",
       "      <td>-0.008192</td>\n",
       "      <td>-0.005863</td>\n",
       "      <td>-0.001210</td>\n",
       "      <td>0.003511</td>\n",
       "      <td>-0.006119</td>\n",
       "      <td>-0.000623</td>\n",
       "      <td>-0.004020</td>\n",
       "      <td>0.003765</td>\n",
       "    </tr>\n",
       "    <tr>\n",
       "      <th>number_top_schools</th>\n",
       "      <td>-0.008837</td>\n",
       "      <td>NaN</td>\n",
       "      <td>-0.002156</td>\n",
       "      <td>0.055153</td>\n",
       "      <td>0.062887</td>\n",
       "      <td>0.008902</td>\n",
       "      <td>0.005623</td>\n",
       "      <td>-0.013950</td>\n",
       "      <td>0.246058</td>\n",
       "      <td>0.166008</td>\n",
       "      <td>0.000658</td>\n",
       "      <td>0.003583</td>\n",
       "      <td>-0.008043</td>\n",
       "      <td>1.000000</td>\n",
       "      <td>0.641116</td>\n",
       "      <td>0.182161</td>\n",
       "      <td>0.043372</td>\n",
       "      <td>-0.034548</td>\n",
       "      <td>0.125396</td>\n",
       "      <td>-0.067941</td>\n",
       "      <td>0.129970</td>\n",
       "      <td>-0.277038</td>\n",
       "    </tr>\n",
       "    <tr>\n",
       "      <th>number_schools</th>\n",
       "      <td>-0.013770</td>\n",
       "      <td>NaN</td>\n",
       "      <td>0.003266</td>\n",
       "      <td>0.088097</td>\n",
       "      <td>0.106800</td>\n",
       "      <td>0.010922</td>\n",
       "      <td>0.009525</td>\n",
       "      <td>-0.026936</td>\n",
       "      <td>0.300287</td>\n",
       "      <td>0.202910</td>\n",
       "      <td>0.004275</td>\n",
       "      <td>0.004401</td>\n",
       "      <td>-0.008192</td>\n",
       "      <td>0.641116</td>\n",
       "      <td>1.000000</td>\n",
       "      <td>0.263211</td>\n",
       "      <td>0.061324</td>\n",
       "      <td>-0.065762</td>\n",
       "      <td>0.134009</td>\n",
       "      <td>-0.049368</td>\n",
       "      <td>0.150450</td>\n",
       "      <td>-0.429600</td>\n",
       "    </tr>\n",
       "    <tr>\n",
       "      <th>team_male</th>\n",
       "      <td>-0.000426</td>\n",
       "      <td>NaN</td>\n",
       "      <td>0.127650</td>\n",
       "      <td>0.118979</td>\n",
       "      <td>0.014459</td>\n",
       "      <td>0.003578</td>\n",
       "      <td>-0.006421</td>\n",
       "      <td>-0.092157</td>\n",
       "      <td>0.343197</td>\n",
       "      <td>0.329281</td>\n",
       "      <td>0.000170</td>\n",
       "      <td>0.003114</td>\n",
       "      <td>-0.005863</td>\n",
       "      <td>0.182161</td>\n",
       "      <td>0.263211</td>\n",
       "      <td>1.000000</td>\n",
       "      <td>-0.346299</td>\n",
       "      <td>-0.053889</td>\n",
       "      <td>0.141358</td>\n",
       "      <td>-0.220663</td>\n",
       "      <td>0.183011</td>\n",
       "      <td>-0.327319</td>\n",
       "    </tr>\n",
       "    <tr>\n",
       "      <th>team_female</th>\n",
       "      <td>-0.008393</td>\n",
       "      <td>NaN</td>\n",
       "      <td>0.017115</td>\n",
       "      <td>0.015176</td>\n",
       "      <td>0.004654</td>\n",
       "      <td>-0.006402</td>\n",
       "      <td>0.003197</td>\n",
       "      <td>-0.022217</td>\n",
       "      <td>0.062412</td>\n",
       "      <td>0.053014</td>\n",
       "      <td>0.001845</td>\n",
       "      <td>0.004551</td>\n",
       "      <td>-0.001210</td>\n",
       "      <td>0.043372</td>\n",
       "      <td>0.061324</td>\n",
       "      <td>-0.346299</td>\n",
       "      <td>1.000000</td>\n",
       "      <td>-0.015475</td>\n",
       "      <td>0.032825</td>\n",
       "      <td>-0.037244</td>\n",
       "      <td>0.015568</td>\n",
       "      <td>-0.043046</td>\n",
       "    </tr>\n",
       "    <tr>\n",
       "      <th>avg_time_funding</th>\n",
       "      <td>0.031206</td>\n",
       "      <td>NaN</td>\n",
       "      <td>0.031396</td>\n",
       "      <td>-0.003462</td>\n",
       "      <td>-0.051775</td>\n",
       "      <td>0.061508</td>\n",
       "      <td>0.035207</td>\n",
       "      <td>0.671821</td>\n",
       "      <td>-0.016264</td>\n",
       "      <td>0.067055</td>\n",
       "      <td>0.005348</td>\n",
       "      <td>-0.000299</td>\n",
       "      <td>0.003511</td>\n",
       "      <td>-0.034548</td>\n",
       "      <td>-0.065762</td>\n",
       "      <td>-0.053889</td>\n",
       "      <td>-0.015475</td>\n",
       "      <td>1.000000</td>\n",
       "      <td>0.108114</td>\n",
       "      <td>-0.277430</td>\n",
       "      <td>-0.025531</td>\n",
       "      <td>0.073474</td>\n",
       "    </tr>\n",
       "    <tr>\n",
       "      <th>Y</th>\n",
       "      <td>-0.017693</td>\n",
       "      <td>NaN</td>\n",
       "      <td>-0.031734</td>\n",
       "      <td>0.006551</td>\n",
       "      <td>-0.046478</td>\n",
       "      <td>0.015900</td>\n",
       "      <td>0.008802</td>\n",
       "      <td>-0.033019</td>\n",
       "      <td>0.410962</td>\n",
       "      <td>0.207542</td>\n",
       "      <td>0.005824</td>\n",
       "      <td>0.000124</td>\n",
       "      <td>-0.006119</td>\n",
       "      <td>0.125396</td>\n",
       "      <td>0.134009</td>\n",
       "      <td>0.141358</td>\n",
       "      <td>0.032825</td>\n",
       "      <td>0.108114</td>\n",
       "      <td>1.000000</td>\n",
       "      <td>-0.470074</td>\n",
       "      <td>0.175347</td>\n",
       "      <td>-0.107024</td>\n",
       "    </tr>\n",
       "    <tr>\n",
       "      <th>is_bootstrapped</th>\n",
       "      <td>-0.026484</td>\n",
       "      <td>NaN</td>\n",
       "      <td>-0.174495</td>\n",
       "      <td>-0.125552</td>\n",
       "      <td>0.132024</td>\n",
       "      <td>-0.046821</td>\n",
       "      <td>-0.010422</td>\n",
       "      <td>-0.031903</td>\n",
       "      <td>-0.444626</td>\n",
       "      <td>-0.606730</td>\n",
       "      <td>-0.006269</td>\n",
       "      <td>0.000233</td>\n",
       "      <td>-0.000623</td>\n",
       "      <td>-0.067941</td>\n",
       "      <td>-0.049368</td>\n",
       "      <td>-0.220663</td>\n",
       "      <td>-0.037244</td>\n",
       "      <td>-0.277430</td>\n",
       "      <td>-0.470074</td>\n",
       "      <td>1.000000</td>\n",
       "      <td>-0.174026</td>\n",
       "      <td>0.161077</td>\n",
       "    </tr>\n",
       "    <tr>\n",
       "      <th>number_top_inv</th>\n",
       "      <td>-0.011753</td>\n",
       "      <td>NaN</td>\n",
       "      <td>0.057175</td>\n",
       "      <td>0.070301</td>\n",
       "      <td>0.013367</td>\n",
       "      <td>0.018656</td>\n",
       "      <td>-0.002580</td>\n",
       "      <td>-0.052850</td>\n",
       "      <td>0.379197</td>\n",
       "      <td>0.252880</td>\n",
       "      <td>-0.002393</td>\n",
       "      <td>-0.000519</td>\n",
       "      <td>-0.004020</td>\n",
       "      <td>0.129970</td>\n",
       "      <td>0.150450</td>\n",
       "      <td>0.183011</td>\n",
       "      <td>0.015568</td>\n",
       "      <td>-0.025531</td>\n",
       "      <td>0.175347</td>\n",
       "      <td>-0.174026</td>\n",
       "      <td>1.000000</td>\n",
       "      <td>-0.202122</td>\n",
       "    </tr>\n",
       "    <tr>\n",
       "      <th>missing_values</th>\n",
       "      <td>-0.035531</td>\n",
       "      <td>NaN</td>\n",
       "      <td>-0.151045</td>\n",
       "      <td>-0.222681</td>\n",
       "      <td>-0.164174</td>\n",
       "      <td>-0.048452</td>\n",
       "      <td>-0.009561</td>\n",
       "      <td>0.009812</td>\n",
       "      <td>-0.406072</td>\n",
       "      <td>-0.385832</td>\n",
       "      <td>0.023850</td>\n",
       "      <td>0.007019</td>\n",
       "      <td>0.003765</td>\n",
       "      <td>-0.277038</td>\n",
       "      <td>-0.429600</td>\n",
       "      <td>-0.327319</td>\n",
       "      <td>-0.043046</td>\n",
       "      <td>0.073474</td>\n",
       "      <td>-0.107024</td>\n",
       "      <td>0.161077</td>\n",
       "      <td>-0.202122</td>\n",
       "      <td>1.000000</td>\n",
       "    </tr>\n",
       "  </tbody>\n",
       "</table>\n",
       "</div>"
      ],
      "text/plain": [
       "                       about  website_url  facebook_url  twitter_url  linkedin_url  total_funding  patents_count  launch_year  investors_total  fundings_total  country_name  city_name  industry_name  number_top_schools  number_schools  team_male  team_female  avg_time_funding         Y  is_bootstrapped  number_top_inv  missing_values\n",
       "about               1.000000          NaN      0.059379     0.061044     -0.051197       0.008026      -0.000234     0.065090        -0.010973        0.014424     -0.000425  -0.000281       0.002201           -0.008837       -0.013770  -0.000426    -0.008393          0.031206 -0.017693        -0.026484       -0.011753       -0.035531\n",
       "website_url              NaN          NaN           NaN          NaN           NaN            NaN            NaN          NaN              NaN             NaN           NaN        NaN            NaN                 NaN             NaN        NaN          NaN               NaN       NaN              NaN             NaN             NaN\n",
       "facebook_url        0.059379          NaN      1.000000     0.326860     -0.026931       0.022983       0.006498     0.033821         0.093458        0.195364     -0.007461  -0.002650      -0.002212           -0.002156        0.003266   0.127650     0.017115          0.031396 -0.031734        -0.174495        0.057175       -0.151045\n",
       "twitter_url         0.061044          NaN      0.326860     1.000000      0.026939       0.016382       0.008432     0.037053         0.134288        0.170700      0.000756   0.002010       0.000081            0.055153        0.088097   0.118979     0.015176         -0.003462  0.006551        -0.125552        0.070301       -0.222681\n",
       "linkedin_url       -0.051197          NaN     -0.026931     0.026939      1.000000       0.000841       0.001496    -0.024205         0.024161       -0.039052      0.000534  -0.002664      -0.005185            0.062887        0.106800   0.014459     0.004654         -0.051775 -0.046478         0.132024        0.013367       -0.164174\n",
       "total_funding       0.008026          NaN      0.022983     0.016382      0.000841       1.000000       0.007668     0.059982         0.027531        0.057398      0.000600   0.002031      -0.001776            0.008902        0.010922   0.003578    -0.006402          0.061508  0.015900        -0.046821        0.018656       -0.048452\n",
       "patents_count      -0.000234          NaN      0.006498     0.008432      0.001496       0.007668       1.000000     0.051546        -0.001657        0.014925      0.003372   0.003300      -0.001832            0.005623        0.009525  -0.006421     0.003197          0.035207  0.008802        -0.010422       -0.002580       -0.009561\n",
       "launch_year         0.065090          NaN      0.033821     0.037053     -0.024205       0.059982       0.051546     1.000000        -0.098532       -0.018944      0.001383   0.001181       0.000414           -0.013950       -0.026936  -0.092157    -0.022217          0.671821 -0.033019        -0.031903       -0.052850        0.009812\n",
       "investors_total    -0.010973          NaN      0.093458     0.134288      0.024161       0.027531      -0.001657    -0.098532         1.000000        0.612147      0.006491  -0.003430      -0.005418            0.246058        0.300287   0.343197     0.062412         -0.016264  0.410962        -0.444626        0.379197       -0.406072\n",
       "fundings_total      0.014424          NaN      0.195364     0.170700     -0.039052       0.057398       0.014925    -0.018944         0.612147        1.000000      0.008758   0.000423      -0.000901            0.166008        0.202910   0.329281     0.053014          0.067055  0.207542        -0.606730        0.252880       -0.385832\n",
       "country_name       -0.000425          NaN     -0.007461     0.000756      0.000534       0.000600       0.003372     0.001383         0.006491        0.008758      1.000000   0.029160       0.191401            0.000658        0.004275   0.000170     0.001845          0.005348  0.005824        -0.006269       -0.002393        0.023850\n",
       "city_name          -0.000281          NaN     -0.002650     0.002010     -0.002664       0.002031       0.003300     0.001181        -0.003430        0.000423      0.029160   1.000000       0.001895            0.003583        0.004401   0.003114     0.004551         -0.000299  0.000124         0.000233       -0.000519        0.007019\n",
       "industry_name       0.002201          NaN     -0.002212     0.000081     -0.005185      -0.001776      -0.001832     0.000414        -0.005418       -0.000901      0.191401   0.001895       1.000000           -0.008043       -0.008192  -0.005863    -0.001210          0.003511 -0.006119        -0.000623       -0.004020        0.003765\n",
       "number_top_schools -0.008837          NaN     -0.002156     0.055153      0.062887       0.008902       0.005623    -0.013950         0.246058        0.166008      0.000658   0.003583      -0.008043            1.000000        0.641116   0.182161     0.043372         -0.034548  0.125396        -0.067941        0.129970       -0.277038\n",
       "number_schools     -0.013770          NaN      0.003266     0.088097      0.106800       0.010922       0.009525    -0.026936         0.300287        0.202910      0.004275   0.004401      -0.008192            0.641116        1.000000   0.263211     0.061324         -0.065762  0.134009        -0.049368        0.150450       -0.429600\n",
       "team_male          -0.000426          NaN      0.127650     0.118979      0.014459       0.003578      -0.006421    -0.092157         0.343197        0.329281      0.000170   0.003114      -0.005863            0.182161        0.263211   1.000000    -0.346299         -0.053889  0.141358        -0.220663        0.183011       -0.327319\n",
       "team_female        -0.008393          NaN      0.017115     0.015176      0.004654      -0.006402       0.003197    -0.022217         0.062412        0.053014      0.001845   0.004551      -0.001210            0.043372        0.061324  -0.346299     1.000000         -0.015475  0.032825        -0.037244        0.015568       -0.043046\n",
       "avg_time_funding    0.031206          NaN      0.031396    -0.003462     -0.051775       0.061508       0.035207     0.671821        -0.016264        0.067055      0.005348  -0.000299       0.003511           -0.034548       -0.065762  -0.053889    -0.015475          1.000000  0.108114        -0.277430       -0.025531        0.073474\n",
       "Y                  -0.017693          NaN     -0.031734     0.006551     -0.046478       0.015900       0.008802    -0.033019         0.410962        0.207542      0.005824   0.000124      -0.006119            0.125396        0.134009   0.141358     0.032825          0.108114  1.000000        -0.470074        0.175347       -0.107024\n",
       "is_bootstrapped    -0.026484          NaN     -0.174495    -0.125552      0.132024      -0.046821      -0.010422    -0.031903        -0.444626       -0.606730     -0.006269   0.000233      -0.000623           -0.067941       -0.049368  -0.220663    -0.037244         -0.277430 -0.470074         1.000000       -0.174026        0.161077\n",
       "number_top_inv     -0.011753          NaN      0.057175     0.070301      0.013367       0.018656      -0.002580    -0.052850         0.379197        0.252880     -0.002393  -0.000519      -0.004020            0.129970        0.150450   0.183011     0.015568         -0.025531  0.175347        -0.174026        1.000000       -0.202122\n",
       "missing_values     -0.035531          NaN     -0.151045    -0.222681     -0.164174      -0.048452      -0.009561     0.009812        -0.406072       -0.385832      0.023850   0.007019       0.003765           -0.277038       -0.429600  -0.327319    -0.043046          0.073474 -0.107024         0.161077       -0.202122        1.000000"
      ]
     },
     "execution_count": 76,
     "metadata": {},
     "output_type": "execute_result"
    }
   ],
   "source": [
    "df_mode.corr()"
   ]
  },
  {
   "cell_type": "markdown",
   "metadata": {},
   "source": [
    "## Standardization"
   ]
  },
  {
   "cell_type": "markdown",
   "metadata": {},
   "source": [
    "Columns to Standardize:\n",
    "1. total_funding\n",
    "2. employees_latest\n",
    "3. employees_growth\n",
    "4. avg time funding"
   ]
  },
  {
   "cell_type": "code",
   "execution_count": 53,
   "metadata": {},
   "outputs": [],
   "source": [
    "# Creating the data frame\n",
    "df_std=df_mode[[\"about\",\"total_funding\",\"employees_latest\",\"employees_growth\",\"avg_time_funding\",\"missing_values\",\"launch_year\"]]\n",
    "# define standard scaler\n",
    "scaler = StandardScaler()\n",
    "# transform data\n",
    "df_std = scaler.fit_transform(df_std)\n",
    "df_std=pd.DataFrame(df_std)\n",
    "df_mode[[\"about\",\"total_funding\",\"employees_latest\",\"employees_growth\",\"avg_time_funding\",\"missing_values\",\"launch_year\"]]=df_std.values"
   ]
  },
  {
   "cell_type": "markdown",
   "metadata": {},
   "source": [
    "# Model Application"
   ]
  },
  {
   "cell_type": "markdown",
   "metadata": {},
   "source": [
    "For The Model Application we are going to train models such that we receive an estimation of likelihood for each of the categories\n",
    "- First step is to apply a model to the entired dataset and then see if we can improve on the score provided here. We will apply the Model xgboost as it has proven to give the best results for the comparison\n",
    "- Model altercation for seperate variables\n",
    "- Alternating between SMote and not\n",
    "\n",
    "\n",
    "1. Models that should be tested\n",
    "- KNN\n",
    "- Gradien Boosting Trees\n",
    "- Neural Networks"
   ]
  },
  {
   "cell_type": "markdown",
   "metadata": {},
   "source": [
    "1. Model on the entire dataset"
   ]
  },
  {
   "cell_type": "code",
   "execution_count": 4,
   "metadata": {},
   "outputs": [],
   "source": [
    "df_mode=pd.read_pickle(\"/Users/klaus/Documents/Jarvis/Second Try/df_mode_30.11\")"
   ]
  },
  {
   "cell_type": "code",
   "execution_count": 3,
   "metadata": {},
   "outputs": [
    {
     "ename": "NameError",
     "evalue": "name 'df_mode' is not defined",
     "output_type": "error",
     "traceback": [
      "\u001b[0;31m---------------------------------------------------------------------------\u001b[0m",
      "\u001b[0;31mNameError\u001b[0m                                 Traceback (most recent call last)",
      "Cell \u001b[0;32mIn [3], line 1\u001b[0m\n\u001b[0;32m----> 1\u001b[0m df_mode\u001b[39m.\u001b[39mto_pickle(\u001b[39m\"\u001b[39m\u001b[39mdf_mode_30.11\u001b[39m\u001b[39m\"\u001b[39m)\n",
      "\u001b[0;31mNameError\u001b[0m: name 'df_mode' is not defined"
     ]
    }
   ],
   "source": [
    "df_mode.to_pickle(\"df_mode_30.11\")"
   ]
  },
  {
   "cell_type": "code",
   "execution_count": 5,
   "metadata": {},
   "outputs": [],
   "source": [
    "from sklearn.model_selection import train_test_split\n",
    "from imblearn.over_sampling import SMOTE\n",
    "from sklearn.neighbors import KNeighborsClassifier\n",
    "from sklearn.metrics import classification_report\n",
    "from collections import Counter\n",
    "import xgboost as xgb\n",
    "from sklearn.model_selection import GridSearchCV\n",
    "from sklearn.model_selection import RandomizedSearchCV\n",
    "from imblearn.under_sampling import NearMiss\n"
   ]
  },
  {
   "cell_type": "markdown",
   "metadata": {},
   "source": [
    "Categories \n",
    "0 - nothing happened\n",
    "1 - acquired\n",
    "2 - IPO\n",
    "3 - failed\n",
    "4 - funding\n"
   ]
  },
  {
   "cell_type": "markdown",
   "metadata": {},
   "source": [
    "1. The following will be mostly experiences on variations of datasetup and models, with balancing, standardization."
   ]
  },
  {
   "cell_type": "code",
   "execution_count": 134,
   "metadata": {},
   "outputs": [],
   "source": [
    "X=df_mode.drop(columns=[\"name\",\"Y\"])\n",
    "y=df_mode[\"Y\"]"
   ]
  },
  {
   "cell_type": "markdown",
   "metadata": {},
   "source": [
    "Without Smote"
   ]
  },
  {
   "cell_type": "code",
   "execution_count": 126,
   "metadata": {},
   "outputs": [
    {
     "name": "stdout",
     "output_type": "stream",
     "text": [
      "Estimate: 4.078\n"
     ]
    }
   ],
   "source": [
    "\n",
    "counter = Counter(y)\n",
    "# estimate scale_pos_weight value\n",
    "estimate = counter[0] / counter[1]\n",
    "print('Estimate: %.3f' % estimate)"
   ]
  },
  {
   "cell_type": "markdown",
   "metadata": {},
   "source": [
    "With Smote"
   ]
  },
  {
   "cell_type": "markdown",
   "metadata": {},
   "source": [
    "## 2. Predict funding"
   ]
  },
  {
   "cell_type": "markdown",
   "metadata": {},
   "source": [
    "Get Data for funding (all vs. funding)"
   ]
  },
  {
   "cell_type": "code",
   "execution_count": 90,
   "metadata": {},
   "outputs": [],
   "source": [
    "df_fund=df_mode.loc[(df_mode[\"Y\"]==0) | (df_mode[\"Y\"]==4)].copy()\n",
    "df_fund.loc[(df_mode[\"Y\"]==0),\"Y\"]=0 #compare it to companies where nothing happened \n",
    "df_fund.loc[(df_mode[\"Y\"]==4),\"Y\"]=1\n",
    "X=df_fund.drop(columns=[\"name\",\"Y\"])\n",
    "y=df_fund[\"Y\"]\n"
   ]
  },
  {
   "cell_type": "code",
   "execution_count": 160,
   "metadata": {},
   "outputs": [],
   "source": [
    "undersample = NearMiss(version=1, n_neighbors=3)\n",
    "# transform the dataset\n",
    "X, y = undersample.fit_resample(X, y)\n",
    "X_train, X_test, y_train, y_test = train_test_split(X, y, test_size = 0.3, random_state = 0)"
   ]
  },
  {
   "cell_type": "code",
   "execution_count": 238,
   "metadata": {},
   "outputs": [],
   "source": [
    "sm = SMOTE(random_state = 2)\n",
    "X,y = sm.fit_resample(X,y)\n",
    "X_train, X_test, y_train, y_test = train_test_split(X, y, test_size = 0.2, random_state = 0)"
   ]
  },
  {
   "cell_type": "code",
   "execution_count": 45,
   "metadata": {},
   "outputs": [],
   "source": [
    "params = { 'max_depth': [3, 5, 6, 10, 15, 20],\n",
    "           'max_delta_step': [0,1,2,4],\n",
    "           'learning_rate': [0.01, 0.1, 0.2, 0.3],\n",
    "           'subsample': np.arange(0.5, 1.0, 0.1),\n",
    "           'colsample_bytree': np.arange(0.4, 1.0, 0.1),\n",
    "           'colsample_bylevel': np.arange(0.4, 1.0, 0.1),\n",
    "           'n_estimators': [100, 500, 1000],\n",
    "           'min_child_weight': [1,2,3,4]}\n",
    "xgbr = xgb.XGBClassifier()\n",
    "clf = RandomizedSearchCV(estimator=xgbr,\n",
    "                         param_distributions=params,\n",
    "                         scoring='f1',\n",
    "                         n_iter=10,\n",
    "                         verbose=1)"
   ]
  },
  {
   "cell_type": "code",
   "execution_count": 46,
   "metadata": {},
   "outputs": [
    {
     "name": "stdout",
     "output_type": "stream",
     "text": [
      "Fitting 5 folds for each of 10 candidates, totalling 50 fits\n",
      "Best parameters: {'subsample': 0.6, 'n_estimators': 100, 'min_child_weight': 1, 'max_depth': 6, 'max_delta_step': 0, 'learning_rate': 0.2, 'colsample_bytree': 0.8999999999999999, 'colsample_bylevel': 0.7999999999999999}\n",
      "Lowest RMSE:  nan\n"
     ]
    },
    {
     "name": "stderr",
     "output_type": "stream",
     "text": [
      "/var/folders/k0/ldv3tm456fl7jrgd0xn0vy5h0000gn/T/ipykernel_13139/3937026439.py:3: RuntimeWarning: invalid value encountered in double_scalars\n",
      "  print(\"Lowest RMSE: \", (-clf.best_score_)**(1/2.0))\n"
     ]
    }
   ],
   "source": [
    "clf.fit(X_train, y_train)\n",
    "print(\"Best parameters:\", clf.best_params_)\n",
    "print(\"Lowest RMSE: \", (-clf.best_score_)**(1/2.0))"
   ]
  },
  {
   "cell_type": "code",
   "execution_count": 157,
   "metadata": {},
   "outputs": [],
   "source": [
    "fix_params= clf.best_params_\n",
    "fix_params[\"objective\"] = 'binary:logistic'"
   ]
  },
  {
   "cell_type": "code",
   "execution_count": 48,
   "metadata": {},
   "outputs": [
    {
     "name": "stdout",
     "output_type": "stream",
     "text": [
      "[20:10:21] WARNING: /Users/runner/work/xgboost/xgboost/python-package/build/temp.macosx-10.9-x86_64-cpython-37/xgboost/src/learner.cc:627: \n",
      "Parameters: { \"n_estimators\" } might not be used.\n",
      "\n",
      "  This could be a false alarm, with some parameters getting used by language bindings but\n",
      "  then being mistakenly passed down to XGBoost core, or some parameter actually being used\n",
      "  but getting flagged wrongly here. Please open an issue if you find any such cases.\n",
      "\n",
      "\n"
     ]
    }
   ],
   "source": [
    "xgdmat_train = xgb.DMatrix(X_train, y_train)\n",
    "xgdmat_test = xgb.DMatrix(X_test, y_test)\n",
    "xgb_final = xgb.train(fix_params, xgdmat_train, num_boost_round = 100)"
   ]
  },
  {
   "cell_type": "code",
   "execution_count": 26,
   "metadata": {},
   "outputs": [],
   "source": [
    "import matplotlib.pyplot as plt \n",
    "def plot_confusion_matrix(cm, classes,\n",
    "                          normalize=False,\n",
    "                          title='Confusion matrix',\n",
    "                          cmap=plt.cm.Blues):\n",
    "    \"\"\"\n",
    "    This function prints and plots the confusion matrix.\n",
    "    Normalization can be applied by setting `normalize=True`.\n",
    "    \"\"\"\n",
    "    plt.imshow(cm, interpolation='nearest', cmap=cmap)\n",
    "    plt.title(title)\n",
    "    plt.colorbar()\n",
    "    tick_marks = np.arange(len(classes))\n",
    "    plt.xticks(tick_marks, classes, rotation=45)\n",
    "    plt.yticks(tick_marks, classes)\n",
    "\n",
    "    if normalize:\n",
    "        cm = cm.astype('float') / cm.sum(axis=1)[:, np.newaxis]\n",
    "    thresh = cm.max() / 2.\n",
    "    for i, j in itertools.product(range(cm.shape[0]), range(cm.shape[1])):\n",
    "        plt.text(j, i, cm[i, j],\n",
    "                 horizontalalignment=\"center\",\n",
    "                 color=\"white\" if cm[i, j] > thresh else \"black\")\n",
    "\n",
    "    plt.tight_layout()\n",
    "    plt.ylabel('True label')\n",
    "    plt.xlabel('Predicted label')\n",
    "    plt.show()\n",
    "\n",
    "def show_data(cm, print_res = 0):\n",
    "    tp = cm[1,1]\n",
    "    fn = cm[1,0]\n",
    "    fp = cm[0,1]\n",
    "    tn = cm[0,0]\n",
    "    prec= tp/(tp+fp)\n",
    "    rec= tp/(tp+fn)\n",
    "    if print_res == 1:\n",
    "        print('Precision =     {:.3f}'.format(tp/(tp+fp)))\n",
    "        print('Recall (TPR) =  {:.3f}'.format(tp/(tp+fn)))\n",
    "        print('Fallout (FPR) = {:.3e}'.format(fp/(fp+tn)))\n",
    "        print(\"F-Score = {:.3e}\".format((2*prec*rec)/(prec+rec)))\n",
    "    return tp/(tp+fp), tp/(tp+fn), fp/(fp+tn)"
   ]
  },
  {
   "cell_type": "code",
   "execution_count": 27,
   "metadata": {},
   "outputs": [
    {
     "data": {
      "image/png": "[encoded data removed]",
      "text/plain": [
       "<Figure size 640x480 with 2 Axes>"
      ]
     },
     "metadata": {},
     "output_type": "display_data"
    },
    {
     "name": "stdout",
     "output_type": "stream",
     "text": [
      "Precision =     0.962\n",
      "Recall (TPR) =  0.995\n",
      "Fallout (FPR) = 4.014e-02\n",
      "F-Score = 9.783e-01\n"
     ]
    }
   ],
   "source": [
    "import itertools\n",
    "from sklearn.metrics import confusion_matrix, roc_curve, roc_auc_score, f1_score, precision_recall_curve\n",
    "y_pred = xgb_final.predict(xgdmat_test)\n",
    "thresh = 0.08\n",
    "y_pred [y_pred > thresh] = 1\n",
    "y_pred [y_pred <= thresh] = 0\n",
    "cm = confusion_matrix(y_test, y_pred)\n",
    "plot_confusion_matrix(cm, ['0', '1'], )\n",
    "pr, tpr, fpr = show_data(cm, print_res = 1);"
   ]
  },
  {
   "cell_type": "code",
   "execution_count": 164,
   "metadata": {},
   "outputs": [],
   "source": [
    "xgb_clf = xgb.XGBClassifier(**fix_params)\n",
    "xgb_clf = xgb_clf.fit(X_train, y_train)\n",
    "y_pred = xgb_clf.predict(X_test)\n",
    "y_proba= xgb_clf.predict_proba(X_test)\n"
   ]
  },
  {
   "cell_type": "code",
   "execution_count": 165,
   "metadata": {},
   "outputs": [],
   "source": []
  },
  {
   "cell_type": "code",
   "execution_count": 166,
   "metadata": {},
   "outputs": [],
   "source": []
  },
  {
   "cell_type": "code",
   "execution_count": 168,
   "metadata": {},
   "outputs": [],
   "source": [
    "y_proba= xgb_clf.predict_proba(X_test)"
   ]
  },
  {
   "cell_type": "code",
   "execution_count": 170,
   "metadata": {},
   "outputs": [
    {
     "data": {
      "text/plain": [
       "array([[9.0968609e-04, 9.9909031e-01],\n",
       "       [6.3061714e-05, 9.9993694e-01],\n",
       "       [9.9824899e-01, 1.7509809e-03],\n",
       "       [7.5960159e-04, 9.9924040e-01],\n",
       "       [4.4107437e-05, 9.9995589e-01],\n",
       "       [9.9951541e-01, 4.8461460e-04],\n",
       "       [9.9943888e-01, 5.6111469e-04],\n",
       "       [9.9974495e-01, 2.5505334e-04],\n",
       "       [2.2414720e-01, 7.7585280e-01],\n",
       "       [6.5306425e-03, 9.9346936e-01],\n",
       "       [9.9796766e-01, 2.0323184e-03],\n",
       "       [9.9732548e-01, 2.6744925e-03],\n",
       "       [9.9634224e-01, 3.6577503e-03],\n",
       "       [9.6097142e-01, 3.9028570e-02],\n",
       "       [9.7571838e-01, 2.4281638e-02],\n",
       "       [5.0799632e-01, 4.9200371e-01],\n",
       "       [9.9818927e-01, 1.8107307e-03],\n",
       "       [9.9987876e-01, 1.2122428e-04],\n",
       "       [7.1123517e-01, 2.8876486e-01]], dtype=float32)"
      ]
     },
     "execution_count": 170,
     "metadata": {},
     "output_type": "execute_result"
    }
   ],
   "source": [
    "y_proba[1:20]"
   ]
  },
  {
   "cell_type": "code",
   "execution_count": 167,
   "metadata": {},
   "outputs": [
    {
     "name": "stdout",
     "output_type": "stream",
     "text": [
      "              precision    recall  f1-score   support\n",
      "\n",
      "           0       0.99      0.98      0.98      2267\n",
      "           1       0.98      0.99      0.98      2309\n",
      "\n",
      "    accuracy                           0.98      4576\n",
      "   macro avg       0.98      0.98      0.98      4576\n",
      "weighted avg       0.98      0.98      0.98      4576\n",
      "\n"
     ]
    }
   ],
   "source": [
    "print(classification_report(y_test, y_pred))"
   ]
  },
  {
   "cell_type": "markdown",
   "metadata": {},
   "source": [
    "With Smote"
   ]
  },
  {
   "cell_type": "code",
   "execution_count": 127,
   "metadata": {},
   "outputs": [],
   "source": [
    "sm = SMOTE(random_state = 2)\n",
    "X_train_res, y_train_res = sm.fit_resample(X_train, y_train.ravel())"
   ]
  },
  {
   "cell_type": "markdown",
   "metadata": {},
   "source": [
    "Parameter Estimation\n",
    "- all parameters:\n",
    "- eta\n",
    "- min_child_weight\n",
    "- max_depth\n",
    "- max_leaf_nodes\n",
    "- gamma\n",
    "- max_default_step\n",
    "- subsample\n",
    "- colsample_bytree\n",
    "- colsample_bylevel\n",
    "- lambda\n",
    "- alpha\n",
    "- scale_pos_weight\n",
    "- n_estimators"
   ]
  },
  {
   "cell_type": "code",
   "execution_count": 128,
   "metadata": {},
   "outputs": [],
   "source": [
    "params = { 'max_depth': [3, 5, 6, 10, 15, 20],\n",
    "           'max_delta_step': [0,1,2,4],\n",
    "           'learning_rate': [0.01, 0.1, 0.2, 0.3],\n",
    "           'subsample': np.arange(0.5, 1.0, 0.1),\n",
    "           'colsample_bytree': np.arange(0.4, 1.0, 0.1),\n",
    "           'colsample_bylevel': np.arange(0.4, 1.0, 0.1),\n",
    "           'n_estimators': [100, 500, 1000],\n",
    "           'min_child_weight': [1,2,3,4]}\n",
    "xgbr = xgb.XGBClassifier()\n",
    "clf = RandomizedSearchCV(estimator=xgbr,\n",
    "                         param_distributions=params,\n",
    "                         scoring='f1',\n",
    "                         n_iter=5,\n",
    "                         verbose=1)"
   ]
  },
  {
   "cell_type": "code",
   "execution_count": null,
   "metadata": {},
   "outputs": [],
   "source": [
    "clf.fit(X_train_res, y_train_res)\n",
    "print(\"Best parameters:\", clf.best_params_)\n",
    "print(\"Lowest RMSE: \", (-clf.best_score_)**(1/2.0))"
   ]
  },
  {
   "cell_type": "code",
   "execution_count": 113,
   "metadata": {},
   "outputs": [],
   "source": [
    "fix_params= clf.best_params_\n",
    "fix_params[\"objective\"] = 'binary:logistic'\n"
   ]
  },
  {
   "cell_type": "code",
   "execution_count": 114,
   "metadata": {},
   "outputs": [
    {
     "name": "stdout",
     "output_type": "stream",
     "text": [
      "[15:59:30] WARNING: /Users/runner/work/xgboost/xgboost/python-package/build/temp.macosx-10.9-x86_64-cpython-37/xgboost/src/learner.cc:627: \n",
      "Parameters: { \"n_estimators\" } might not be used.\n",
      "\n",
      "  This could be a false alarm, with some parameters getting used by language bindings but\n",
      "  then being mistakenly passed down to XGBoost core, or some parameter actually being used\n",
      "  but getting flagged wrongly here. Please open an issue if you find any such cases.\n",
      "\n",
      "\n"
     ]
    }
   ],
   "source": [
    "xgdmat_train = xgb.DMatrix(X_train_res, y_train_res)\n",
    "xgdmat_test = xgb.DMatrix(X_test, y_test)\n",
    "xgb_final = xgb.train(fix_params, xgdmat_train, num_boost_round = 400)"
   ]
  },
  {
   "cell_type": "code",
   "execution_count": 47,
   "metadata": {},
   "outputs": [],
   "source": [
    "import itertools\n",
    "from sklearn.metrics import confusion_matrix, roc_curve, roc_auc_score, f1_score, precision_recall_curve"
   ]
  },
  {
   "cell_type": "code",
   "execution_count": 46,
   "metadata": {},
   "outputs": [
    {
     "ename": "NameError",
     "evalue": "name 'xgb_final' is not defined",
     "output_type": "error",
     "traceback": [
      "\u001b[0;31m---------------------------------------------------------------------------\u001b[0m",
      "\u001b[0;31mNameError\u001b[0m                                 Traceback (most recent call last)",
      "Cell \u001b[0;32mIn [46], line 3\u001b[0m\n\u001b[1;32m      1\u001b[0m \u001b[39mimport\u001b[39;00m \u001b[39mitertools\u001b[39;00m\n\u001b[1;32m      2\u001b[0m \u001b[39mfrom\u001b[39;00m \u001b[39msklearn\u001b[39;00m\u001b[39m.\u001b[39;00m\u001b[39mmetrics\u001b[39;00m \u001b[39mimport\u001b[39;00m confusion_matrix, roc_curve, roc_auc_score, f1_score, precision_recall_curve\n\u001b[0;32m----> 3\u001b[0m y_pred \u001b[39m=\u001b[39m xgb_final\u001b[39m.\u001b[39mpredict(xgdmat_test)\n\u001b[1;32m      4\u001b[0m thresh \u001b[39m=\u001b[39m \u001b[39m0.08\u001b[39m\n\u001b[1;32m      5\u001b[0m y_pred [y_pred \u001b[39m>\u001b[39m thresh] \u001b[39m=\u001b[39m \u001b[39m1\u001b[39m\n",
      "\u001b[0;31mNameError\u001b[0m: name 'xgb_final' is not defined"
     ]
    }
   ],
   "source": [
    "\n",
    "y_pred = xgb_final.predict(xgdmat_test)\n",
    "thresh = 0.08\n",
    "y_pred [y_pred > thresh] = 1\n",
    "y_pred [y_pred <= thresh] = 0\n",
    "cm = confusion_matrix(y_test, y_pred)\n",
    "plot_confusion_matrix(cm, ['0', '1'], )\n",
    "pr, tpr, fpr = show_data(cm, print_res = 1)"
   ]
  },
  {
   "cell_type": "code",
   "execution_count": 116,
   "metadata": {},
   "outputs": [
    {
     "name": "stdout",
     "output_type": "stream",
     "text": [
      "              precision    recall  f1-score   support\n",
      "\n",
      "           0       0.99      0.59      0.74      7146\n",
      "           1       0.30      0.96      0.46      1290\n",
      "\n",
      "    accuracy                           0.65      8436\n",
      "   macro avg       0.64      0.78      0.60      8436\n",
      "weighted avg       0.88      0.65      0.70      8436\n",
      "\n"
     ]
    }
   ],
   "source": [
    "print(classification_report(y_test, y_pred))"
   ]
  },
  {
   "cell_type": "markdown",
   "metadata": {},
   "source": [
    "# Deep NLN"
   ]
  },
  {
   "cell_type": "code",
   "execution_count": 137,
   "metadata": {},
   "outputs": [
    {
     "name": "stderr",
     "output_type": "stream",
     "text": [
      "/usr/local/lib/python3.10/site-packages/tqdm/auto.py:22: TqdmWarning: IProgress not found. Please update jupyter and ipywidgets. See https://ipywidgets.readthedocs.io/en/stable/user_install.html\n",
      "  from .autonotebook import tqdm as notebook_tqdm\n"
     ]
    }
   ],
   "source": [
    "import torch\n",
    "import torch.nn as nn\n",
    "import torch.optim as optim\n",
    "from torch.utils.data import Dataset, DataLoader\n",
    "from torch.optim.swa_utils import SWALR\n",
    "from torch.optim import swa_utils\n",
    "from torch.optim.lr_scheduler import CosineAnnealingLR"
   ]
  },
  {
   "cell_type": "code",
   "execution_count": 141,
   "metadata": {},
   "outputs": [
    {
     "data": {
      "text/plain": [
       "Index(['name', 'about', 'website_url', 'facebook_url', 'twitter_url', 'linkedin_url', 'total_funding', 'patents_count', 'launch_year', 'investors_total', 'fundings_total', 'country_name', 'city_name', 'industry_name', 'number_top_schools', 'number_schools', 'team_male', 'team_female', 'avg_time_funding', 'Y', 'is_bootstrapped', 'number_top_inv', 'missing_values'], dtype='object')"
      ]
     },
     "execution_count": 141,
     "metadata": {},
     "output_type": "execute_result"
    }
   ],
   "source": [
    "df_mode.columns"
   ]
  },
  {
   "cell_type": "code",
   "execution_count": 145,
   "metadata": {},
   "outputs": [
    {
     "data": {
      "text/plain": [
       "name                      0\n",
       "about                     0\n",
       "website_url               0\n",
       "facebook_url              0\n",
       "twitter_url               0\n",
       "linkedin_url              0\n",
       "total_funding             0\n",
       "patents_count             0\n",
       "launch_year               0\n",
       "investors_total           0\n",
       "fundings_total        33443\n",
       "country_name              0\n",
       "city_name                 0\n",
       "industry_name             0\n",
       "number_top_schools        0\n",
       "number_schools            0\n",
       "team_male                 0\n",
       "team_female               0\n",
       "avg_time_funding          0\n",
       "Y                         0\n",
       "is_bootstrapped           0\n",
       "number_top_inv            0\n",
       "missing_values            0\n",
       "dtype: int64"
      ]
     },
     "execution_count": 145,
     "metadata": {},
     "output_type": "execute_result"
    }
   ],
   "source": [
    "df_mode.isna().sum()"
   ]
  },
  {
   "cell_type": "code",
   "execution_count": 197,
   "metadata": {},
   "outputs": [],
   "source": [
    "undersample = NearMiss(version=1, n_neighbors=3)\n",
    "# transform the dataset\n",
    "X, y = undersample.fit_resample(X, y)"
   ]
  },
  {
   "cell_type": "code",
   "execution_count": 149,
   "metadata": {},
   "outputs": [],
   "source": [
    "# Creating the data frame\n",
    "df_stand=df_mode.copy()\n",
    "df_std=df_stand.drop(columns=[\"name\",\"Y\"])\n",
    "cols=df_std.columns\n",
    "# define standard scaler\n",
    "scaler = StandardScaler()\n",
    "# transform data\n",
    "df_std = scaler.fit_transform(df_std)\n",
    "df_std=pd.DataFrame(df_std)\n",
    "df_stand[cols]=df_std.values\n",
    "\n",
    "df_fund=df_stand.copy()\n",
    "df_fund.loc[(df_mode[\"Y\"]!=4),\"Y\"]=0\n",
    "df_fund.loc[(df_mode[\"Y\"]==4),\"Y\"]=1\n",
    "X=df_fund.drop(columns=[\"name\",\"Y\"])\n",
    "y=df_fund[\"Y\"]\n",
    "X_train, X_test, y_train, y_test = train_test_split(X, y, test_size = 0.2, random_state = 0)\n",
    "\n",
    "#sm = SMOTE(random_state = 2)\n",
    "#X_train_res, y_train_res = sm.fit_resample(X_train, y_train.ravel())"
   ]
  },
  {
   "cell_type": "code",
   "execution_count": 206,
   "metadata": {},
   "outputs": [],
   "source": [
    "X_train, X_test, y_train, y_test = train_test_split(X, y, test_size = 0.2, random_state = 0)"
   ]
  },
  {
   "cell_type": "code",
   "execution_count": 207,
   "metadata": {},
   "outputs": [],
   "source": [
    "class TrainData(Dataset):\n",
    "    \n",
    "    def __init__(self, X_data, y_data):\n",
    "        self.X_data = X_data\n",
    "        self.y_data = y_data\n",
    "        \n",
    "    def __getitem__(self, index):\n",
    "        return self.X_data[index], self.y_data[index]\n",
    "        \n",
    "    def __len__ (self):\n",
    "        return len(self.X_data)\n",
    "\n",
    "\n",
    "train_data = TrainData(torch.FloatTensor(X_train_res.values), \n",
    "                       torch.FloatTensor(y_train_res))\n",
    "## test data    \n",
    "class TestData(Dataset):\n",
    "    \n",
    "    def __init__(self, X_data):\n",
    "        self.X_data = X_data\n",
    "        \n",
    "    def __getitem__(self, index):\n",
    "        return self.X_data[index]\n",
    "        \n",
    "    def __len__ (self):\n",
    "        return len(self.X_data)\n",
    "    \n",
    "\n",
    "test_data = TestData(torch.FloatTensor(X_test.values))"
   ]
  },
  {
   "cell_type": "code",
   "execution_count": 173,
   "metadata": {},
   "outputs": [],
   "source": [
    "BATCH_SIZE=65\n",
    "LEARNING_RATE=0.001\n",
    "EPOCHS=25\n",
    "SWA_START=10\n",
    "WEIGHT_DECAY=0.001\n",
    "LR_SWA=0.05\n"
   ]
  },
  {
   "cell_type": "code",
   "execution_count": 208,
   "metadata": {},
   "outputs": [],
   "source": [
    "train_loader = DataLoader(dataset=train_data, batch_size=BATCH_SIZE, shuffle=True)\n",
    "test_loader = DataLoader(dataset=test_data, batch_size=1)"
   ]
  },
  {
   "cell_type": "code",
   "execution_count": 163,
   "metadata": {},
   "outputs": [
    {
     "data": {
      "text/plain": [
       "(69165, 23)"
      ]
     },
     "execution_count": 163,
     "metadata": {},
     "output_type": "execute_result"
    }
   ],
   "source": [
    "df_mode.shape"
   ]
  },
  {
   "cell_type": "code",
   "execution_count": 181,
   "metadata": {},
   "outputs": [],
   "source": [
    "class BinaryClassification(nn.Module):\n",
    "    def __init__(self):\n",
    "        super(BinaryClassification, self).__init__()\n",
    "        # Number of input features is 12.\n",
    "        self.layer_1 = nn.Linear(21, 65) \n",
    "        #self.layer_2 = nn.Linear(32, 65)\n",
    "        self.layer_out = nn.Linear(65, 1) \n",
    "        \n",
    "        self.relu = nn.ReLU()\n",
    "        self.sigmoid=nn.Sigmoid()\n",
    "        self.dropout = nn.Dropout(p=0.1)\n",
    "        self.batchnorm1 = nn.BatchNorm1d(65)\n",
    "        #self.batchnorm2 = nn.BatchNorm1d(65)\n",
    "        \n",
    "    def forward(self, inputs):\n",
    "        x = self.relu(self.layer_1(inputs))\n",
    "        x = self.batchnorm1(x)\n",
    "        #x = self.relu(self.layer_2(x))\n",
    "        #x = self.batchnorm2(x)\n",
    "\n",
    "        x = self.dropout(x)\n",
    "        x = self.layer_out(x)\n",
    "        \n",
    "        return x"
   ]
  },
  {
   "cell_type": "code",
   "execution_count": 176,
   "metadata": {},
   "outputs": [
    {
     "name": "stdout",
     "output_type": "stream",
     "text": [
      "cpu\n"
     ]
    }
   ],
   "source": [
    "device = torch.device(\"cuda:0\" if torch.cuda.is_available() else \"cpu\")\n",
    "print(device)"
   ]
  },
  {
   "cell_type": "code",
   "execution_count": 209,
   "metadata": {},
   "outputs": [
    {
     "name": "stdout",
     "output_type": "stream",
     "text": [
      "BinaryClassification(\n",
      "  (layer_1): Linear(in_features=21, out_features=65, bias=True)\n",
      "  (layer_out): Linear(in_features=65, out_features=1, bias=True)\n",
      "  (relu): ReLU()\n",
      "  (sigmoid): Sigmoid()\n",
      "  (dropout): Dropout(p=0.1, inplace=False)\n",
      "  (batchnorm1): BatchNorm1d(65, eps=1e-05, momentum=0.1, affine=True, track_running_stats=True)\n",
      ")\n"
     ]
    }
   ],
   "source": [
    "model = BinaryClassification()\n",
    "model.to(device)\n",
    "print(model)\n",
    "criterion = nn.BCEWithLogitsLoss()\n",
    "optimizer = optim.Adam(model.parameters(), lr=LEARNING_RATE)\n",
    "\n",
    "#optimizer = torch.optim.SGD(model.parameters(), LR)\n",
    "#criterion = torch.nn.NLLLoss()\n",
    "\n",
    "\n",
    "swa_model = swa_utils.AveragedModel(model)\n",
    "scheduler = CosineAnnealingLR(optimizer, T_max=EPOCHS)\n",
    "swa_scheduler = swa_utils.SWALR(optimizer, swa_lr=LR_SWA)\n"
   ]
  },
  {
   "cell_type": "code",
   "execution_count": 178,
   "metadata": {},
   "outputs": [],
   "source": [
    "def binary_acc(y_pred, y_test):\n",
    "    y_pred_tag = torch.round(torch.sigmoid(y_pred))\n",
    "\n",
    "    correct_results_sum = (y_pred_tag == y_test).sum().float()\n",
    "    acc = correct_results_sum/y_test.shape[0]\n",
    "    acc = torch.round(acc * 100)\n",
    "    \n",
    "    \n",
    "    return acc"
   ]
  },
  {
   "cell_type": "code",
   "execution_count": 179,
   "metadata": {},
   "outputs": [],
   "source": [
    "def binary_rec(y_pred, y_test):\n",
    "    y_pred_tag = torch.round(torch.sigmoid(y_pred))\n",
    "\n",
    "    correct_results_sum = (y_pred_tag == y_test).sum().float()\n",
    "    fn_sum = ((y_pred_tag==0) & (y_test ==1)).sum().float()\n",
    "    Recall=correct_results_sum/(correct_results_sum+fn_sum)\n",
    "    Recall = torch.round(Recall * 100)\n",
    "    \n",
    "    return Recall"
   ]
  },
  {
   "cell_type": "code",
   "execution_count": 210,
   "metadata": {},
   "outputs": [
    {
     "name": "stdout",
     "output_type": "stream",
     "text": [
      "Epoch 001: | Loss: 0.30911 | Acc: 87.030 | Recall : 94.309\n",
      "Epoch 002: | Loss: 0.27075 | Acc: 88.871 | Recall : 95.075\n",
      "Epoch 003: | Loss: 0.26242 | Acc: 89.303 | Recall : 95.311\n",
      "Epoch 004: | Loss: 0.25491 | Acc: 89.673 | Recall : 95.451\n",
      "Epoch 005: | Loss: 0.24811 | Acc: 90.052 | Recall : 95.652\n",
      "Epoch 006: | Loss: 0.24718 | Acc: 90.089 | Recall : 95.752\n",
      "Epoch 007: | Loss: 0.24541 | Acc: 90.139 | Recall : 95.775\n",
      "Epoch 008: | Loss: 0.24364 | Acc: 90.222 | Recall : 95.840\n",
      "Epoch 009: | Loss: 0.24098 | Acc: 90.332 | Recall : 95.868\n",
      "Epoch 010: | Loss: 0.24016 | Acc: 90.361 | Recall : 95.930\n",
      "Epoch 011: | Loss: 0.23951 | Acc: 90.414 | Recall : 95.976\n",
      "Epoch 012: | Loss: 0.24779 | Acc: 90.036 | Recall : 95.708\n",
      "Epoch 013: | Loss: 0.26333 | Acc: 89.270 | Recall : 95.296\n",
      "Epoch 014: | Loss: 0.26908 | Acc: 88.987 | Recall : 95.150\n",
      "Epoch 015: | Loss: 0.27403 | Acc: 88.806 | Recall : 95.003\n",
      "Epoch 016: | Loss: 0.27670 | Acc: 88.822 | Recall : 95.036\n",
      "Epoch 017: | Loss: 0.27902 | Acc: 88.658 | Recall : 94.928\n",
      "Epoch 018: | Loss: 0.28279 | Acc: 88.402 | Recall : 94.812\n",
      "Epoch 019: | Loss: 0.28467 | Acc: 88.467 | Recall : 94.836\n",
      "Epoch 020: | Loss: 0.28446 | Acc: 88.382 | Recall : 94.713\n",
      "Epoch 021: | Loss: 0.28253 | Acc: 88.594 | Recall : 94.835\n",
      "Epoch 022: | Loss: 0.28096 | Acc: 88.671 | Recall : 94.897\n",
      "Epoch 023: | Loss: 0.28077 | Acc: 88.608 | Recall : 94.852\n",
      "Epoch 024: | Loss: 0.27815 | Acc: 88.711 | Recall : 94.950\n",
      "Epoch 025: | Loss: 0.27865 | Acc: 88.629 | Recall : 94.860\n"
     ]
    }
   ],
   "source": [
    "\n",
    "swa_model.train()\n",
    "model.train()\n",
    "for e in range(1, EPOCHS+1):\n",
    "    epoch_loss = 0\n",
    "    epoch_acc = 0\n",
    "    epoch_rec = 0\n",
    "    for X_batch, y_batch in train_loader:\n",
    "        X_batch, y_batch = X_batch.to(device), y_batch.to(device)\n",
    "        optimizer.zero_grad()\n",
    "        \n",
    "        y_pred = model(X_batch)\n",
    "        \n",
    "        loss = criterion(y_pred, y_batch.unsqueeze(1))\n",
    "        acc = binary_acc(y_pred, y_batch.unsqueeze(1))\n",
    "        Recall = binary_rec(y_pred, y_batch.unsqueeze(1))\n",
    "        \n",
    "        loss.backward()\n",
    "        optimizer.step()\n",
    "        \n",
    "        epoch_loss += loss.item()\n",
    "        epoch_acc += acc.item()\n",
    "        epoch_rec += Recall.item()\n",
    "       \n",
    " \n",
    "    if e > SWA_START:\n",
    "        swa_model.update_parameters(model)\n",
    "        swa_scheduler.step()\n",
    "    else:\n",
    "        scheduler.step()\n",
    "    \n",
    "    print(f'Epoch {e+0:03}: | Loss: {epoch_loss/len(train_loader):.5f} | Acc: {epoch_acc/len(train_loader):.3f} | Recall : {epoch_rec/len(train_loader):.3f}')\n"
   ]
  },
  {
   "cell_type": "code",
   "execution_count": 211,
   "metadata": {},
   "outputs": [],
   "source": [
    "torch.optim.swa_utils.update_bn(train_loader, swa_model)"
   ]
  },
  {
   "cell_type": "code",
   "execution_count": 212,
   "metadata": {},
   "outputs": [],
   "source": [
    "y_pred_list = []\n",
    "swa_model.eval()\n",
    "model.eval()\n",
    "with torch.no_grad():\n",
    "    for X_batch in test_loader:\n",
    "        X_batch = X_batch.to(device)\n",
    "        y_test_pred = swa_model(X_batch)\n",
    "        y_test_pred = torch.sigmoid(y_test_pred)\n",
    "        y_pred_tag = torch.round(y_test_pred)\n",
    "        y_pred_list.append(y_pred_tag.cpu().numpy())\n",
    "\n",
    "y_pred_list = [a.squeeze().tolist() for a in y_pred_list]"
   ]
  },
  {
   "cell_type": "code",
   "execution_count": 213,
   "metadata": {},
   "outputs": [
    {
     "name": "stdout",
     "output_type": "stream",
     "text": [
      "              precision    recall  f1-score   support\n",
      "\n",
      "           0       0.87      0.77      0.81      1503\n",
      "           1       0.80      0.89      0.84      1548\n",
      "\n",
      "    accuracy                           0.83      3051\n",
      "   macro avg       0.83      0.83      0.83      3051\n",
      "weighted avg       0.83      0.83      0.83      3051\n",
      "\n"
     ]
    }
   ],
   "source": [
    "print(classification_report(y_test, y_pred_list))"
   ]
  },
  {
   "cell_type": "code",
   "execution_count": 214,
   "metadata": {},
   "outputs": [
    {
     "data": {
      "image/png": "[encoded data removed]",
      "text/plain": [
       "<Figure size 640x480 with 2 Axes>"
      ]
     },
     "metadata": {},
     "output_type": "display_data"
    }
   ],
   "source": [
    "cm = confusion_matrix(y_test, y_pred_list)\n",
    "plot_confusion_matrix(cm, ['0', '1'], )"
   ]
  },
  {
   "cell_type": "markdown",
   "metadata": {},
   "source": [
    "KNN "
   ]
  },
  {
   "cell_type": "code",
   "execution_count": 202,
   "metadata": {},
   "outputs": [
    {
     "name": "stdout",
     "output_type": "stream",
     "text": [
      "              precision    recall  f1-score   support\n",
      "\n",
      "           0       0.92      0.75      0.83      7146\n",
      "           1       0.33      0.66      0.44      1290\n",
      "\n",
      "    accuracy                           0.74      8436\n",
      "   macro avg       0.63      0.71      0.63      8436\n",
      "weighted avg       0.83      0.74      0.77      8436\n",
      "\n"
     ]
    }
   ],
   "source": [
    "knn = KNeighborsClassifier(n_neighbors=5, metric='euclidean')\n",
    "knn.fit(X_train_res, y_train_res)\n",
    "y_pred = knn.predict(X_test)\n",
    "print(classification_report(y_test, y_pred))"
   ]
  },
  {
   "cell_type": "code",
   "execution_count": 203,
   "metadata": {},
   "outputs": [
    {
     "data": {
      "image/png": "[encoded data removed]",
      "text/plain": [
       "<Figure size 640x480 with 2 Axes>"
      ]
     },
     "metadata": {},
     "output_type": "display_data"
    }
   ],
   "source": [
    "cm = confusion_matrix(y_test, y_pred)\n",
    "plot_confusion_matrix(cm, ['0', '1'], )"
   ]
  },
  {
   "cell_type": "code",
   "execution_count": 56,
   "metadata": {},
   "outputs": [
    {
     "name": "stdout",
     "output_type": "stream",
     "text": [
      "Collecting skorch\n",
      "  Downloading skorch-0.12.1-py3-none-any.whl (193 kB)\n",
      "\u001b[2K     \u001b[90m━━━━━━━━━━━━━━━━━━━━━━━━━━━━━━━━━━━━━━━\u001b[0m \u001b[32m193.7/193.7 kB\u001b[0m \u001b[31m3.4 MB/s\u001b[0m eta \u001b[36m0:00:00\u001b[0ma \u001b[36m0:00:01\u001b[0m\n",
      "\u001b[?25hRequirement already satisfied: tqdm>=4.14.0 in /usr/local/lib/python3.10/site-packages (from skorch) (4.64.1)\n",
      "Requirement already satisfied: scipy>=1.1.0 in /usr/local/lib/python3.10/site-packages (from skorch) (1.9.2)\n",
      "Requirement already satisfied: scikit-learn>=0.22.0 in /usr/local/lib/python3.10/site-packages (from skorch) (1.1.2)\n",
      "Collecting tabulate>=0.7.7\n",
      "  Downloading tabulate-0.9.0-py3-none-any.whl (35 kB)\n",
      "Requirement already satisfied: numpy>=1.13.3 in /usr/local/lib/python3.10/site-packages (from skorch) (1.23.3)\n",
      "Requirement already satisfied: threadpoolctl>=2.0.0 in /usr/local/lib/python3.10/site-packages (from scikit-learn>=0.22.0->skorch) (3.1.0)\n",
      "Requirement already satisfied: joblib>=1.0.0 in /usr/local/lib/python3.10/site-packages (from scikit-learn>=0.22.0->skorch) (1.2.0)\n",
      "Installing collected packages: tabulate, skorch\n",
      "Successfully installed skorch-0.12.1 tabulate-0.9.0\n",
      "\n",
      "\u001b[1m[\u001b[0m\u001b[34;49mnotice\u001b[0m\u001b[1;39;49m]\u001b[0m\u001b[39;49m A new release of pip available: \u001b[0m\u001b[31;49m22.3\u001b[0m\u001b[39;49m -> \u001b[0m\u001b[32;49m22.3.1\u001b[0m\n",
      "\u001b[1m[\u001b[0m\u001b[34;49mnotice\u001b[0m\u001b[1;39;49m]\u001b[0m\u001b[39;49m To update, run: \u001b[0m\u001b[32;49mpython3.10 -m pip install --upgrade pip\u001b[0m\n",
      "Note: you may need to restart the kernel to use updated packages.\n"
     ]
    }
   ],
   "source": [
    "pip install skorch"
   ]
  },
  {
   "cell_type": "markdown",
   "metadata": {},
   "source": [
    "Predicting Acquired, Failed IPO"
   ]
  },
  {
   "cell_type": "markdown",
   "metadata": {},
   "source": [
    "XGBoost"
   ]
  },
  {
   "cell_type": "code",
   "execution_count": 173,
   "metadata": {},
   "outputs": [],
   "source": [
    "df_fund=df_mode.loc[(df_mode[\"Y\"]!=0) & (df_mode[\"Y\"]!=4)].copy()\n",
    "df_fund.loc[(df_mode[\"Y\"]==1),\"Y\"]=0 #compare it to companies where nothing happened \n",
    "df_fund.loc[(df_mode[\"Y\"]==2),\"Y\"]=1\n",
    "df_fund.loc[(df_mode[\"Y\"]==3),\"Y\"]=2\n",
    "X=df_fund.drop(columns=[\"name\",\"Y\"])\n",
    "y=df_fund[\"Y\"]\n"
   ]
  },
  {
   "cell_type": "code",
   "execution_count": 18,
   "metadata": {},
   "outputs": [],
   "source": [
    "undersample = NearMiss(version=1, n_neighbors=3)\n",
    "# transform the dataset\n",
    "X, y = undersample.fit_resample(X, y)\n",
    "X_train, X_test, y_train, y_test = train_test_split(X, y, test_size = 0.3, random_state = 0)"
   ]
  },
  {
   "cell_type": "code",
   "execution_count": 174,
   "metadata": {},
   "outputs": [],
   "source": [
    "sm = SMOTE(random_state = 2)\n",
    "X,y = sm.fit_resample(X,y)\n",
    "X_train, X_test, y_train, y_test = train_test_split(X, y, test_size = 0.2, random_state = 0)"
   ]
  },
  {
   "cell_type": "code",
   "execution_count": 175,
   "metadata": {},
   "outputs": [
    {
     "data": {
      "text/plain": [
       "Counter({0: 11316, 2: 11316, 1: 11316})"
      ]
     },
     "execution_count": 175,
     "metadata": {},
     "output_type": "execute_result"
    }
   ],
   "source": [
    "Counter(y)"
   ]
  },
  {
   "cell_type": "code",
   "execution_count": 171,
   "metadata": {},
   "outputs": [],
   "source": [
    "params = { 'max_depth': [3, 5, 6, 10, 15, 20],\n",
    "           'max_delta_step': [0,1,2,4],\n",
    "           'learning_rate': [0.01, 0.1, 0.2, 0.3],\n",
    "           'subsample': np.arange(0.5, 1.0, 0.1),\n",
    "           'colsample_bytree': np.arange(0.4, 1.0, 0.1),\n",
    "           'colsample_bylevel': np.arange(0.4, 1.0, 0.1),\n",
    "           'n_estimators': [100, 500, 1000],\n",
    "           'min_child_weight': [1,2,3,4]}\n",
    "xgbr = xgb.XGBClassifier()\n",
    "clf = RandomizedSearchCV(estimator=xgbr,\n",
    "                         param_distributions=params,\n",
    "                         scoring='f1',\n",
    "                         n_iter=2,\n",
    "                         verbose=1)"
   ]
  },
  {
   "cell_type": "code",
   "execution_count": 176,
   "metadata": {},
   "outputs": [
    {
     "name": "stdout",
     "output_type": "stream",
     "text": [
      "Fitting 5 folds for each of 2 candidates, totalling 10 fits\n"
     ]
    },
    {
     "name": "stderr",
     "output_type": "stream",
     "text": [
      "/usr/local/lib/python3.10/site-packages/sklearn/model_selection/_validation.py:776: UserWarning: Scoring failed. The score on this train-test partition for these parameters will be set to nan. Details: \n",
      "Traceback (most recent call last):\n",
      "  File \"/usr/local/lib/python3.10/site-packages/sklearn/model_selection/_validation.py\", line 767, in _score\n",
      "    scores = scorer(estimator, X_test, y_test)\n",
      "  File \"/usr/local/lib/python3.10/site-packages/sklearn/metrics/_scorer.py\", line 219, in __call__\n",
      "    return self._score(\n",
      "  File \"/usr/local/lib/python3.10/site-packages/sklearn/metrics/_scorer.py\", line 267, in _score\n",
      "    return self._sign * self._score_func(y_true, y_pred, **self._kwargs)\n",
      "  File \"/usr/local/lib/python3.10/site-packages/sklearn/metrics/_classification.py\", line 1136, in f1_score\n",
      "    return fbeta_score(\n",
      "  File \"/usr/local/lib/python3.10/site-packages/sklearn/metrics/_classification.py\", line 1277, in fbeta_score\n",
      "    _, _, f, _ = precision_recall_fscore_support(\n",
      "  File \"/usr/local/lib/python3.10/site-packages/sklearn/metrics/_classification.py\", line 1563, in precision_recall_fscore_support\n",
      "    labels = _check_set_wise_labels(y_true, y_pred, average, labels, pos_label)\n",
      "  File \"/usr/local/lib/python3.10/site-packages/sklearn/metrics/_classification.py\", line 1381, in _check_set_wise_labels\n",
      "    raise ValueError(\n",
      "ValueError: Target is multiclass but average='binary'. Please choose another average setting, one of [None, 'micro', 'macro', 'weighted'].\n",
      "\n",
      "  warnings.warn(\n",
      "/usr/local/lib/python3.10/site-packages/sklearn/model_selection/_validation.py:776: UserWarning: Scoring failed. The score on this train-test partition for these parameters will be set to nan. Details: \n",
      "Traceback (most recent call last):\n",
      "  File \"/usr/local/lib/python3.10/site-packages/sklearn/model_selection/_validation.py\", line 767, in _score\n",
      "    scores = scorer(estimator, X_test, y_test)\n",
      "  File \"/usr/local/lib/python3.10/site-packages/sklearn/metrics/_scorer.py\", line 219, in __call__\n",
      "    return self._score(\n",
      "  File \"/usr/local/lib/python3.10/site-packages/sklearn/metrics/_scorer.py\", line 267, in _score\n",
      "    return self._sign * self._score_func(y_true, y_pred, **self._kwargs)\n",
      "  File \"/usr/local/lib/python3.10/site-packages/sklearn/metrics/_classification.py\", line 1136, in f1_score\n",
      "    return fbeta_score(\n",
      "  File \"/usr/local/lib/python3.10/site-packages/sklearn/metrics/_classification.py\", line 1277, in fbeta_score\n",
      "    _, _, f, _ = precision_recall_fscore_support(\n",
      "  File \"/usr/local/lib/python3.10/site-packages/sklearn/metrics/_classification.py\", line 1563, in precision_recall_fscore_support\n",
      "    labels = _check_set_wise_labels(y_true, y_pred, average, labels, pos_label)\n",
      "  File \"/usr/local/lib/python3.10/site-packages/sklearn/metrics/_classification.py\", line 1381, in _check_set_wise_labels\n",
      "    raise ValueError(\n",
      "ValueError: Target is multiclass but average='binary'. Please choose another average setting, one of [None, 'micro', 'macro', 'weighted'].\n",
      "\n",
      "  warnings.warn(\n",
      "/usr/local/lib/python3.10/site-packages/sklearn/model_selection/_validation.py:776: UserWarning: Scoring failed. The score on this train-test partition for these parameters will be set to nan. Details: \n",
      "Traceback (most recent call last):\n",
      "  File \"/usr/local/lib/python3.10/site-packages/sklearn/model_selection/_validation.py\", line 767, in _score\n",
      "    scores = scorer(estimator, X_test, y_test)\n",
      "  File \"/usr/local/lib/python3.10/site-packages/sklearn/metrics/_scorer.py\", line 219, in __call__\n",
      "    return self._score(\n",
      "  File \"/usr/local/lib/python3.10/site-packages/sklearn/metrics/_scorer.py\", line 267, in _score\n",
      "    return self._sign * self._score_func(y_true, y_pred, **self._kwargs)\n",
      "  File \"/usr/local/lib/python3.10/site-packages/sklearn/metrics/_classification.py\", line 1136, in f1_score\n",
      "    return fbeta_score(\n",
      "  File \"/usr/local/lib/python3.10/site-packages/sklearn/metrics/_classification.py\", line 1277, in fbeta_score\n",
      "    _, _, f, _ = precision_recall_fscore_support(\n",
      "  File \"/usr/local/lib/python3.10/site-packages/sklearn/metrics/_classification.py\", line 1563, in precision_recall_fscore_support\n",
      "    labels = _check_set_wise_labels(y_true, y_pred, average, labels, pos_label)\n",
      "  File \"/usr/local/lib/python3.10/site-packages/sklearn/metrics/_classification.py\", line 1381, in _check_set_wise_labels\n",
      "    raise ValueError(\n",
      "ValueError: Target is multiclass but average='binary'. Please choose another average setting, one of [None, 'micro', 'macro', 'weighted'].\n",
      "\n",
      "  warnings.warn(\n",
      "/usr/local/lib/python3.10/site-packages/sklearn/model_selection/_validation.py:776: UserWarning: Scoring failed. The score on this train-test partition for these parameters will be set to nan. Details: \n",
      "Traceback (most recent call last):\n",
      "  File \"/usr/local/lib/python3.10/site-packages/sklearn/model_selection/_validation.py\", line 767, in _score\n",
      "    scores = scorer(estimator, X_test, y_test)\n",
      "  File \"/usr/local/lib/python3.10/site-packages/sklearn/metrics/_scorer.py\", line 219, in __call__\n",
      "    return self._score(\n",
      "  File \"/usr/local/lib/python3.10/site-packages/sklearn/metrics/_scorer.py\", line 267, in _score\n",
      "    return self._sign * self._score_func(y_true, y_pred, **self._kwargs)\n",
      "  File \"/usr/local/lib/python3.10/site-packages/sklearn/metrics/_classification.py\", line 1136, in f1_score\n",
      "    return fbeta_score(\n",
      "  File \"/usr/local/lib/python3.10/site-packages/sklearn/metrics/_classification.py\", line 1277, in fbeta_score\n",
      "    _, _, f, _ = precision_recall_fscore_support(\n",
      "  File \"/usr/local/lib/python3.10/site-packages/sklearn/metrics/_classification.py\", line 1563, in precision_recall_fscore_support\n",
      "    labels = _check_set_wise_labels(y_true, y_pred, average, labels, pos_label)\n",
      "  File \"/usr/local/lib/python3.10/site-packages/sklearn/metrics/_classification.py\", line 1381, in _check_set_wise_labels\n",
      "    raise ValueError(\n",
      "ValueError: Target is multiclass but average='binary'. Please choose another average setting, one of [None, 'micro', 'macro', 'weighted'].\n",
      "\n",
      "  warnings.warn(\n",
      "/usr/local/lib/python3.10/site-packages/sklearn/model_selection/_validation.py:776: UserWarning: Scoring failed. The score on this train-test partition for these parameters will be set to nan. Details: \n",
      "Traceback (most recent call last):\n",
      "  File \"/usr/local/lib/python3.10/site-packages/sklearn/model_selection/_validation.py\", line 767, in _score\n",
      "    scores = scorer(estimator, X_test, y_test)\n",
      "  File \"/usr/local/lib/python3.10/site-packages/sklearn/metrics/_scorer.py\", line 219, in __call__\n",
      "    return self._score(\n",
      "  File \"/usr/local/lib/python3.10/site-packages/sklearn/metrics/_scorer.py\", line 267, in _score\n",
      "    return self._sign * self._score_func(y_true, y_pred, **self._kwargs)\n",
      "  File \"/usr/local/lib/python3.10/site-packages/sklearn/metrics/_classification.py\", line 1136, in f1_score\n",
      "    return fbeta_score(\n",
      "  File \"/usr/local/lib/python3.10/site-packages/sklearn/metrics/_classification.py\", line 1277, in fbeta_score\n",
      "    _, _, f, _ = precision_recall_fscore_support(\n",
      "  File \"/usr/local/lib/python3.10/site-packages/sklearn/metrics/_classification.py\", line 1563, in precision_recall_fscore_support\n",
      "    labels = _check_set_wise_labels(y_true, y_pred, average, labels, pos_label)\n",
      "  File \"/usr/local/lib/python3.10/site-packages/sklearn/metrics/_classification.py\", line 1381, in _check_set_wise_labels\n",
      "    raise ValueError(\n",
      "ValueError: Target is multiclass but average='binary'. Please choose another average setting, one of [None, 'micro', 'macro', 'weighted'].\n",
      "\n",
      "  warnings.warn(\n",
      "/usr/local/lib/python3.10/site-packages/sklearn/model_selection/_validation.py:776: UserWarning: Scoring failed. The score on this train-test partition for these parameters will be set to nan. Details: \n",
      "Traceback (most recent call last):\n",
      "  File \"/usr/local/lib/python3.10/site-packages/sklearn/model_selection/_validation.py\", line 767, in _score\n",
      "    scores = scorer(estimator, X_test, y_test)\n",
      "  File \"/usr/local/lib/python3.10/site-packages/sklearn/metrics/_scorer.py\", line 219, in __call__\n",
      "    return self._score(\n",
      "  File \"/usr/local/lib/python3.10/site-packages/sklearn/metrics/_scorer.py\", line 267, in _score\n",
      "    return self._sign * self._score_func(y_true, y_pred, **self._kwargs)\n",
      "  File \"/usr/local/lib/python3.10/site-packages/sklearn/metrics/_classification.py\", line 1136, in f1_score\n",
      "    return fbeta_score(\n",
      "  File \"/usr/local/lib/python3.10/site-packages/sklearn/metrics/_classification.py\", line 1277, in fbeta_score\n",
      "    _, _, f, _ = precision_recall_fscore_support(\n",
      "  File \"/usr/local/lib/python3.10/site-packages/sklearn/metrics/_classification.py\", line 1563, in precision_recall_fscore_support\n",
      "    labels = _check_set_wise_labels(y_true, y_pred, average, labels, pos_label)\n",
      "  File \"/usr/local/lib/python3.10/site-packages/sklearn/metrics/_classification.py\", line 1381, in _check_set_wise_labels\n",
      "    raise ValueError(\n",
      "ValueError: Target is multiclass but average='binary'. Please choose another average setting, one of [None, 'micro', 'macro', 'weighted'].\n",
      "\n",
      "  warnings.warn(\n",
      "/usr/local/lib/python3.10/site-packages/sklearn/model_selection/_validation.py:776: UserWarning: Scoring failed. The score on this train-test partition for these parameters will be set to nan. Details: \n",
      "Traceback (most recent call last):\n",
      "  File \"/usr/local/lib/python3.10/site-packages/sklearn/model_selection/_validation.py\", line 767, in _score\n",
      "    scores = scorer(estimator, X_test, y_test)\n",
      "  File \"/usr/local/lib/python3.10/site-packages/sklearn/metrics/_scorer.py\", line 219, in __call__\n",
      "    return self._score(\n",
      "  File \"/usr/local/lib/python3.10/site-packages/sklearn/metrics/_scorer.py\", line 267, in _score\n",
      "    return self._sign * self._score_func(y_true, y_pred, **self._kwargs)\n",
      "  File \"/usr/local/lib/python3.10/site-packages/sklearn/metrics/_classification.py\", line 1136, in f1_score\n",
      "    return fbeta_score(\n",
      "  File \"/usr/local/lib/python3.10/site-packages/sklearn/metrics/_classification.py\", line 1277, in fbeta_score\n",
      "    _, _, f, _ = precision_recall_fscore_support(\n",
      "  File \"/usr/local/lib/python3.10/site-packages/sklearn/metrics/_classification.py\", line 1563, in precision_recall_fscore_support\n",
      "    labels = _check_set_wise_labels(y_true, y_pred, average, labels, pos_label)\n",
      "  File \"/usr/local/lib/python3.10/site-packages/sklearn/metrics/_classification.py\", line 1381, in _check_set_wise_labels\n",
      "    raise ValueError(\n",
      "ValueError: Target is multiclass but average='binary'. Please choose another average setting, one of [None, 'micro', 'macro', 'weighted'].\n",
      "\n",
      "  warnings.warn(\n",
      "/usr/local/lib/python3.10/site-packages/sklearn/model_selection/_validation.py:776: UserWarning: Scoring failed. The score on this train-test partition for these parameters will be set to nan. Details: \n",
      "Traceback (most recent call last):\n",
      "  File \"/usr/local/lib/python3.10/site-packages/sklearn/model_selection/_validation.py\", line 767, in _score\n",
      "    scores = scorer(estimator, X_test, y_test)\n",
      "  File \"/usr/local/lib/python3.10/site-packages/sklearn/metrics/_scorer.py\", line 219, in __call__\n",
      "    return self._score(\n",
      "  File \"/usr/local/lib/python3.10/site-packages/sklearn/metrics/_scorer.py\", line 267, in _score\n",
      "    return self._sign * self._score_func(y_true, y_pred, **self._kwargs)\n",
      "  File \"/usr/local/lib/python3.10/site-packages/sklearn/metrics/_classification.py\", line 1136, in f1_score\n",
      "    return fbeta_score(\n",
      "  File \"/usr/local/lib/python3.10/site-packages/sklearn/metrics/_classification.py\", line 1277, in fbeta_score\n",
      "    _, _, f, _ = precision_recall_fscore_support(\n",
      "  File \"/usr/local/lib/python3.10/site-packages/sklearn/metrics/_classification.py\", line 1563, in precision_recall_fscore_support\n",
      "    labels = _check_set_wise_labels(y_true, y_pred, average, labels, pos_label)\n",
      "  File \"/usr/local/lib/python3.10/site-packages/sklearn/metrics/_classification.py\", line 1381, in _check_set_wise_labels\n",
      "    raise ValueError(\n",
      "ValueError: Target is multiclass but average='binary'. Please choose another average setting, one of [None, 'micro', 'macro', 'weighted'].\n",
      "\n",
      "  warnings.warn(\n",
      "/usr/local/lib/python3.10/site-packages/sklearn/model_selection/_validation.py:776: UserWarning: Scoring failed. The score on this train-test partition for these parameters will be set to nan. Details: \n",
      "Traceback (most recent call last):\n",
      "  File \"/usr/local/lib/python3.10/site-packages/sklearn/model_selection/_validation.py\", line 767, in _score\n",
      "    scores = scorer(estimator, X_test, y_test)\n",
      "  File \"/usr/local/lib/python3.10/site-packages/sklearn/metrics/_scorer.py\", line 219, in __call__\n",
      "    return self._score(\n",
      "  File \"/usr/local/lib/python3.10/site-packages/sklearn/metrics/_scorer.py\", line 267, in _score\n",
      "    return self._sign * self._score_func(y_true, y_pred, **self._kwargs)\n",
      "  File \"/usr/local/lib/python3.10/site-packages/sklearn/metrics/_classification.py\", line 1136, in f1_score\n",
      "    return fbeta_score(\n",
      "  File \"/usr/local/lib/python3.10/site-packages/sklearn/metrics/_classification.py\", line 1277, in fbeta_score\n",
      "    _, _, f, _ = precision_recall_fscore_support(\n",
      "  File \"/usr/local/lib/python3.10/site-packages/sklearn/metrics/_classification.py\", line 1563, in precision_recall_fscore_support\n",
      "    labels = _check_set_wise_labels(y_true, y_pred, average, labels, pos_label)\n",
      "  File \"/usr/local/lib/python3.10/site-packages/sklearn/metrics/_classification.py\", line 1381, in _check_set_wise_labels\n",
      "    raise ValueError(\n",
      "ValueError: Target is multiclass but average='binary'. Please choose another average setting, one of [None, 'micro', 'macro', 'weighted'].\n",
      "\n",
      "  warnings.warn(\n",
      "/usr/local/lib/python3.10/site-packages/sklearn/model_selection/_validation.py:776: UserWarning: Scoring failed. The score on this train-test partition for these parameters will be set to nan. Details: \n",
      "Traceback (most recent call last):\n",
      "  File \"/usr/local/lib/python3.10/site-packages/sklearn/model_selection/_validation.py\", line 767, in _score\n",
      "    scores = scorer(estimator, X_test, y_test)\n",
      "  File \"/usr/local/lib/python3.10/site-packages/sklearn/metrics/_scorer.py\", line 219, in __call__\n",
      "    return self._score(\n",
      "  File \"/usr/local/lib/python3.10/site-packages/sklearn/metrics/_scorer.py\", line 267, in _score\n",
      "    return self._sign * self._score_func(y_true, y_pred, **self._kwargs)\n",
      "  File \"/usr/local/lib/python3.10/site-packages/sklearn/metrics/_classification.py\", line 1136, in f1_score\n",
      "    return fbeta_score(\n",
      "  File \"/usr/local/lib/python3.10/site-packages/sklearn/metrics/_classification.py\", line 1277, in fbeta_score\n",
      "    _, _, f, _ = precision_recall_fscore_support(\n",
      "  File \"/usr/local/lib/python3.10/site-packages/sklearn/metrics/_classification.py\", line 1563, in precision_recall_fscore_support\n",
      "    labels = _check_set_wise_labels(y_true, y_pred, average, labels, pos_label)\n",
      "  File \"/usr/local/lib/python3.10/site-packages/sklearn/metrics/_classification.py\", line 1381, in _check_set_wise_labels\n",
      "    raise ValueError(\n",
      "ValueError: Target is multiclass but average='binary'. Please choose another average setting, one of [None, 'micro', 'macro', 'weighted'].\n",
      "\n",
      "  warnings.warn(\n",
      "/usr/local/lib/python3.10/site-packages/sklearn/model_selection/_search.py:953: UserWarning: One or more of the test scores are non-finite: [nan nan]\n",
      "  warnings.warn(\n"
     ]
    },
    {
     "name": "stdout",
     "output_type": "stream",
     "text": [
      "Best parameters: {'subsample': 0.7, 'n_estimators': 500, 'min_child_weight': 4, 'max_depth': 20, 'max_delta_step': 0, 'learning_rate': 0.01, 'colsample_bytree': 0.7, 'colsample_bylevel': 0.7999999999999999}\n",
      "Lowest RMSE:  nan\n"
     ]
    }
   ],
   "source": [
    "clf.fit(X_train, y_train)\n",
    "print(\"Best parameters:\", clf.best_params_)\n",
    "print(\"Lowest RMSE: \", (-clf.best_score_)**(1/2.0))"
   ]
  },
  {
   "cell_type": "code",
   "execution_count": 179,
   "metadata": {},
   "outputs": [],
   "source": [
    "fix_params= clf.best_params_\n",
    "fix_params[\"objective\"] = 'multi:softproba'\n",
    "fix_params[\"num_class\"]=3"
   ]
  },
  {
   "cell_type": "code",
   "execution_count": 180,
   "metadata": {},
   "outputs": [],
   "source": [
    "xgb_clf = xgb.XGBClassifier(**fix_params)\n",
    "xgb_clf = xgb_clf.fit(X_train, y_train)\n",
    "y_pred = xgb_clf.predict(X_test)\n",
    "y_proba= xgb_clf.predict_proba(X_test)"
   ]
  },
  {
   "cell_type": "code",
   "execution_count": 34,
   "metadata": {},
   "outputs": [
    {
     "name": "stdout",
     "output_type": "stream",
     "text": [
      "[20:00:09] WARNING: /Users/runner/work/xgboost/xgboost/python-package/build/temp.macosx-10.9-x86_64-cpython-37/xgboost/src/learner.cc:627: \n",
      "Parameters: { \"n_estimators\" } might not be used.\n",
      "\n",
      "  This could be a false alarm, with some parameters getting used by language bindings but\n",
      "  then being mistakenly passed down to XGBoost core, or some parameter actually being used\n",
      "  but getting flagged wrongly here. Please open an issue if you find any such cases.\n",
      "\n",
      "\n"
     ]
    }
   ],
   "source": [
    "xgdmat_train = xgb.DMatrix(X_train, y_train)\n",
    "xgdmat_test = xgb.DMatrix(X_test, y_test)\n",
    "xgb_final = xgb.train(fix_params, xgdmat_train, num_boost_round = 100)"
   ]
  },
  {
   "cell_type": "code",
   "execution_count": 181,
   "metadata": {},
   "outputs": [
    {
     "name": "stdout",
     "output_type": "stream",
     "text": [
      "              precision    recall  f1-score   support\n",
      "\n",
      "           0       0.90      0.93      0.92      2270\n",
      "           1       0.93      0.92      0.93      2246\n",
      "           2       0.97      0.94      0.96      2274\n",
      "\n",
      "    accuracy                           0.93      6790\n",
      "   macro avg       0.93      0.93      0.93      6790\n",
      "weighted avg       0.93      0.93      0.93      6790\n",
      "\n"
     ]
    }
   ],
   "source": [
    "print(classification_report(y_test, y_pred))"
   ]
  }
 ],
 "metadata": {
  "kernelspec": {
   "display_name": "Python 3.10.7 64-bit",
   "language": "python",
   "name": "python3"
  },
  "language_info": {
   "codemirror_mode": {
    "name": "ipython",
    "version": 3
   },
   "file_extension": ".py",
   "mimetype": "text/x-python",
   "name": "python",
   "nbconvert_exporter": "python",
   "pygments_lexer": "ipython3",
   "version": "3.10.7"
  },
  "orig_nbformat": 4,
  "vscode": {
   "interpreter": {
    "hash": "aee8b7b246df8f9039afb4144a1f6fd8d2ca17a180786b69acc140d282b71a49"
   }
  }
 },
 "nbformat": 4,
 "nbformat_minor": 2
}

{
 "cells": [
  {
   "cell_type": "code",
   "execution_count": 1,
   "metadata": {},
   "outputs": [],
   "source": [
    "import pandas as pd\n",
    "import numpy as np\n",
    "import requests\n",
    "import json\n",
    "from pandas import json_normalize\n",
    "from requests.auth import HTTPBasicAuth\n",
    "\n",
    "from dotenv.main import load_dotenv\n",
    "import os\n",
    "\n",
    "from fuzzywuzzy import process\n",
    "from fuzzywuzzy import fuzz\n",
    "\n",
    "import seaborn as sns\n",
    "\n",
    "from sklearn.preprocessing import LabelEncoder\n",
    "\n",
    "import nltk\n",
    "from nltk.tokenize import word_tokenize\n",
    "\n",
    "import math\n",
    "\n",
    "\n",
    "pd.options.display.max_seq_items = 20000\n",
    "pd.set_option('display.max_columns', None)\n",
    "pd.set_option('display.max_rows', None)\n",
    "pd.set_option('display.width', 2000)"
   ]
  },
  {
   "cell_type": "code",
   "execution_count": 2,
   "metadata": {},
   "outputs": [],
   "source": [
    "#Load the Api Key\n",
    "\n",
    "from dotenv.main import load_dotenv\n",
    "import os\n",
    "load_dotenv()\n",
    "API_KEY=os.environ[\"api_key\"]"
   ]
  },
  {
   "cell_type": "markdown",
   "metadata": {},
   "source": [
    "### 0.1 Notes and Thoughts"
   ]
  },
  {
   "cell_type": "markdown",
   "metadata": {},
   "source": [
    "Hard Filters that are needed for the Dataset are:\n",
    "- B2C\n",
    "- Europe \n",
    "- (Later industry, first iteration without industry specificat)"
   ]
  },
  {
   "cell_type": "markdown",
   "metadata": {},
   "source": [
    "All Available fields:\n",
    "id\n",
    "name\n",
    "type\n",
    "deleted\n",
    "path\n",
    "tagline\n",
    "about\n",
    "url,website_url,twitter_url,facebook_url,linkedin_url,google_url,crunchbase_url,angellist_url\n",
    "playmarket_app_id,appstore_app_id\n",
    "images\n",
    "employees,employees_latest\n",
    "industries,sub_industries,corporate_industries,service_industries\n",
    "technologies\n",
    "income_streams\n",
    "growth_stage\n",
    "traffic_summary\n",
    "hq_locations\n",
    "client_focus\n",
    "revenues\n",
    "tags\n",
    "ownerships\n",
    "delivery_method\n",
    "launch_year,launch_month\n",
    "has_promising_founder,has_strong_founder,has_super_founder\n",
    "total_funding,total_funding_source,last_funding,last_funding_source\n",
    "company_status,last_updated,last_updated_utc,created_utc\n",
    "facebook_likes_chart,twitter_tweets_chart,twitter_followers_chart,twitter_favorites_chart\n",
    "employees_chart\n",
    "similarweb_3_months_growth_unique,similarweb_3_months_growth_percentile,similarweb_3_months_growth_relative,similarweb_3_months_growth_delta,similarweb_6_months_growth_unique,similarweb_6_months_growth_percentile,similarweb_6_months_growth_relative,similarweb_6_months_growth_delta,similarweb_12_months_growth_unique,similarweb_12_months_growth_percentile,similarweb_12_months_growth_relative,similarweb_12_months_growth_delta\n",
    "\n",
    "app_3_months_growth_unique,app_3_months_growth_percentile,app_3_months_growth_relative,app_6_months_growth_unique,app_6_months_growth_percentile,app_6_months_growth_relative,app_12_months_growth_unique,app_12_months_growth_percentile,app_12_months_growth_relative,employee_3_months_growth_unique\n",
    "\n",
    "employee_3_months_growth_percentile,employee_3_months_growth_relative,employee_3_months_growth_delta,employee_6_months_growth_unique,employee_6_months_growth_percentile,employee_6_months_growth_relative,employee_6_months_growth_delta,employee_12_months_growth_unique,employee_12_months_growth_percentile,employee_12_months_growth_relative,employee_12_months_growth_delta\n",
    "kpi_summary\n",
    "team\n",
    "investors\n",
    "fundings\n",
    "traffic\n",
    "similarweb_chart\n",
    "job_openings\n",
    "exits\n",
    "trading_multiple\n",
    "app_downloads_ios_chart,app_downloads_android_chart,app_downloads_ios_incremental_chart,app_downloads_android_incremental_chart\n",
    "tech_stack_predictleads\n",
    "sustainable_development_goals\n",
    "core_side_value\n",
    "data_type\n",
    "pic_number\n",
    "patents_count\n"
   ]
  },
  {
   "cell_type": "markdown",
   "metadata": {},
   "source": []
  },
  {
   "cell_type": "markdown",
   "metadata": {},
   "source": [
    "### 0.2 Getting Available Filters for the Post Requests"
   ]
  },
  {
   "cell_type": "code",
   "execution_count": 289,
   "metadata": {},
   "outputs": [
    {
     "data": {
      "text/plain": [
       "{'items': [{'key': 'launch_year',\n",
       "   'items': [{'name': 2015, 'count': 84335, 'active': False},\n",
       "    {'name': 2016, 'count': 79793, 'active': False},\n",
       "    {'name': 2014, 'count': 77962, 'active': False},\n",
       "    {'name': 2017, 'count': 76836, 'active': False},\n",
       "    {'name': 2018, 'count': 72570, 'active': False},\n",
       "    {'name': 2013, 'count': 72278, 'active': False},\n",
       "    {'name': 2019, 'count': 69834, 'active': False},\n",
       "    {'name': 2012, 'count': 68595, 'active': False},\n",
       "    {'name': 2020, 'count': 62083, 'active': False},\n",
       "    {'name': 2011, 'count': 58551, 'active': False},\n",
       "    {'name': 2010, 'count': 55704, 'active': False},\n",
       "    {'name': 2009, 'count': 46991, 'active': False},\n",
       "    {'name': 2008, 'count': 40860, 'active': False},\n",
       "    {'name': 2007, 'count': 37910, 'active': False},\n",
       "    {'name': 2021, 'count': 37737, 'active': False},\n",
       "    {'name': 2006, 'count': 33847, 'active': False},\n",
       "    {'name': 2005, 'count': 30030, 'active': False},\n",
       "    {'name': 2004, 'count': 27234, 'active': False},\n",
       "    {'name': 2003, 'count': 25021, 'active': False},\n",
       "    {'name': 2000, 'count': 24502, 'active': False},\n",
       "    {'name': 2001, 'count': 23396, 'active': False},\n",
       "    {'name': 1999, 'count': 23092, 'active': False},\n",
       "    {'name': 2002, 'count': 22483, 'active': False},\n",
       "    {'name': 1998, 'count': 18176, 'active': False},\n",
       "    {'name': 1997, 'count': 15619, 'active': False},\n",
       "    {'name': 1996, 'count': 14905, 'active': False},\n",
       "    {'name': 1995, 'count': 13336, 'active': False},\n",
       "    {'name': 1994, 'count': 11669, 'active': False},\n",
       "    {'name': 1993, 'count': 10480, 'active': False},\n",
       "    {'name': 1992, 'count': 10260, 'active': False},\n",
       "    {'name': 1991, 'count': 9313, 'active': False},\n",
       "    {'name': 1990, 'count': 7550, 'active': False},\n",
       "    {'name': 1989, 'count': 5930, 'active': False},\n",
       "    {'name': 1987, 'count': 4820, 'active': False},\n",
       "    {'name': 1988, 'count': 4608, 'active': False},\n",
       "    {'name': 1986, 'count': 4557, 'active': False},\n",
       "    {'name': 1985, 'count': 4508, 'active': False},\n",
       "    {'name': 1984, 'count': 4094, 'active': False},\n",
       "    {'name': 2022, 'count': 3983, 'active': False},\n",
       "    {'name': 1983, 'count': 3797, 'active': False},\n",
       "    {'name': 1982, 'count': 3258, 'active': False},\n",
       "    {'name': 1980, 'count': 3151, 'active': False},\n",
       "    {'name': 1981, 'count': 2952, 'active': False},\n",
       "    {'name': 1979, 'count': 2894, 'active': False},\n",
       "    {'name': 1978, 'count': 2610, 'active': False},\n",
       "    {'name': 1976, 'count': 2228, 'active': False},\n",
       "    {'name': 1977, 'count': 2109, 'active': False},\n",
       "    {'name': 1972, 'count': 2098, 'active': False},\n",
       "    {'name': 1975, 'count': 1987, 'active': False},\n",
       "    {'name': 1974, 'count': 1903, 'active': False},\n",
       "    {'name': 1973, 'count': 1840, 'active': False},\n",
       "    {'name': 1969, 'count': 1758, 'active': False},\n",
       "    {'name': 1970, 'count': 1716, 'active': False},\n",
       "    {'name': 1971, 'count': 1623, 'active': False},\n",
       "    {'name': 1968, 'count': 1489, 'active': False},\n",
       "    {'name': 1967, 'count': 1276, 'active': False},\n",
       "    {'name': 1965, 'count': 1174, 'active': False},\n",
       "    {'name': 1946, 'count': 1162, 'active': False},\n",
       "    {'name': 1964, 'count': 1135, 'active': False},\n",
       "    {'name': 1963, 'count': 1087, 'active': False},\n",
       "    {'name': 1962, 'count': 1036, 'active': False},\n",
       "    {'name': 1960, 'count': 1006, 'active': False},\n",
       "    {'name': 1947, 'count': 993, 'active': False},\n",
       "    {'name': 1966, 'count': 956, 'active': False},\n",
       "    {'name': 1948, 'count': 955, 'active': False},\n",
       "    {'name': 1958, 'count': 937, 'active': False},\n",
       "    {'name': 1961, 'count': 906, 'active': False},\n",
       "    {'name': 1959, 'count': 897, 'active': False},\n",
       "    {'name': 1954, 'count': 887, 'active': False},\n",
       "    {'name': 1956, 'count': 885, 'active': False},\n",
       "    {'name': 1950, 'count': 870, 'active': False},\n",
       "    {'name': 1957, 'count': 850, 'active': False},\n",
       "    {'name': 1955, 'count': 838, 'active': False},\n",
       "    {'name': 1949, 'count': 828, 'active': False},\n",
       "    {'name': 1952, 'count': 800, 'active': False},\n",
       "    {'name': 1953, 'count': 772, 'active': False},\n",
       "    {'name': 1945, 'count': 679, 'active': False},\n",
       "    {'name': 1951, 'count': 653, 'active': False},\n",
       "    {'name': 1899, 'count': 629, 'active': False},\n",
       "    {'name': 1938, 'count': 506, 'active': False},\n",
       "    {'name': 1919, 'count': 494, 'active': False},\n",
       "    {'name': 1937, 'count': 489, 'active': False},\n",
       "    {'name': 1936, 'count': 466, 'active': False},\n",
       "    {'name': 1935, 'count': 465, 'active': False},\n",
       "    {'name': 1939, 'count': 460, 'active': False},\n",
       "    {'name': 1932, 'count': 444, 'active': False},\n",
       "    {'name': 1920, 'count': 443, 'active': False},\n",
       "    {'name': 1933, 'count': 438, 'active': False},\n",
       "    {'name': 1934, 'count': 433, 'active': False},\n",
       "    {'name': 1926, 'count': 422, 'active': False},\n",
       "    {'name': 1929, 'count': 420, 'active': False},\n",
       "    {'name': 1923, 'count': 419, 'active': False},\n",
       "    {'name': 1927, 'count': 396, 'active': False},\n",
       "    {'name': 1928, 'count': 383, 'active': False},\n",
       "    {'name': 1921, 'count': 378, 'active': False},\n",
       "    {'name': 1922, 'count': 365, 'active': False},\n",
       "    {'name': 1925, 'count': 362, 'active': False},\n",
       "    {'name': 1930, 'count': 360, 'active': False},\n",
       "    {'name': 1924, 'count': 351, 'active': False},\n",
       "    {'name': 1912, 'count': 331, 'active': False},\n",
       "    {'name': 1940, 'count': 330, 'active': False},\n",
       "    {'name': 1905, 'count': 316, 'active': False},\n",
       "    {'name': 1931, 'count': 311, 'active': False},\n",
       "    {'name': 1942, 'count': 310, 'active': False},\n",
       "    {'name': 1944, 'count': 309, 'active': False},\n",
       "    {'name': 1906, 'count': 305, 'active': False},\n",
       "    {'name': 1941, 'count': 303, 'active': False},\n",
       "    {'name': 1917, 'count': 301, 'active': False},\n",
       "    {'name': 1918, 'count': 292, 'active': False},\n",
       "    {'name': 1943, 'count': 277, 'active': False},\n",
       "    {'name': 1911, 'count': 274, 'active': False},\n",
       "    {'name': 1910, 'count': 271, 'active': False},\n",
       "    {'name': 1913, 'count': 266, 'active': False},\n",
       "    {'name': 1907, 'count': 265, 'active': False},\n",
       "    {'name': 1908, 'count': 262, 'active': False},\n",
       "    {'name': 1916, 'count': 259, 'active': False},\n",
       "    {'name': 1903, 'count': 254, 'active': False},\n",
       "    {'name': 1904, 'count': 245, 'active': False},\n",
       "    {'name': 1909, 'count': 245, 'active': False},\n",
       "    {'name': 1902, 'count': 244, 'active': False},\n",
       "    {'name': 1915, 'count': 240, 'active': False},\n",
       "    {'name': 1898, 'count': 237, 'active': False},\n",
       "    {'name': 1896, 'count': 231, 'active': False},\n",
       "    {'name': 1901, 'count': 231, 'active': False},\n",
       "    {'name': 1900, 'count': 219, 'active': False},\n",
       "    {'name': 1890, 'count': 217, 'active': False},\n",
       "    {'name': 1914, 'count': 217, 'active': False},\n",
       "    {'name': 1889, 'count': 203, 'active': False},\n",
       "    {'name': 1895, 'count': 193, 'active': False},\n",
       "    {'name': 1897, 'count': 192, 'active': False},\n",
       "    {'name': 1888, 'count': 191, 'active': False},\n",
       "    {'name': 1886, 'count': 190, 'active': False},\n",
       "    {'name': 1887, 'count': 184, 'active': False},\n",
       "    {'name': 1892, 'count': 170, 'active': False},\n",
       "    {'name': 1885, 'count': 166, 'active': False},\n",
       "    {'name': 1884, 'count': 165, 'active': False},\n",
       "    {'name': 1891, 'count': 159, 'active': False},\n",
       "    {'name': 1894, 'count': 152, 'active': False},\n",
       "    {'name': 1865, 'count': 144, 'active': False},\n",
       "    {'name': 1893, 'count': 138, 'active': False},\n",
       "    {'name': 1880, 'count': 137, 'active': False},\n",
       "    {'name': 1883, 'count': 137, 'active': False},\n",
       "    {'name': 1872, 'count': 129, 'active': False},\n",
       "    {'name': 1876, 'count': 129, 'active': False},\n",
       "    {'name': 1881, 'count': 124, 'active': False},\n",
       "    {'name': 1882, 'count': 120, 'active': False},\n",
       "    {'name': 1873, 'count': 113, 'active': False},\n",
       "    {'name': 1875, 'count': 112, 'active': False},\n",
       "    {'name': 1879, 'count': 112, 'active': False},\n",
       "    {'name': 1869, 'count': 109, 'active': False},\n",
       "    {'name': 1878, 'count': 109, 'active': False},\n",
       "    {'name': 1868, 'count': 106, 'active': False},\n",
       "    {'name': 1870, 'count': 105, 'active': False},\n",
       "    {'name': 1874, 'count': 102, 'active': False},\n",
       "    {'name': 1871, 'count': 100, 'active': False},\n",
       "    {'name': 1851, 'count': 92, 'active': False},\n",
       "    {'name': 1877, 'count': 88, 'active': False},\n",
       "    {'name': 1853, 'count': 87, 'active': False},\n",
       "    {'name': 1864, 'count': 86, 'active': False},\n",
       "    {'name': 1867, 'count': 85, 'active': False},\n",
       "    {'name': 1857, 'count': 82, 'active': False},\n",
       "    {'name': 1850, 'count': 81, 'active': False},\n",
       "    {'name': 1863, 'count': 81, 'active': False},\n",
       "    {'name': 1866, 'count': 76, 'active': False},\n",
       "    {'name': 1852, 'count': 74, 'active': False},\n",
       "    {'name': 1856, 'count': 74, 'active': False},\n",
       "    {'name': 1858, 'count': 72, 'active': False},\n",
       "    {'name': 1862, 'count': 67, 'active': False},\n",
       "    {'name': 1860, 'count': 66, 'active': False},\n",
       "    {'name': 1855, 'count': 62, 'active': False},\n",
       "    {'name': 1854, 'count': 61, 'active': False},\n",
       "    {'name': 1848, 'count': 60, 'active': False},\n",
       "    {'name': 1849, 'count': 56, 'active': False},\n",
       "    {'name': 1859, 'count': 54, 'active': False},\n",
       "    {'name': 1861, 'count': 54, 'active': False},\n",
       "    {'name': 1845, 'count': 52, 'active': False},\n",
       "    {'name': 1846, 'count': 48, 'active': False},\n",
       "    {'name': 1847, 'count': 47, 'active': False},\n",
       "    {'name': 1844, 'count': 45, 'active': False},\n",
       "    {'name': 1837, 'count': 43, 'active': False},\n",
       "    {'name': 1836, 'count': 40, 'active': False},\n",
       "    {'name': 1843, 'count': 40, 'active': False},\n",
       "    {'name': 1828, 'count': 39, 'active': False},\n",
       "    {'name': 1832, 'count': 38, 'active': False},\n",
       "    {'name': 1840, 'count': 38, 'active': False},\n",
       "    {'name': 1834, 'count': 36, 'active': False},\n",
       "    {'name': 1835, 'count': 35, 'active': False},\n",
       "    {'name': 1838, 'count': 34, 'active': False},\n",
       "    {'name': 1841, 'count': 33, 'active': False},\n",
       "    {'name': 1833, 'count': 30, 'active': False},\n",
       "    {'name': 1842, 'count': 30, 'active': False},\n",
       "    {'name': 1839, 'count': 28, 'active': False},\n",
       "    {'name': 1817, 'count': 25, 'active': False},\n",
       "    {'name': 1818, 'count': 25, 'active': False},\n",
       "    {'name': 1820, 'count': 25, 'active': False},\n",
       "    {'name': 1819, 'count': 24, 'active': False},\n",
       "    {'name': 1824, 'count': 24, 'active': False},\n",
       "    {'name': 1829, 'count': 24, 'active': False},\n",
       "    {'name': 1825, 'count': 23, 'active': False},\n",
       "    {'name': 1830, 'count': 23, 'active': False},\n",
       "    {'name': 1831, 'count': 22, 'active': False},\n",
       "    {'name': 1792, 'count': 20, 'active': False},\n",
       "    {'name': 1826, 'count': 20, 'active': False},\n",
       "    {'name': 1823, 'count': 19, 'active': False},\n",
       "    {'name': 1802, 'count': 17, 'active': False},\n",
       "    {'name': 1810, 'count': 17, 'active': False},\n",
       "    {'name': 1827, 'count': 16, 'active': False},\n",
       "    {'name': 1800, 'count': 15, 'active': False},\n",
       "    {'name': 1812, 'count': 15, 'active': False},\n",
       "    {'name': 1821, 'count': 15, 'active': False},\n",
       "    {'name': 1811, 'count': 14, 'active': False},\n",
       "    {'name': 1801, 'count': 13, 'active': False},\n",
       "    {'name': 1816, 'count': 13, 'active': False},\n",
       "    {'name': 1775, 'count': 12, 'active': False},\n",
       "    {'name': 1808, 'count': 12, 'active': False},\n",
       "    {'name': 1815, 'count': 12, 'active': False},\n",
       "    {'name': 1750, 'count': 10, 'active': False},\n",
       "    {'name': 1760, 'count': 10, 'active': False},\n",
       "    {'name': 1784, 'count': 10, 'active': False},\n",
       "    {'name': 1783, 'count': 9, 'active': False},\n",
       "    {'name': 1785, 'count': 9, 'active': False},\n",
       "    {'name': 1795, 'count': 9, 'active': False},\n",
       "    {'name': 1797, 'count': 9, 'active': False},\n",
       "    {'name': 1798, 'count': 9, 'active': False},\n",
       "    {'name': 1805, 'count': 9, 'active': False},\n",
       "    {'name': 1807, 'count': 9, 'active': False},\n",
       "    {'name': 1809, 'count': 9, 'active': False},\n",
       "    {'name': 1814, 'count': 9, 'active': False},\n",
       "    {'name': 1822, 'count': 9, 'active': False},\n",
       "    {'name': 1777, 'count': 8, 'active': False},\n",
       "    {'name': 1803, 'count': 8, 'active': False},\n",
       "    {'name': 1813, 'count': 8, 'active': False},\n",
       "    {'name': 1731, 'count': 7, 'active': False},\n",
       "    {'name': 1755, 'count': 7, 'active': False},\n",
       "    {'name': 1770, 'count': 7, 'active': False},\n",
       "    {'name': 1776, 'count': 7, 'active': False},\n",
       "    {'name': 1778, 'count': 7, 'active': False},\n",
       "    {'name': 1786, 'count': 7, 'active': False},\n",
       "    {'name': 1789, 'count': 7, 'active': False},\n",
       "    {'name': 1793, 'count': 7, 'active': False},\n",
       "    {'name': 1799, 'count': 7, 'active': False},\n",
       "    {'name': 1806, 'count': 7, 'active': False},\n",
       "    {'name': 1665, 'count': 6, 'active': False},\n",
       "    {'name': 1668, 'count': 6, 'active': False},\n",
       "    {'name': 1749, 'count': 6, 'active': False},\n",
       "    {'name': 1758, 'count': 6, 'active': False},\n",
       "    {'name': 1759, 'count': 6, 'active': False},\n",
       "    {'name': 1767, 'count': 6, 'active': False},\n",
       "    {'name': 1790, 'count': 6, 'active': False},\n",
       "    {'name': 1794, 'count': 6, 'active': False},\n",
       "    {'name': 1804, 'count': 6, 'active': False},\n",
       "    {'name': 1753, 'count': 5, 'active': False},\n",
       "    {'name': 1764, 'count': 5, 'active': False},\n",
       "    {'name': 1768, 'count': 5, 'active': False},\n",
       "    {'name': 1772, 'count': 5, 'active': False},\n",
       "    {'name': 1774, 'count': 5, 'active': False},\n",
       "    {'name': 1791, 'count': 5, 'active': False},\n",
       "    {'name': 1796, 'count': 5, 'active': False},\n",
       "    {'name': 1683, 'count': 4, 'active': False},\n",
       "    {'name': 1737, 'count': 4, 'active': False},\n",
       "    {'name': 1742, 'count': 4, 'active': False},\n",
       "    {'name': 1743, 'count': 4, 'active': False},\n",
       "    {'name': 1748, 'count': 4, 'active': False},\n",
       "    {'name': 1763, 'count': 4, 'active': False},\n",
       "    {'name': 1771, 'count': 4, 'active': False},\n",
       "    {'name': 1780, 'count': 4, 'active': False},\n",
       "    {'name': 1781, 'count': 4, 'active': False},\n",
       "    {'name': 1782, 'count': 4, 'active': False},\n",
       "    {'name': 1541, 'count': 3, 'active': False},\n",
       "    {'name': 1690, 'count': 3, 'active': False},\n",
       "    {'name': 1694, 'count': 3, 'active': False},\n",
       "    {'name': 1710, 'count': 3, 'active': False},\n",
       "    {'name': 1712, 'count': 3, 'active': False},\n",
       "    {'name': 1732, 'count': 3, 'active': False},\n",
       "    {'name': 1765, 'count': 3, 'active': False},\n",
       "    {'name': 1773, 'count': 3, 'active': False},\n",
       "    {'name': 1788, 'count': 3, 'active': False},\n",
       "    {'name': 1010, 'count': 2, 'active': False},\n",
       "    {'name': 1516, 'count': 2, 'active': False},\n",
       "    {'name': 1552, 'count': 2, 'active': False},\n",
       "    {'name': 1556, 'count': 2, 'active': False},\n",
       "    {'name': 1565, 'count': 2, 'active': False},\n",
       "    {'name': 1575, 'count': 2, 'active': False},\n",
       "    {'name': 1582, 'count': 2, 'active': False},\n",
       "    {'name': 1636, 'count': 2, 'active': False},\n",
       "    {'name': 1638, 'count': 2, 'active': False},\n",
       "    {'name': 1649, 'count': 2, 'active': False},\n",
       "    {'name': 1651, 'count': 2, 'active': False},\n",
       "    {'name': 1653, 'count': 2, 'active': False},\n",
       "    {'name': 1658, 'count': 2, 'active': False},\n",
       "    {'name': 1660, 'count': 2, 'active': False},\n",
       "    {'name': 1664, 'count': 2, 'active': False},\n",
       "    {'name': 1669, 'count': 2, 'active': False},\n",
       "    {'name': 1670, 'count': 2, 'active': False},\n",
       "    {'name': 1682, 'count': 2, 'active': False},\n",
       "    {'name': 1689, 'count': 2, 'active': False},\n",
       "    {'name': 1692, 'count': 2, 'active': False},\n",
       "    {'name': 1695, 'count': 2, 'active': False},\n",
       "    {'name': 1699, 'count': 2, 'active': False},\n",
       "    {'name': 1716, 'count': 2, 'active': False},\n",
       "    {'name': 1718, 'count': 2, 'active': False},\n",
       "    {'name': 1719, 'count': 2, 'active': False},\n",
       "    {'name': 1720, 'count': 2, 'active': False},\n",
       "    {'name': 1725, 'count': 2, 'active': False},\n",
       "    {'name': 1726, 'count': 2, 'active': False},\n",
       "    {'name': 1727, 'count': 2, 'active': False},\n",
       "    {'name': 1735, 'count': 2, 'active': False},\n",
       "    {'name': 1741, 'count': 2, 'active': False},\n",
       "    {'name': 1744, 'count': 2, 'active': False},\n",
       "    {'name': 1745, 'count': 2, 'active': False},\n",
       "    {'name': 1746, 'count': 2, 'active': False},\n",
       "    {'name': 1752, 'count': 2, 'active': False},\n",
       "    {'name': 1756, 'count': 2, 'active': False},\n",
       "    {'name': 1762, 'count': 2, 'active': False},\n",
       "    {'name': 1779, 'count': 2, 'active': False},\n",
       "    {'name': 1000, 'count': 1, 'active': False},\n",
       "    {'name': 1004, 'count': 1, 'active': False},\n",
       "    {'name': 1012, 'count': 1, 'active': False},\n",
       "    {'name': 1015, 'count': 1, 'active': False},\n",
       "    {'name': 1018, 'count': 1, 'active': False},\n",
       "    {'name': 1048, 'count': 1, 'active': False},\n",
       "    {'name': 1070, 'count': 1, 'active': False},\n",
       "    {'name': 1081, 'count': 1, 'active': False},\n",
       "    {'name': 1108, 'count': 1, 'active': False},\n",
       "    {'name': 1120, 'count': 1, 'active': False},\n",
       "    {'name': 1124, 'count': 1, 'active': False},\n",
       "    {'name': 1194, 'count': 1, 'active': False},\n",
       "    {'name': 1242, 'count': 1, 'active': False},\n",
       "    {'name': 1249, 'count': 1, 'active': False},\n",
       "    {'name': 1295, 'count': 1, 'active': False},\n",
       "    {'name': 1299, 'count': 1, 'active': False},\n",
       "    {'name': 1327, 'count': 1, 'active': False},\n",
       "    {'name': 1340, 'count': 1, 'active': False},\n",
       "    {'name': 1350, 'count': 1, 'active': False},\n",
       "    {'name': 1365, 'count': 1, 'active': False},\n",
       "    {'name': 1387, 'count': 1, 'active': False},\n",
       "    {'name': 1389, 'count': 1, 'active': False},\n",
       "    {'name': 1395, 'count': 1, 'active': False},\n",
       "    {'name': 1401, 'count': 1, 'active': False},\n",
       "    {'name': 1423, 'count': 1, 'active': False},\n",
       "    {'name': 1434, 'count': 1, 'active': False},\n",
       "    {'name': 1440, 'count': 1, 'active': False},\n",
       "    {'name': 1448, 'count': 1, 'active': False},\n",
       "    {'name': 1451, 'count': 1, 'active': False},\n",
       "    {'name': 1453, 'count': 1, 'active': False},\n",
       "    {'name': 1464, 'count': 1, 'active': False},\n",
       "    {'name': 1466, 'count': 1, 'active': False},\n",
       "    {'name': 1468, 'count': 1, 'active': False},\n",
       "    {'name': 1472, 'count': 1, 'active': False},\n",
       "    {'name': 1478, 'count': 1, 'active': False},\n",
       "    {'name': 1487, 'count': 1, 'active': False},\n",
       "    {'name': 1490, 'count': 1, 'active': False},\n",
       "    {'name': 1492, 'count': 1, 'active': False},\n",
       "    {'name': 1495, 'count': 1, 'active': False},\n",
       "    {'name': 1518, 'count': 1, 'active': False},\n",
       "    {'name': 1519, 'count': 1, 'active': False},\n",
       "    {'name': 1520, 'count': 1, 'active': False},\n",
       "    {'name': 1534, 'count': 1, 'active': False},\n",
       "    {'name': 1538, 'count': 1, 'active': False},\n",
       "    {'name': 1545, 'count': 1, 'active': False},\n",
       "    {'name': 1550, 'count': 1, 'active': False},\n",
       "    {'name': 1555, 'count': 1, 'active': False},\n",
       "    {'name': 1557, 'count': 1, 'active': False},\n",
       "    {'name': 1558, 'count': 1, 'active': False},\n",
       "    {'name': 1560, 'count': 1, 'active': False},\n",
       "    {'name': 1561, 'count': 1, 'active': False},\n",
       "    {'name': 1563, 'count': 1, 'active': False},\n",
       "    {'name': 1571, 'count': 1, 'active': False},\n",
       "    {'name': 1574, 'count': 1, 'active': False},\n",
       "    {'name': 1576, 'count': 1, 'active': False},\n",
       "    {'name': 1579, 'count': 1, 'active': False},\n",
       "    {'name': 1583, 'count': 1, 'active': False},\n",
       "    {'name': 1584, 'count': 1, 'active': False},\n",
       "    {'name': 1585, 'count': 1, 'active': False},\n",
       "    {'name': 1590, 'count': 1, 'active': False},\n",
       "    {'name': 1594, 'count': 1, 'active': False},\n",
       "    {'name': 1597, 'count': 1, 'active': False},\n",
       "    {'name': 1599, 'count': 1, 'active': False},\n",
       "    {'name': 1606, 'count': 1, 'active': False},\n",
       "    {'name': 1608, 'count': 1, 'active': False},\n",
       "    {'name': 1609, 'count': 1, 'active': False},\n",
       "    {'name': 1615, 'count': 1, 'active': False},\n",
       "    {'name': 1620, 'count': 1, 'active': False},\n",
       "    {'name': 1622, 'count': 1, 'active': False},\n",
       "    {'name': 1623, 'count': 1, 'active': False},\n",
       "    {'name': 1624, 'count': 1, 'active': False},\n",
       "    {'name': 1626, 'count': 1, 'active': False},\n",
       "    {'name': 1631, 'count': 1, 'active': False},\n",
       "    {'name': 1639, 'count': 1, 'active': False},\n",
       "    {'name': 1640, 'count': 1, 'active': False},\n",
       "    {'name': 1642, 'count': 1, 'active': False},\n",
       "    {'name': 1645, 'count': 1, 'active': False},\n",
       "    {'name': 1646, 'count': 1, 'active': False},\n",
       "    {'name': 1647, 'count': 1, 'active': False},\n",
       "    {'name': 1652, 'count': 1, 'active': False},\n",
       "    {'name': 1654, 'count': 1, 'active': False},\n",
       "    {'name': 1656, 'count': 1, 'active': False},\n",
       "    {'name': 1661, 'count': 1, 'active': False},\n",
       "    {'name': 1662, 'count': 1, 'active': False},\n",
       "    {'name': 1663, 'count': 1, 'active': False},\n",
       "    {'name': 1666, 'count': 1, 'active': False},\n",
       "    {'name': 1674, 'count': 1, 'active': False},\n",
       "    {'name': 1677, 'count': 1, 'active': False},\n",
       "    {'name': 1681, 'count': 1, 'active': False},\n",
       "    {'name': 1684, 'count': 1, 'active': False},\n",
       "    {'name': 1685, 'count': 1, 'active': False},\n",
       "    {'name': 1688, 'count': 1, 'active': False},\n",
       "    {'name': 1691, 'count': 1, 'active': False},\n",
       "    {'name': 1693, 'count': 1, 'active': False},\n",
       "    {'name': 1696, 'count': 1, 'active': False},\n",
       "    {'name': 1697, 'count': 1, 'active': False},\n",
       "    {'name': 1698, 'count': 1, 'active': False},\n",
       "    {'name': 1700, 'count': 1, 'active': False},\n",
       "    {'name': 1701, 'count': 1, 'active': False},\n",
       "    {'name': 1703, 'count': 1, 'active': False},\n",
       "    {'name': 1704, 'count': 1, 'active': False},\n",
       "    {'name': 1706, 'count': 1, 'active': False},\n",
       "    {'name': 1707, 'count': 1, 'active': False},\n",
       "    {'name': 1711, 'count': 1, 'active': False},\n",
       "    {'name': 1717, 'count': 1, 'active': False},\n",
       "    {'name': 1722, 'count': 1, 'active': False},\n",
       "    {'name': 1723, 'count': 1, 'active': False},\n",
       "    {'name': 1729, 'count': 1, 'active': False},\n",
       "    {'name': 1733, 'count': 1, 'active': False},\n",
       "    {'name': 1734, 'count': 1, 'active': False},\n",
       "    {'name': 1736, 'count': 1, 'active': False},\n",
       "    {'name': 1738, 'count': 1, 'active': False},\n",
       "    {'name': 1740, 'count': 1, 'active': False},\n",
       "    {'name': 1747, 'count': 1, 'active': False},\n",
       "    {'name': 1751, 'count': 1, 'active': False},\n",
       "    {'name': 1754, 'count': 1, 'active': False},\n",
       "    {'name': 1757, 'count': 1, 'active': False},\n",
       "    {'name': 1761, 'count': 1, 'active': False},\n",
       "    {'name': 1766, 'count': 1, 'active': False},\n",
       "    {'name': 1769, 'count': 1, 'active': False},\n",
       "    {'name': 1787, 'count': 1, 'active': False}]}]}"
      ]
     },
     "execution_count": 289,
     "metadata": {},
     "output_type": "execute_result"
    }
   ],
   "source": [
    "\n",
    "api_url=\"https://api.dealroom.co/api/v1/companies/filters\"\n",
    "auth=HTTPBasicAuth(API_KEY, '')\n",
    "\n",
    "headers = {'Content-Type': 'application/json'}\n",
    "data={\"fields\":\"launch_year\",\n",
    "              \"limit\": 1,\n",
    "              \"offset\": 0\n",
    "             }\n",
    "response = requests.post(api_url,data=json.dumps(data),auth=auth,headers=headers)\n",
    "data=response.json()\n",
    "data\n"
   ]
  },
  {
   "cell_type": "markdown",
   "metadata": {},
   "source": [
    "# 1.1 Building the Core DF"
   ]
  },
  {
   "cell_type": "markdown",
   "metadata": {},
   "source": [
    "1. Variables for the DF:\n",
    "\n",
    "1.1: Independent Variables\n",
    "- Team\n",
    "- patents (patents_count)\n",
    "- Round (fundings)\n",
    "- Investors\n",
    "- employees (latest, chart)\n",
    "- Num. Investors (investors)\n",
    "- (Industry Category) (industries)\n",
    "- Description Length (about)\n",
    "- Has Domain (website_url)\n",
    "- Has Facebook (facebook_url)\n",
    "- Has Twitter (twitter_url)\n",
    "- Has LinkedIn (linkedin_url)\n",
    "- Geographical Region (country, city/-code) (hq_locations)\n",
    "- Total Funding (total_funding) (in mio)\n",
    "\n",
    "1.2 Dependent Variables:\n",
    "- Stage\n",
    "\n",
    "\n",
    "Goal:\n",
    "Predict possibility of follow on funding within the time frame of 3 years\n",
    "Alternative: Predict possibility of funding, fail, acquisition, public\n",
    "\n",
    "Rows that are dropped with empty values in following columns:\n",
    "1. Web Url \n",
    "    avoid ghost companies\n",
    "2. ownerships \n",
    "    bootstraped companies will not have funding information, thus not a missing value\n",
    "    also essential for dependend variable\n",
    "3. company status\n",
    "    little info missing\n",
    "4. launch year\n",
    "    essential to project data to past\n",
    "5. team items\n",
    "    Intuitively most essential for predictive power\n",
    "\n",
    "Open Questions:\n",
    "- Should there be a difference between companies that are bootstrapped and dont want a funding or companies that are bootstrapped and dont get one\n",
    "    - the later should realise through company failing"
   ]
  },
  {
   "cell_type": "markdown",
   "metadata": {},
   "source": [
    "### Importing the Json file through according API Call:"
   ]
  },
  {
   "cell_type": "code",
   "execution_count": 290,
   "metadata": {},
   "outputs": [
    {
     "name": "stdout",
     "output_type": "stream",
     "text": [
      "2220\r"
     ]
    }
   ],
   "source": [
    "fields=\"id,name,about,tagline,investors,industries,website_url,facebook_url,twitter_url,linkedin_url,hq_locations,total_funding,company_status,ownerships,team,fundings,patents_count,employees_latest,employees_chart,launch_year,dealroom_signal\"\n",
    "api_url=\"https://api.dealroom.co/api/v1/companies/bulk\"\n",
    "auth=HTTPBasicAuth(API_KEY, '')\n",
    "headers = {'Content-Type': 'application/json'}\n",
    "\n",
    "json_list=[]\n",
    "next_page_id = ''\n",
    "k=0\n",
    "\n",
    "while True:\n",
    "    data = {\n",
    "        'form_data': {'must':{'hq_locations': ['Europe'], 'client_focus':['business']}},\n",
    "        'fields': fields,\n",
    "        'next_page_id': next_page_id,\n",
    "        'limit': 100,\n",
    "        }\n",
    "\n",
    "    headers = {'Content-Type': 'application/json'}\n",
    "\n",
    "    response = requests.post(api_url,data=json.dumps(data),auth=auth,headers=headers)\n",
    "\n",
    "    res=json.loads(response.text)\n",
    "    json_list.append(res)\n",
    "    k+=1\n",
    "    if (k/10).is_integer():\n",
    "        print(k,end=\"\\r\")\n",
    "    next_page_id = res['next_page_id']\n",
    "\n",
    "    if next_page_id == None:\n",
    "        break"
   ]
  },
  {
   "cell_type": "code",
   "execution_count": 291,
   "metadata": {},
   "outputs": [],
   "source": [
    "with open(\"first_json.json\", \"w\") as fp:\n",
    "        json.dump(json_list, fp)"
   ]
  },
  {
   "cell_type": "code",
   "execution_count": 25,
   "metadata": {},
   "outputs": [],
   "source": [
    "f=open(\"/Users/klaus/Documents/Jarvis/Second Try/Data/first_json.json\")\n",
    "json_list=json.load(f)"
   ]
  },
  {
   "cell_type": "markdown",
   "metadata": {},
   "source": [
    "### 1.2 Converting Json to Pandas DF"
   ]
  },
  {
   "cell_type": "code",
   "execution_count": 292,
   "metadata": {},
   "outputs": [],
   "source": [
    "df_list=[]\n",
    "for i in range(len(json_list)):\n",
    "    df_1=pd.json_normalize(json_list[i][\"items\"],sep=\"_\").drop(columns=[\"hq_locations\",\"industries\"])\n",
    "    df_1[[\"country_name\",\"city_name\"]]=pd.json_normalize(json_list[0][\"items\"],\"hq_locations\")[[\"country.name\",\"city.name\"]]\n",
    "    df_1[\"industry_name\"]=pd.json_normalize(json_list[0][\"items\"],\"industries\")[\"name\"]\n",
    "    df_list.append(df_1)"
   ]
  },
  {
   "cell_type": "code",
   "execution_count": 293,
   "metadata": {},
   "outputs": [],
   "source": [
    "df=pd.concat(df_list)"
   ]
  },
  {
   "cell_type": "code",
   "execution_count": 294,
   "metadata": {},
   "outputs": [
    {
     "data": {
      "text/plain": [
       "(222192, 25)"
      ]
     },
     "execution_count": 294,
     "metadata": {},
     "output_type": "execute_result"
    }
   ],
   "source": [
    "df.shape"
   ]
  },
  {
   "cell_type": "markdown",
   "metadata": {},
   "source": [
    "## 1.3 DataCleaning"
   ]
  },
  {
   "cell_type": "code",
   "execution_count": 295,
   "metadata": {},
   "outputs": [
    {
     "name": "stdout",
     "output_type": "stream",
     "text": [
      "                  Missing Values  In percent\n",
      "id                             0    0.000000\n",
      "name                           0    0.000000\n",
      "about                      57595   25.921275\n",
      "tagline                    63302   28.489775\n",
      "website_url                  616    0.277238\n",
      "facebook_url              175755   79.100508\n",
      "twitter_url               112862   50.794808\n",
      "linkedin_url               50588   22.767696\n",
      "total_funding                  0    0.000000\n",
      "company_status                84    0.037805\n",
      "ownerships                     0    0.000000\n",
      "patents_count                  0    0.000000\n",
      "employees_latest           59830   26.927162\n",
      "employees_chart                0    0.000000\n",
      "launch_year                34707   15.620274\n",
      "dealroom_signal           177722   79.985778\n",
      "investors_items                0    0.000000\n",
      "investors_total                0    0.000000\n",
      "team_items                     0    0.000000\n",
      "team_total                     0    0.000000\n",
      "fundings_items                 0    0.000000\n",
      "fundings_total                 0    0.000000\n",
      "country_name                   0    0.000000\n",
      "city_name                  66660   30.001080\n",
      "industry_name               6663    2.998758\n"
     ]
    }
   ],
   "source": [
    "x=df.isna().sum()\n",
    "y=df.isna().sum()/len(df)*100\n",
    "missing_values=pd.concat([x, y], axis=1)\n",
    "missing_values.columns=[\"Missing Values\",\"In percent\"]\n",
    "print(missing_values)\n"
   ]
  },
  {
   "cell_type": "code",
   "execution_count": 296,
   "metadata": {},
   "outputs": [],
   "source": [
    "df.dropna(subset=[\"website_url\"],inplace=True) #companies without website will be deleted to avoid ghost companies\n",
    "df.dropna(subset=[\"company_status\"],inplace=True)\n",
    "df.dropna(subset=[\"launch_year\"],inplace=True)#companies without status (only 85 so can be dismissed)"
   ]
  },
  {
   "cell_type": "markdown",
   "metadata": {},
   "source": [
    "### Number of Empty lists as entries"
   ]
  },
  {
   "cell_type": "code",
   "execution_count": 299,
   "metadata": {},
   "outputs": [
    {
     "name": "stdout",
     "output_type": "stream",
     "text": [
      "name 0.0 %\n",
      "website_url 0.0 %\n",
      "company_status 0.0 %\n",
      "ownerships 52.72182863253576 %\n",
      "employees_chart 20.076995054137146 %\n",
      "investors_items 72.37588557679454 %\n",
      "team_items 56.14971260526668 %\n",
      "fundings_items 72.35931025264001 %\n",
      "country_name 0.0 %\n"
     ]
    }
   ],
   "source": [
    "for i,row in missing_values.iterrows():\n",
    "    try:\n",
    "        print(i,df[i].apply(lambda x:1 if len(x) == 0 else 0).sum()/len(df)*100,\"%\")\n",
    "    except:\n",
    "        None\n",
    "\n"
   ]
  },
  {
   "cell_type": "code",
   "execution_count": 313,
   "metadata": {},
   "outputs": [],
   "source": [
    "df_1=df[df[\"ownerships\"].apply(lambda x:False if len(x) == 0 else True)]\n"
   ]
  },
  {
   "cell_type": "code",
   "execution_count": 314,
   "metadata": {},
   "outputs": [
    {
     "name": "stdout",
     "output_type": "stream",
     "text": [
      "name 0.0 %\n",
      "website_url 0.0 %\n",
      "company_status 0.0 %\n",
      "ownerships 0.0 %\n",
      "employees_chart 11.918979439506005 %\n",
      "investors_items 59.88554884530999 %\n",
      "team_items 18.245459274841103 %\n",
      "fundings_items 51.88414647938296 %\n",
      "country_name 0.0 %\n",
      "(88422, 25)\n"
     ]
    }
   ],
   "source": [
    "for i,row in missing_values.iterrows():\n",
    "    try:\n",
    "        print(i,df_1[i].apply(lambda x:1 if len(x) == 0 else 0).sum()/len(df_1)*100,\"%\")\n",
    "    except:\n",
    "        None  \n",
    "\n",
    "print(df_1.shape)"
   ]
  },
  {
   "cell_type": "markdown",
   "metadata": {},
   "source": [
    "### Further clean Dataset by removing all Empty lists in the team column"
   ]
  },
  {
   "cell_type": "code",
   "execution_count": 315,
   "metadata": {},
   "outputs": [],
   "source": [
    "df_1=df_1[df_1[\"team_items\"].apply(lambda x:False if len(x) == 0 else True)]"
   ]
  },
  {
   "cell_type": "code",
   "execution_count": 317,
   "metadata": {},
   "outputs": [
    {
     "name": "stdout",
     "output_type": "stream",
     "text": [
      "name 0.0 %\n",
      "website_url 0.0 %\n",
      "company_status 0.0 %\n",
      "ownerships 0.0 %\n",
      "employees_chart 8.069000816168435 %\n",
      "investors_items 62.691419164741525 %\n",
      "team_items 0.0 %\n",
      "fundings_items 56.99899016447869 %\n",
      "country_name 0.0 %\n"
     ]
    }
   ],
   "source": [
    "for i,row in missing_values.iterrows():\n",
    "    try:\n",
    "        print(i,df_1[i].apply(lambda x:1 if len(x) == 0 else 0).sum()/len(df_1)*100,\"%\")\n",
    "    except:\n",
    "        None"
   ]
  },
  {
   "cell_type": "markdown",
   "metadata": {},
   "source": [
    "### We observe that many of the empty lists for fundings and investors are for bootstrapped startups. It makes sense to distinguish between those where data is missing and those where it simply makes no sense to have data"
   ]
  },
  {
   "cell_type": "code",
   "execution_count": 372,
   "metadata": {},
   "outputs": [],
   "source": [
    "df_invest=df_1.loc[df_1[\"investors_items\"].apply(lambda x:True if len(x) == 0 else False)]\n",
    "df_boots=df_invest.loc[df_invest[\"ownerships\"].apply(lambda x:True if ((x[0]==\"bootstrapped\" and len(x)<=1) or (x==[\"not known\",\"bootstrapped\"]) or (x[0]==\"not known\")) else False)]\n",
    "\n",
    "df_boots[\"investors_items\"].values[:]=\"nan\"\n",
    "\n",
    "df_2=pd.concat([df_1,df_boots])\n",
    "\n",
    "df_2.drop_duplicates(subset=[\"id\"],keep=\"last\", inplace=True)"
   ]
  },
  {
   "cell_type": "code",
   "execution_count": 373,
   "metadata": {},
   "outputs": [],
   "source": [
    "df_fundings=df_2.loc[df_2[\"fundings_items\"].apply(lambda x:True if len(x) == 0 else False)]\n",
    "df_fundinv=df_fundings.loc[df_fundings[\"investors_items\"].apply(lambda x:True if x == \"nan\" else False)]\n",
    "df_shit=df_fundinv.loc[df_fundinv[\"ownerships\"].apply(lambda x:True if ((x[0]==\"bootstrapped\" and len(x)<=1) or (x==[\"not known\",\"bootstrapped\"]) or (x[0]==\"not known\")) else False)]\n",
    "\n",
    "df_shit[\"fundings_items\"].values[:]=\"nan\"\n",
    "\n",
    "df_3=pd.concat([df_2,df_shit])\n",
    "\n",
    "df_3.drop_duplicates(subset=[\"id\"],keep=\"last\", inplace=True)"
   ]
  },
  {
   "cell_type": "code",
   "execution_count": 361,
   "metadata": {},
   "outputs": [
    {
     "name": "stdout",
     "output_type": "stream",
     "text": [
      "                  Missing Values  In percent\n",
      "id                             0    0.000000\n",
      "name                           0    0.000000\n",
      "about                       5020    6.944348\n",
      "tagline                    11887   16.443719\n",
      "website_url                    0    0.000000\n",
      "facebook_url               47439   65.624092\n",
      "twitter_url                23527   32.545754\n",
      "linkedin_url                4784    6.617881\n",
      "total_funding                  0    0.000000\n",
      "company_status                 0    0.000000\n",
      "ownerships                     0    0.000000\n",
      "patents_count                  0    0.000000\n",
      "employees_latest            5833    8.069001\n",
      "employees_chart                0    0.000000\n",
      "launch_year                    0    0.000000\n",
      "dealroom_signal            50183   69.419967\n",
      "investors_items            41383   57.246607\n",
      "investors_total                0    0.000000\n",
      "team_items                     0    0.000000\n",
      "team_total                     0    0.000000\n",
      "fundings_items                 0    0.000000\n",
      "fundings_total                 0    0.000000\n",
      "country_name                   0    0.000000\n",
      "city_name                  21557   29.820581\n",
      "industry_name               2239    3.097290\n"
     ]
    }
   ],
   "source": [
    "x=df_3.isna().sum()\n",
    "y=df_3.isna().sum()/len(df_3)*100\n",
    "missing_values=pd.concat([x, y], axis=1)\n",
    "missing_values.columns=[\"Missing Values\",\"In percent\"]\n",
    "print(missing_values)"
   ]
  },
  {
   "cell_type": "code",
   "execution_count": 375,
   "metadata": {},
   "outputs": [
    {
     "name": "stdout",
     "output_type": "stream",
     "text": [
      "id 0.0%\n",
      "name 0.0 %\n",
      "about 0.0%\n",
      "tagline 0.0%\n",
      "website_url 0.0 %\n",
      "facebook_url 0.0%\n",
      "twitter_url 0.0%\n",
      "linkedin_url 0.0%\n",
      "total_funding 0.0%\n",
      "company_status 0.0 %\n",
      "ownerships 0.0 %\n",
      "patents_count 0.0%\n",
      "employees_latest 0.0%\n",
      "employees_chart 8.069000816168435 %\n",
      "launch_year 0.0%\n",
      "dealroom_signal 0.0%\n",
      "investors_items 5.444811797092227 %\n",
      "investors_total 0.0%\n",
      "team_items 0.0 %\n",
      "team_total 0.0%\n",
      "fundings_items 1.5866867711546706 %\n",
      "fundings_total 0.0%\n",
      "country_name 0.0 %\n",
      "city_name 0.0%\n",
      "industry_name 0.0%\n"
     ]
    }
   ],
   "source": [
    "for i,row in missing_values.iterrows():\n",
    "    try:\n",
    "        print(i,df_3[i].apply(lambda x:1 if len(x)==0 else 0).sum()/len(df_3)*100,\"%\")\n",
    "    except:\n",
    "        print(i,\"0.0%\")\n",
    "        "
   ]
  },
  {
   "cell_type": "markdown",
   "metadata": {},
   "source": [
    "Data Seems quite clean to me. No more Data Cleaning Needed "
   ]
  },
  {
   "cell_type": "markdown",
   "metadata": {},
   "source": [
    "### 1.3 Unravel nested Data to generate Present Dataset"
   ]
  },
  {
   "cell_type": "markdown",
   "metadata": {},
   "source": [
    "For the following we want to extract the nested data and retreive the information we need\n",
    "First we extract investors types"
   ]
  },
  {
   "cell_type": "code",
   "execution_count": 138,
   "metadata": {},
   "outputs": [],
   "source": [
    "def level1_extractor_list(x,field):\n",
    "    try:\n",
    "        a=list(pd.json_normalize(x)[field])\n",
    "    except:\n",
    "        a=[]\n",
    "    return a\n",
    "\n",
    "def level1_extractor_max(x,field):\n",
    "    try:\n",
    "        a=max(list(pd.json_normalize(x)[field]))\n",
    "    except:\n",
    "        a=[]\n",
    "    return a\n",
    "\n",
    "def level2_extractor_list(x,field1,field2):\n",
    "    try:\n",
    "        first=pd.json_normalize(x)[field1]\n",
    "        mp=map(lambda p: level1_extractor_list(p, field2), first)\n",
    "        a=list([c for b in list(mp) if len(b)!=0 for c in b])\n",
    "    except:\n",
    "        a=[]\n",
    "    return a\n",
    "\n",
    "def level2_extractor_max(x,field1,field2):\n",
    "    try:\n",
    "        first=pd.json_normalize(x)[field1]\n",
    "        mp=map(lambda p: level1_extractor_list(p, field2), first)\n",
    "        a=max([x for x in list(mp) if x!=None])\n",
    "    except:\n",
    "        a=[]\n",
    "    return a\n",
    "\n",
    "def level2_extractor_min(x,field1,field2):\n",
    "    try:\n",
    "        first=pd.json_normalize(x)[field1]\n",
    "        mp=map(lambda p: level1_extractor_list(p, field2), first)\n",
    "        a=min([x for x in list(mp) if x!=None])\n",
    "    except:\n",
    "        a=[]\n",
    "    return a\n",
    "\n",
    "def level2_extractor_avg(x,field1,field2):\n",
    "    try:\n",
    "        first=pd.json_normalize(x)[field1]\n",
    "        mp=map(lambda p: level1_extractor_list(p, field2), first)\n",
    "        a=np.mean([x for x in list(mp) if x!=None])\n",
    "    except:\n",
    "        a=[]\n",
    "    return a"
   ]
  },
  {
   "cell_type": "markdown",
   "metadata": {},
   "source": [
    "Export Feature of Universities at which team members studies"
   ]
  },
  {
   "cell_type": "code",
   "execution_count": 452,
   "metadata": {},
   "outputs": [],
   "source": [
    "a=map(lambda p: level2_extractor_list(p, \"universities.items\",\"university.name\"), df_3[\"team_items\"])\n",
    "b=list(a)\n",
    "\n",
    "df_3[\"team_universities\"]=b"
   ]
  },
  {
   "cell_type": "markdown",
   "metadata": {},
   "source": [
    "Export Features of Investor Types"
   ]
  },
  {
   "cell_type": "code",
   "execution_count": 421,
   "metadata": {},
   "outputs": [],
   "source": [
    "a=map(lambda p: level1_extractor_list(p, \"type\"), df_3[\"investors_items\"])\n",
    "b=list(a)\n",
    "df_3[\"investors_types\"]=b\n"
   ]
  },
  {
   "cell_type": "markdown",
   "metadata": {},
   "source": [
    "Export Features of Valuation"
   ]
  },
  {
   "cell_type": "code",
   "execution_count": 29,
   "metadata": {},
   "outputs": [
    {
     "ename": "NameError",
     "evalue": "name 'df_3' is not defined",
     "output_type": "error",
     "traceback": [
      "\u001b[0;31m---------------------------------------------------------------------------\u001b[0m",
      "\u001b[0;31mNameError\u001b[0m                                 Traceback (most recent call last)",
      "Cell \u001b[0;32mIn [29], line 1\u001b[0m\n\u001b[0;32m----> 1\u001b[0m a\u001b[39m=\u001b[39m\u001b[39mmap\u001b[39m(\u001b[39mlambda\u001b[39;00m p: level1_extractor_list(p, \u001b[39m\"\u001b[39m\u001b[39mvaluation_generated_max\u001b[39m\u001b[39m\"\u001b[39m), df_3[\u001b[39m\"\u001b[39m\u001b[39mfundings_items\u001b[39m\u001b[39m\"\u001b[39m])\n\u001b[1;32m      2\u001b[0m b\u001b[39m=\u001b[39m\u001b[39mlist\u001b[39m(a)\n\u001b[1;32m      3\u001b[0m df_3[\u001b[39m\"\u001b[39m\u001b[39mlist_valuation\u001b[39m\u001b[39m\"\u001b[39m]\u001b[39m=\u001b[39mb\n",
      "\u001b[0;31mNameError\u001b[0m: name 'df_3' is not defined"
     ]
    }
   ],
   "source": [
    "a=map(lambda p: level1_extractor_list(p, \"valuation_generated_max\"), df_3[\"fundings_items\"])\n",
    "b=list(a)\n",
    "df_3[\"list_valuation\"]=b\n",
    "df_3[\"last_valuation\"]=list(map(lambda p: p[0] if len(p)!=0 else  None,df_3[\"list_valuation\"]))\n",
    "df_3.drop(columns=\"list_valuation\",inplace=True)"
   ]
  },
  {
   "cell_type": "markdown",
   "metadata": {},
   "source": [
    "Get Number of Female and Number of Male Founder"
   ]
  },
  {
   "cell_type": "code",
   "execution_count": 36,
   "metadata": {},
   "outputs": [],
   "source": [
    "a=map(lambda p: level1_extractor_list(p, \"gender\"), df_3[\"team_items\"])\n",
    "b=list(a)\n",
    "df_3[\"team_gender\"]=b\n",
    "df_3[\"team_male\"]=list(map(lambda p: p.count(\"male\"),df_3[\"team_gender\"]))\n",
    "df_3[\"team_female\"]=list(map(lambda p: p.count(\"female\"),df_3[\"team_gender\"]))\n",
    "df_3.drop(columns=\"team_gender\",inplace=True)"
   ]
  },
  {
   "cell_type": "markdown",
   "metadata": {},
   "source": [
    "Turning url's to the binary (0-has no url, 1-has url)"
   ]
  },
  {
   "cell_type": "markdown",
   "metadata": {},
   "source": [
    "### Spliting the Data into on dataframe from 3 years ago and today"
   ]
  },
  {
   "cell_type": "markdown",
   "metadata": {},
   "source": [
    "First lets try to exclude all companies that have been founded in the between time\n",
    "\n",
    "- Variables that need to be included\n",
    "0. Number Employees (maybe include growth over the past two to four entries) + growth\n",
    "1. Team universities (num of top degrees)\n",
    "2. Gender of Team\n",
    "3. Stage of company\n",
    "4. max valuation (would not yet include)\n",
    "5. investors total (hohe korrelation mit fundings)\n",
    "6. fundings total\n",
    "7. total funding\n",
    "8. company status \n",
    "9. Missing values\n",
    "10. Avg time between funding\n",
    "11. Employee History\n",
    "12. \n",
    "\n",
    "?Do we need the ownership collumn?"
   ]
  },
  {
   "cell_type": "code",
   "execution_count": 343,
   "metadata": {},
   "outputs": [
    {
     "data": {
      "text/html": [
       "<div>\n",
       "<style scoped>\n",
       "    .dataframe tbody tr th:only-of-type {\n",
       "        vertical-align: middle;\n",
       "    }\n",
       "\n",
       "    .dataframe tbody tr th {\n",
       "        vertical-align: top;\n",
       "    }\n",
       "\n",
       "    .dataframe thead th {\n",
       "        text-align: right;\n",
       "    }\n",
       "</style>\n",
       "<table border=\"1\" class=\"dataframe\">\n",
       "  <thead>\n",
       "    <tr style=\"text-align: right;\">\n",
       "      <th></th>\n",
       "      <th>name</th>\n",
       "      <th>about</th>\n",
       "      <th>website_url</th>\n",
       "      <th>facebook_url</th>\n",
       "      <th>twitter_url</th>\n",
       "      <th>linkedin_url</th>\n",
       "      <th>total_funding</th>\n",
       "      <th>patents_count</th>\n",
       "      <th>employees_latest</th>\n",
       "      <th>launch_year</th>\n",
       "      <th>fundings_total</th>\n",
       "      <th>country_name</th>\n",
       "      <th>city_name</th>\n",
       "      <th>industry_name</th>\n",
       "      <th>team_male</th>\n",
       "      <th>team_female</th>\n",
       "      <th>employees_growth</th>\n",
       "      <th>avg_time_funding</th>\n",
       "      <th>Y</th>\n",
       "      <th>missing_values</th>\n",
       "      <th>number_top_schools</th>\n",
       "      <th>number_schools</th>\n",
       "    </tr>\n",
       "  </thead>\n",
       "  <tbody>\n",
       "    <tr>\n",
       "      <th>0</th>\n",
       "      <td>Sylog Sverige</td>\n",
       "      <td>114</td>\n",
       "      <td>1</td>\n",
       "      <td>0</td>\n",
       "      <td>0</td>\n",
       "      <td>1</td>\n",
       "      <td>NaN</td>\n",
       "      <td>0</td>\n",
       "      <td>139.0</td>\n",
       "      <td>21.0</td>\n",
       "      <td>1</td>\n",
       "      <td>5</td>\n",
       "      <td>2</td>\n",
       "      <td>17</td>\n",
       "      <td>0</td>\n",
       "      <td>0</td>\n",
       "      <td>0.053030</td>\n",
       "      <td>5.00</td>\n",
       "      <td>2</td>\n",
       "      <td>2</td>\n",
       "      <td>1</td>\n",
       "      <td>1</td>\n",
       "    </tr>\n",
       "    <tr>\n",
       "      <th>1</th>\n",
       "      <td>Informed Solutions</td>\n",
       "      <td>167</td>\n",
       "      <td>1</td>\n",
       "      <td>0</td>\n",
       "      <td>1</td>\n",
       "      <td>1</td>\n",
       "      <td>11400000.0</td>\n",
       "      <td>0</td>\n",
       "      <td>79.0</td>\n",
       "      <td>31.0</td>\n",
       "      <td>1</td>\n",
       "      <td>23</td>\n",
       "      <td>10</td>\n",
       "      <td>11</td>\n",
       "      <td>0</td>\n",
       "      <td>1</td>\n",
       "      <td>0.053351</td>\n",
       "      <td>18.00</td>\n",
       "      <td>2</td>\n",
       "      <td>1</td>\n",
       "      <td>0</td>\n",
       "      <td>0</td>\n",
       "    </tr>\n",
       "    <tr>\n",
       "      <th>2</th>\n",
       "      <td>eCommera</td>\n",
       "      <td>73</td>\n",
       "      <td>1</td>\n",
       "      <td>1</td>\n",
       "      <td>1</td>\n",
       "      <td>0</td>\n",
       "      <td>41000000.0</td>\n",
       "      <td>0</td>\n",
       "      <td>142.0</td>\n",
       "      <td>16.0</td>\n",
       "      <td>5</td>\n",
       "      <td>23</td>\n",
       "      <td>10</td>\n",
       "      <td>6</td>\n",
       "      <td>2</td>\n",
       "      <td>0</td>\n",
       "      <td>-0.117857</td>\n",
       "      <td>1.60</td>\n",
       "      <td>2</td>\n",
       "      <td>1</td>\n",
       "      <td>1</td>\n",
       "      <td>2</td>\n",
       "    </tr>\n",
       "    <tr>\n",
       "      <th>3</th>\n",
       "      <td>Apsmart</td>\n",
       "      <td>101</td>\n",
       "      <td>1</td>\n",
       "      <td>0</td>\n",
       "      <td>1</td>\n",
       "      <td>1</td>\n",
       "      <td>NaN</td>\n",
       "      <td>0</td>\n",
       "      <td>NaN</td>\n",
       "      <td>14.0</td>\n",
       "      <td>4</td>\n",
       "      <td>7</td>\n",
       "      <td>5</td>\n",
       "      <td>12</td>\n",
       "      <td>1</td>\n",
       "      <td>0</td>\n",
       "      <td>NaN</td>\n",
       "      <td>0.75</td>\n",
       "      <td>2</td>\n",
       "      <td>3</td>\n",
       "      <td>0</td>\n",
       "      <td>6</td>\n",
       "    </tr>\n",
       "    <tr>\n",
       "      <th>4</th>\n",
       "      <td>BeatThatQuote.com</td>\n",
       "      <td>34</td>\n",
       "      <td>1</td>\n",
       "      <td>0</td>\n",
       "      <td>0</td>\n",
       "      <td>1</td>\n",
       "      <td>37700000.0</td>\n",
       "      <td>0</td>\n",
       "      <td>NaN</td>\n",
       "      <td>18.0</td>\n",
       "      <td>1</td>\n",
       "      <td>0</td>\n",
       "      <td>19</td>\n",
       "      <td>16</td>\n",
       "      <td>0</td>\n",
       "      <td>0</td>\n",
       "      <td>NaN</td>\n",
       "      <td>6.00</td>\n",
       "      <td>2</td>\n",
       "      <td>4</td>\n",
       "      <td>0</td>\n",
       "      <td>1</td>\n",
       "    </tr>\n",
       "  </tbody>\n",
       "</table>\n",
       "</div>"
      ],
      "text/plain": [
       "                 name  about  website_url  facebook_url  twitter_url  linkedin_url  total_funding  patents_count  employees_latest  launch_year fundings_total  country_name  city_name  industry_name  team_male  team_female  employees_growth  avg_time_funding  Y  missing_values  number_top_schools  number_schools\n",
       "0       Sylog Sverige    114            1             0            0             1            NaN              0             139.0         21.0              1             5          2             17          0            0          0.053030              5.00  2               2                   1               1\n",
       "1  Informed Solutions    167            1             0            1             1     11400000.0              0              79.0         31.0              1            23         10             11          0            1          0.053351             18.00  2               1                   0               0\n",
       "2            eCommera     73            1             1            1             0     41000000.0              0             142.0         16.0              5            23         10              6          2            0         -0.117857              1.60  2               1                   1               2\n",
       "3             Apsmart    101            1             0            1             1            NaN              0               NaN         14.0              4             7          5             12          1            0               NaN              0.75  2               3                   0               6\n",
       "4   BeatThatQuote.com     34            1             0            0             1     37700000.0              0               NaN         18.0              1             0         19             16          0            0               NaN              6.00  2               4                   0               1"
      ]
     },
     "execution_count": 343,
     "metadata": {},
     "output_type": "execute_result"
    }
   ],
   "source": [
    "df_past2.head()"
   ]
  },
  {
   "cell_type": "code",
   "execution_count": 88,
   "metadata": {},
   "outputs": [],
   "source": [
    "def level1_extractor_list_past(x,year_field,year,field):\n",
    "    try:\n",
    "        a=pd.json_normalize(x)\n",
    "        a=list(a[a[year_field]<=year][field])\n",
    "    except:\n",
    "        a=[]\n",
    "    return a\n",
    "\n",
    "def level2_extractor_list_past1(x,year_field,year,field1,field2):\n",
    "    try:\n",
    "        first=pd.json_normalize(x)\n",
    "        first=first[first[year_field]<=year][field1]\n",
    "        mp=map(lambda p: level1_extractor_list(p, field2), first)\n",
    "        a=[x for x in list(mp) if x!=None]\n",
    "    except:\n",
    "        a=[]\n",
    "    return a\n",
    "\n",
    "def level2_extractor_list_past2(x,year_field,year,field1,field2):\n",
    "    try:\n",
    "        first=pd.json_normalize(x)[field1]\n",
    "        mp=map(lambda p: level1_extractor_list_past(p,year_field,year, field2), first)\n",
    "        a=[x for x in list(mp) if x!=None]\n",
    "    except:\n",
    "        a=[]\n",
    "    return a"
   ]
  },
  {
   "cell_type": "markdown",
   "metadata": {},
   "source": [
    "Get DF copy with companies launched before 2020"
   ]
  },
  {
   "cell_type": "code",
   "execution_count": 378,
   "metadata": {},
   "outputs": [
    {
     "data": {
      "text/plain": [
       "(70211, 25)"
      ]
     },
     "execution_count": 378,
     "metadata": {},
     "output_type": "execute_result"
    }
   ],
   "source": [
    "df_past=df_3[df_3[\"launch_year\"]<=2020].copy()"
   ]
  },
  {
   "cell_type": "markdown",
   "metadata": {},
   "source": [
    "### Feature Engineering"
   ]
  },
  {
   "cell_type": "markdown",
   "metadata": {},
   "source": [
    "0. Number of Employees / Avg Growth"
   ]
  },
  {
   "cell_type": "code",
   "execution_count": 136,
   "metadata": {},
   "outputs": [
    {
     "name": "stderr",
     "output_type": "stream",
     "text": [
      "/usr/local/lib/python3.10/site-packages/numpy/core/fromnumeric.py:3432: RuntimeWarning: Mean of empty slice.\n",
      "  return _methods._mean(a, axis=axis, dtype=dtype,\n"
     ]
    }
   ],
   "source": [
    "a=map(lambda p: level1_extractor_list_past(p,\"date\",\"2020-01-01\",\"value\"), df_past[\"employees_chart\"])\n",
    "b=list(a)\n",
    "df_past[\"employees_latest\"]=b\n",
    "df_past[\"employees_growth\"]=df_past[\"employees_latest\"].apply(lambda x: np.mean((np.array(x[1:len(x)])-np.array(x[0:len(x)-1]))/np.array(x[0:len(x)-1])) if len(x)!=0 else None)\n",
    "df_past[\"employees_latest\"]=df_past[\"employees_latest\"].apply(lambda x: x[-1] if len(x)!=0 else None)\n"
   ]
  },
  {
   "cell_type": "markdown",
   "metadata": {},
   "source": [
    "1. Team Universities"
   ]
  },
  {
   "cell_type": "markdown",
   "metadata": {},
   "source": [
    "I will include all universities at this point despite the position the person has. I believe that even a software developer that graduated from a good school has a positive impact on the company. This is also an indicator that the startup is able to attract top talent"
   ]
  },
  {
   "cell_type": "code",
   "execution_count": 139,
   "metadata": {},
   "outputs": [],
   "source": [
    "a=map(lambda p: level2_extractor_list(p, \"universities.items\",\"university.name\"), df_past[\"team_items\"])\n",
    "b=list(a)\n",
    "\n",
    "df_past[\"team_universities\"]=b"
   ]
  },
  {
   "cell_type": "code",
   "execution_count": 140,
   "metadata": {},
   "outputs": [],
   "source": [
    "univ_list=pd.read_csv(\"/Users/klaus/Documents/Jarvis/Second Try/Data/universities_lists_dataviz.csv\")\n",
    "univ_wanted=univ_list[\"University\"]"
   ]
  },
  {
   "cell_type": "code",
   "execution_count": 141,
   "metadata": {},
   "outputs": [],
   "source": [
    "a=[]\n",
    "for i in range(len(b)):\n",
    "    if len(b[i])!=0:\n",
    "        a.extend(b[i])\n",
    "a=pd.unique(a)"
   ]
  },
  {
   "cell_type": "code",
   "execution_count": 142,
   "metadata": {},
   "outputs": [],
   "source": [
    "univ_filter=[x for x in a if process.extractOne(x.lower(), univ_wanted, scorer=fuzz.token_sort_ratio)[-2]>=90]\n"
   ]
  },
  {
   "cell_type": "code",
   "execution_count": 143,
   "metadata": {},
   "outputs": [],
   "source": [
    "a=map(lambda p: len([x for x in p if x in univ_filter]), df_past.team_universities)\n",
    "b=list(a)\n",
    "df_past[\"number_top_schools\"]=b"
   ]
  },
  {
   "cell_type": "code",
   "execution_count": 144,
   "metadata": {},
   "outputs": [],
   "source": [
    "a=map(lambda p: len(p), df_past.team_universities)\n",
    "b=list(a)\n",
    "df_past[\"number_schools\"]=b"
   ]
  },
  {
   "cell_type": "markdown",
   "metadata": {},
   "source": [
    "2. Gender of Team"
   ]
  },
  {
   "cell_type": "markdown",
   "metadata": {},
   "source": [
    "Only include the gender of the top Exec's"
   ]
  },
  {
   "cell_type": "code",
   "execution_count": 145,
   "metadata": {},
   "outputs": [],
   "source": [
    "a=[]\n",
    "b=map(lambda p: level2_extractor_list(p,\"titles\",\"name\"),df_past[\"team_items\"])\n",
    "b=list(b)"
   ]
  },
  {
   "cell_type": "code",
   "execution_count": 146,
   "metadata": {},
   "outputs": [],
   "source": [
    "for i in range(len(b)):\n",
    "    if len(b[i])!=0:\n",
    "        a.extend(b[i])\n",
    "a=pd.unique(a)"
   ]
  },
  {
   "cell_type": "code",
   "execution_count": 147,
   "metadata": {},
   "outputs": [
    {
     "name": "stderr",
     "output_type": "stream",
     "text": [
      "WARNING:root:Applied processor reduces input query to empty string, all comparisons will have score 0. [Query: '']\n",
      "WARNING:root:Applied processor reduces input query to empty string, all comparisons will have score 0. [Query: '..']\n"
     ]
    }
   ],
   "source": [
    "titles_wanted=[\"ceo\",\"cfo\",\"cto\",\"chief\",\"founder\",\"officer\",\"leader\",\"owner\"]\n",
    "titles_filter=[x for x in a if process.extractOne(x.lower(), titles_wanted, scorer=fuzz.token_sort_ratio)[-1]>=60]\n"
   ]
  },
  {
   "cell_type": "code",
   "execution_count": 148,
   "metadata": {},
   "outputs": [],
   "source": [
    "def level1_extractor_list_gender(x,titles_wanted):\n",
    "    try:\n",
    "        a=pd.json_normalize(x)\n",
    "        a[\"title_name\"]=list(map(lambda p: level1_extractor_list(p,\"name\"),a[\"titles\"]))\n",
    "        try:\n",
    "            a=a[a[\"title_name\"].apply(lambda x:True if (len(x)!=0 and x[0] in titles_filter) else False)]\n",
    "        except:\n",
    "            None\n",
    "        a=list(a[\"gender\"])        \n",
    "    except:\n",
    "        a=None\n",
    "    return a"
   ]
  },
  {
   "cell_type": "code",
   "execution_count": 149,
   "metadata": {},
   "outputs": [],
   "source": [
    "a=map(lambda p: level1_extractor_list_gender(p, titles_filter), df_past[\"team_items\"])\n",
    "b=list(a)\n",
    "\n",
    "df_past[\"gender\"]=b"
   ]
  },
  {
   "cell_type": "code",
   "execution_count": 150,
   "metadata": {},
   "outputs": [],
   "source": [
    "df_past[\"team_male\"]=list(map(lambda p: p.count(\"male\"),df_past[\"gender\"]))\n",
    "df_past[\"team_female\"]=list(map(lambda p: p.count(\"female\"),df_past[\"gender\"]))\n",
    "df_past.drop(columns=\"gender\",inplace=True)"
   ]
  },
  {
   "cell_type": "markdown",
   "metadata": {},
   "source": [
    "3. Get Company Stage"
   ]
  },
  {
   "cell_type": "code",
   "execution_count": 151,
   "metadata": {},
   "outputs": [],
   "source": [
    "a=map(lambda p: level1_extractor_list_past(p,\"year\",2020,\"round\"), df_past[\"fundings_items\"])\n",
    "b=list(a)\n",
    "df_past[\"Fin.Round.past\"]=b\n",
    "df_past[\"Fin.Round.past\"]=list(map(lambda p: p[0:2] if len(p)!=0 else  p,df_past[\"Fin.Round.past\"]))\n",
    "a=map(lambda p: level1_extractor_list(p,\"round\"), df_past[\"fundings_items\"])\n",
    "b=list(a)\n",
    "df_past[\"Fin.Round.now\"]=b\n",
    "df_past[\"Fin.Round.now\"]=list(map(lambda p: p[0:2] if len(p)!=0 else  p,df_past[\"Fin.Round.now\"]))\n",
    "#df_past[\"employees_latest\"]=df_past[\"employees_latest\"].apply(lambda x: x[-1] if len(x)!=0 else None)"
   ]
  },
  {
   "cell_type": "code",
   "execution_count": 152,
   "metadata": {},
   "outputs": [
    {
     "name": "stdout",
     "output_type": "stream",
     "text": [
      "name 0.0 %\n",
      "website_url 0.0 %\n",
      "company_status 0.0 %\n",
      "ownerships 0.0 %\n",
      "employees_chart 8.184304348448618 %\n",
      "investors_items 5.456680173537034 %\n",
      "team_items 0.0 %\n",
      "fundings_items 1.559256024398276 %\n",
      "country_name 0.0 %\n",
      "team_universities 36.016093698543834 %\n",
      "Fin.Round.past 61.475351154765825 %\n",
      "Fin.Round.now 57.22140290087484 %\n",
      "company_status_past 0.0 %\n"
     ]
    }
   ],
   "source": [
    "for i in df_past.columns:\n",
    "    try:\n",
    "        print(i,df_past[i].apply(lambda x:1 if len(x) == 0 else 0).sum()/len(df_past)*100,\"%\")\n",
    "    except:\n",
    "        None"
   ]
  },
  {
   "cell_type": "markdown",
   "metadata": {},
   "source": [
    "5. Fundings Total /avg time between funding"
   ]
  },
  {
   "cell_type": "code",
   "execution_count": 153,
   "metadata": {},
   "outputs": [],
   "source": [
    "def level1_extractor_shape_past(x,year_field,year):\n",
    "    try:\n",
    "        a=pd.json_normalize(x)\n",
    "        a=a[a[year_field]<=year].shape[0]\n",
    "    except:\n",
    "        a=[]\n",
    "    return a\n",
    "a=map(lambda p: level1_extractor_shape_past(p,\"year\",2020) , df_past[\"fundings_items\"])\n",
    "b=list(a)\n",
    "df_past[\"fundings_total\"]=b"
   ]
  },
  {
   "cell_type": "code",
   "execution_count": 154,
   "metadata": {},
   "outputs": [],
   "source": [
    "a=map(lambda p: (level1_extractor_list_past(p,\"year\",2020,\"year\")), df_past[\"fundings_items\"])\n",
    "b=list(a)\n",
    "df_past[\"avg_time_funding\"]=b\n",
    "\n",
    "def avg_time(x,y):\n",
    "    if len(x)==1:\n",
    "        avg_fund=x[0]-y\n",
    "    elif len(x)>1:\n",
    "        dif=np.array(x[0:len(x)-1])-np.array(x[1:len(x)])\n",
    "        avg_fund=(np.mean(np.append(dif,x[len(x)-1]-y))) # will add time to first funding to even it out with companies that had one funding\n",
    "    else:\n",
    "        avg_fund=None\n",
    "\n",
    "    return avg_fund\n",
    "        \n",
    "a=map(avg_time,df_past[\"avg_time_funding\"],df_past[\"launch_year\"])\n",
    "df_past[\"avg_time_funding\"]=list(a)"
   ]
  },
  {
   "cell_type": "markdown",
   "metadata": {},
   "source": [
    "7. Total funding"
   ]
  },
  {
   "cell_type": "code",
   "execution_count": 155,
   "metadata": {},
   "outputs": [],
   "source": [
    "a=map(lambda p: sum(level1_extractor_list_past(p,\"year\",2020,\"amount_source\")), df_past[\"fundings_items\"])\n",
    "b=list(a)\n",
    "df_past[\"total_funding\"]=b\n"
   ]
  },
  {
   "cell_type": "code",
   "execution_count": 198,
   "metadata": {},
   "outputs": [
    {
     "data": {
      "text/html": [
       "<div>\n",
       "<style scoped>\n",
       "    .dataframe tbody tr th:only-of-type {\n",
       "        vertical-align: middle;\n",
       "    }\n",
       "\n",
       "    .dataframe tbody tr th {\n",
       "        vertical-align: top;\n",
       "    }\n",
       "\n",
       "    .dataframe thead th {\n",
       "        text-align: right;\n",
       "    }\n",
       "</style>\n",
       "<table border=\"1\" class=\"dataframe\">\n",
       "  <thead>\n",
       "    <tr style=\"text-align: right;\">\n",
       "      <th></th>\n",
       "      <th>id</th>\n",
       "      <th>name</th>\n",
       "      <th>about</th>\n",
       "      <th>tagline</th>\n",
       "      <th>website_url</th>\n",
       "      <th>facebook_url</th>\n",
       "      <th>twitter_url</th>\n",
       "      <th>linkedin_url</th>\n",
       "      <th>total_funding</th>\n",
       "      <th>company_status</th>\n",
       "      <th>ownerships</th>\n",
       "      <th>patents_count</th>\n",
       "      <th>employees_latest</th>\n",
       "      <th>employees_chart</th>\n",
       "      <th>launch_year</th>\n",
       "      <th>dealroom_signal</th>\n",
       "      <th>investors_items</th>\n",
       "      <th>investors_total</th>\n",
       "      <th>team_items</th>\n",
       "      <th>team_total</th>\n",
       "      <th>fundings_items</th>\n",
       "      <th>fundings_total</th>\n",
       "      <th>country_name</th>\n",
       "      <th>city_name</th>\n",
       "      <th>industry_name</th>\n",
       "      <th>team_universities</th>\n",
       "      <th>team_male</th>\n",
       "      <th>team_female</th>\n",
       "      <th>Fin.Round.past</th>\n",
       "      <th>Fin.Round.now</th>\n",
       "      <th>employees_growth</th>\n",
       "      <th>avg_time_funding</th>\n",
       "      <th>company_status_past</th>\n",
       "      <th>Y</th>\n",
       "      <th>cteam</th>\n",
       "      <th>missing_values</th>\n",
       "      <th>number_top_schools</th>\n",
       "      <th>number_schools</th>\n",
       "    </tr>\n",
       "  </thead>\n",
       "  <tbody>\n",
       "    <tr>\n",
       "      <th>48</th>\n",
       "      <td>978672</td>\n",
       "      <td>One Agency Sweden AB</td>\n",
       "      <td>None</td>\n",
       "      <td>A personal IT consulting company that offers t...</td>\n",
       "      <td>http://www.oneagency.se/</td>\n",
       "      <td>None</td>\n",
       "      <td>https://twitter.com/oneagency_</td>\n",
       "      <td>https://www.linkedin.com/company/one-agency-ab</td>\n",
       "      <td>0.0</td>\n",
       "      <td>operational</td>\n",
       "      <td>[bootstrapped]</td>\n",
       "      <td>0</td>\n",
       "      <td>95.0</td>\n",
       "      <td>[{'date': '2018-08-01', 'value': 116}, {'date'...</td>\n",
       "      <td>2008.0</td>\n",
       "      <td>None</td>\n",
       "      <td>[{'id': 3967887, 'name': 'Stella Capital', 'pa...</td>\n",
       "      <td>1</td>\n",
       "      <td>[{'id': 1051779, 'name': 'Viktor Tigerström', ...</td>\n",
       "      <td>5</td>\n",
       "      <td>[]</td>\n",
       "      <td>[]</td>\n",
       "      <td>Switzerland</td>\n",
       "      <td>Geneva</td>\n",
       "      <td>robotics</td>\n",
       "      <td>[Södertörn University, IHM Business School, Ch...</td>\n",
       "      <td>0</td>\n",
       "      <td>0</td>\n",
       "      <td>[]</td>\n",
       "      <td>[]</td>\n",
       "      <td>-0.021448</td>\n",
       "      <td>NaN</td>\n",
       "      <td>operational</td>\n",
       "      <td>0</td>\n",
       "      <td>NaN</td>\n",
       "      <td>3</td>\n",
       "      <td>2</td>\n",
       "      <td>3</td>\n",
       "    </tr>\n",
       "    <tr>\n",
       "      <th>53</th>\n",
       "      <td>1987992</td>\n",
       "      <td>IRISIOME</td>\n",
       "      <td>Irisiôme provides aesthetic laser devices for ...</td>\n",
       "      <td>Provides aesthetic laser devices for dermatolo...</td>\n",
       "      <td>http://irisiome.com</td>\n",
       "      <td>None</td>\n",
       "      <td>https://twitter.com/_irisiome_</td>\n",
       "      <td>https://www.linkedin.com/company/irisiome_aest...</td>\n",
       "      <td>0.0</td>\n",
       "      <td>operational</td>\n",
       "      <td>[bootstrapped]</td>\n",
       "      <td>2</td>\n",
       "      <td>NaN</td>\n",
       "      <td>[{'date': '2022-01-17', 'value': 7}, {'date': ...</td>\n",
       "      <td>2015.0</td>\n",
       "      <td>None</td>\n",
       "      <td>[{'id': 18905, 'name': 'Aquiti', 'path': 'aqui...</td>\n",
       "      <td>3</td>\n",
       "      <td>[{'id': 2968436, 'name': 'William Renard', 'pa...</td>\n",
       "      <td>2</td>\n",
       "      <td>[]</td>\n",
       "      <td>[]</td>\n",
       "      <td>Switzerland</td>\n",
       "      <td>NaN</td>\n",
       "      <td>travel</td>\n",
       "      <td>[Institut d'Optique, HEC Paris, Université de ...</td>\n",
       "      <td>2</td>\n",
       "      <td>0</td>\n",
       "      <td>[]</td>\n",
       "      <td>[]</td>\n",
       "      <td>NaN</td>\n",
       "      <td>NaN</td>\n",
       "      <td>operational</td>\n",
       "      <td>0</td>\n",
       "      <td>1.0</td>\n",
       "      <td>4</td>\n",
       "      <td>1</td>\n",
       "      <td>5</td>\n",
       "    </tr>\n",
       "    <tr>\n",
       "      <th>139</th>\n",
       "      <td>3438478</td>\n",
       "      <td>Avias Airfield Engineering</td>\n",
       "      <td>Engineering company specialized in airport con...</td>\n",
       "      <td>Delivering high quality project management, en...</td>\n",
       "      <td>http://www.avias.design/</td>\n",
       "      <td>None</td>\n",
       "      <td>None</td>\n",
       "      <td>https://www.linkedin.com/company/avias-airfiel...</td>\n",
       "      <td>0.0</td>\n",
       "      <td>operational</td>\n",
       "      <td>[bootstrapped]</td>\n",
       "      <td>0</td>\n",
       "      <td>NaN</td>\n",
       "      <td>[{'date': '2022-06-20', 'value': 2}, {'date': ...</td>\n",
       "      <td>2019.0</td>\n",
       "      <td>None</td>\n",
       "      <td>[{'id': 3362739, 'name': 'Málaga TechPark', 'p...</td>\n",
       "      <td>1</td>\n",
       "      <td>[{'id': 3684567, 'name': 'Andres Arana', 'path...</td>\n",
       "      <td>1</td>\n",
       "      <td>[]</td>\n",
       "      <td>[]</td>\n",
       "      <td>United Kingdom</td>\n",
       "      <td>Dacorum</td>\n",
       "      <td>telecom</td>\n",
       "      <td>[Universidad Politécnica de Madrid]</td>\n",
       "      <td>0</td>\n",
       "      <td>0</td>\n",
       "      <td>[]</td>\n",
       "      <td>[]</td>\n",
       "      <td>NaN</td>\n",
       "      <td>NaN</td>\n",
       "      <td>operational</td>\n",
       "      <td>0</td>\n",
       "      <td>NaN</td>\n",
       "      <td>4</td>\n",
       "      <td>0</td>\n",
       "      <td>1</td>\n",
       "    </tr>\n",
       "    <tr>\n",
       "      <th>195</th>\n",
       "      <td>3306600</td>\n",
       "      <td>MoveWORK Group</td>\n",
       "      <td>Created in 2010 in Montpellier, MoveWORK is to...</td>\n",
       "      <td>Helps companies intelligently coordinate their...</td>\n",
       "      <td>http://movework.com</td>\n",
       "      <td>None</td>\n",
       "      <td>https://twitter.com/moveworkgroup</td>\n",
       "      <td>https://www.linkedin.com/company/movework</td>\n",
       "      <td>0.0</td>\n",
       "      <td>operational</td>\n",
       "      <td>[bootstrapped]</td>\n",
       "      <td>0</td>\n",
       "      <td>NaN</td>\n",
       "      <td>[{'date': '2020-06-30', 'value': 23}, {'date':...</td>\n",
       "      <td>2010.0</td>\n",
       "      <td>None</td>\n",
       "      <td>[{'id': 3362739, 'name': 'Málaga TechPark', 'p...</td>\n",
       "      <td>1</td>\n",
       "      <td>[{'id': 3314086, 'name': 'Borja Duque', 'path'...</td>\n",
       "      <td>1</td>\n",
       "      <td>[]</td>\n",
       "      <td>[]</td>\n",
       "      <td>United Kingdom</td>\n",
       "      <td>London</td>\n",
       "      <td>fintech</td>\n",
       "      <td>[IE Business School, Escuela Superior de Gesti...</td>\n",
       "      <td>0</td>\n",
       "      <td>0</td>\n",
       "      <td>[]</td>\n",
       "      <td>[]</td>\n",
       "      <td>NaN</td>\n",
       "      <td>NaN</td>\n",
       "      <td>operational</td>\n",
       "      <td>0</td>\n",
       "      <td>NaN</td>\n",
       "      <td>4</td>\n",
       "      <td>1</td>\n",
       "      <td>3</td>\n",
       "    </tr>\n",
       "    <tr>\n",
       "      <th>206</th>\n",
       "      <td>2952683</td>\n",
       "      <td>Manetco</td>\n",
       "      <td>Manetco assists industries in the development ...</td>\n",
       "      <td>Discovers, designs, produces, and integrates n...</td>\n",
       "      <td>http://manetco.be</td>\n",
       "      <td>None</td>\n",
       "      <td>None</td>\n",
       "      <td>https://www.linkedin.com/company/manetco-mater...</td>\n",
       "      <td>0.0</td>\n",
       "      <td>operational</td>\n",
       "      <td>[bootstrapped]</td>\n",
       "      <td>0</td>\n",
       "      <td>NaN</td>\n",
       "      <td>[{'date': '2022-06-16', 'value': 1}, {'date': ...</td>\n",
       "      <td>2012.0</td>\n",
       "      <td>NaN</td>\n",
       "      <td>[{'id': 2115211, 'name': 'Astropreneurs', 'pat...</td>\n",
       "      <td>1</td>\n",
       "      <td>[{'id': 3287256, 'name': 'Tanguy Regemorter', ...</td>\n",
       "      <td>1</td>\n",
       "      <td>[]</td>\n",
       "      <td>[]</td>\n",
       "      <td>Switzerland</td>\n",
       "      <td>Geneva</td>\n",
       "      <td>transportation</td>\n",
       "      <td>None</td>\n",
       "      <td>1</td>\n",
       "      <td>0</td>\n",
       "      <td>[]</td>\n",
       "      <td>[]</td>\n",
       "      <td>NaN</td>\n",
       "      <td>NaN</td>\n",
       "      <td>operational</td>\n",
       "      <td>0</td>\n",
       "      <td>1.0</td>\n",
       "      <td>4</td>\n",
       "      <td>0</td>\n",
       "      <td>0</td>\n",
       "    </tr>\n",
       "  </tbody>\n",
       "</table>\n",
       "</div>"
      ],
      "text/plain": [
       "          id                        name                                              about                                            tagline               website_url facebook_url                        twitter_url                                       linkedin_url  total_funding company_status      ownerships  patents_count  employees_latest                                    employees_chart  launch_year dealroom_signal                                    investors_items  investors_total                                         team_items  team_total fundings_items fundings_total    country_name city_name   industry_name                                  team_universities  team_male  team_female Fin.Round.past Fin.Round.now  employees_growth  avg_time_funding company_status_past  Y  cteam  missing_values  number_top_schools  number_schools\n",
       "48    978672        One Agency Sweden AB                                               None  A personal IT consulting company that offers t...  http://www.oneagency.se/         None     https://twitter.com/oneagency_     https://www.linkedin.com/company/one-agency-ab            0.0    operational  [bootstrapped]              0              95.0  [{'date': '2018-08-01', 'value': 116}, {'date'...       2008.0            None  [{'id': 3967887, 'name': 'Stella Capital', 'pa...                1  [{'id': 1051779, 'name': 'Viktor Tigerström', ...           5             []             []     Switzerland    Geneva        robotics  [Södertörn University, IHM Business School, Ch...          0            0             []            []         -0.021448               NaN         operational  0    NaN               3                   2               3\n",
       "53   1987992                    IRISIOME  Irisiôme provides aesthetic laser devices for ...  Provides aesthetic laser devices for dermatolo...       http://irisiome.com         None     https://twitter.com/_irisiome_  https://www.linkedin.com/company/irisiome_aest...            0.0    operational  [bootstrapped]              2               NaN  [{'date': '2022-01-17', 'value': 7}, {'date': ...       2015.0            None  [{'id': 18905, 'name': 'Aquiti', 'path': 'aqui...                3  [{'id': 2968436, 'name': 'William Renard', 'pa...           2             []             []     Switzerland       NaN          travel  [Institut d'Optique, HEC Paris, Université de ...          2            0             []            []               NaN               NaN         operational  0    1.0               4                   1               5\n",
       "139  3438478  Avias Airfield Engineering  Engineering company specialized in airport con...  Delivering high quality project management, en...  http://www.avias.design/         None                               None  https://www.linkedin.com/company/avias-airfiel...            0.0    operational  [bootstrapped]              0               NaN  [{'date': '2022-06-20', 'value': 2}, {'date': ...       2019.0            None  [{'id': 3362739, 'name': 'Málaga TechPark', 'p...                1  [{'id': 3684567, 'name': 'Andres Arana', 'path...           1             []             []  United Kingdom   Dacorum         telecom                [Universidad Politécnica de Madrid]          0            0             []            []               NaN               NaN         operational  0    NaN               4                   0               1\n",
       "195  3306600              MoveWORK Group  Created in 2010 in Montpellier, MoveWORK is to...  Helps companies intelligently coordinate their...       http://movework.com         None  https://twitter.com/moveworkgroup          https://www.linkedin.com/company/movework            0.0    operational  [bootstrapped]              0               NaN  [{'date': '2020-06-30', 'value': 23}, {'date':...       2010.0            None  [{'id': 3362739, 'name': 'Málaga TechPark', 'p...                1  [{'id': 3314086, 'name': 'Borja Duque', 'path'...           1             []             []  United Kingdom    London         fintech  [IE Business School, Escuela Superior de Gesti...          0            0             []            []               NaN               NaN         operational  0    NaN               4                   1               3\n",
       "206  2952683                     Manetco  Manetco assists industries in the development ...  Discovers, designs, produces, and integrates n...         http://manetco.be         None                               None  https://www.linkedin.com/company/manetco-mater...            0.0    operational  [bootstrapped]              0               NaN  [{'date': '2022-06-16', 'value': 1}, {'date': ...       2012.0             NaN  [{'id': 2115211, 'name': 'Astropreneurs', 'pat...                1  [{'id': 3287256, 'name': 'Tanguy Regemorter', ...           1             []             []     Switzerland    Geneva  transportation                                               None          1            0             []            []               NaN               NaN         operational  0    1.0               4                   0               0"
      ]
     },
     "execution_count": 198,
     "metadata": {},
     "output_type": "execute_result"
    }
   ],
   "source": [
    "df_past.loc[(df_past[\"ownerships\"].apply(lambda x: True if x[0]==\"bootstrapped\" else False))].head()"
   ]
  },
  {
   "cell_type": "markdown",
   "metadata": {},
   "source": [
    "8. company status"
   ]
  },
  {
   "cell_type": "markdown",
   "metadata": {},
   "source": [
    "In the following we will try to receive the company status from 2020. This will focus mainly on the companies that are closed, acquired .. "
   ]
  },
  {
   "cell_type": "code",
   "execution_count": 156,
   "metadata": {},
   "outputs": [],
   "source": [
    "df_past[\"company_status_past\"]=df_past[\"company_status\"]\n",
    "df_past.loc[(df_past.company_status==\"closed\") & (df_past[\"Fin.Round.past\"]!=df_past[\"Fin.Round.now\"]),\"company_status_past\"]=\"operational\"\n",
    "df_past.loc[(df_past.company_status==\"acquired\") & (df_past[\"Fin.Round.past\"]!=df_past[\"Fin.Round.now\"]),\"company_status_past\"]=\"operational\""
   ]
  },
  {
   "cell_type": "markdown",
   "metadata": {},
   "source": [
    "Creating the dependent Variables"
   ]
  },
  {
   "cell_type": "markdown",
   "metadata": {},
   "source": [
    "1. Public - company status\n",
    "2. failed - company status\n",
    "3. acquired - company status\n",
    "4. attained funding - find round past vs fin round now"
   ]
  },
  {
   "cell_type": "code",
   "execution_count": 157,
   "metadata": {},
   "outputs": [],
   "source": [
    "df_past = df_past.reset_index(drop=True)"
   ]
  },
  {
   "cell_type": "code",
   "execution_count": 158,
   "metadata": {},
   "outputs": [],
   "source": [
    "df_past[\"Y\"]=0"
   ]
  },
  {
   "cell_type": "markdown",
   "metadata": {},
   "source": [
    "1. Public Companies"
   ]
  },
  {
   "cell_type": "markdown",
   "metadata": {},
   "source": [
    "There are some companies who went into weird stages after IPO, for example SEED or Early VC. Lets drop these companies as this makes intuitively no sense"
   ]
  },
  {
   "cell_type": "code",
   "execution_count": 159,
   "metadata": {},
   "outputs": [],
   "source": [
    "seed_rows=df_past.loc[df_past[\"Fin.Round.now\"].apply(lambda x: True if (len(x)==2 and (x[1]==\"IPO\" and x[0]==\"SEED\")) else False)]\n",
    "earlyvc_rows=df_past.loc[df_past[\"Fin.Round.now\"].apply(lambda x: True if (len(x)==2 and (x[1]==\"IPO\" and x[0]==\"EARLY VC\")) else False)]# only nine of these companies\n",
    "df_past.drop(seed_rows.index,inplace=True)\n",
    "df_past.drop(earlyvc_rows.index,inplace=True)"
   ]
  },
  {
   "cell_type": "code",
   "execution_count": 210,
   "metadata": {},
   "outputs": [
    {
     "data": {
      "text/plain": [
       "(70184, 34)"
      ]
     },
     "execution_count": 210,
     "metadata": {},
     "output_type": "execute_result"
    }
   ],
   "source": [
    "df_past.shape"
   ]
  },
  {
   "cell_type": "code",
   "execution_count": 160,
   "metadata": {},
   "outputs": [],
   "source": [
    "df_past.loc[df_past[\"Fin.Round.now\"].apply(lambda x: True if (len(x)!=0 and x[0]==\"IPO\") else False)& (df_past.company_status!=\"acquired\"),\"Y\"]=\"IPO\"\n",
    "df_past.loc[df_past[\"Fin.Round.now\"].apply(lambda x: True if (len(x)!=0 and x[0]==\"SPAC IPO\") else False)& (df_past.company_status!=\"acquired\"),\"Y\"]=\"IPO\"\n",
    "df_past.loc[df_past[\"Fin.Round.now\"].apply(lambda x: True if (len(x)!=0 and x[0]==\"POST IPO EQUITY\") else False)& (df_past.company_status!=\"acquired\"),\"Y\"]=\"IPO\"\n",
    "df_past.loc[df_past[\"Fin.Round.now\"].apply(lambda x: True if (len(x)!=0 and x[0]==\"POST IPO DEBT\") else False)& (df_past.company_status!=\"acquired\"),\"Y\"]=\"IPO\"\n",
    "df_past.loc[df_past[\"Fin.Round.now\"].apply(lambda x: True if (len(x)==2 and (x[1]==\"IPO\" and x[0]!=\"IPO\" and x[0]!=\"ACQUISITION\")) else False)& (df_past.company_status!=\"acquired\"),\"Y\"]=\"IPO\""
   ]
  },
  {
   "cell_type": "markdown",
   "metadata": {},
   "source": [
    "2. Failed companies"
   ]
  },
  {
   "cell_type": "code",
   "execution_count": 161,
   "metadata": {},
   "outputs": [],
   "source": [
    "df_past.loc[df_past[\"company_status\"]==\"closed\",\"Y\"]=\"failed\"\n"
   ]
  },
  {
   "cell_type": "code",
   "execution_count": null,
   "metadata": {},
   "outputs": [],
   "source": [
    "3. Acquired companies"
   ]
  },
  {
   "cell_type": "code",
   "execution_count": 162,
   "metadata": {},
   "outputs": [],
   "source": [
    "df_past.loc[df_past[\"company_status\"]==\"acquired\",\"Y\"]=\"acquired\"\n",
    "df_past.loc[(df_past[\"Fin.Round.now\"].apply(lambda x: True if (len(x)!=0 and x[0]==\"ACQUISITION\") else False)) & (df_past[\"company_status\"]==\"operational\"),\"Y\"]=\"acquired\"\n",
    "df_past.loc[(df_past[\"Fin.Round.now\"].apply(lambda x: True if (len(x)!=0 and x[0]==\"ACQUISITION\") else False)) & (df_past[\"company_status\"]==\"low-activity\"),\"Y\"]=\"acquired\""
   ]
  },
  {
   "cell_type": "markdown",
   "metadata": {},
   "source": [
    "4. Additional Funding"
   ]
  },
  {
   "cell_type": "code",
   "execution_count": 163,
   "metadata": {},
   "outputs": [],
   "source": [
    "df_past.loc[(df_past[\"Fin.Round.past\"]!=df_past[\"Fin.Round.now\"])&(df_past.Y==0)&(df_past[\"Fin.Round.now\"].apply(lambda x: True if (len(x)!=0 and x[0] is not None) else False)),\"Y\"]=\"funding\""
   ]
  },
  {
   "cell_type": "markdown",
   "metadata": {},
   "source": [
    "Check if there are rows left where something has changed but dependent variable is 0\n",
    "by looking at the data, we see that these companies have been funded but the latest funding round has been added just this year or late last year meaning there is missing data on the type of funding. As there are only 300 companies where this is the case. We will drop them as not to implement false assumptions (263 companies)"
   ]
  },
  {
   "cell_type": "code",
   "execution_count": 164,
   "metadata": {},
   "outputs": [],
   "source": [
    "nonerows=df_past.loc[(df_past[\"Fin.Round.past\"]!=df_past[\"Fin.Round.now\"])&(df_past.Y==0),\"Fin.Round.now\"]\n",
    "df_past.drop(nonerows.index,inplace=True)"
   ]
  },
  {
   "cell_type": "markdown",
   "metadata": {},
   "source": [
    "Lets look at data where y is 0"
   ]
  },
  {
   "cell_type": "code",
   "execution_count": 276,
   "metadata": {},
   "outputs": [
    {
     "data": {
      "text/html": [
       "<div>\n",
       "<style scoped>\n",
       "    .dataframe tbody tr th:only-of-type {\n",
       "        vertical-align: middle;\n",
       "    }\n",
       "\n",
       "    .dataframe tbody tr th {\n",
       "        vertical-align: top;\n",
       "    }\n",
       "\n",
       "    .dataframe thead th {\n",
       "        text-align: right;\n",
       "    }\n",
       "</style>\n",
       "<table border=\"1\" class=\"dataframe\">\n",
       "  <thead>\n",
       "    <tr style=\"text-align: right;\">\n",
       "      <th></th>\n",
       "      <th>id</th>\n",
       "      <th>name</th>\n",
       "      <th>about</th>\n",
       "      <th>tagline</th>\n",
       "      <th>website_url</th>\n",
       "      <th>facebook_url</th>\n",
       "      <th>twitter_url</th>\n",
       "      <th>linkedin_url</th>\n",
       "      <th>total_funding</th>\n",
       "      <th>company_status</th>\n",
       "      <th>ownerships</th>\n",
       "      <th>patents_count</th>\n",
       "      <th>employees_latest</th>\n",
       "      <th>employees_chart</th>\n",
       "      <th>launch_year</th>\n",
       "      <th>dealroom_signal</th>\n",
       "      <th>investors_items</th>\n",
       "      <th>investors_total</th>\n",
       "      <th>team_items</th>\n",
       "      <th>team_total</th>\n",
       "      <th>fundings_items</th>\n",
       "      <th>fundings_total</th>\n",
       "      <th>country_name</th>\n",
       "      <th>city_name</th>\n",
       "      <th>industry_name</th>\n",
       "      <th>team_universities</th>\n",
       "      <th>team_male</th>\n",
       "      <th>team_female</th>\n",
       "      <th>Fin.Round.past</th>\n",
       "      <th>Fin.Round.now</th>\n",
       "      <th>employees_growth</th>\n",
       "      <th>company_status_past</th>\n",
       "      <th>Y</th>\n",
       "      <th>funding_dates</th>\n",
       "      <th>avg_time_funding</th>\n",
       "    </tr>\n",
       "  </thead>\n",
       "  <tbody>\n",
       "  </tbody>\n",
       "</table>\n",
       "</div>"
      ],
      "text/plain": [
       "Empty DataFrame\n",
       "Columns: [id, name, about, tagline, website_url, facebook_url, twitter_url, linkedin_url, total_funding, company_status, ownerships, patents_count, employees_latest, employees_chart, launch_year, dealroom_signal, investors_items, investors_total, team_items, team_total, fundings_items, fundings_total, country_name, city_name, industry_name, team_universities, team_male, team_female, Fin.Round.past, Fin.Round.now, employees_growth, company_status_past, Y, funding_dates, avg_time_funding]\n",
       "Index: []"
      ]
     },
     "execution_count": 276,
     "metadata": {},
     "output_type": "execute_result"
    }
   ],
   "source": [
    "df_past[df_past.Y==0].head() # looks as expected"
   ]
  },
  {
   "cell_type": "code",
   "execution_count": 264,
   "metadata": {},
   "outputs": [
    {
     "data": {
      "text/plain": [
       "(69841, 33)"
      ]
     },
     "execution_count": 264,
     "metadata": {},
     "output_type": "execute_result"
    }
   ],
   "source": [
    "df_past.shape"
   ]
  },
  {
   "cell_type": "markdown",
   "metadata": {},
   "source": [
    "# 9. Missing Values\n",
    "- about - None\n",
    "- tagline - None\n",
    "- total_funding -(allowed to have missing: bootstrapped)\n",
    "- avg time between funding - Nan\n",
    "- employees_latest - NaN\n",
    "- country_name - NaN\n",
    "- city_name - NaN\n",
    "- industry_name -NaN\n",
    "- Team_Universities - []\n",
    "- team_male + team_female = 0\n",
    "- funding round past - (allowed to have missing: bootstrapped)\n",
    "\n"
   ]
  },
  {
   "cell_type": "markdown",
   "metadata": {},
   "source": [
    "Missing Value Transformation to None if missing"
   ]
  },
  {
   "cell_type": "markdown",
   "metadata": {},
   "source": [
    "transform the not known fields to bootstrapped in ownerships if bootstrapped is one of the values"
   ]
  },
  {
   "cell_type": "code",
   "execution_count": 165,
   "metadata": {},
   "outputs": [],
   "source": [
    "df_past[\"cteam\"]=df_past[\"team_male\"]+df_past[\"team_female\"]\n",
    "df_past.loc[df_past[\"cteam\"]!=0,\"cteam\"]=1\n",
    "df_past.loc[df_past[\"cteam\"]==0,\"cteam\"]=None\n",
    "df_past.loc[(df_past[\"total_funding\"]==0) & (df_past[\"ownerships\"].apply(lambda x: True if x[0]!=\"bootstrapped\" else False)),\"total_funding\"]=None\n",
    "df_past.loc[df_past[\"team_universities\"].apply(lambda x: True if len(x)==0 else False),\"team_universities\"]=None\n",
    "df_past.loc[(df_past[\"Fin.Round.now\"].apply(lambda x: True if len(x)==0 else False)) & (df_past[\"ownerships\"].apply(lambda x: True if x[0]!=\"bootstrapped\" else False)),\"Fin.Round.now\"]=None"
   ]
  },
  {
   "cell_type": "code",
   "execution_count": 166,
   "metadata": {},
   "outputs": [],
   "source": [
    "df_missval=df_past[[\"about\",\"tagline\",\"total_funding\",\"avg_time_funding\",\"employees_growth\",\"employees_latest\",\"country_name\",\"city_name\",\"industry_name\",\"team_universities\",\"Fin.Round.now\",\"cteam\"]]\n",
    "df_past[\"missing_values\"]=df_missval.isnull().sum(axis=1)"
   ]
  },
  {
   "cell_type": "code",
   "execution_count": 485,
   "metadata": {},
   "outputs": [],
   "source": [
    "#Save Dataframe\n",
    "df_past.to_pickle(\"df_past_05.11\")"
   ]
  },
  {
   "cell_type": "code",
   "execution_count": 73,
   "metadata": {},
   "outputs": [],
   "source": [
    "df_past=pd.read_pickle(\"/Users/klaus/Documents/Jarvis/Second Try/Data/df_past_05.11\")"
   ]
  },
  {
   "cell_type": "code",
   "execution_count": 7,
   "metadata": {},
   "outputs": [],
   "source": [
    "import seaborn as sns"
   ]
  },
  {
   "cell_type": "code",
   "execution_count": 167,
   "metadata": {},
   "outputs": [
    {
     "data": {
      "text/plain": [
       "<seaborn.axisgrid.FacetGrid at 0x1a5600910>"
      ]
     },
     "execution_count": 167,
     "metadata": {},
     "output_type": "execute_result"
    },
    {
     "data": {
      "image/png": "[encoded data removed]",
      "text/plain": [
       "<Figure size 500x500 with 1 Axes>"
      ]
     },
     "metadata": {},
     "output_type": "display_data"
    },
    {
     "data": {
      "image/png": "[encoded data removed]",
      "text/plain": [
       "<Figure size 500x500 with 1 Axes>"
      ]
     },
     "metadata": {},
     "output_type": "display_data"
    },
    {
     "data": {
      "image/png": "[encoded data removed]",
      "text/plain": [
       "<Figure size 500x500 with 1 Axes>"
      ]
     },
     "metadata": {},
     "output_type": "display_data"
    }
   ],
   "source": [
    "df_past.loc[(df_past[\"ownerships\"].apply(lambda x:True if ((len(x)!=0 and x[0]==\"not known\") & (len(x)==2 and x[1]==\"bootstrapped\")) else False)),\"ownerships\"]=\"bootstrapped\"\n",
    "\n",
    "bootstraped=df_past.loc[df_past[\"ownerships\"].apply(lambda x: True if x[0]==\"bootstrapped\" else False),\"missing_values\"]\n",
    "not_known=df_past.loc[df_past[\"ownerships\"].apply(lambda x: True if x[0]==\"not known\" else False),\"missing_values\"]\n",
    "subs=df_past.loc[df_past[\"ownerships\"].apply(lambda x: True if x[0]==\"Subsidiary\" else False),\"missing_values\"]\n",
    "\n",
    "sns.displot(subs)\n",
    "sns.displot(not_known)\n",
    "sns.displot(bootstraped)\n",
    "\n"
   ]
  },
  {
   "cell_type": "markdown",
   "metadata": {},
   "source": [
    "We see that the rows with \"not known\" as company status have alot of missing values. We will drop them in order to increase the explanatory value of the data"
   ]
  },
  {
   "cell_type": "code",
   "execution_count": 168,
   "metadata": {},
   "outputs": [],
   "source": [
    "df_past.drop(not_known.index,inplace=True)"
   ]
  },
  {
   "cell_type": "markdown",
   "metadata": {},
   "source": [
    "Further drop rows that have more missing values for a certain threshold"
   ]
  },
  {
   "cell_type": "code",
   "execution_count": 169,
   "metadata": {},
   "outputs": [
    {
     "data": {
      "text/html": [
       "<div>\n",
       "<style scoped>\n",
       "    .dataframe tbody tr th:only-of-type {\n",
       "        vertical-align: middle;\n",
       "    }\n",
       "\n",
       "    .dataframe tbody tr th {\n",
       "        vertical-align: top;\n",
       "    }\n",
       "\n",
       "    .dataframe thead th {\n",
       "        text-align: right;\n",
       "    }\n",
       "</style>\n",
       "<table border=\"1\" class=\"dataframe\">\n",
       "  <thead>\n",
       "    <tr style=\"text-align: right;\">\n",
       "      <th></th>\n",
       "      <th>mean</th>\n",
       "      <th>std</th>\n",
       "    </tr>\n",
       "  </thead>\n",
       "  <tbody>\n",
       "    <tr>\n",
       "      <th>nothing</th>\n",
       "      <td>3.848189</td>\n",
       "      <td>1.641936</td>\n",
       "    </tr>\n",
       "    <tr>\n",
       "      <th>acquired</th>\n",
       "      <td>2.647092</td>\n",
       "      <td>1.610784</td>\n",
       "    </tr>\n",
       "    <tr>\n",
       "      <th>failed</th>\n",
       "      <td>4.155378</td>\n",
       "      <td>1.841861</td>\n",
       "    </tr>\n",
       "    <tr>\n",
       "      <th>IPO</th>\n",
       "      <td>2.452486</td>\n",
       "      <td>1.541545</td>\n",
       "    </tr>\n",
       "    <tr>\n",
       "      <th>funding</th>\n",
       "      <td>2.898482</td>\n",
       "      <td>1.835271</td>\n",
       "    </tr>\n",
       "  </tbody>\n",
       "</table>\n",
       "</div>"
      ],
      "text/plain": [
       "              mean       std\n",
       "nothing   3.848189  1.641936\n",
       "acquired  2.647092  1.610784\n",
       "failed    4.155378  1.841861\n",
       "IPO       2.452486  1.541545\n",
       "funding   2.898482  1.835271"
      ]
     },
     "execution_count": 169,
     "metadata": {},
     "output_type": "execute_result"
    }
   ],
   "source": [
    "nothing=df_past.loc[df_past[\"Y\"]==0,\"missing_values\"].describe()[[\"mean\",\"std\"]]\n",
    "acquired=df_past.loc[df_past[\"Y\"]==\"acquired\",\"missing_values\"].describe()[[\"mean\",\"std\"]]\n",
    "failed=df_past.loc[df_past[\"Y\"]==\"failed\",\"missing_values\"].describe()[[\"mean\",\"std\"]]\n",
    "IPO=df_past.loc[df_past[\"Y\"]==\"IPO\",\"missing_values\"].describe()[[\"mean\",\"std\"]]\n",
    "funding=df_past.loc[df_past[\"Y\"]==\"funding\",\"missing_values\"].describe()[[\"mean\",\"std\"]]\n",
    "missing_df=pd.DataFrame([nothing,acquired,failed,IPO,funding])\n",
    "missing_df.index=[\"nothing\",\"acquired\",\"failed\",\"IPO\",\"funding\"]\n",
    "missing_df"
   ]
  },
  {
   "cell_type": "code",
   "execution_count": 170,
   "metadata": {},
   "outputs": [],
   "source": [
    "nothing_index=df_past.loc[(df_past[\"Y\"]==0)&(df_past[\"missing_values\"]>nothing[0]+0.5*nothing[1])].index\n",
    "acquired_index=df_past.loc[(df_past[\"Y\"]==\"acquired\")&(df_past[\"missing_values\"]>acquired[0]+1.5*acquired[1])].index\n",
    "failed_index=df_past.loc[(df_past[\"Y\"]==\"failed\")&(df_past[\"missing_values\"]>failed[0]+1.2*failed[1])].index\n",
    "IPO_index=df_past.loc[(df_past[\"Y\"]==\"IPO\")&(df_past[\"missing_values\"]>IPO[0]+1.5*IPO[1])].index\n",
    "funding_index=df_past.loc[(df_past[\"Y\"]==\"funding\")&(df_past[\"missing_values\"]>funding[0]+1.5*IPO[1])].index\n"
   ]
  },
  {
   "cell_type": "code",
   "execution_count": 171,
   "metadata": {},
   "outputs": [],
   "source": [
    "df_past.drop(nothing_index,inplace=True)\n",
    "df_past.drop(acquired_index,inplace=True)\n",
    "df_past.drop(failed_index,inplace=True)\n",
    "df_past.drop(IPO_index,inplace=True)\n",
    "df_past.drop(funding_index,inplace=True)"
   ]
  },
  {
   "cell_type": "markdown",
   "metadata": {},
   "source": [
    "# Delete all rows that are not desired"
   ]
  },
  {
   "cell_type": "code",
   "execution_count": 373,
   "metadata": {},
   "outputs": [],
   "source": [
    "df_past2=df_past.drop(columns=[\"id\",\"tagline\",\"company_status\",\"employees_chart\",\"dealroom_signal\",\"investors_items\",\"team_items\",\"company_status_past\",\"Fin.Round.now\",\"Fin.Round.past\",\"investors_total\",\"fundings_items\",\"team_universities\",\"team_total\",\"investors_total\",\"dealroom_signal\",\"ownerships\",\"cteam\"])"
   ]
  },
  {
   "cell_type": "markdown",
   "metadata": {},
   "source": [
    "## 1. Imputation for Categorical Values where imputation with numerical values doesnt make sense"
   ]
  },
  {
   "cell_type": "markdown",
   "metadata": {},
   "source": [
    "1. City name \n",
    "2. Industry Name (will just drop the rows with empty values, (only 1140))\n",
    "3. about (drop, only 1401)"
   ]
  },
  {
   "cell_type": "markdown",
   "metadata": {},
   "source": [
    "1. City Name\n",
    "- Will use the countries capital if not cities are associated with that country"
   ]
  },
  {
   "cell_type": "code",
   "execution_count": 374,
   "metadata": {},
   "outputs": [],
   "source": [
    "city_names=pd.read_csv(\"/Users/klaus/Documents/Jarvis/Second Try/Data/country-list.csv\")\n",
    "city_names.drop(columns=\"type\",inplace=True)"
   ]
  },
  {
   "cell_type": "code",
   "execution_count": 375,
   "metadata": {},
   "outputs": [],
   "source": [
    "countries=pd.unique(df_past2[\"country_name\"].values)\n",
    "for i in countries:\n",
    "    try:\n",
    "        df_past2.loc[(df_past2[\"country_name\"]==i)&(df_past2[\"city_name\"].apply(lambda p: True if p is not str else False)),\"city_name\"]=df_past2.loc[df_past2[\"country_name\"]==i,\"city_name\"].value_counts().idxmax()\n",
    "    except:\n",
    "        df_past2.loc[(df_past2[\"country_name\"]==i)&(df_past2[\"city_name\"].apply(lambda p: True if p is not str else False)),\"city_name\"]=city_names.loc[city_names[\"country\"]==i,\"capital\"].values[0]"
   ]
  },
  {
   "cell_type": "markdown",
   "metadata": {},
   "source": [
    "2. Industry Name"
   ]
  },
  {
   "cell_type": "code",
   "execution_count": 376,
   "metadata": {},
   "outputs": [],
   "source": [
    "industry_index=df_past2.loc[df_past2[\"industry_name\"].isna()].index\n",
    "df_past2.drop(industry_index,inplace=True)"
   ]
  },
  {
   "cell_type": "markdown",
   "metadata": {},
   "source": [
    "3. about"
   ]
  },
  {
   "cell_type": "code",
   "execution_count": 377,
   "metadata": {},
   "outputs": [],
   "source": [
    "about_index=df_past2.loc[df_past2[\"about\"].isna()].index\n",
    "df_past2.drop(about_index,inplace=True)"
   ]
  },
  {
   "cell_type": "markdown",
   "metadata": {},
   "source": [
    "See if Imputation has been succesfull"
   ]
  },
  {
   "cell_type": "code",
   "execution_count": 469,
   "metadata": {},
   "outputs": [
    {
     "name": "stdout",
     "output_type": "stream",
     "text": [
      "                    Missing Values  In percent\n",
      "name                             0    0.000000\n",
      "about                            0    0.000000\n",
      "website_url                      0    0.000000\n",
      "facebook_url                     0    0.000000\n",
      "twitter_url                      0    0.000000\n",
      "linkedin_url                     0    0.000000\n",
      "total_funding                 8339   19.771439\n",
      "patents_count                    0    0.000000\n",
      "employees_latest             20765   49.232994\n",
      "launch_year                      0    0.000000\n",
      "fundings_total                   0    0.000000\n",
      "country_name                     0    0.000000\n",
      "city_name                        0    0.000000\n",
      "industry_name                    0    0.000000\n",
      "team_male                        0    0.000000\n",
      "team_female                      0    0.000000\n",
      "employees_growth             26577   63.013017\n",
      "avg_time_funding             29567   70.102188\n",
      "Y                                0    0.000000\n",
      "missing_values                   0    0.000000\n",
      "number_top_schools               0    0.000000\n"
     ]
    }
   ],
   "source": [
    "x=df_past2.isna().sum()\n",
    "y=df_past2.isna().sum()/len(df_past2)*100\n",
    "missing_values=pd.concat([x, y], axis=1)\n",
    "missing_values.columns=[\"Missing Values\",\"In percent\"]\n",
    "print(missing_values)"
   ]
  },
  {
   "cell_type": "code",
   "execution_count": 292,
   "metadata": {},
   "outputs": [],
   "source": [
    "df_past2.to_pickle(\"df_past2_08.11\")"
   ]
  },
  {
   "cell_type": "code",
   "execution_count": 468,
   "metadata": {},
   "outputs": [],
   "source": [
    "df_past2=pd.read_pickle(\"/Users/klaus/Documents/Jarvis/Second Try/Data/df_past2_08.11\")"
   ]
  },
  {
   "cell_type": "markdown",
   "metadata": {},
   "source": [
    "### Data Transformation"
   ]
  },
  {
   "cell_type": "markdown",
   "metadata": {},
   "source": [
    "1. About (think about including the language model) (for now we only take the length of \"good\" words, meaning words except stop words etc)\n",
    "2. country_name\n",
    "3. city_name\n",
    "4. industry_name\n",
    "5. Y\n",
    "6. launch_year (make years to now)\n",
    "7. URL"
   ]
  },
  {
   "cell_type": "code",
   "execution_count": 472,
   "metadata": {},
   "outputs": [
    {
     "name": "stderr",
     "output_type": "stream",
     "text": [
      "[nltk_data] Downloading package stopwords to /Users/klaus/nltk_data...\n",
      "[nltk_data]   Package stopwords is already up-to-date!\n"
     ]
    }
   ],
   "source": [
    "nltk.download('stopwords')\n",
    "def tokenizer(x:str):\n",
    "    stop_words = set(stopwords.words('english'))\n",
    "    tokens=word_tokenize(x)\n",
    "    tokens = [w for w in tokens if w not in stop_words]\n",
    "    return tokens\n",
    "    "
   ]
  },
  {
   "cell_type": "code",
   "execution_count": 476,
   "metadata": {},
   "outputs": [
    {
     "data": {
      "text/html": [
       "<div>\n",
       "<style scoped>\n",
       "    .dataframe tbody tr th:only-of-type {\n",
       "        vertical-align: middle;\n",
       "    }\n",
       "\n",
       "    .dataframe tbody tr th {\n",
       "        vertical-align: top;\n",
       "    }\n",
       "\n",
       "    .dataframe thead th {\n",
       "        text-align: right;\n",
       "    }\n",
       "</style>\n",
       "<table border=\"1\" class=\"dataframe\">\n",
       "  <thead>\n",
       "    <tr style=\"text-align: right;\">\n",
       "      <th></th>\n",
       "      <th>name</th>\n",
       "      <th>about</th>\n",
       "      <th>website_url</th>\n",
       "      <th>facebook_url</th>\n",
       "      <th>twitter_url</th>\n",
       "      <th>linkedin_url</th>\n",
       "      <th>total_funding</th>\n",
       "      <th>patents_count</th>\n",
       "      <th>employees_latest</th>\n",
       "      <th>launch_year</th>\n",
       "      <th>fundings_total</th>\n",
       "      <th>country_name</th>\n",
       "      <th>city_name</th>\n",
       "      <th>industry_name</th>\n",
       "      <th>team_male</th>\n",
       "      <th>team_female</th>\n",
       "      <th>employees_growth</th>\n",
       "      <th>avg_time_funding</th>\n",
       "      <th>Y</th>\n",
       "      <th>missing_values</th>\n",
       "      <th>number_top_schools</th>\n",
       "    </tr>\n",
       "  </thead>\n",
       "  <tbody>\n",
       "    <tr>\n",
       "      <th>0</th>\n",
       "      <td>Sylog Sverige</td>\n",
       "      <td>[Specialist, consultants, systems, development...</td>\n",
       "      <td>1</td>\n",
       "      <td>0</td>\n",
       "      <td>0</td>\n",
       "      <td>1</td>\n",
       "      <td>NaN</td>\n",
       "      <td>0</td>\n",
       "      <td>139.0</td>\n",
       "      <td>21.0</td>\n",
       "      <td>1</td>\n",
       "      <td>5</td>\n",
       "      <td>2</td>\n",
       "      <td>17</td>\n",
       "      <td>0</td>\n",
       "      <td>0</td>\n",
       "      <td>0.053030</td>\n",
       "      <td>NaN</td>\n",
       "      <td>2</td>\n",
       "      <td>3</td>\n",
       "      <td>1</td>\n",
       "    </tr>\n",
       "    <tr>\n",
       "      <th>1</th>\n",
       "      <td>Informed Solutions</td>\n",
       "      <td>[Informed, Solutions, leading, independent, pr...</td>\n",
       "      <td>1</td>\n",
       "      <td>0</td>\n",
       "      <td>1</td>\n",
       "      <td>1</td>\n",
       "      <td>11400000.0</td>\n",
       "      <td>0</td>\n",
       "      <td>79.0</td>\n",
       "      <td>31.0</td>\n",
       "      <td>1</td>\n",
       "      <td>23</td>\n",
       "      <td>10</td>\n",
       "      <td>11</td>\n",
       "      <td>0</td>\n",
       "      <td>1</td>\n",
       "      <td>0.053351</td>\n",
       "      <td>NaN</td>\n",
       "      <td>2</td>\n",
       "      <td>2</td>\n",
       "      <td>0</td>\n",
       "    </tr>\n",
       "    <tr>\n",
       "      <th>2</th>\n",
       "      <td>eCommera</td>\n",
       "      <td>[Isobar, UK, &amp;, Ireland, team, 400, across, Lo...</td>\n",
       "      <td>1</td>\n",
       "      <td>1</td>\n",
       "      <td>1</td>\n",
       "      <td>0</td>\n",
       "      <td>41000000.0</td>\n",
       "      <td>0</td>\n",
       "      <td>142.0</td>\n",
       "      <td>16.0</td>\n",
       "      <td>5</td>\n",
       "      <td>23</td>\n",
       "      <td>10</td>\n",
       "      <td>6</td>\n",
       "      <td>2</td>\n",
       "      <td>0</td>\n",
       "      <td>-0.117857</td>\n",
       "      <td>1.25</td>\n",
       "      <td>2</td>\n",
       "      <td>1</td>\n",
       "      <td>1</td>\n",
       "    </tr>\n",
       "    <tr>\n",
       "      <th>3</th>\n",
       "      <td>Apsmart</td>\n",
       "      <td>[We, ’, London-based, mobile, innovation, comp...</td>\n",
       "      <td>1</td>\n",
       "      <td>0</td>\n",
       "      <td>1</td>\n",
       "      <td>1</td>\n",
       "      <td>NaN</td>\n",
       "      <td>0</td>\n",
       "      <td>NaN</td>\n",
       "      <td>14.0</td>\n",
       "      <td>4</td>\n",
       "      <td>7</td>\n",
       "      <td>5</td>\n",
       "      <td>12</td>\n",
       "      <td>1</td>\n",
       "      <td>0</td>\n",
       "      <td>NaN</td>\n",
       "      <td>1.00</td>\n",
       "      <td>2</td>\n",
       "      <td>3</td>\n",
       "      <td>0</td>\n",
       "    </tr>\n",
       "    <tr>\n",
       "      <th>4</th>\n",
       "      <td>BeatThatQuote.com</td>\n",
       "      <td>[BeatThatQuote.com, price, comparison, web, si...</td>\n",
       "      <td>1</td>\n",
       "      <td>0</td>\n",
       "      <td>0</td>\n",
       "      <td>1</td>\n",
       "      <td>37700000.0</td>\n",
       "      <td>0</td>\n",
       "      <td>NaN</td>\n",
       "      <td>18.0</td>\n",
       "      <td>1</td>\n",
       "      <td>0</td>\n",
       "      <td>19</td>\n",
       "      <td>16</td>\n",
       "      <td>0</td>\n",
       "      <td>0</td>\n",
       "      <td>NaN</td>\n",
       "      <td>NaN</td>\n",
       "      <td>2</td>\n",
       "      <td>5</td>\n",
       "      <td>0</td>\n",
       "    </tr>\n",
       "  </tbody>\n",
       "</table>\n",
       "</div>"
      ],
      "text/plain": [
       "                 name                                              about  website_url  facebook_url  twitter_url  linkedin_url  total_funding  patents_count  employees_latest  launch_year fundings_total  country_name  city_name  industry_name  team_male  team_female  employees_growth  avg_time_funding  Y  missing_values  number_top_schools\n",
       "0       Sylog Sverige  [Specialist, consultants, systems, development...            1             0            0             1            NaN              0             139.0         21.0              1             5          2             17          0            0          0.053030               NaN  2               3                   1\n",
       "1  Informed Solutions  [Informed, Solutions, leading, independent, pr...            1             0            1             1     11400000.0              0              79.0         31.0              1            23         10             11          0            1          0.053351               NaN  2               2                   0\n",
       "2            eCommera  [Isobar, UK, &, Ireland, team, 400, across, Lo...            1             1            1             0     41000000.0              0             142.0         16.0              5            23         10              6          2            0         -0.117857              1.25  2               1                   1\n",
       "3             Apsmart  [We, ’, London-based, mobile, innovation, comp...            1             0            1             1            NaN              0               NaN         14.0              4             7          5             12          1            0               NaN              1.00  2               3                   0\n",
       "4   BeatThatQuote.com  [BeatThatQuote.com, price, comparison, web, si...            1             0            0             1     37700000.0              0               NaN         18.0              1             0         19             16          0            0               NaN               NaN  2               5                   0"
      ]
     },
     "execution_count": 476,
     "metadata": {},
     "output_type": "execute_result"
    }
   ],
   "source": [
    "df_past2.head()"
   ]
  },
  {
   "cell_type": "code",
   "execution_count": 473,
   "metadata": {},
   "outputs": [],
   "source": [
    "from nltk.corpus import stopwords"
   ]
  },
  {
   "cell_type": "code",
   "execution_count": 474,
   "metadata": {},
   "outputs": [],
   "source": [
    "stop_words=set(stopwords.words('english'))"
   ]
  },
  {
   "cell_type": "code",
   "execution_count": 477,
   "metadata": {},
   "outputs": [],
   "source": [
    "#a=map(lambda p: tokenizer(p), df_past2[\"about\"]) # remove stopwords and seperate str into list of words\n",
    "#df_past2[\"about\"]=list(a)\n",
    "\n",
    "a=map(lambda p: len([w.lower() for w in p if w.isalpha()]), df_past2[\"about\"]) # remove all special signs and non alphabetic characters\n",
    "df_past2[\"about\"]=list(a)"
   ]
  },
  {
   "cell_type": "code",
   "execution_count": null,
   "metadata": {},
   "outputs": [],
   "source": [
    "from sklearn.feature_extraction.text import TfidfVectorizer\n",
    "vectorizer = TfidfVectorizer(max_features=5000)\n",
    "about=list(df_past2[\"about\"])\n",
    "X=vectorizer.fit_transform(about)"
   ]
  },
  {
   "cell_type": "code",
   "execution_count": 38,
   "metadata": {},
   "outputs": [],
   "source": [
    "from sklearn.datasets import fetch_20newsgroups\n",
    "from sklearn.feature_extraction.text import CountVectorizer\n",
    "\n",
    "from sklearn.naive_bayes import MultinomialNB\n",
    "from sklearn import metrics"
   ]
  },
  {
   "cell_type": "code",
   "execution_count": 51,
   "metadata": {},
   "outputs": [],
   "source": [
    "from sklearn.model_selection import train_test_split"
   ]
  },
  {
   "cell_type": "code",
   "execution_count": 59,
   "metadata": {},
   "outputs": [],
   "source": [
    "X_train, X_test, y_train, y_test  = train_test_split(df_past2[\"about\"], df_past2[\"Y\"], test_size=0.2, random_state=1)"
   ]
  },
  {
   "cell_type": "code",
   "execution_count": 64,
   "metadata": {},
   "outputs": [
    {
     "name": "stdout",
     "output_type": "stream",
     "text": [
      "Total accuracy classification score: 0.5315315315315315\n",
      "Total F1 classification score: 0.3335657076966459\n"
     ]
    },
    {
     "data": {
      "text/plain": [
       "array([1])"
      ]
     },
     "execution_count": 64,
     "metadata": {},
     "output_type": "execute_result"
    }
   ],
   "source": [
    "vectors = vectorizer.fit_transform(list(X_train))\n",
    "\n",
    "# Build the classifier\n",
    "clf = MultinomialNB(alpha=.01)\n",
    "\n",
    "#  Train the classifier\n",
    "clf.fit(vectors, list(y_train))\n",
    "\n",
    "# Get the test vectors\n",
    "vectors_test = vectorizer.transform(list(X_test))\n",
    "\n",
    "# Predict and score the vectors\n",
    "pred = clf.predict(vectors_test)\n",
    "acc_score = metrics.accuracy_score(list(y_test), pred)\n",
    "f1_score = metrics.f1_score(list(y_test), pred, average='macro')\n",
    "\n",
    "print('Total accuracy classification score: {}'.format(acc_score))\n",
    "print('Total F1 classification score: {}'.format(f1_score))"
   ]
  },
  {
   "cell_type": "markdown",
   "metadata": {},
   "source": [
    "2. Country_name"
   ]
  },
  {
   "cell_type": "code",
   "execution_count": 478,
   "metadata": {},
   "outputs": [],
   "source": [
    "le=LabelEncoder()\n",
    "label=le.fit_transform(df_past2.country_name)\n",
    "\n",
    "df_past2[\"country_name\"]=label"
   ]
  },
  {
   "cell_type": "markdown",
   "metadata": {},
   "source": [
    "3. City_name"
   ]
  },
  {
   "cell_type": "code",
   "execution_count": 479,
   "metadata": {},
   "outputs": [],
   "source": [
    "le=LabelEncoder()\n",
    "label=le.fit_transform(df_past2.city_name)\n",
    "\n",
    "df_past2[\"city_name\"]=label"
   ]
  },
  {
   "cell_type": "code",
   "execution_count": null,
   "metadata": {},
   "outputs": [],
   "source": [
    "4. Industry_name"
   ]
  },
  {
   "cell_type": "code",
   "execution_count": 480,
   "metadata": {},
   "outputs": [],
   "source": [
    "le=LabelEncoder()\n",
    "label=le.fit_transform(df_past2.industry_name)\n",
    "\n",
    "df_past2[\"industry_name\"]=label"
   ]
  },
  {
   "cell_type": "markdown",
   "metadata": {},
   "source": [
    "6. Years"
   ]
  },
  {
   "cell_type": "code",
   "execution_count": 481,
   "metadata": {},
   "outputs": [],
   "source": [
    "df_past2[\"launch_year\"]=year_dif=2023-df_past2[\"launch_year\"]"
   ]
  },
  {
   "cell_type": "markdown",
   "metadata": {},
   "source": [
    "7. URL"
   ]
  },
  {
   "cell_type": "code",
   "execution_count": 482,
   "metadata": {},
   "outputs": [],
   "source": [
    "df_past2[\"website_url\"]=df_past2[\"website_url\"].apply(lambda x:0 if x==None else 1)\n",
    "df_past2[\"linkedin_url\"]=df_past2[\"linkedin_url\"].apply(lambda x:0 if x==None else 1)\n",
    "df_past2[\"facebook_url\"]=df_past2[\"facebook_url\"].apply(lambda x:0 if x==None else 1)\n",
    "df_past2[\"twitter_url\"]=df_past2[\"twitter_url\"].apply(lambda x:0 if x==None else 1)"
   ]
  },
  {
   "cell_type": "markdown",
   "metadata": {},
   "source": [
    "5. Y\n",
    "1- nothing happend\n",
    "2- acquired\n",
    "3- IPO\n",
    "4- failed\n",
    "5- received funding"
   ]
  },
  {
   "cell_type": "code",
   "execution_count": 483,
   "metadata": {},
   "outputs": [],
   "source": [
    "df_past2.loc[df_past2[\"Y\"]==0,\"Y\"]=1\n",
    "df_past2.loc[df_past2[\"Y\"]==\"acquired\",\"Y\"]=2\n",
    "df_past2.loc[df_past2[\"Y\"]==\"IPO\",\"Y\"]=3\n",
    "df_past2.loc[df_past2[\"Y\"]==\"failed\",\"Y\"]=4\n",
    "df_past2.loc[df_past2[\"Y\"]==\"funding\",\"Y\"]=5"
   ]
  },
  {
   "cell_type": "markdown",
   "metadata": {},
   "source": [
    "# Imputation"
   ]
  },
  {
   "cell_type": "markdown",
   "metadata": {},
   "source": [
    "1. total_funding (KNN) - maybe on evertyhing\n",
    "2. employees latest (median)\n",
    "3. team_male team_female (distribution)\n",
    "4. employees_growth (0)\n",
    "5. avg_time funding (KNN) - total_funding, fundings_total, launch year, country name, \n",
    "6. ? number of Schools ?\n"
   ]
  },
  {
   "cell_type": "markdown",
   "metadata": {},
   "source": [
    "2. Employees_latest"
   ]
  },
  {
   "cell_type": "code",
   "execution_count": 484,
   "metadata": {},
   "outputs": [],
   "source": [
    "from sklearn.impute import SimpleImputer\n",
    "df_mode = df_past2.copy()\n",
    "mode_imputer = SimpleImputer(strategy='median')\n",
    "df_mode[\"employees_latest\"] = mode_imputer.fit_transform(df_mode[\"employees_latest\"].values.reshape(-1,1))\n"
   ]
  },
  {
   "cell_type": "markdown",
   "metadata": {},
   "source": [
    "3. Team_male Team_female"
   ]
  },
  {
   "cell_type": "code",
   "execution_count": 485,
   "metadata": {},
   "outputs": [],
   "source": [
    "prob=df_mode[\"team_female\"].sum()/df_mode[\"team_male\"].sum()\n",
    "df_mode[\"cteam\"]=df_mode[\"team_male\"]+df_mode[\"team_female\"]\n",
    "df_mode.loc[df_mode[\"cteam\"]!=0,\"cteam\"]=\"Set\"\n"
   ]
  },
  {
   "cell_type": "code",
   "execution_count": 486,
   "metadata": {},
   "outputs": [],
   "source": [
    "shape_df=df_mode.loc[df_mode[\"cteam\"]==0,\"cteam\"].shape\n",
    "\n",
    "df_mode.loc[df_mode[\"cteam\"]==0,\"cteam\"]=np.random.choice(2, shape_df,p=[prob,1-prob])\n",
    "df_mode.loc[df_mode[\"cteam\"]==1,\"team_male\"]=1\n",
    "df_mode.loc[df_mode[\"cteam\"]==0,\"team_female\"]=1"
   ]
  },
  {
   "cell_type": "markdown",
   "metadata": {},
   "source": [
    "4. Employees_Growth"
   ]
  },
  {
   "cell_type": "code",
   "execution_count": 487,
   "metadata": {},
   "outputs": [],
   "source": [
    "df_mode.loc[df_mode[\"employees_growth\"].apply(lambda x: True if math.isnan(x) else False),\"employees_growth\"]=0"
   ]
  },
  {
   "cell_type": "markdown",
   "metadata": {},
   "source": [
    "5. avg_time funding"
   ]
  },
  {
   "cell_type": "code",
   "execution_count": 488,
   "metadata": {},
   "outputs": [
    {
     "data": {
      "text/html": [
       "<div>\n",
       "<style scoped>\n",
       "    .dataframe tbody tr th:only-of-type {\n",
       "        vertical-align: middle;\n",
       "    }\n",
       "\n",
       "    .dataframe tbody tr th {\n",
       "        vertical-align: top;\n",
       "    }\n",
       "\n",
       "    .dataframe thead th {\n",
       "        text-align: right;\n",
       "    }\n",
       "</style>\n",
       "<table border=\"1\" class=\"dataframe\">\n",
       "  <thead>\n",
       "    <tr style=\"text-align: right;\">\n",
       "      <th></th>\n",
       "      <th>name</th>\n",
       "      <th>about</th>\n",
       "      <th>website_url</th>\n",
       "      <th>facebook_url</th>\n",
       "      <th>twitter_url</th>\n",
       "      <th>linkedin_url</th>\n",
       "      <th>total_funding</th>\n",
       "      <th>patents_count</th>\n",
       "      <th>employees_latest</th>\n",
       "      <th>launch_year</th>\n",
       "      <th>fundings_total</th>\n",
       "      <th>country_name</th>\n",
       "      <th>city_name</th>\n",
       "      <th>industry_name</th>\n",
       "      <th>team_male</th>\n",
       "      <th>team_female</th>\n",
       "      <th>employees_growth</th>\n",
       "      <th>avg_time_funding</th>\n",
       "      <th>Y</th>\n",
       "      <th>missing_values</th>\n",
       "      <th>number_top_schools</th>\n",
       "      <th>cteam</th>\n",
       "    </tr>\n",
       "  </thead>\n",
       "  <tbody>\n",
       "    <tr>\n",
       "      <th>0</th>\n",
       "      <td>Sylog Sverige</td>\n",
       "      <td>114</td>\n",
       "      <td>1</td>\n",
       "      <td>1</td>\n",
       "      <td>1</td>\n",
       "      <td>1</td>\n",
       "      <td>NaN</td>\n",
       "      <td>0</td>\n",
       "      <td>139.0</td>\n",
       "      <td>2002.0</td>\n",
       "      <td>1</td>\n",
       "      <td>5</td>\n",
       "      <td>2</td>\n",
       "      <td>17</td>\n",
       "      <td>1</td>\n",
       "      <td>0</td>\n",
       "      <td>0.053030</td>\n",
       "      <td>NaN</td>\n",
       "      <td>2</td>\n",
       "      <td>3</td>\n",
       "      <td>1</td>\n",
       "      <td>1</td>\n",
       "    </tr>\n",
       "    <tr>\n",
       "      <th>1</th>\n",
       "      <td>Informed Solutions</td>\n",
       "      <td>167</td>\n",
       "      <td>1</td>\n",
       "      <td>1</td>\n",
       "      <td>1</td>\n",
       "      <td>1</td>\n",
       "      <td>11400000.0</td>\n",
       "      <td>0</td>\n",
       "      <td>79.0</td>\n",
       "      <td>1992.0</td>\n",
       "      <td>1</td>\n",
       "      <td>23</td>\n",
       "      <td>10</td>\n",
       "      <td>11</td>\n",
       "      <td>0</td>\n",
       "      <td>1</td>\n",
       "      <td>0.053351</td>\n",
       "      <td>NaN</td>\n",
       "      <td>2</td>\n",
       "      <td>2</td>\n",
       "      <td>0</td>\n",
       "      <td>Set</td>\n",
       "    </tr>\n",
       "    <tr>\n",
       "      <th>2</th>\n",
       "      <td>eCommera</td>\n",
       "      <td>73</td>\n",
       "      <td>1</td>\n",
       "      <td>1</td>\n",
       "      <td>1</td>\n",
       "      <td>1</td>\n",
       "      <td>41000000.0</td>\n",
       "      <td>0</td>\n",
       "      <td>142.0</td>\n",
       "      <td>2007.0</td>\n",
       "      <td>5</td>\n",
       "      <td>23</td>\n",
       "      <td>10</td>\n",
       "      <td>6</td>\n",
       "      <td>2</td>\n",
       "      <td>0</td>\n",
       "      <td>-0.117857</td>\n",
       "      <td>1.25</td>\n",
       "      <td>2</td>\n",
       "      <td>1</td>\n",
       "      <td>1</td>\n",
       "      <td>Set</td>\n",
       "    </tr>\n",
       "    <tr>\n",
       "      <th>3</th>\n",
       "      <td>Apsmart</td>\n",
       "      <td>101</td>\n",
       "      <td>1</td>\n",
       "      <td>1</td>\n",
       "      <td>1</td>\n",
       "      <td>1</td>\n",
       "      <td>NaN</td>\n",
       "      <td>0</td>\n",
       "      <td>47.0</td>\n",
       "      <td>2009.0</td>\n",
       "      <td>4</td>\n",
       "      <td>7</td>\n",
       "      <td>5</td>\n",
       "      <td>12</td>\n",
       "      <td>1</td>\n",
       "      <td>0</td>\n",
       "      <td>0.000000</td>\n",
       "      <td>1.00</td>\n",
       "      <td>2</td>\n",
       "      <td>3</td>\n",
       "      <td>0</td>\n",
       "      <td>Set</td>\n",
       "    </tr>\n",
       "    <tr>\n",
       "      <th>4</th>\n",
       "      <td>BeatThatQuote.com</td>\n",
       "      <td>34</td>\n",
       "      <td>1</td>\n",
       "      <td>1</td>\n",
       "      <td>1</td>\n",
       "      <td>1</td>\n",
       "      <td>37700000.0</td>\n",
       "      <td>0</td>\n",
       "      <td>47.0</td>\n",
       "      <td>2005.0</td>\n",
       "      <td>1</td>\n",
       "      <td>0</td>\n",
       "      <td>19</td>\n",
       "      <td>16</td>\n",
       "      <td>1</td>\n",
       "      <td>0</td>\n",
       "      <td>0.000000</td>\n",
       "      <td>NaN</td>\n",
       "      <td>2</td>\n",
       "      <td>5</td>\n",
       "      <td>0</td>\n",
       "      <td>1</td>\n",
       "    </tr>\n",
       "  </tbody>\n",
       "</table>\n",
       "</div>"
      ],
      "text/plain": [
       "                 name  about  website_url  facebook_url  twitter_url  linkedin_url  total_funding  patents_count  employees_latest  launch_year fundings_total  country_name  city_name  industry_name  team_male  team_female  employees_growth  avg_time_funding  Y  missing_values  number_top_schools cteam\n",
       "0       Sylog Sverige    114            1             1            1             1            NaN              0             139.0       2002.0              1             5          2             17          1            0          0.053030               NaN  2               3                   1     1\n",
       "1  Informed Solutions    167            1             1            1             1     11400000.0              0              79.0       1992.0              1            23         10             11          0            1          0.053351               NaN  2               2                   0   Set\n",
       "2            eCommera     73            1             1            1             1     41000000.0              0             142.0       2007.0              5            23         10              6          2            0         -0.117857              1.25  2               1                   1   Set\n",
       "3             Apsmart    101            1             1            1             1            NaN              0              47.0       2009.0              4             7          5             12          1            0          0.000000              1.00  2               3                   0   Set\n",
       "4   BeatThatQuote.com     34            1             1            1             1     37700000.0              0              47.0       2005.0              1             0         19             16          1            0          0.000000               NaN  2               5                   0     1"
      ]
     },
     "execution_count": 488,
     "metadata": {},
     "output_type": "execute_result"
    }
   ],
   "source": [
    "df_mode.head()"
   ]
  },
  {
   "cell_type": "markdown",
   "metadata": {},
   "source": [
    "Total funding / avg funding time"
   ]
  },
  {
   "cell_type": "code",
   "execution_count": 489,
   "metadata": {},
   "outputs": [],
   "source": [
    "df_mode.loc[df_mode[\"fundings_total\"].apply(lambda x: True if type(x) is not int else False),\"fundings_total\"]=0"
   ]
  },
  {
   "cell_type": "code",
   "execution_count": 504,
   "metadata": {},
   "outputs": [],
   "source": [
    "from sklearn.experimental import enable_iterative_imputer\n",
    "from sklearn.impute import IterativeImputer\n",
    "from sklearn import linear_model\n",
    "\n",
    "df_mice = df_mode.filter(['total_funding', 'fundings_total', 'launch_year', 'country_name',\"avg_time_funding\",\"employees_latest\",\"launch_year\",\"number_top_schools\"], axis=1)\n",
    "mice_imputer = IterativeImputer(estimator=linear_model.BayesianRidge(), n_nearest_features=None, imputation_order='ascending',missing_values=np.nan)\n",
    "df_mice_imputed = pd.DataFrame(mice_imputer.fit_transform(df_mice), columns=df_mice.columns)"
   ]
  },
  {
   "cell_type": "code",
   "execution_count": 523,
   "metadata": {},
   "outputs": [],
   "source": [
    "df_mode[\"total_funding\"]=df_mice_imputed[\"total_funding\"].values\n",
    "df_mode[\"avg_time_funding\"]=df_mice_imputed[\"avg_time_funding\"].values\n",
    "df_mode.drop(df_mode.loc[df_mode[\"name\"].isna()].index,inplace=True)\n"
   ]
  },
  {
   "cell_type": "code",
   "execution_count": 537,
   "metadata": {},
   "outputs": [
    {
     "name": "stdout",
     "output_type": "stream",
     "text": [
      "                      Missing Values  In percent\n",
      "name                               0         0.0\n",
      "about                              0         0.0\n",
      "website_url                        0         0.0\n",
      "facebook_url                       0         0.0\n",
      "twitter_url                        0         0.0\n",
      "linkedin_url                       0         0.0\n",
      "total_funding                      0         0.0\n",
      "patents_count                      0         0.0\n",
      "employees_latest                   0         0.0\n",
      "launch_year                        0         0.0\n",
      "fundings_total                     0         0.0\n",
      "country_name                       0         0.0\n",
      "city_name                          0         0.0\n",
      "industry_name                      0         0.0\n",
      "team_male                          0         0.0\n",
      "team_female                        0         0.0\n",
      "employees_growth                   0         0.0\n",
      "avg_time_funding                   0         0.0\n",
      "Y                                  0         0.0\n",
      "missing_values                     0         0.0\n",
      "number_top_schools                 0         0.0\n",
      "cteam                              0         0.0\n",
      "total_funding_imp                  0         0.0\n",
      "avg_time_funding_imp               0         0.0\n"
     ]
    }
   ],
   "source": [
    "x=df_mode.isna().sum()\n",
    "y=df_mode.isna().sum()/len(df_mode)*100\n",
    "missing_values=pd.concat([x, y], axis=1)\n",
    "missing_values.columns=[\"Missing Values\",\"In percent\"]\n",
    "print(missing_values)"
   ]
  },
  {
   "cell_type": "code",
   "execution_count": 540,
   "metadata": {},
   "outputs": [],
   "source": [
    "df_past2.to_pickle(\"df_past2_09.11\")\n",
    "df_mode.to_pickle(\"df_mode_09.11\")"
   ]
  },
  {
   "cell_type": "code",
   "execution_count": 541,
   "metadata": {},
   "outputs": [
    {
     "data": {
      "text/plain": [
       "(42177, 24)"
      ]
     },
     "execution_count": 541,
     "metadata": {},
     "output_type": "execute_result"
    }
   ],
   "source": [
    "df_mode.shape"
   ]
  },
  {
   "cell_type": "markdown",
   "metadata": {},
   "source": [
    "### Data Balancing"
   ]
  },
  {
   "cell_type": "markdown",
   "metadata": {},
   "source": [
    "Two Approaches will be applied, SMOTE and deleting rows from underrepresented Classes"
   ]
  },
  {
   "cell_type": "code",
   "execution_count": 539,
   "metadata": {},
   "outputs": [
    {
     "ename": "ModuleNotFoundError",
     "evalue": "No module named 'imblearn'",
     "output_type": "error",
     "traceback": [
      "\u001b[0;31m---------------------------------------------------------------------------\u001b[0m",
      "\u001b[0;31mModuleNotFoundError\u001b[0m                       Traceback (most recent call last)",
      "Cell \u001b[0;32mIn [539], line 1\u001b[0m\n\u001b[0;32m----> 1\u001b[0m \u001b[39mfrom\u001b[39;00m \u001b[39mimblearn\u001b[39;00m\u001b[39m.\u001b[39;00m\u001b[39mover_sampling\u001b[39;00m \u001b[39mimport\u001b[39;00m SMOTE\n",
      "\u001b[0;31mModuleNotFoundError\u001b[0m: No module named 'imblearn'"
     ]
    }
   ],
   "source": [
    "from imblearn.over_sampling import SMOTE"
   ]
  }
 ],
 "metadata": {
  "kernelspec": {
   "display_name": "Python 3.10.7 64-bit",
   "language": "python",
   "name": "python3"
  },
  "language_info": {
   "codemirror_mode": {
    "name": "ipython",
    "version": 3
   },
   "file_extension": ".py",
   "mimetype": "text/x-python",
   "name": "python",
   "nbconvert_exporter": "python",
   "pygments_lexer": "ipython3",
   "version": "3.10.7"
  },
  "orig_nbformat": 4,
  "vscode": {
   "interpreter": {
    "hash": "aee8b7b246df8f9039afb4144a1f6fd8d2ca17a180786b69acc140d282b71a49"
   }
  }
 },
 "nbformat": 4,
 "nbformat_minor": 2
}
